{
 "metadata": {
  "language_info": {
   "codemirror_mode": {
    "name": "ipython",
    "version": 3
   },
   "file_extension": ".py",
   "mimetype": "text/x-python",
   "name": "python",
   "nbconvert_exporter": "python",
   "pygments_lexer": "ipython3",
   "version": "3.7.9-final"
  },
  "orig_nbformat": 2,
  "kernelspec": {
   "name": "python3",
   "display_name": "Python 3",
   "language": "python"
  }
 },
 "nbformat": 4,
 "nbformat_minor": 2,
 "cells": [
  {
   "source": [
    "# **Plotly Choropleth Maps - By US States**"
   ],
   "cell_type": "markdown",
   "metadata": {}
  },
  {
   "cell_type": "code",
   "execution_count": 15,
   "metadata": {},
   "outputs": [
    {
     "output_type": "execute_result",
     "data": {
      "text/plain": [
       "         nid        country country_ISO_code          state US_state_code  \\\n",
       "0          2  United States              USA      Louisiana            LA   \n",
       "1          3  United States              USA            NaN           NaN   \n",
       "2          5  United States              USA  Massachusetts            MA   \n",
       "3          6  United States              USA          Texas            TX   \n",
       "4         11  United States              USA       New York            NY   \n",
       "...      ...            ...              ...            ...           ...   \n",
       "15625  50563  United States              USA       Colorado            CO   \n",
       "15626  50564  United States              USA          Maine            ME   \n",
       "15627  50570  United States              USA     California            CA   \n",
       "15628  50571  United States              USA       New York            NY   \n",
       "15629  50572  United States              USA         Kansas            KS   \n",
       "\n",
       "        latitude   longitude  year     month   weekday  headline_score  \\\n",
       "0      30.984298  -91.962333  2015   January  Thursday          0.0000   \n",
       "1      37.090240  -95.712891  2015   January  Thursday          0.2960   \n",
       "2      42.360083  -71.058880  2015   January  Thursday          0.0000   \n",
       "3      31.117119  -97.727796  2015   January  Thursday          0.0000   \n",
       "4      40.726477  -73.981534  2015   January  Thursday          0.0000   \n",
       "...          ...         ...   ...       ...       ...             ...   \n",
       "15625  39.739236 -104.990251  2017  December    Sunday         -0.6369   \n",
       "15626  44.338556  -68.273335  2017  December    Sunday         -0.5023   \n",
       "15627  37.774929 -122.419415  2017  December    Sunday          0.0000   \n",
       "15628  43.299428  -74.217933  2017  December    Sunday          0.0000   \n",
       "15629  37.687176  -97.330053  2017  December    Sunday         -0.7096   \n",
       "\n",
       "       article_score  \n",
       "0           0.128000  \n",
       "1          -0.051600  \n",
       "2          -0.291450  \n",
       "3          -0.670500  \n",
       "4           0.585900  \n",
       "...              ...  \n",
       "15625      -0.630833  \n",
       "15626       0.700300  \n",
       "15627       0.338400  \n",
       "15628       0.000000  \n",
       "15629       0.000000  \n",
       "\n",
       "[15630 rows x 12 columns]"
      ],
      "text/html": "<div>\n<style scoped>\n    .dataframe tbody tr th:only-of-type {\n        vertical-align: middle;\n    }\n\n    .dataframe tbody tr th {\n        vertical-align: top;\n    }\n\n    .dataframe thead th {\n        text-align: right;\n    }\n</style>\n<table border=\"1\" class=\"dataframe\">\n  <thead>\n    <tr style=\"text-align: right;\">\n      <th></th>\n      <th>nid</th>\n      <th>country</th>\n      <th>country_ISO_code</th>\n      <th>state</th>\n      <th>US_state_code</th>\n      <th>latitude</th>\n      <th>longitude</th>\n      <th>year</th>\n      <th>month</th>\n      <th>weekday</th>\n      <th>headline_score</th>\n      <th>article_score</th>\n    </tr>\n  </thead>\n  <tbody>\n    <tr>\n      <th>0</th>\n      <td>2</td>\n      <td>United States</td>\n      <td>USA</td>\n      <td>Louisiana</td>\n      <td>LA</td>\n      <td>30.984298</td>\n      <td>-91.962333</td>\n      <td>2015</td>\n      <td>January</td>\n      <td>Thursday</td>\n      <td>0.0000</td>\n      <td>0.128000</td>\n    </tr>\n    <tr>\n      <th>1</th>\n      <td>3</td>\n      <td>United States</td>\n      <td>USA</td>\n      <td>NaN</td>\n      <td>NaN</td>\n      <td>37.090240</td>\n      <td>-95.712891</td>\n      <td>2015</td>\n      <td>January</td>\n      <td>Thursday</td>\n      <td>0.2960</td>\n      <td>-0.051600</td>\n    </tr>\n    <tr>\n      <th>2</th>\n      <td>5</td>\n      <td>United States</td>\n      <td>USA</td>\n      <td>Massachusetts</td>\n      <td>MA</td>\n      <td>42.360083</td>\n      <td>-71.058880</td>\n      <td>2015</td>\n      <td>January</td>\n      <td>Thursday</td>\n      <td>0.0000</td>\n      <td>-0.291450</td>\n    </tr>\n    <tr>\n      <th>3</th>\n      <td>6</td>\n      <td>United States</td>\n      <td>USA</td>\n      <td>Texas</td>\n      <td>TX</td>\n      <td>31.117119</td>\n      <td>-97.727796</td>\n      <td>2015</td>\n      <td>January</td>\n      <td>Thursday</td>\n      <td>0.0000</td>\n      <td>-0.670500</td>\n    </tr>\n    <tr>\n      <th>4</th>\n      <td>11</td>\n      <td>United States</td>\n      <td>USA</td>\n      <td>New York</td>\n      <td>NY</td>\n      <td>40.726477</td>\n      <td>-73.981534</td>\n      <td>2015</td>\n      <td>January</td>\n      <td>Thursday</td>\n      <td>0.0000</td>\n      <td>0.585900</td>\n    </tr>\n    <tr>\n      <th>...</th>\n      <td>...</td>\n      <td>...</td>\n      <td>...</td>\n      <td>...</td>\n      <td>...</td>\n      <td>...</td>\n      <td>...</td>\n      <td>...</td>\n      <td>...</td>\n      <td>...</td>\n      <td>...</td>\n      <td>...</td>\n    </tr>\n    <tr>\n      <th>15625</th>\n      <td>50563</td>\n      <td>United States</td>\n      <td>USA</td>\n      <td>Colorado</td>\n      <td>CO</td>\n      <td>39.739236</td>\n      <td>-104.990251</td>\n      <td>2017</td>\n      <td>December</td>\n      <td>Sunday</td>\n      <td>-0.6369</td>\n      <td>-0.630833</td>\n    </tr>\n    <tr>\n      <th>15626</th>\n      <td>50564</td>\n      <td>United States</td>\n      <td>USA</td>\n      <td>Maine</td>\n      <td>ME</td>\n      <td>44.338556</td>\n      <td>-68.273335</td>\n      <td>2017</td>\n      <td>December</td>\n      <td>Sunday</td>\n      <td>-0.5023</td>\n      <td>0.700300</td>\n    </tr>\n    <tr>\n      <th>15627</th>\n      <td>50570</td>\n      <td>United States</td>\n      <td>USA</td>\n      <td>California</td>\n      <td>CA</td>\n      <td>37.774929</td>\n      <td>-122.419415</td>\n      <td>2017</td>\n      <td>December</td>\n      <td>Sunday</td>\n      <td>0.0000</td>\n      <td>0.338400</td>\n    </tr>\n    <tr>\n      <th>15628</th>\n      <td>50571</td>\n      <td>United States</td>\n      <td>USA</td>\n      <td>New York</td>\n      <td>NY</td>\n      <td>43.299428</td>\n      <td>-74.217933</td>\n      <td>2017</td>\n      <td>December</td>\n      <td>Sunday</td>\n      <td>0.0000</td>\n      <td>0.000000</td>\n    </tr>\n    <tr>\n      <th>15629</th>\n      <td>50572</td>\n      <td>United States</td>\n      <td>USA</td>\n      <td>Kansas</td>\n      <td>KS</td>\n      <td>37.687176</td>\n      <td>-97.330053</td>\n      <td>2017</td>\n      <td>December</td>\n      <td>Sunday</td>\n      <td>-0.7096</td>\n      <td>0.000000</td>\n    </tr>\n  </tbody>\n</table>\n<p>15630 rows × 12 columns</p>\n</div>"
     },
     "metadata": {},
     "execution_count": 15
    }
   ],
   "source": [
    "# Setup dependencies\n",
    "import pandas as pd\n",
    "import numpy as np\n",
    "import plotly_express as px\n",
    "import plotly.graph_objects as go\n",
    "\n",
    "path = \"static/data/choropleth_locations3_all_sentiment.csv\"\n",
    "df = pd.read_csv(path)\n",
    "df"
   ]
  },
  {
   "source": [
    "## US States by Year"
   ],
   "cell_type": "markdown",
   "metadata": {}
  },
  {
   "cell_type": "code",
   "execution_count": 18,
   "metadata": {},
   "outputs": [
    {
     "output_type": "execute_result",
     "data": {
      "text/plain": [
       "                   state US_state_code article_score year\n",
       "0                Alabama            AL                   \n",
       "1                 Alaska            AK                   \n",
       "2                Arizona            AZ                   \n",
       "3               Arkansas            AR                   \n",
       "4             California            CA                   \n",
       "5               Colorado            CO                   \n",
       "6            Connecticut            CT                   \n",
       "7               Delaware            DE                   \n",
       "8   District of Columbia            DC                   \n",
       "9                Florida            FL                   \n",
       "10               Georgia            GA                   \n",
       "11                Hawaii            HI                   \n",
       "12                 Idaho            ID                   \n",
       "13              Illinois            IL                   \n",
       "14               Indiana            IN                   \n",
       "15                  Iowa            IA                   \n",
       "16                Kansas            KS                   \n",
       "17              Kentucky            KY                   \n",
       "18             Louisiana            LA                   \n",
       "19                 Maine            ME                   \n",
       "20              Maryland            MD                   \n",
       "21         Massachusetts            MA                   \n",
       "22              Michigan            MI                   \n",
       "23             Minnesota            MN                   \n",
       "24           Mississippi            MS                   \n",
       "25              Missouri            MO                   \n",
       "26               Montana            MT                   \n",
       "27              Nebraska            NE                   \n",
       "28                Nevada            NV                   \n",
       "29         New Hampshire            NH                   \n",
       "30            New Jersey            NJ                   \n",
       "31            New Mexico            NM                   \n",
       "32              New York            NY                   \n",
       "33        North Carolina            NC                   \n",
       "34          North Dakota            ND                   \n",
       "35                  Ohio            OH                   \n",
       "36              Oklahoma            OK                   \n",
       "37                Oregon            OR                   \n",
       "38          Pennsylvania            PA                   \n",
       "39          Rhode Island            RI                   \n",
       "40        South Carolina            SC                   \n",
       "41          South Dakota            SD                   \n",
       "42             Tennessee            TN                   \n",
       "43                 Texas            TX                   \n",
       "44                  Utah            UT                   \n",
       "45               Vermont            VT                   \n",
       "46              Virginia            VA                   \n",
       "47            Washington            WA                   \n",
       "48         West Virginia            WV                   \n",
       "49             Wisconsin            WI                   \n",
       "50               Wyoming            WY                   "
      ],
      "text/html": "<div>\n<style scoped>\n    .dataframe tbody tr th:only-of-type {\n        vertical-align: middle;\n    }\n\n    .dataframe tbody tr th {\n        vertical-align: top;\n    }\n\n    .dataframe thead th {\n        text-align: right;\n    }\n</style>\n<table border=\"1\" class=\"dataframe\">\n  <thead>\n    <tr style=\"text-align: right;\">\n      <th></th>\n      <th>state</th>\n      <th>US_state_code</th>\n      <th>article_score</th>\n      <th>year</th>\n    </tr>\n  </thead>\n  <tbody>\n    <tr>\n      <th>0</th>\n      <td>Alabama</td>\n      <td>AL</td>\n      <td></td>\n      <td></td>\n    </tr>\n    <tr>\n      <th>1</th>\n      <td>Alaska</td>\n      <td>AK</td>\n      <td></td>\n      <td></td>\n    </tr>\n    <tr>\n      <th>2</th>\n      <td>Arizona</td>\n      <td>AZ</td>\n      <td></td>\n      <td></td>\n    </tr>\n    <tr>\n      <th>3</th>\n      <td>Arkansas</td>\n      <td>AR</td>\n      <td></td>\n      <td></td>\n    </tr>\n    <tr>\n      <th>4</th>\n      <td>California</td>\n      <td>CA</td>\n      <td></td>\n      <td></td>\n    </tr>\n    <tr>\n      <th>5</th>\n      <td>Colorado</td>\n      <td>CO</td>\n      <td></td>\n      <td></td>\n    </tr>\n    <tr>\n      <th>6</th>\n      <td>Connecticut</td>\n      <td>CT</td>\n      <td></td>\n      <td></td>\n    </tr>\n    <tr>\n      <th>7</th>\n      <td>Delaware</td>\n      <td>DE</td>\n      <td></td>\n      <td></td>\n    </tr>\n    <tr>\n      <th>8</th>\n      <td>District of Columbia</td>\n      <td>DC</td>\n      <td></td>\n      <td></td>\n    </tr>\n    <tr>\n      <th>9</th>\n      <td>Florida</td>\n      <td>FL</td>\n      <td></td>\n      <td></td>\n    </tr>\n    <tr>\n      <th>10</th>\n      <td>Georgia</td>\n      <td>GA</td>\n      <td></td>\n      <td></td>\n    </tr>\n    <tr>\n      <th>11</th>\n      <td>Hawaii</td>\n      <td>HI</td>\n      <td></td>\n      <td></td>\n    </tr>\n    <tr>\n      <th>12</th>\n      <td>Idaho</td>\n      <td>ID</td>\n      <td></td>\n      <td></td>\n    </tr>\n    <tr>\n      <th>13</th>\n      <td>Illinois</td>\n      <td>IL</td>\n      <td></td>\n      <td></td>\n    </tr>\n    <tr>\n      <th>14</th>\n      <td>Indiana</td>\n      <td>IN</td>\n      <td></td>\n      <td></td>\n    </tr>\n    <tr>\n      <th>15</th>\n      <td>Iowa</td>\n      <td>IA</td>\n      <td></td>\n      <td></td>\n    </tr>\n    <tr>\n      <th>16</th>\n      <td>Kansas</td>\n      <td>KS</td>\n      <td></td>\n      <td></td>\n    </tr>\n    <tr>\n      <th>17</th>\n      <td>Kentucky</td>\n      <td>KY</td>\n      <td></td>\n      <td></td>\n    </tr>\n    <tr>\n      <th>18</th>\n      <td>Louisiana</td>\n      <td>LA</td>\n      <td></td>\n      <td></td>\n    </tr>\n    <tr>\n      <th>19</th>\n      <td>Maine</td>\n      <td>ME</td>\n      <td></td>\n      <td></td>\n    </tr>\n    <tr>\n      <th>20</th>\n      <td>Maryland</td>\n      <td>MD</td>\n      <td></td>\n      <td></td>\n    </tr>\n    <tr>\n      <th>21</th>\n      <td>Massachusetts</td>\n      <td>MA</td>\n      <td></td>\n      <td></td>\n    </tr>\n    <tr>\n      <th>22</th>\n      <td>Michigan</td>\n      <td>MI</td>\n      <td></td>\n      <td></td>\n    </tr>\n    <tr>\n      <th>23</th>\n      <td>Minnesota</td>\n      <td>MN</td>\n      <td></td>\n      <td></td>\n    </tr>\n    <tr>\n      <th>24</th>\n      <td>Mississippi</td>\n      <td>MS</td>\n      <td></td>\n      <td></td>\n    </tr>\n    <tr>\n      <th>25</th>\n      <td>Missouri</td>\n      <td>MO</td>\n      <td></td>\n      <td></td>\n    </tr>\n    <tr>\n      <th>26</th>\n      <td>Montana</td>\n      <td>MT</td>\n      <td></td>\n      <td></td>\n    </tr>\n    <tr>\n      <th>27</th>\n      <td>Nebraska</td>\n      <td>NE</td>\n      <td></td>\n      <td></td>\n    </tr>\n    <tr>\n      <th>28</th>\n      <td>Nevada</td>\n      <td>NV</td>\n      <td></td>\n      <td></td>\n    </tr>\n    <tr>\n      <th>29</th>\n      <td>New Hampshire</td>\n      <td>NH</td>\n      <td></td>\n      <td></td>\n    </tr>\n    <tr>\n      <th>30</th>\n      <td>New Jersey</td>\n      <td>NJ</td>\n      <td></td>\n      <td></td>\n    </tr>\n    <tr>\n      <th>31</th>\n      <td>New Mexico</td>\n      <td>NM</td>\n      <td></td>\n      <td></td>\n    </tr>\n    <tr>\n      <th>32</th>\n      <td>New York</td>\n      <td>NY</td>\n      <td></td>\n      <td></td>\n    </tr>\n    <tr>\n      <th>33</th>\n      <td>North Carolina</td>\n      <td>NC</td>\n      <td></td>\n      <td></td>\n    </tr>\n    <tr>\n      <th>34</th>\n      <td>North Dakota</td>\n      <td>ND</td>\n      <td></td>\n      <td></td>\n    </tr>\n    <tr>\n      <th>35</th>\n      <td>Ohio</td>\n      <td>OH</td>\n      <td></td>\n      <td></td>\n    </tr>\n    <tr>\n      <th>36</th>\n      <td>Oklahoma</td>\n      <td>OK</td>\n      <td></td>\n      <td></td>\n    </tr>\n    <tr>\n      <th>37</th>\n      <td>Oregon</td>\n      <td>OR</td>\n      <td></td>\n      <td></td>\n    </tr>\n    <tr>\n      <th>38</th>\n      <td>Pennsylvania</td>\n      <td>PA</td>\n      <td></td>\n      <td></td>\n    </tr>\n    <tr>\n      <th>39</th>\n      <td>Rhode Island</td>\n      <td>RI</td>\n      <td></td>\n      <td></td>\n    </tr>\n    <tr>\n      <th>40</th>\n      <td>South Carolina</td>\n      <td>SC</td>\n      <td></td>\n      <td></td>\n    </tr>\n    <tr>\n      <th>41</th>\n      <td>South Dakota</td>\n      <td>SD</td>\n      <td></td>\n      <td></td>\n    </tr>\n    <tr>\n      <th>42</th>\n      <td>Tennessee</td>\n      <td>TN</td>\n      <td></td>\n      <td></td>\n    </tr>\n    <tr>\n      <th>43</th>\n      <td>Texas</td>\n      <td>TX</td>\n      <td></td>\n      <td></td>\n    </tr>\n    <tr>\n      <th>44</th>\n      <td>Utah</td>\n      <td>UT</td>\n      <td></td>\n      <td></td>\n    </tr>\n    <tr>\n      <th>45</th>\n      <td>Vermont</td>\n      <td>VT</td>\n      <td></td>\n      <td></td>\n    </tr>\n    <tr>\n      <th>46</th>\n      <td>Virginia</td>\n      <td>VA</td>\n      <td></td>\n      <td></td>\n    </tr>\n    <tr>\n      <th>47</th>\n      <td>Washington</td>\n      <td>WA</td>\n      <td></td>\n      <td></td>\n    </tr>\n    <tr>\n      <th>48</th>\n      <td>West Virginia</td>\n      <td>WV</td>\n      <td></td>\n      <td></td>\n    </tr>\n    <tr>\n      <th>49</th>\n      <td>Wisconsin</td>\n      <td>WI</td>\n      <td></td>\n      <td></td>\n    </tr>\n    <tr>\n      <th>50</th>\n      <td>Wyoming</td>\n      <td>WY</td>\n      <td></td>\n      <td></td>\n    </tr>\n  </tbody>\n</table>\n</div>"
     },
     "metadata": {},
     "execution_count": 18
    }
   ],
   "source": [
    "# Create a dataframe with all US states and codes\n",
    "\n",
    "df_states_year = df.drop_duplicates(subset=['state'])\n",
    "df_states_year = df_states_year[['state', 'US_state_code']]\n",
    "df_states_year = df_states_year.dropna(subset=['US_state_code'])\n",
    "df_states_year = df_states_year.sort_values('state').reset_index(drop=True)\n",
    "\n",
    "df_states_year['article_score'] = \" \"\n",
    "df_states_year['year'] = \" \"\n",
    "df_states_year = df_states_year[['state', 'US_state_code', 'article_score', 'year']]\n",
    "df_states_year"
   ]
  },
  {
   "cell_type": "code",
   "execution_count": 19,
   "metadata": {},
   "outputs": [
    {
     "output_type": "execute_result",
     "data": {
      "text/plain": [
       "             state US_state_code  article_score  year\n",
       "0          Alabama            AL         -0.079  2015\n",
       "1           Alaska            AK          0.133  2015\n",
       "2          Arizona            AZ         -0.111  2015\n",
       "3         Arkansas            AR          0.132  2015\n",
       "4       California            CA         -0.060  2015\n",
       "..             ...           ...            ...   ...\n",
       "148       Virginia            VA         -0.242  2017\n",
       "149     Washington            WA         -0.169  2017\n",
       "150  West Virginia            WV         -0.032  2017\n",
       "151      Wisconsin            WI         -0.121  2017\n",
       "152        Wyoming            WY          0.066  2017\n",
       "\n",
       "[153 rows x 4 columns]"
      ],
      "text/html": "<div>\n<style scoped>\n    .dataframe tbody tr th:only-of-type {\n        vertical-align: middle;\n    }\n\n    .dataframe tbody tr th {\n        vertical-align: top;\n    }\n\n    .dataframe thead th {\n        text-align: right;\n    }\n</style>\n<table border=\"1\" class=\"dataframe\">\n  <thead>\n    <tr style=\"text-align: right;\">\n      <th></th>\n      <th>state</th>\n      <th>US_state_code</th>\n      <th>article_score</th>\n      <th>year</th>\n    </tr>\n  </thead>\n  <tbody>\n    <tr>\n      <th>0</th>\n      <td>Alabama</td>\n      <td>AL</td>\n      <td>-0.079</td>\n      <td>2015</td>\n    </tr>\n    <tr>\n      <th>1</th>\n      <td>Alaska</td>\n      <td>AK</td>\n      <td>0.133</td>\n      <td>2015</td>\n    </tr>\n    <tr>\n      <th>2</th>\n      <td>Arizona</td>\n      <td>AZ</td>\n      <td>-0.111</td>\n      <td>2015</td>\n    </tr>\n    <tr>\n      <th>3</th>\n      <td>Arkansas</td>\n      <td>AR</td>\n      <td>0.132</td>\n      <td>2015</td>\n    </tr>\n    <tr>\n      <th>4</th>\n      <td>California</td>\n      <td>CA</td>\n      <td>-0.060</td>\n      <td>2015</td>\n    </tr>\n    <tr>\n      <th>...</th>\n      <td>...</td>\n      <td>...</td>\n      <td>...</td>\n      <td>...</td>\n    </tr>\n    <tr>\n      <th>148</th>\n      <td>Virginia</td>\n      <td>VA</td>\n      <td>-0.242</td>\n      <td>2017</td>\n    </tr>\n    <tr>\n      <th>149</th>\n      <td>Washington</td>\n      <td>WA</td>\n      <td>-0.169</td>\n      <td>2017</td>\n    </tr>\n    <tr>\n      <th>150</th>\n      <td>West Virginia</td>\n      <td>WV</td>\n      <td>-0.032</td>\n      <td>2017</td>\n    </tr>\n    <tr>\n      <th>151</th>\n      <td>Wisconsin</td>\n      <td>WI</td>\n      <td>-0.121</td>\n      <td>2017</td>\n    </tr>\n    <tr>\n      <th>152</th>\n      <td>Wyoming</td>\n      <td>WY</td>\n      <td>0.066</td>\n      <td>2017</td>\n    </tr>\n  </tbody>\n</table>\n<p>153 rows × 4 columns</p>\n</div>"
     },
     "metadata": {},
     "execution_count": 19
    }
   ],
   "source": [
    "# Get mean scores by state by year\n",
    "\n",
    "df_st_year = df[['state', 'US_state_code', 'article_score', 'year']]\n",
    "group_by_year = df_st_year.groupby(['year', 'state', 'US_state_code'], as_index=False)['article_score'].mean()\n",
    "df_st_year = pd.DataFrame({'state':group_by_year.state, 'US_state_code':group_by_year.US_state_code, 'article_score':group_by_year.article_score, 'year':group_by_year.year})\n",
    "\n",
    "for i in range(len(df_st_year)):\n",
    "    df_st_year['article_score'][i] = \"{:.3f}\".format(df_st_year['article_score'][i])\n",
    "df_st_year"
   ]
  },
  {
   "cell_type": "code",
   "execution_count": 20,
   "metadata": {},
   "outputs": [
    {
     "output_type": "execute_result",
     "data": {
      "text/plain": [
       "             state US_state_code article_score  year\n",
       "0          Alabama            AL        -0.079  2015\n",
       "1           Alaska            AK         0.133  2015\n",
       "2          Arizona            AZ        -0.111  2015\n",
       "3         Arkansas            AR         0.132  2015\n",
       "4       California            CA         -0.06  2015\n",
       "..             ...           ...           ...   ...\n",
       "148       Virginia            VA        -0.242  2017\n",
       "149     Washington            WA        -0.169  2017\n",
       "150  West Virginia            WV        -0.032  2017\n",
       "151      Wisconsin            WI        -0.121  2017\n",
       "152        Wyoming            WY         0.066  2017\n",
       "\n",
       "[153 rows x 4 columns]"
      ],
      "text/html": "<div>\n<style scoped>\n    .dataframe tbody tr th:only-of-type {\n        vertical-align: middle;\n    }\n\n    .dataframe tbody tr th {\n        vertical-align: top;\n    }\n\n    .dataframe thead th {\n        text-align: right;\n    }\n</style>\n<table border=\"1\" class=\"dataframe\">\n  <thead>\n    <tr style=\"text-align: right;\">\n      <th></th>\n      <th>state</th>\n      <th>US_state_code</th>\n      <th>article_score</th>\n      <th>year</th>\n    </tr>\n  </thead>\n  <tbody>\n    <tr>\n      <th>0</th>\n      <td>Alabama</td>\n      <td>AL</td>\n      <td>-0.079</td>\n      <td>2015</td>\n    </tr>\n    <tr>\n      <th>1</th>\n      <td>Alaska</td>\n      <td>AK</td>\n      <td>0.133</td>\n      <td>2015</td>\n    </tr>\n    <tr>\n      <th>2</th>\n      <td>Arizona</td>\n      <td>AZ</td>\n      <td>-0.111</td>\n      <td>2015</td>\n    </tr>\n    <tr>\n      <th>3</th>\n      <td>Arkansas</td>\n      <td>AR</td>\n      <td>0.132</td>\n      <td>2015</td>\n    </tr>\n    <tr>\n      <th>4</th>\n      <td>California</td>\n      <td>CA</td>\n      <td>-0.06</td>\n      <td>2015</td>\n    </tr>\n    <tr>\n      <th>...</th>\n      <td>...</td>\n      <td>...</td>\n      <td>...</td>\n      <td>...</td>\n    </tr>\n    <tr>\n      <th>148</th>\n      <td>Virginia</td>\n      <td>VA</td>\n      <td>-0.242</td>\n      <td>2017</td>\n    </tr>\n    <tr>\n      <th>149</th>\n      <td>Washington</td>\n      <td>WA</td>\n      <td>-0.169</td>\n      <td>2017</td>\n    </tr>\n    <tr>\n      <th>150</th>\n      <td>West Virginia</td>\n      <td>WV</td>\n      <td>-0.032</td>\n      <td>2017</td>\n    </tr>\n    <tr>\n      <th>151</th>\n      <td>Wisconsin</td>\n      <td>WI</td>\n      <td>-0.121</td>\n      <td>2017</td>\n    </tr>\n    <tr>\n      <th>152</th>\n      <td>Wyoming</td>\n      <td>WY</td>\n      <td>0.066</td>\n      <td>2017</td>\n    </tr>\n  </tbody>\n</table>\n<p>153 rows × 4 columns</p>\n</div>"
     },
     "metadata": {},
     "execution_count": 20
    }
   ],
   "source": [
    "# Create state dataframes for each year and combine to get a single master dataset\n",
    "\n",
    "# Extract and concat data for 2015\n",
    "df_state_2015 = df_states_year\n",
    "for i in range(len(df_state_2015)):\n",
    "    df_state_2015['year'][i]  = 2015\n",
    "    for j in range(len(df_st_year)):\n",
    "        if df_st_year['year'][j] == 2015:\n",
    "            if df_state_2015['state'][i] == df_st_year['state'][j]:     \n",
    "                df_state_2015['article_score'][i] = df_st_year['article_score'][j]\n",
    "            else:\n",
    "                continue\n",
    "        else:     \n",
    "            continue\n",
    "    if df_state_2015['article_score'][i] == \" \":\n",
    "        df_state_2015['article_score'][i] = np.nan\n",
    "\n",
    "df_state_year = pd.DataFrame()\n",
    "df_state_year = pd.concat([df_state_year, df_state_2015], ignore_index=True)\n",
    "\n",
    "\n",
    "# Extract and concat data for 2016\n",
    "df_state_2016 = df_states_year\n",
    "for i in range(len(df_state_2016)):\n",
    "    df_state_2016['year'][i]  = 2016\n",
    "    for j in range(len(df_st_year)):\n",
    "        if df_st_year['year'][j] == 2016:\n",
    "            if df_state_2016['state'][i] == df_st_year['state'][j]:     \n",
    "                df_state_2016['article_score'][i] = df_st_year['article_score'][j]\n",
    "            else:\n",
    "                continue\n",
    "        else:     \n",
    "            continue\n",
    "    if df_state_2016['article_score'][i] == \" \":\n",
    "        df_state_2016['article_score'][i] = np.nan\n",
    "\n",
    "df_state_year = pd.concat([df_state_year, df_state_2016], ignore_index=True)\n",
    "\n",
    "\n",
    "# Extract and concat data for 2017\n",
    "df_state_2017 = df_states_year\n",
    "for i in range(len(df_state_2017)):\n",
    "    df_state_2017['year'][i]  = 2017\n",
    "    for j in range(len(df_st_year)):\n",
    "        if df_st_year['year'][j] == 2017:\n",
    "            if df_state_2017['state'][i] == df_st_year['state'][j]:     \n",
    "                df_state_2017['article_score'][i] = df_st_year['article_score'][j]\n",
    "            else:\n",
    "                continue\n",
    "        else:     \n",
    "            continue\n",
    "    if df_state_2017['article_score'][i] == \" \":\n",
    "        df_state_2017['article_score'][i] = np.nan\n",
    "\n",
    "df_state_year = pd.concat([df_state_year, df_state_2017], ignore_index=True).dropna()\n",
    "df_state_year"
   ]
  },
  {
   "source": [
    "## States - final data by year"
   ],
   "cell_type": "markdown",
   "metadata": {}
  },
  {
   "cell_type": "code",
   "execution_count": 32,
   "metadata": {},
   "outputs": [],
   "source": [
    "state_2015 = df_state_year.loc[df_state_year['year'] == 2015]\n",
    "state_2016 = df_state_year.loc[df_state_year['year'] == 2016]\n",
    "state_2017 = df_state_year.loc[df_state_year['year'] == 2017]"
   ]
  },
  {
   "cell_type": "code",
   "execution_count": 33,
   "metadata": {},
   "outputs": [
    {
     "output_type": "display_data",
     "data": {
      "application/vnd.plotly.v1+json": {
       "config": {
        "plotlyServerURL": "https://plot.ly"
       },
       "data": [
        {
         "autocolorscale": false,
         "colorbar": {
          "title": {
           "text": "Sentiment Score"
          }
         },
         "colorscale": [
          [
           0,
           "rgb(103,0,31)"
          ],
          [
           0.1,
           "rgb(178,24,43)"
          ],
          [
           0.2,
           "rgb(214,96,77)"
          ],
          [
           0.3,
           "rgb(244,165,130)"
          ],
          [
           0.4,
           "rgb(253,219,199)"
          ],
          [
           0.5,
           "rgb(247,247,247)"
          ],
          [
           0.6,
           "rgb(209,229,240)"
          ],
          [
           0.7,
           "rgb(146,197,222)"
          ],
          [
           0.8,
           "rgb(67,147,195)"
          ],
          [
           0.9,
           "rgb(33,102,172)"
          ],
          [
           1,
           "rgb(5,48,97)"
          ]
         ],
         "locationmode": "USA-states",
         "locations": [
          "AL",
          "AK",
          "AZ",
          "AR",
          "CA",
          "CO",
          "CT",
          "DE",
          "DC",
          "FL",
          "GA",
          "HI",
          "ID",
          "IL",
          "IN",
          "IA",
          "KS",
          "KY",
          "LA",
          "ME",
          "MD",
          "MA",
          "MI",
          "MN",
          "MS",
          "MO",
          "MT",
          "NE",
          "NV",
          "NH",
          "NJ",
          "NM",
          "NY",
          "NC",
          "ND",
          "OH",
          "OK",
          "OR",
          "PA",
          "RI",
          "SC",
          "SD",
          "TN",
          "TX",
          "UT",
          "VT",
          "VA",
          "WA",
          "WV",
          "WI",
          "WY"
         ],
         "marker": {
          "line": {
           "color": "white"
          }
         },
         "type": "choropleth",
         "z": [
          "-0.079",
          "0.133",
          "-0.111",
          "0.132",
          "-0.06",
          "-0.203",
          "-0.052",
          "0.078",
          "-0.028",
          "-0.042",
          "-0.251",
          "-0.122",
          "0.237",
          "-0.186",
          "0.033",
          "0.086",
          "-0.089",
          "-0.003",
          "-0.142",
          "0.022",
          "-0.33",
          "-0.092",
          "-0.017",
          "-0.171",
          "-0.281",
          "-0.204",
          "-0.068",
          "-0.259",
          "0.005",
          "0.068",
          "0.031",
          "-0.155",
          "0.045",
          "-0.178",
          "-0.102",
          "-0.191",
          "-0.367",
          "-0.226",
          "-0.184",
          "-0.252",
          "-0.185",
          "-0.159",
          "-0.061",
          "-0.237",
          "-0.052",
          "0.067",
          "-0.246",
          "-0.198",
          "-0.306",
          "0.023",
          "0.197"
         ]
        }
       ],
       "layout": {
        "annotations": [
         {
          "showarrow": false,
          "text": "Source: <a href=\"https://www.nytimes.com/\"> The New York Times</a>",
          "x": 0.55,
          "xref": "paper",
          "y": 0.1,
          "yref": "paper"
         }
        ],
        "font": {
         "size": 20
        },
        "geo": {
         "lakecolor": "rgb(255, 255, 255)",
         "projection": {
          "type": "albers usa"
         },
         "scope": "usa",
         "showlakes": true
        },
        "height": 1150,
        "margin": {
         "b": 300,
         "l": 20,
         "pad": 10,
         "r": 20,
         "t": 100
        },
        "template": {
         "data": {
          "bar": [
           {
            "error_x": {
             "color": "#2a3f5f"
            },
            "error_y": {
             "color": "#2a3f5f"
            },
            "marker": {
             "line": {
              "color": "#E5ECF6",
              "width": 0.5
             }
            },
            "type": "bar"
           }
          ],
          "barpolar": [
           {
            "marker": {
             "line": {
              "color": "#E5ECF6",
              "width": 0.5
             }
            },
            "type": "barpolar"
           }
          ],
          "carpet": [
           {
            "aaxis": {
             "endlinecolor": "#2a3f5f",
             "gridcolor": "white",
             "linecolor": "white",
             "minorgridcolor": "white",
             "startlinecolor": "#2a3f5f"
            },
            "baxis": {
             "endlinecolor": "#2a3f5f",
             "gridcolor": "white",
             "linecolor": "white",
             "minorgridcolor": "white",
             "startlinecolor": "#2a3f5f"
            },
            "type": "carpet"
           }
          ],
          "choropleth": [
           {
            "colorbar": {
             "outlinewidth": 0,
             "ticks": ""
            },
            "type": "choropleth"
           }
          ],
          "contour": [
           {
            "colorbar": {
             "outlinewidth": 0,
             "ticks": ""
            },
            "colorscale": [
             [
              0,
              "#0d0887"
             ],
             [
              0.1111111111111111,
              "#46039f"
             ],
             [
              0.2222222222222222,
              "#7201a8"
             ],
             [
              0.3333333333333333,
              "#9c179e"
             ],
             [
              0.4444444444444444,
              "#bd3786"
             ],
             [
              0.5555555555555556,
              "#d8576b"
             ],
             [
              0.6666666666666666,
              "#ed7953"
             ],
             [
              0.7777777777777778,
              "#fb9f3a"
             ],
             [
              0.8888888888888888,
              "#fdca26"
             ],
             [
              1,
              "#f0f921"
             ]
            ],
            "type": "contour"
           }
          ],
          "contourcarpet": [
           {
            "colorbar": {
             "outlinewidth": 0,
             "ticks": ""
            },
            "type": "contourcarpet"
           }
          ],
          "heatmap": [
           {
            "colorbar": {
             "outlinewidth": 0,
             "ticks": ""
            },
            "colorscale": [
             [
              0,
              "#0d0887"
             ],
             [
              0.1111111111111111,
              "#46039f"
             ],
             [
              0.2222222222222222,
              "#7201a8"
             ],
             [
              0.3333333333333333,
              "#9c179e"
             ],
             [
              0.4444444444444444,
              "#bd3786"
             ],
             [
              0.5555555555555556,
              "#d8576b"
             ],
             [
              0.6666666666666666,
              "#ed7953"
             ],
             [
              0.7777777777777778,
              "#fb9f3a"
             ],
             [
              0.8888888888888888,
              "#fdca26"
             ],
             [
              1,
              "#f0f921"
             ]
            ],
            "type": "heatmap"
           }
          ],
          "heatmapgl": [
           {
            "colorbar": {
             "outlinewidth": 0,
             "ticks": ""
            },
            "colorscale": [
             [
              0,
              "#0d0887"
             ],
             [
              0.1111111111111111,
              "#46039f"
             ],
             [
              0.2222222222222222,
              "#7201a8"
             ],
             [
              0.3333333333333333,
              "#9c179e"
             ],
             [
              0.4444444444444444,
              "#bd3786"
             ],
             [
              0.5555555555555556,
              "#d8576b"
             ],
             [
              0.6666666666666666,
              "#ed7953"
             ],
             [
              0.7777777777777778,
              "#fb9f3a"
             ],
             [
              0.8888888888888888,
              "#fdca26"
             ],
             [
              1,
              "#f0f921"
             ]
            ],
            "type": "heatmapgl"
           }
          ],
          "histogram": [
           {
            "marker": {
             "colorbar": {
              "outlinewidth": 0,
              "ticks": ""
             }
            },
            "type": "histogram"
           }
          ],
          "histogram2d": [
           {
            "colorbar": {
             "outlinewidth": 0,
             "ticks": ""
            },
            "colorscale": [
             [
              0,
              "#0d0887"
             ],
             [
              0.1111111111111111,
              "#46039f"
             ],
             [
              0.2222222222222222,
              "#7201a8"
             ],
             [
              0.3333333333333333,
              "#9c179e"
             ],
             [
              0.4444444444444444,
              "#bd3786"
             ],
             [
              0.5555555555555556,
              "#d8576b"
             ],
             [
              0.6666666666666666,
              "#ed7953"
             ],
             [
              0.7777777777777778,
              "#fb9f3a"
             ],
             [
              0.8888888888888888,
              "#fdca26"
             ],
             [
              1,
              "#f0f921"
             ]
            ],
            "type": "histogram2d"
           }
          ],
          "histogram2dcontour": [
           {
            "colorbar": {
             "outlinewidth": 0,
             "ticks": ""
            },
            "colorscale": [
             [
              0,
              "#0d0887"
             ],
             [
              0.1111111111111111,
              "#46039f"
             ],
             [
              0.2222222222222222,
              "#7201a8"
             ],
             [
              0.3333333333333333,
              "#9c179e"
             ],
             [
              0.4444444444444444,
              "#bd3786"
             ],
             [
              0.5555555555555556,
              "#d8576b"
             ],
             [
              0.6666666666666666,
              "#ed7953"
             ],
             [
              0.7777777777777778,
              "#fb9f3a"
             ],
             [
              0.8888888888888888,
              "#fdca26"
             ],
             [
              1,
              "#f0f921"
             ]
            ],
            "type": "histogram2dcontour"
           }
          ],
          "mesh3d": [
           {
            "colorbar": {
             "outlinewidth": 0,
             "ticks": ""
            },
            "type": "mesh3d"
           }
          ],
          "parcoords": [
           {
            "line": {
             "colorbar": {
              "outlinewidth": 0,
              "ticks": ""
             }
            },
            "type": "parcoords"
           }
          ],
          "pie": [
           {
            "automargin": true,
            "type": "pie"
           }
          ],
          "scatter": [
           {
            "marker": {
             "colorbar": {
              "outlinewidth": 0,
              "ticks": ""
             }
            },
            "type": "scatter"
           }
          ],
          "scatter3d": [
           {
            "line": {
             "colorbar": {
              "outlinewidth": 0,
              "ticks": ""
             }
            },
            "marker": {
             "colorbar": {
              "outlinewidth": 0,
              "ticks": ""
             }
            },
            "type": "scatter3d"
           }
          ],
          "scattercarpet": [
           {
            "marker": {
             "colorbar": {
              "outlinewidth": 0,
              "ticks": ""
             }
            },
            "type": "scattercarpet"
           }
          ],
          "scattergeo": [
           {
            "marker": {
             "colorbar": {
              "outlinewidth": 0,
              "ticks": ""
             }
            },
            "type": "scattergeo"
           }
          ],
          "scattergl": [
           {
            "marker": {
             "colorbar": {
              "outlinewidth": 0,
              "ticks": ""
             }
            },
            "type": "scattergl"
           }
          ],
          "scattermapbox": [
           {
            "marker": {
             "colorbar": {
              "outlinewidth": 0,
              "ticks": ""
             }
            },
            "type": "scattermapbox"
           }
          ],
          "scatterpolar": [
           {
            "marker": {
             "colorbar": {
              "outlinewidth": 0,
              "ticks": ""
             }
            },
            "type": "scatterpolar"
           }
          ],
          "scatterpolargl": [
           {
            "marker": {
             "colorbar": {
              "outlinewidth": 0,
              "ticks": ""
             }
            },
            "type": "scatterpolargl"
           }
          ],
          "scatterternary": [
           {
            "marker": {
             "colorbar": {
              "outlinewidth": 0,
              "ticks": ""
             }
            },
            "type": "scatterternary"
           }
          ],
          "surface": [
           {
            "colorbar": {
             "outlinewidth": 0,
             "ticks": ""
            },
            "colorscale": [
             [
              0,
              "#0d0887"
             ],
             [
              0.1111111111111111,
              "#46039f"
             ],
             [
              0.2222222222222222,
              "#7201a8"
             ],
             [
              0.3333333333333333,
              "#9c179e"
             ],
             [
              0.4444444444444444,
              "#bd3786"
             ],
             [
              0.5555555555555556,
              "#d8576b"
             ],
             [
              0.6666666666666666,
              "#ed7953"
             ],
             [
              0.7777777777777778,
              "#fb9f3a"
             ],
             [
              0.8888888888888888,
              "#fdca26"
             ],
             [
              1,
              "#f0f921"
             ]
            ],
            "type": "surface"
           }
          ],
          "table": [
           {
            "cells": {
             "fill": {
              "color": "#EBF0F8"
             },
             "line": {
              "color": "white"
             }
            },
            "header": {
             "fill": {
              "color": "#C8D4E3"
             },
             "line": {
              "color": "white"
             }
            },
            "type": "table"
           }
          ]
         },
         "layout": {
          "annotationdefaults": {
           "arrowcolor": "#2a3f5f",
           "arrowhead": 0,
           "arrowwidth": 1
          },
          "autotypenumbers": "strict",
          "coloraxis": {
           "colorbar": {
            "outlinewidth": 0,
            "ticks": ""
           }
          },
          "colorscale": {
           "diverging": [
            [
             0,
             "#8e0152"
            ],
            [
             0.1,
             "#c51b7d"
            ],
            [
             0.2,
             "#de77ae"
            ],
            [
             0.3,
             "#f1b6da"
            ],
            [
             0.4,
             "#fde0ef"
            ],
            [
             0.5,
             "#f7f7f7"
            ],
            [
             0.6,
             "#e6f5d0"
            ],
            [
             0.7,
             "#b8e186"
            ],
            [
             0.8,
             "#7fbc41"
            ],
            [
             0.9,
             "#4d9221"
            ],
            [
             1,
             "#276419"
            ]
           ],
           "sequential": [
            [
             0,
             "#0d0887"
            ],
            [
             0.1111111111111111,
             "#46039f"
            ],
            [
             0.2222222222222222,
             "#7201a8"
            ],
            [
             0.3333333333333333,
             "#9c179e"
            ],
            [
             0.4444444444444444,
             "#bd3786"
            ],
            [
             0.5555555555555556,
             "#d8576b"
            ],
            [
             0.6666666666666666,
             "#ed7953"
            ],
            [
             0.7777777777777778,
             "#fb9f3a"
            ],
            [
             0.8888888888888888,
             "#fdca26"
            ],
            [
             1,
             "#f0f921"
            ]
           ],
           "sequentialminus": [
            [
             0,
             "#0d0887"
            ],
            [
             0.1111111111111111,
             "#46039f"
            ],
            [
             0.2222222222222222,
             "#7201a8"
            ],
            [
             0.3333333333333333,
             "#9c179e"
            ],
            [
             0.4444444444444444,
             "#bd3786"
            ],
            [
             0.5555555555555556,
             "#d8576b"
            ],
            [
             0.6666666666666666,
             "#ed7953"
            ],
            [
             0.7777777777777778,
             "#fb9f3a"
            ],
            [
             0.8888888888888888,
             "#fdca26"
            ],
            [
             1,
             "#f0f921"
            ]
           ]
          },
          "colorway": [
           "#636efa",
           "#EF553B",
           "#00cc96",
           "#ab63fa",
           "#FFA15A",
           "#19d3f3",
           "#FF6692",
           "#B6E880",
           "#FF97FF",
           "#FECB52"
          ],
          "font": {
           "color": "#2a3f5f"
          },
          "geo": {
           "bgcolor": "white",
           "lakecolor": "white",
           "landcolor": "#E5ECF6",
           "showlakes": true,
           "showland": true,
           "subunitcolor": "white"
          },
          "hoverlabel": {
           "align": "left"
          },
          "hovermode": "closest",
          "mapbox": {
           "style": "light"
          },
          "paper_bgcolor": "white",
          "plot_bgcolor": "#E5ECF6",
          "polar": {
           "angularaxis": {
            "gridcolor": "white",
            "linecolor": "white",
            "ticks": ""
           },
           "bgcolor": "#E5ECF6",
           "radialaxis": {
            "gridcolor": "white",
            "linecolor": "white",
            "ticks": ""
           }
          },
          "scene": {
           "xaxis": {
            "backgroundcolor": "#E5ECF6",
            "gridcolor": "white",
            "gridwidth": 2,
            "linecolor": "white",
            "showbackground": true,
            "ticks": "",
            "zerolinecolor": "white"
           },
           "yaxis": {
            "backgroundcolor": "#E5ECF6",
            "gridcolor": "white",
            "gridwidth": 2,
            "linecolor": "white",
            "showbackground": true,
            "ticks": "",
            "zerolinecolor": "white"
           },
           "zaxis": {
            "backgroundcolor": "#E5ECF6",
            "gridcolor": "white",
            "gridwidth": 2,
            "linecolor": "white",
            "showbackground": true,
            "ticks": "",
            "zerolinecolor": "white"
           }
          },
          "shapedefaults": {
           "line": {
            "color": "#2a3f5f"
           }
          },
          "ternary": {
           "aaxis": {
            "gridcolor": "white",
            "linecolor": "white",
            "ticks": ""
           },
           "baxis": {
            "gridcolor": "white",
            "linecolor": "white",
            "ticks": ""
           },
           "bgcolor": "#E5ECF6",
           "caxis": {
            "gridcolor": "white",
            "linecolor": "white",
            "ticks": ""
           }
          },
          "title": {
           "x": 0.05
          },
          "xaxis": {
           "automargin": true,
           "gridcolor": "white",
           "linecolor": "white",
           "ticks": "",
           "title": {
            "standoff": 15
           },
           "zerolinecolor": "white",
           "zerolinewidth": 2
          },
          "yaxis": {
           "automargin": true,
           "gridcolor": "white",
           "linecolor": "white",
           "ticks": "",
           "title": {
            "standoff": 15
           },
           "zerolinecolor": "white",
           "zerolinewidth": 2
          }
         }
        },
        "title": {
         "text": "US News Sentiment by State (2015)"
        },
        "width": 1150
       }
      }
     },
     "metadata": {}
    }
   ],
   "source": [
    "# Create choropleth map of US sentiment scores by states (2015)\n",
    "\n",
    "fig_state_2015 = go.Figure(data=go.Choropleth(\n",
    "    locations=state_2015['US_state_code'],\n",
    "    z=state_2015['article_score'].astype(str),\n",
    "    locationmode='USA-states',\n",
    "    colorscale='RdBu',\n",
    "    autocolorscale=False,\n",
    "    # text=df_state_final['US_state_code'], # hover text\n",
    "    marker_line_color='white', # line markers between states\n",
    "    colorbar_title=\"Sentiment Score\"\n",
    "))\n",
    "\n",
    "fig_state_2015.update_layout(\n",
    "    title_text='US News Sentiment by State (2015)',\n",
    "    width=1150,\n",
    "    height=1150,\n",
    "    margin=dict(l=20, r=20, b=300, t=100, pad=10),\n",
    "    font=dict(size=20),\n",
    "    geo = dict(\n",
    "        scope='usa',\n",
    "        projection=go.layout.geo.Projection(type = 'albers usa'),\n",
    "        showlakes=True, # lakes\n",
    "        lakecolor='rgb(255, 255, 255)'),\n",
    "    annotations = [dict(\n",
    "        x=0.55,\n",
    "        y=0.1,\n",
    "        xref='paper',\n",
    "        yref='paper',\n",
    "        text='Source: <a href=\"https://www.nytimes.com/\"> The New York Times</a>',\n",
    "        showarrow = False\n",
    "    )]\n",
    ")\n",
    "\n",
    "fig_state_2015.show()"
   ]
  },
  {
   "cell_type": "code",
   "execution_count": 34,
   "metadata": {},
   "outputs": [
    {
     "output_type": "display_data",
     "data": {
      "application/vnd.plotly.v1+json": {
       "config": {
        "plotlyServerURL": "https://plot.ly"
       },
       "data": [
        {
         "autocolorscale": false,
         "colorbar": {
          "title": {
           "text": "Sentiment Score"
          }
         },
         "colorscale": [
          [
           0,
           "rgb(103,0,31)"
          ],
          [
           0.1,
           "rgb(178,24,43)"
          ],
          [
           0.2,
           "rgb(214,96,77)"
          ],
          [
           0.3,
           "rgb(244,165,130)"
          ],
          [
           0.4,
           "rgb(253,219,199)"
          ],
          [
           0.5,
           "rgb(247,247,247)"
          ],
          [
           0.6,
           "rgb(209,229,240)"
          ],
          [
           0.7,
           "rgb(146,197,222)"
          ],
          [
           0.8,
           "rgb(67,147,195)"
          ],
          [
           0.9,
           "rgb(33,102,172)"
          ],
          [
           1,
           "rgb(5,48,97)"
          ]
         ],
         "locationmode": "USA-states",
         "locations": [
          "AL",
          "AK",
          "AZ",
          "AR",
          "CA",
          "CO",
          "CT",
          "DE",
          "DC",
          "FL",
          "GA",
          "HI",
          "ID",
          "IL",
          "IN",
          "IA",
          "KS",
          "KY",
          "LA",
          "ME",
          "MD",
          "MA",
          "MI",
          "MN",
          "MS",
          "MO",
          "MT",
          "NE",
          "NV",
          "NH",
          "NJ",
          "NM",
          "NY",
          "NC",
          "ND",
          "OH",
          "OK",
          "OR",
          "PA",
          "RI",
          "SC",
          "SD",
          "TN",
          "TX",
          "UT",
          "VT",
          "VA",
          "WA",
          "WV",
          "WI",
          "WY"
         ],
         "marker": {
          "line": {
           "color": "white"
          }
         },
         "type": "choropleth",
         "z": [
          "-0.11",
          "0.037",
          "-0.144",
          "0.034",
          "0.009",
          "-0.013",
          "-0.048",
          "-0.048",
          "0.091",
          "-0.035",
          "-0.226",
          "-0.034",
          "-0.126",
          "-0.251",
          "0.099",
          "0.082",
          "-0.073",
          "0.05",
          "-0.208",
          "-0.159",
          "-0.408",
          "-0.042",
          "-0.178",
          "-0.292",
          "-0.135",
          "-0.092",
          "-0.11",
          "-0.179",
          "0.119",
          "0.033",
          "0.044",
          "-0.031",
          "0.067",
          "-0.111",
          "-0.175",
          "-0.057",
          "-0.054",
          "-0.091",
          "-0.032",
          "-0.228",
          "-0.081",
          "-0.084",
          "-0.165",
          "-0.074",
          "-0.081",
          "-0.024",
          "0.036",
          "-0.069",
          "-0.029",
          "-0.143",
          "-0.271"
         ]
        }
       ],
       "layout": {
        "annotations": [
         {
          "showarrow": false,
          "text": "Source: <a href=\"https://www.nytimes.com/\"> The New York Times</a>",
          "x": 0.55,
          "xref": "paper",
          "y": 0.1,
          "yref": "paper"
         }
        ],
        "font": {
         "size": 20
        },
        "geo": {
         "lakecolor": "rgb(255, 255, 255)",
         "projection": {
          "type": "albers usa"
         },
         "scope": "usa",
         "showlakes": true
        },
        "height": 1150,
        "margin": {
         "b": 300,
         "l": 20,
         "pad": 10,
         "r": 20,
         "t": 100
        },
        "template": {
         "data": {
          "bar": [
           {
            "error_x": {
             "color": "#2a3f5f"
            },
            "error_y": {
             "color": "#2a3f5f"
            },
            "marker": {
             "line": {
              "color": "#E5ECF6",
              "width": 0.5
             }
            },
            "type": "bar"
           }
          ],
          "barpolar": [
           {
            "marker": {
             "line": {
              "color": "#E5ECF6",
              "width": 0.5
             }
            },
            "type": "barpolar"
           }
          ],
          "carpet": [
           {
            "aaxis": {
             "endlinecolor": "#2a3f5f",
             "gridcolor": "white",
             "linecolor": "white",
             "minorgridcolor": "white",
             "startlinecolor": "#2a3f5f"
            },
            "baxis": {
             "endlinecolor": "#2a3f5f",
             "gridcolor": "white",
             "linecolor": "white",
             "minorgridcolor": "white",
             "startlinecolor": "#2a3f5f"
            },
            "type": "carpet"
           }
          ],
          "choropleth": [
           {
            "colorbar": {
             "outlinewidth": 0,
             "ticks": ""
            },
            "type": "choropleth"
           }
          ],
          "contour": [
           {
            "colorbar": {
             "outlinewidth": 0,
             "ticks": ""
            },
            "colorscale": [
             [
              0,
              "#0d0887"
             ],
             [
              0.1111111111111111,
              "#46039f"
             ],
             [
              0.2222222222222222,
              "#7201a8"
             ],
             [
              0.3333333333333333,
              "#9c179e"
             ],
             [
              0.4444444444444444,
              "#bd3786"
             ],
             [
              0.5555555555555556,
              "#d8576b"
             ],
             [
              0.6666666666666666,
              "#ed7953"
             ],
             [
              0.7777777777777778,
              "#fb9f3a"
             ],
             [
              0.8888888888888888,
              "#fdca26"
             ],
             [
              1,
              "#f0f921"
             ]
            ],
            "type": "contour"
           }
          ],
          "contourcarpet": [
           {
            "colorbar": {
             "outlinewidth": 0,
             "ticks": ""
            },
            "type": "contourcarpet"
           }
          ],
          "heatmap": [
           {
            "colorbar": {
             "outlinewidth": 0,
             "ticks": ""
            },
            "colorscale": [
             [
              0,
              "#0d0887"
             ],
             [
              0.1111111111111111,
              "#46039f"
             ],
             [
              0.2222222222222222,
              "#7201a8"
             ],
             [
              0.3333333333333333,
              "#9c179e"
             ],
             [
              0.4444444444444444,
              "#bd3786"
             ],
             [
              0.5555555555555556,
              "#d8576b"
             ],
             [
              0.6666666666666666,
              "#ed7953"
             ],
             [
              0.7777777777777778,
              "#fb9f3a"
             ],
             [
              0.8888888888888888,
              "#fdca26"
             ],
             [
              1,
              "#f0f921"
             ]
            ],
            "type": "heatmap"
           }
          ],
          "heatmapgl": [
           {
            "colorbar": {
             "outlinewidth": 0,
             "ticks": ""
            },
            "colorscale": [
             [
              0,
              "#0d0887"
             ],
             [
              0.1111111111111111,
              "#46039f"
             ],
             [
              0.2222222222222222,
              "#7201a8"
             ],
             [
              0.3333333333333333,
              "#9c179e"
             ],
             [
              0.4444444444444444,
              "#bd3786"
             ],
             [
              0.5555555555555556,
              "#d8576b"
             ],
             [
              0.6666666666666666,
              "#ed7953"
             ],
             [
              0.7777777777777778,
              "#fb9f3a"
             ],
             [
              0.8888888888888888,
              "#fdca26"
             ],
             [
              1,
              "#f0f921"
             ]
            ],
            "type": "heatmapgl"
           }
          ],
          "histogram": [
           {
            "marker": {
             "colorbar": {
              "outlinewidth": 0,
              "ticks": ""
             }
            },
            "type": "histogram"
           }
          ],
          "histogram2d": [
           {
            "colorbar": {
             "outlinewidth": 0,
             "ticks": ""
            },
            "colorscale": [
             [
              0,
              "#0d0887"
             ],
             [
              0.1111111111111111,
              "#46039f"
             ],
             [
              0.2222222222222222,
              "#7201a8"
             ],
             [
              0.3333333333333333,
              "#9c179e"
             ],
             [
              0.4444444444444444,
              "#bd3786"
             ],
             [
              0.5555555555555556,
              "#d8576b"
             ],
             [
              0.6666666666666666,
              "#ed7953"
             ],
             [
              0.7777777777777778,
              "#fb9f3a"
             ],
             [
              0.8888888888888888,
              "#fdca26"
             ],
             [
              1,
              "#f0f921"
             ]
            ],
            "type": "histogram2d"
           }
          ],
          "histogram2dcontour": [
           {
            "colorbar": {
             "outlinewidth": 0,
             "ticks": ""
            },
            "colorscale": [
             [
              0,
              "#0d0887"
             ],
             [
              0.1111111111111111,
              "#46039f"
             ],
             [
              0.2222222222222222,
              "#7201a8"
             ],
             [
              0.3333333333333333,
              "#9c179e"
             ],
             [
              0.4444444444444444,
              "#bd3786"
             ],
             [
              0.5555555555555556,
              "#d8576b"
             ],
             [
              0.6666666666666666,
              "#ed7953"
             ],
             [
              0.7777777777777778,
              "#fb9f3a"
             ],
             [
              0.8888888888888888,
              "#fdca26"
             ],
             [
              1,
              "#f0f921"
             ]
            ],
            "type": "histogram2dcontour"
           }
          ],
          "mesh3d": [
           {
            "colorbar": {
             "outlinewidth": 0,
             "ticks": ""
            },
            "type": "mesh3d"
           }
          ],
          "parcoords": [
           {
            "line": {
             "colorbar": {
              "outlinewidth": 0,
              "ticks": ""
             }
            },
            "type": "parcoords"
           }
          ],
          "pie": [
           {
            "automargin": true,
            "type": "pie"
           }
          ],
          "scatter": [
           {
            "marker": {
             "colorbar": {
              "outlinewidth": 0,
              "ticks": ""
             }
            },
            "type": "scatter"
           }
          ],
          "scatter3d": [
           {
            "line": {
             "colorbar": {
              "outlinewidth": 0,
              "ticks": ""
             }
            },
            "marker": {
             "colorbar": {
              "outlinewidth": 0,
              "ticks": ""
             }
            },
            "type": "scatter3d"
           }
          ],
          "scattercarpet": [
           {
            "marker": {
             "colorbar": {
              "outlinewidth": 0,
              "ticks": ""
             }
            },
            "type": "scattercarpet"
           }
          ],
          "scattergeo": [
           {
            "marker": {
             "colorbar": {
              "outlinewidth": 0,
              "ticks": ""
             }
            },
            "type": "scattergeo"
           }
          ],
          "scattergl": [
           {
            "marker": {
             "colorbar": {
              "outlinewidth": 0,
              "ticks": ""
             }
            },
            "type": "scattergl"
           }
          ],
          "scattermapbox": [
           {
            "marker": {
             "colorbar": {
              "outlinewidth": 0,
              "ticks": ""
             }
            },
            "type": "scattermapbox"
           }
          ],
          "scatterpolar": [
           {
            "marker": {
             "colorbar": {
              "outlinewidth": 0,
              "ticks": ""
             }
            },
            "type": "scatterpolar"
           }
          ],
          "scatterpolargl": [
           {
            "marker": {
             "colorbar": {
              "outlinewidth": 0,
              "ticks": ""
             }
            },
            "type": "scatterpolargl"
           }
          ],
          "scatterternary": [
           {
            "marker": {
             "colorbar": {
              "outlinewidth": 0,
              "ticks": ""
             }
            },
            "type": "scatterternary"
           }
          ],
          "surface": [
           {
            "colorbar": {
             "outlinewidth": 0,
             "ticks": ""
            },
            "colorscale": [
             [
              0,
              "#0d0887"
             ],
             [
              0.1111111111111111,
              "#46039f"
             ],
             [
              0.2222222222222222,
              "#7201a8"
             ],
             [
              0.3333333333333333,
              "#9c179e"
             ],
             [
              0.4444444444444444,
              "#bd3786"
             ],
             [
              0.5555555555555556,
              "#d8576b"
             ],
             [
              0.6666666666666666,
              "#ed7953"
             ],
             [
              0.7777777777777778,
              "#fb9f3a"
             ],
             [
              0.8888888888888888,
              "#fdca26"
             ],
             [
              1,
              "#f0f921"
             ]
            ],
            "type": "surface"
           }
          ],
          "table": [
           {
            "cells": {
             "fill": {
              "color": "#EBF0F8"
             },
             "line": {
              "color": "white"
             }
            },
            "header": {
             "fill": {
              "color": "#C8D4E3"
             },
             "line": {
              "color": "white"
             }
            },
            "type": "table"
           }
          ]
         },
         "layout": {
          "annotationdefaults": {
           "arrowcolor": "#2a3f5f",
           "arrowhead": 0,
           "arrowwidth": 1
          },
          "autotypenumbers": "strict",
          "coloraxis": {
           "colorbar": {
            "outlinewidth": 0,
            "ticks": ""
           }
          },
          "colorscale": {
           "diverging": [
            [
             0,
             "#8e0152"
            ],
            [
             0.1,
             "#c51b7d"
            ],
            [
             0.2,
             "#de77ae"
            ],
            [
             0.3,
             "#f1b6da"
            ],
            [
             0.4,
             "#fde0ef"
            ],
            [
             0.5,
             "#f7f7f7"
            ],
            [
             0.6,
             "#e6f5d0"
            ],
            [
             0.7,
             "#b8e186"
            ],
            [
             0.8,
             "#7fbc41"
            ],
            [
             0.9,
             "#4d9221"
            ],
            [
             1,
             "#276419"
            ]
           ],
           "sequential": [
            [
             0,
             "#0d0887"
            ],
            [
             0.1111111111111111,
             "#46039f"
            ],
            [
             0.2222222222222222,
             "#7201a8"
            ],
            [
             0.3333333333333333,
             "#9c179e"
            ],
            [
             0.4444444444444444,
             "#bd3786"
            ],
            [
             0.5555555555555556,
             "#d8576b"
            ],
            [
             0.6666666666666666,
             "#ed7953"
            ],
            [
             0.7777777777777778,
             "#fb9f3a"
            ],
            [
             0.8888888888888888,
             "#fdca26"
            ],
            [
             1,
             "#f0f921"
            ]
           ],
           "sequentialminus": [
            [
             0,
             "#0d0887"
            ],
            [
             0.1111111111111111,
             "#46039f"
            ],
            [
             0.2222222222222222,
             "#7201a8"
            ],
            [
             0.3333333333333333,
             "#9c179e"
            ],
            [
             0.4444444444444444,
             "#bd3786"
            ],
            [
             0.5555555555555556,
             "#d8576b"
            ],
            [
             0.6666666666666666,
             "#ed7953"
            ],
            [
             0.7777777777777778,
             "#fb9f3a"
            ],
            [
             0.8888888888888888,
             "#fdca26"
            ],
            [
             1,
             "#f0f921"
            ]
           ]
          },
          "colorway": [
           "#636efa",
           "#EF553B",
           "#00cc96",
           "#ab63fa",
           "#FFA15A",
           "#19d3f3",
           "#FF6692",
           "#B6E880",
           "#FF97FF",
           "#FECB52"
          ],
          "font": {
           "color": "#2a3f5f"
          },
          "geo": {
           "bgcolor": "white",
           "lakecolor": "white",
           "landcolor": "#E5ECF6",
           "showlakes": true,
           "showland": true,
           "subunitcolor": "white"
          },
          "hoverlabel": {
           "align": "left"
          },
          "hovermode": "closest",
          "mapbox": {
           "style": "light"
          },
          "paper_bgcolor": "white",
          "plot_bgcolor": "#E5ECF6",
          "polar": {
           "angularaxis": {
            "gridcolor": "white",
            "linecolor": "white",
            "ticks": ""
           },
           "bgcolor": "#E5ECF6",
           "radialaxis": {
            "gridcolor": "white",
            "linecolor": "white",
            "ticks": ""
           }
          },
          "scene": {
           "xaxis": {
            "backgroundcolor": "#E5ECF6",
            "gridcolor": "white",
            "gridwidth": 2,
            "linecolor": "white",
            "showbackground": true,
            "ticks": "",
            "zerolinecolor": "white"
           },
           "yaxis": {
            "backgroundcolor": "#E5ECF6",
            "gridcolor": "white",
            "gridwidth": 2,
            "linecolor": "white",
            "showbackground": true,
            "ticks": "",
            "zerolinecolor": "white"
           },
           "zaxis": {
            "backgroundcolor": "#E5ECF6",
            "gridcolor": "white",
            "gridwidth": 2,
            "linecolor": "white",
            "showbackground": true,
            "ticks": "",
            "zerolinecolor": "white"
           }
          },
          "shapedefaults": {
           "line": {
            "color": "#2a3f5f"
           }
          },
          "ternary": {
           "aaxis": {
            "gridcolor": "white",
            "linecolor": "white",
            "ticks": ""
           },
           "baxis": {
            "gridcolor": "white",
            "linecolor": "white",
            "ticks": ""
           },
           "bgcolor": "#E5ECF6",
           "caxis": {
            "gridcolor": "white",
            "linecolor": "white",
            "ticks": ""
           }
          },
          "title": {
           "x": 0.05
          },
          "xaxis": {
           "automargin": true,
           "gridcolor": "white",
           "linecolor": "white",
           "ticks": "",
           "title": {
            "standoff": 15
           },
           "zerolinecolor": "white",
           "zerolinewidth": 2
          },
          "yaxis": {
           "automargin": true,
           "gridcolor": "white",
           "linecolor": "white",
           "ticks": "",
           "title": {
            "standoff": 15
           },
           "zerolinecolor": "white",
           "zerolinewidth": 2
          }
         }
        },
        "title": {
         "text": "US News Sentiment by State (2016)"
        },
        "width": 1150
       }
      }
     },
     "metadata": {}
    }
   ],
   "source": [
    "# Create choropleth map of US sentiment scores by states (2016)\n",
    "\n",
    "fig_state_2016 = go.Figure(data=go.Choropleth(\n",
    "    locations=state_2016['US_state_code'],\n",
    "    z=state_2016['article_score'].astype(str),\n",
    "    locationmode='USA-states',\n",
    "    colorscale='RdBu',\n",
    "    autocolorscale=False,\n",
    "    # text=df_state_final['US_state_code'], # hover text\n",
    "    marker_line_color='white', # line markers between states\n",
    "    colorbar_title=\"Sentiment Score\"\n",
    "))\n",
    "\n",
    "fig_state_2016.update_layout(\n",
    "    title_text='US News Sentiment by State (2016)',\n",
    "    width=1150,\n",
    "    height=1150,\n",
    "    margin=dict(l=20, r=20, b=300, t=100, pad=10),\n",
    "    font=dict(size=20),\n",
    "    geo = dict(\n",
    "        scope='usa',\n",
    "        projection=go.layout.geo.Projection(type = 'albers usa'),\n",
    "        showlakes=True, # lakes\n",
    "        lakecolor='rgb(255, 255, 255)'),\n",
    "    annotations = [dict(\n",
    "        x=0.55,\n",
    "        y=0.1,\n",
    "        xref='paper',\n",
    "        yref='paper',\n",
    "        text='Source: <a href=\"https://www.nytimes.com/\"> The New York Times</a>',\n",
    "        showarrow = False\n",
    "    )]\n",
    ")\n",
    "\n",
    "fig_state_2016.show()"
   ]
  },
  {
   "cell_type": "code",
   "execution_count": 35,
   "metadata": {},
   "outputs": [
    {
     "output_type": "display_data",
     "data": {
      "application/vnd.plotly.v1+json": {
       "config": {
        "plotlyServerURL": "https://plot.ly"
       },
       "data": [
        {
         "autocolorscale": false,
         "colorbar": {
          "title": {
           "text": "Sentiment Score"
          }
         },
         "colorscale": [
          [
           0,
           "rgb(103,0,31)"
          ],
          [
           0.1,
           "rgb(178,24,43)"
          ],
          [
           0.2,
           "rgb(214,96,77)"
          ],
          [
           0.3,
           "rgb(244,165,130)"
          ],
          [
           0.4,
           "rgb(253,219,199)"
          ],
          [
           0.5,
           "rgb(247,247,247)"
          ],
          [
           0.6,
           "rgb(209,229,240)"
          ],
          [
           0.7,
           "rgb(146,197,222)"
          ],
          [
           0.8,
           "rgb(67,147,195)"
          ],
          [
           0.9,
           "rgb(33,102,172)"
          ],
          [
           1,
           "rgb(5,48,97)"
          ]
         ],
         "locationmode": "USA-states",
         "locations": [
          "AL",
          "AK",
          "AZ",
          "AR",
          "CA",
          "CO",
          "CT",
          "DE",
          "DC",
          "FL",
          "GA",
          "HI",
          "ID",
          "IL",
          "IN",
          "IA",
          "KS",
          "KY",
          "LA",
          "ME",
          "MD",
          "MA",
          "MI",
          "MN",
          "MS",
          "MO",
          "MT",
          "NE",
          "NV",
          "NH",
          "NJ",
          "NM",
          "NY",
          "NC",
          "ND",
          "OH",
          "OK",
          "OR",
          "PA",
          "RI",
          "SC",
          "SD",
          "TN",
          "TX",
          "UT",
          "VT",
          "VA",
          "WA",
          "WV",
          "WI",
          "WY"
         ],
         "marker": {
          "line": {
           "color": "white"
          }
         },
         "type": "choropleth",
         "z": [
          "0.055",
          "0.151",
          "-0.081",
          "-0.407",
          "0.042",
          "0.01",
          "-0.146",
          "-0.06",
          "0.02",
          "-0.127",
          "-0.01",
          "-0.02",
          "-0.25",
          "-0.18",
          "0.051",
          "-0.0",
          "-0.007",
          "-0.043",
          "-0.059",
          "0.069",
          "-0.272",
          "-0.01",
          "0.055",
          "-0.298",
          "-0.122",
          "-0.228",
          "0.022",
          "-0.466",
          "-0.047",
          "-0.14",
          "0.258",
          "-0.196",
          "0.047",
          "-0.045",
          "-0.001",
          "-0.262",
          "-0.273",
          "-0.15",
          "-0.168",
          "0.197",
          "-0.254",
          "-0.272",
          "-0.159",
          "-0.185",
          "0.011",
          "-0.109",
          "-0.242",
          "-0.169",
          "-0.032",
          "-0.121",
          "0.066"
         ]
        }
       ],
       "layout": {
        "annotations": [
         {
          "showarrow": false,
          "text": "Source: <a href=\"https://www.nytimes.com/\"> The New York Times</a>",
          "x": 0.55,
          "xref": "paper",
          "y": 0.1,
          "yref": "paper"
         }
        ],
        "font": {
         "size": 20
        },
        "geo": {
         "lakecolor": "rgb(255, 255, 255)",
         "projection": {
          "type": "albers usa"
         },
         "scope": "usa",
         "showlakes": true
        },
        "height": 1150,
        "margin": {
         "b": 300,
         "l": 20,
         "pad": 10,
         "r": 20,
         "t": 100
        },
        "template": {
         "data": {
          "bar": [
           {
            "error_x": {
             "color": "#2a3f5f"
            },
            "error_y": {
             "color": "#2a3f5f"
            },
            "marker": {
             "line": {
              "color": "#E5ECF6",
              "width": 0.5
             }
            },
            "type": "bar"
           }
          ],
          "barpolar": [
           {
            "marker": {
             "line": {
              "color": "#E5ECF6",
              "width": 0.5
             }
            },
            "type": "barpolar"
           }
          ],
          "carpet": [
           {
            "aaxis": {
             "endlinecolor": "#2a3f5f",
             "gridcolor": "white",
             "linecolor": "white",
             "minorgridcolor": "white",
             "startlinecolor": "#2a3f5f"
            },
            "baxis": {
             "endlinecolor": "#2a3f5f",
             "gridcolor": "white",
             "linecolor": "white",
             "minorgridcolor": "white",
             "startlinecolor": "#2a3f5f"
            },
            "type": "carpet"
           }
          ],
          "choropleth": [
           {
            "colorbar": {
             "outlinewidth": 0,
             "ticks": ""
            },
            "type": "choropleth"
           }
          ],
          "contour": [
           {
            "colorbar": {
             "outlinewidth": 0,
             "ticks": ""
            },
            "colorscale": [
             [
              0,
              "#0d0887"
             ],
             [
              0.1111111111111111,
              "#46039f"
             ],
             [
              0.2222222222222222,
              "#7201a8"
             ],
             [
              0.3333333333333333,
              "#9c179e"
             ],
             [
              0.4444444444444444,
              "#bd3786"
             ],
             [
              0.5555555555555556,
              "#d8576b"
             ],
             [
              0.6666666666666666,
              "#ed7953"
             ],
             [
              0.7777777777777778,
              "#fb9f3a"
             ],
             [
              0.8888888888888888,
              "#fdca26"
             ],
             [
              1,
              "#f0f921"
             ]
            ],
            "type": "contour"
           }
          ],
          "contourcarpet": [
           {
            "colorbar": {
             "outlinewidth": 0,
             "ticks": ""
            },
            "type": "contourcarpet"
           }
          ],
          "heatmap": [
           {
            "colorbar": {
             "outlinewidth": 0,
             "ticks": ""
            },
            "colorscale": [
             [
              0,
              "#0d0887"
             ],
             [
              0.1111111111111111,
              "#46039f"
             ],
             [
              0.2222222222222222,
              "#7201a8"
             ],
             [
              0.3333333333333333,
              "#9c179e"
             ],
             [
              0.4444444444444444,
              "#bd3786"
             ],
             [
              0.5555555555555556,
              "#d8576b"
             ],
             [
              0.6666666666666666,
              "#ed7953"
             ],
             [
              0.7777777777777778,
              "#fb9f3a"
             ],
             [
              0.8888888888888888,
              "#fdca26"
             ],
             [
              1,
              "#f0f921"
             ]
            ],
            "type": "heatmap"
           }
          ],
          "heatmapgl": [
           {
            "colorbar": {
             "outlinewidth": 0,
             "ticks": ""
            },
            "colorscale": [
             [
              0,
              "#0d0887"
             ],
             [
              0.1111111111111111,
              "#46039f"
             ],
             [
              0.2222222222222222,
              "#7201a8"
             ],
             [
              0.3333333333333333,
              "#9c179e"
             ],
             [
              0.4444444444444444,
              "#bd3786"
             ],
             [
              0.5555555555555556,
              "#d8576b"
             ],
             [
              0.6666666666666666,
              "#ed7953"
             ],
             [
              0.7777777777777778,
              "#fb9f3a"
             ],
             [
              0.8888888888888888,
              "#fdca26"
             ],
             [
              1,
              "#f0f921"
             ]
            ],
            "type": "heatmapgl"
           }
          ],
          "histogram": [
           {
            "marker": {
             "colorbar": {
              "outlinewidth": 0,
              "ticks": ""
             }
            },
            "type": "histogram"
           }
          ],
          "histogram2d": [
           {
            "colorbar": {
             "outlinewidth": 0,
             "ticks": ""
            },
            "colorscale": [
             [
              0,
              "#0d0887"
             ],
             [
              0.1111111111111111,
              "#46039f"
             ],
             [
              0.2222222222222222,
              "#7201a8"
             ],
             [
              0.3333333333333333,
              "#9c179e"
             ],
             [
              0.4444444444444444,
              "#bd3786"
             ],
             [
              0.5555555555555556,
              "#d8576b"
             ],
             [
              0.6666666666666666,
              "#ed7953"
             ],
             [
              0.7777777777777778,
              "#fb9f3a"
             ],
             [
              0.8888888888888888,
              "#fdca26"
             ],
             [
              1,
              "#f0f921"
             ]
            ],
            "type": "histogram2d"
           }
          ],
          "histogram2dcontour": [
           {
            "colorbar": {
             "outlinewidth": 0,
             "ticks": ""
            },
            "colorscale": [
             [
              0,
              "#0d0887"
             ],
             [
              0.1111111111111111,
              "#46039f"
             ],
             [
              0.2222222222222222,
              "#7201a8"
             ],
             [
              0.3333333333333333,
              "#9c179e"
             ],
             [
              0.4444444444444444,
              "#bd3786"
             ],
             [
              0.5555555555555556,
              "#d8576b"
             ],
             [
              0.6666666666666666,
              "#ed7953"
             ],
             [
              0.7777777777777778,
              "#fb9f3a"
             ],
             [
              0.8888888888888888,
              "#fdca26"
             ],
             [
              1,
              "#f0f921"
             ]
            ],
            "type": "histogram2dcontour"
           }
          ],
          "mesh3d": [
           {
            "colorbar": {
             "outlinewidth": 0,
             "ticks": ""
            },
            "type": "mesh3d"
           }
          ],
          "parcoords": [
           {
            "line": {
             "colorbar": {
              "outlinewidth": 0,
              "ticks": ""
             }
            },
            "type": "parcoords"
           }
          ],
          "pie": [
           {
            "automargin": true,
            "type": "pie"
           }
          ],
          "scatter": [
           {
            "marker": {
             "colorbar": {
              "outlinewidth": 0,
              "ticks": ""
             }
            },
            "type": "scatter"
           }
          ],
          "scatter3d": [
           {
            "line": {
             "colorbar": {
              "outlinewidth": 0,
              "ticks": ""
             }
            },
            "marker": {
             "colorbar": {
              "outlinewidth": 0,
              "ticks": ""
             }
            },
            "type": "scatter3d"
           }
          ],
          "scattercarpet": [
           {
            "marker": {
             "colorbar": {
              "outlinewidth": 0,
              "ticks": ""
             }
            },
            "type": "scattercarpet"
           }
          ],
          "scattergeo": [
           {
            "marker": {
             "colorbar": {
              "outlinewidth": 0,
              "ticks": ""
             }
            },
            "type": "scattergeo"
           }
          ],
          "scattergl": [
           {
            "marker": {
             "colorbar": {
              "outlinewidth": 0,
              "ticks": ""
             }
            },
            "type": "scattergl"
           }
          ],
          "scattermapbox": [
           {
            "marker": {
             "colorbar": {
              "outlinewidth": 0,
              "ticks": ""
             }
            },
            "type": "scattermapbox"
           }
          ],
          "scatterpolar": [
           {
            "marker": {
             "colorbar": {
              "outlinewidth": 0,
              "ticks": ""
             }
            },
            "type": "scatterpolar"
           }
          ],
          "scatterpolargl": [
           {
            "marker": {
             "colorbar": {
              "outlinewidth": 0,
              "ticks": ""
             }
            },
            "type": "scatterpolargl"
           }
          ],
          "scatterternary": [
           {
            "marker": {
             "colorbar": {
              "outlinewidth": 0,
              "ticks": ""
             }
            },
            "type": "scatterternary"
           }
          ],
          "surface": [
           {
            "colorbar": {
             "outlinewidth": 0,
             "ticks": ""
            },
            "colorscale": [
             [
              0,
              "#0d0887"
             ],
             [
              0.1111111111111111,
              "#46039f"
             ],
             [
              0.2222222222222222,
              "#7201a8"
             ],
             [
              0.3333333333333333,
              "#9c179e"
             ],
             [
              0.4444444444444444,
              "#bd3786"
             ],
             [
              0.5555555555555556,
              "#d8576b"
             ],
             [
              0.6666666666666666,
              "#ed7953"
             ],
             [
              0.7777777777777778,
              "#fb9f3a"
             ],
             [
              0.8888888888888888,
              "#fdca26"
             ],
             [
              1,
              "#f0f921"
             ]
            ],
            "type": "surface"
           }
          ],
          "table": [
           {
            "cells": {
             "fill": {
              "color": "#EBF0F8"
             },
             "line": {
              "color": "white"
             }
            },
            "header": {
             "fill": {
              "color": "#C8D4E3"
             },
             "line": {
              "color": "white"
             }
            },
            "type": "table"
           }
          ]
         },
         "layout": {
          "annotationdefaults": {
           "arrowcolor": "#2a3f5f",
           "arrowhead": 0,
           "arrowwidth": 1
          },
          "autotypenumbers": "strict",
          "coloraxis": {
           "colorbar": {
            "outlinewidth": 0,
            "ticks": ""
           }
          },
          "colorscale": {
           "diverging": [
            [
             0,
             "#8e0152"
            ],
            [
             0.1,
             "#c51b7d"
            ],
            [
             0.2,
             "#de77ae"
            ],
            [
             0.3,
             "#f1b6da"
            ],
            [
             0.4,
             "#fde0ef"
            ],
            [
             0.5,
             "#f7f7f7"
            ],
            [
             0.6,
             "#e6f5d0"
            ],
            [
             0.7,
             "#b8e186"
            ],
            [
             0.8,
             "#7fbc41"
            ],
            [
             0.9,
             "#4d9221"
            ],
            [
             1,
             "#276419"
            ]
           ],
           "sequential": [
            [
             0,
             "#0d0887"
            ],
            [
             0.1111111111111111,
             "#46039f"
            ],
            [
             0.2222222222222222,
             "#7201a8"
            ],
            [
             0.3333333333333333,
             "#9c179e"
            ],
            [
             0.4444444444444444,
             "#bd3786"
            ],
            [
             0.5555555555555556,
             "#d8576b"
            ],
            [
             0.6666666666666666,
             "#ed7953"
            ],
            [
             0.7777777777777778,
             "#fb9f3a"
            ],
            [
             0.8888888888888888,
             "#fdca26"
            ],
            [
             1,
             "#f0f921"
            ]
           ],
           "sequentialminus": [
            [
             0,
             "#0d0887"
            ],
            [
             0.1111111111111111,
             "#46039f"
            ],
            [
             0.2222222222222222,
             "#7201a8"
            ],
            [
             0.3333333333333333,
             "#9c179e"
            ],
            [
             0.4444444444444444,
             "#bd3786"
            ],
            [
             0.5555555555555556,
             "#d8576b"
            ],
            [
             0.6666666666666666,
             "#ed7953"
            ],
            [
             0.7777777777777778,
             "#fb9f3a"
            ],
            [
             0.8888888888888888,
             "#fdca26"
            ],
            [
             1,
             "#f0f921"
            ]
           ]
          },
          "colorway": [
           "#636efa",
           "#EF553B",
           "#00cc96",
           "#ab63fa",
           "#FFA15A",
           "#19d3f3",
           "#FF6692",
           "#B6E880",
           "#FF97FF",
           "#FECB52"
          ],
          "font": {
           "color": "#2a3f5f"
          },
          "geo": {
           "bgcolor": "white",
           "lakecolor": "white",
           "landcolor": "#E5ECF6",
           "showlakes": true,
           "showland": true,
           "subunitcolor": "white"
          },
          "hoverlabel": {
           "align": "left"
          },
          "hovermode": "closest",
          "mapbox": {
           "style": "light"
          },
          "paper_bgcolor": "white",
          "plot_bgcolor": "#E5ECF6",
          "polar": {
           "angularaxis": {
            "gridcolor": "white",
            "linecolor": "white",
            "ticks": ""
           },
           "bgcolor": "#E5ECF6",
           "radialaxis": {
            "gridcolor": "white",
            "linecolor": "white",
            "ticks": ""
           }
          },
          "scene": {
           "xaxis": {
            "backgroundcolor": "#E5ECF6",
            "gridcolor": "white",
            "gridwidth": 2,
            "linecolor": "white",
            "showbackground": true,
            "ticks": "",
            "zerolinecolor": "white"
           },
           "yaxis": {
            "backgroundcolor": "#E5ECF6",
            "gridcolor": "white",
            "gridwidth": 2,
            "linecolor": "white",
            "showbackground": true,
            "ticks": "",
            "zerolinecolor": "white"
           },
           "zaxis": {
            "backgroundcolor": "#E5ECF6",
            "gridcolor": "white",
            "gridwidth": 2,
            "linecolor": "white",
            "showbackground": true,
            "ticks": "",
            "zerolinecolor": "white"
           }
          },
          "shapedefaults": {
           "line": {
            "color": "#2a3f5f"
           }
          },
          "ternary": {
           "aaxis": {
            "gridcolor": "white",
            "linecolor": "white",
            "ticks": ""
           },
           "baxis": {
            "gridcolor": "white",
            "linecolor": "white",
            "ticks": ""
           },
           "bgcolor": "#E5ECF6",
           "caxis": {
            "gridcolor": "white",
            "linecolor": "white",
            "ticks": ""
           }
          },
          "title": {
           "x": 0.05
          },
          "xaxis": {
           "automargin": true,
           "gridcolor": "white",
           "linecolor": "white",
           "ticks": "",
           "title": {
            "standoff": 15
           },
           "zerolinecolor": "white",
           "zerolinewidth": 2
          },
          "yaxis": {
           "automargin": true,
           "gridcolor": "white",
           "linecolor": "white",
           "ticks": "",
           "title": {
            "standoff": 15
           },
           "zerolinecolor": "white",
           "zerolinewidth": 2
          }
         }
        },
        "title": {
         "text": "US News Sentiment by State (2017)"
        },
        "width": 1150
       }
      }
     },
     "metadata": {}
    }
   ],
   "source": [
    "# Create choropleth map of US sentiment scores by states (2017)\n",
    "\n",
    "fig_state_2017 = go.Figure(data=go.Choropleth(\n",
    "    locations=state_2017['US_state_code'],\n",
    "    z=state_2017['article_score'].astype(str),\n",
    "    locationmode='USA-states',\n",
    "    colorscale='RdBu',\n",
    "    autocolorscale=False,\n",
    "    # text=df_state_final['US_state_code'], # hover text\n",
    "    marker_line_color='white', # line markers between states\n",
    "    colorbar_title=\"Sentiment Score\"\n",
    "))\n",
    "\n",
    "fig_state_2017.update_layout(\n",
    "    title_text='US News Sentiment by State (2017)',\n",
    "    width=1150,\n",
    "    height=1150,\n",
    "    margin=dict(l=20, r=20, b=300, t=100, pad=10),\n",
    "    font=dict(size=20),\n",
    "    geo = dict(\n",
    "        scope='usa',\n",
    "        projection=go.layout.geo.Projection(type = 'albers usa'),\n",
    "        showlakes=True, # lakes\n",
    "        lakecolor='rgb(255, 255, 255)'),\n",
    "    annotations = [dict(\n",
    "        x=0.55,\n",
    "        y=0.1,\n",
    "        xref='paper',\n",
    "        yref='paper',\n",
    "        text='Source: <a href=\"https://www.nytimes.com/\"> The New York Times</a>',\n",
    "        showarrow = False\n",
    "    )]\n",
    ")\n",
    "\n",
    "fig_state_2017.show()"
   ]
  },
  {
   "source": [
    "## US States by Week"
   ],
   "cell_type": "markdown",
   "metadata": {}
  },
  {
   "cell_type": "code",
   "execution_count": 21,
   "metadata": {},
   "outputs": [
    {
     "output_type": "execute_result",
     "data": {
      "text/plain": [
       "                   state US_state_code article_score weekday\n",
       "0                Alabama            AL                      \n",
       "1                 Alaska            AK                      \n",
       "2                Arizona            AZ                      \n",
       "3               Arkansas            AR                      \n",
       "4             California            CA                      \n",
       "5               Colorado            CO                      \n",
       "6            Connecticut            CT                      \n",
       "7               Delaware            DE                      \n",
       "8   District of Columbia            DC                      \n",
       "9                Florida            FL                      \n",
       "10               Georgia            GA                      \n",
       "11                Hawaii            HI                      \n",
       "12                 Idaho            ID                      \n",
       "13              Illinois            IL                      \n",
       "14               Indiana            IN                      \n",
       "15                  Iowa            IA                      \n",
       "16                Kansas            KS                      \n",
       "17              Kentucky            KY                      \n",
       "18             Louisiana            LA                      \n",
       "19                 Maine            ME                      \n",
       "20              Maryland            MD                      \n",
       "21         Massachusetts            MA                      \n",
       "22              Michigan            MI                      \n",
       "23             Minnesota            MN                      \n",
       "24           Mississippi            MS                      \n",
       "25              Missouri            MO                      \n",
       "26               Montana            MT                      \n",
       "27              Nebraska            NE                      \n",
       "28                Nevada            NV                      \n",
       "29         New Hampshire            NH                      \n",
       "30            New Jersey            NJ                      \n",
       "31            New Mexico            NM                      \n",
       "32              New York            NY                      \n",
       "33        North Carolina            NC                      \n",
       "34          North Dakota            ND                      \n",
       "35                  Ohio            OH                      \n",
       "36              Oklahoma            OK                      \n",
       "37                Oregon            OR                      \n",
       "38          Pennsylvania            PA                      \n",
       "39          Rhode Island            RI                      \n",
       "40        South Carolina            SC                      \n",
       "41          South Dakota            SD                      \n",
       "42             Tennessee            TN                      \n",
       "43                 Texas            TX                      \n",
       "44                  Utah            UT                      \n",
       "45               Vermont            VT                      \n",
       "46              Virginia            VA                      \n",
       "47            Washington            WA                      \n",
       "48         West Virginia            WV                      \n",
       "49             Wisconsin            WI                      \n",
       "50               Wyoming            WY                      "
      ],
      "text/html": "<div>\n<style scoped>\n    .dataframe tbody tr th:only-of-type {\n        vertical-align: middle;\n    }\n\n    .dataframe tbody tr th {\n        vertical-align: top;\n    }\n\n    .dataframe thead th {\n        text-align: right;\n    }\n</style>\n<table border=\"1\" class=\"dataframe\">\n  <thead>\n    <tr style=\"text-align: right;\">\n      <th></th>\n      <th>state</th>\n      <th>US_state_code</th>\n      <th>article_score</th>\n      <th>weekday</th>\n    </tr>\n  </thead>\n  <tbody>\n    <tr>\n      <th>0</th>\n      <td>Alabama</td>\n      <td>AL</td>\n      <td></td>\n      <td></td>\n    </tr>\n    <tr>\n      <th>1</th>\n      <td>Alaska</td>\n      <td>AK</td>\n      <td></td>\n      <td></td>\n    </tr>\n    <tr>\n      <th>2</th>\n      <td>Arizona</td>\n      <td>AZ</td>\n      <td></td>\n      <td></td>\n    </tr>\n    <tr>\n      <th>3</th>\n      <td>Arkansas</td>\n      <td>AR</td>\n      <td></td>\n      <td></td>\n    </tr>\n    <tr>\n      <th>4</th>\n      <td>California</td>\n      <td>CA</td>\n      <td></td>\n      <td></td>\n    </tr>\n    <tr>\n      <th>5</th>\n      <td>Colorado</td>\n      <td>CO</td>\n      <td></td>\n      <td></td>\n    </tr>\n    <tr>\n      <th>6</th>\n      <td>Connecticut</td>\n      <td>CT</td>\n      <td></td>\n      <td></td>\n    </tr>\n    <tr>\n      <th>7</th>\n      <td>Delaware</td>\n      <td>DE</td>\n      <td></td>\n      <td></td>\n    </tr>\n    <tr>\n      <th>8</th>\n      <td>District of Columbia</td>\n      <td>DC</td>\n      <td></td>\n      <td></td>\n    </tr>\n    <tr>\n      <th>9</th>\n      <td>Florida</td>\n      <td>FL</td>\n      <td></td>\n      <td></td>\n    </tr>\n    <tr>\n      <th>10</th>\n      <td>Georgia</td>\n      <td>GA</td>\n      <td></td>\n      <td></td>\n    </tr>\n    <tr>\n      <th>11</th>\n      <td>Hawaii</td>\n      <td>HI</td>\n      <td></td>\n      <td></td>\n    </tr>\n    <tr>\n      <th>12</th>\n      <td>Idaho</td>\n      <td>ID</td>\n      <td></td>\n      <td></td>\n    </tr>\n    <tr>\n      <th>13</th>\n      <td>Illinois</td>\n      <td>IL</td>\n      <td></td>\n      <td></td>\n    </tr>\n    <tr>\n      <th>14</th>\n      <td>Indiana</td>\n      <td>IN</td>\n      <td></td>\n      <td></td>\n    </tr>\n    <tr>\n      <th>15</th>\n      <td>Iowa</td>\n      <td>IA</td>\n      <td></td>\n      <td></td>\n    </tr>\n    <tr>\n      <th>16</th>\n      <td>Kansas</td>\n      <td>KS</td>\n      <td></td>\n      <td></td>\n    </tr>\n    <tr>\n      <th>17</th>\n      <td>Kentucky</td>\n      <td>KY</td>\n      <td></td>\n      <td></td>\n    </tr>\n    <tr>\n      <th>18</th>\n      <td>Louisiana</td>\n      <td>LA</td>\n      <td></td>\n      <td></td>\n    </tr>\n    <tr>\n      <th>19</th>\n      <td>Maine</td>\n      <td>ME</td>\n      <td></td>\n      <td></td>\n    </tr>\n    <tr>\n      <th>20</th>\n      <td>Maryland</td>\n      <td>MD</td>\n      <td></td>\n      <td></td>\n    </tr>\n    <tr>\n      <th>21</th>\n      <td>Massachusetts</td>\n      <td>MA</td>\n      <td></td>\n      <td></td>\n    </tr>\n    <tr>\n      <th>22</th>\n      <td>Michigan</td>\n      <td>MI</td>\n      <td></td>\n      <td></td>\n    </tr>\n    <tr>\n      <th>23</th>\n      <td>Minnesota</td>\n      <td>MN</td>\n      <td></td>\n      <td></td>\n    </tr>\n    <tr>\n      <th>24</th>\n      <td>Mississippi</td>\n      <td>MS</td>\n      <td></td>\n      <td></td>\n    </tr>\n    <tr>\n      <th>25</th>\n      <td>Missouri</td>\n      <td>MO</td>\n      <td></td>\n      <td></td>\n    </tr>\n    <tr>\n      <th>26</th>\n      <td>Montana</td>\n      <td>MT</td>\n      <td></td>\n      <td></td>\n    </tr>\n    <tr>\n      <th>27</th>\n      <td>Nebraska</td>\n      <td>NE</td>\n      <td></td>\n      <td></td>\n    </tr>\n    <tr>\n      <th>28</th>\n      <td>Nevada</td>\n      <td>NV</td>\n      <td></td>\n      <td></td>\n    </tr>\n    <tr>\n      <th>29</th>\n      <td>New Hampshire</td>\n      <td>NH</td>\n      <td></td>\n      <td></td>\n    </tr>\n    <tr>\n      <th>30</th>\n      <td>New Jersey</td>\n      <td>NJ</td>\n      <td></td>\n      <td></td>\n    </tr>\n    <tr>\n      <th>31</th>\n      <td>New Mexico</td>\n      <td>NM</td>\n      <td></td>\n      <td></td>\n    </tr>\n    <tr>\n      <th>32</th>\n      <td>New York</td>\n      <td>NY</td>\n      <td></td>\n      <td></td>\n    </tr>\n    <tr>\n      <th>33</th>\n      <td>North Carolina</td>\n      <td>NC</td>\n      <td></td>\n      <td></td>\n    </tr>\n    <tr>\n      <th>34</th>\n      <td>North Dakota</td>\n      <td>ND</td>\n      <td></td>\n      <td></td>\n    </tr>\n    <tr>\n      <th>35</th>\n      <td>Ohio</td>\n      <td>OH</td>\n      <td></td>\n      <td></td>\n    </tr>\n    <tr>\n      <th>36</th>\n      <td>Oklahoma</td>\n      <td>OK</td>\n      <td></td>\n      <td></td>\n    </tr>\n    <tr>\n      <th>37</th>\n      <td>Oregon</td>\n      <td>OR</td>\n      <td></td>\n      <td></td>\n    </tr>\n    <tr>\n      <th>38</th>\n      <td>Pennsylvania</td>\n      <td>PA</td>\n      <td></td>\n      <td></td>\n    </tr>\n    <tr>\n      <th>39</th>\n      <td>Rhode Island</td>\n      <td>RI</td>\n      <td></td>\n      <td></td>\n    </tr>\n    <tr>\n      <th>40</th>\n      <td>South Carolina</td>\n      <td>SC</td>\n      <td></td>\n      <td></td>\n    </tr>\n    <tr>\n      <th>41</th>\n      <td>South Dakota</td>\n      <td>SD</td>\n      <td></td>\n      <td></td>\n    </tr>\n    <tr>\n      <th>42</th>\n      <td>Tennessee</td>\n      <td>TN</td>\n      <td></td>\n      <td></td>\n    </tr>\n    <tr>\n      <th>43</th>\n      <td>Texas</td>\n      <td>TX</td>\n      <td></td>\n      <td></td>\n    </tr>\n    <tr>\n      <th>44</th>\n      <td>Utah</td>\n      <td>UT</td>\n      <td></td>\n      <td></td>\n    </tr>\n    <tr>\n      <th>45</th>\n      <td>Vermont</td>\n      <td>VT</td>\n      <td></td>\n      <td></td>\n    </tr>\n    <tr>\n      <th>46</th>\n      <td>Virginia</td>\n      <td>VA</td>\n      <td></td>\n      <td></td>\n    </tr>\n    <tr>\n      <th>47</th>\n      <td>Washington</td>\n      <td>WA</td>\n      <td></td>\n      <td></td>\n    </tr>\n    <tr>\n      <th>48</th>\n      <td>West Virginia</td>\n      <td>WV</td>\n      <td></td>\n      <td></td>\n    </tr>\n    <tr>\n      <th>49</th>\n      <td>Wisconsin</td>\n      <td>WI</td>\n      <td></td>\n      <td></td>\n    </tr>\n    <tr>\n      <th>50</th>\n      <td>Wyoming</td>\n      <td>WY</td>\n      <td></td>\n      <td></td>\n    </tr>\n  </tbody>\n</table>\n</div>"
     },
     "metadata": {},
     "execution_count": 21
    }
   ],
   "source": [
    "# Re-create a dataframe with all US states and codes\n",
    "\n",
    "df_states_weekday = df.drop_duplicates(subset=['state'])\n",
    "df_states_weekday = df_states_weekday[['state', 'US_state_code']]\n",
    "df_states_weekday = df_states_weekday.dropna(subset=['US_state_code'])\n",
    "df_states_weekday = df_states_weekday.sort_values('state').reset_index(drop=True)\n",
    "\n",
    "df_states_weekday['article_score'] = \" \"\n",
    "df_states_weekday['weekday'] = \" \"\n",
    "df_states_weekday = df_states_weekday[['state', 'US_state_code', 'article_score', 'weekday']]\n",
    "df_states_weekday"
   ]
  },
  {
   "cell_type": "code",
   "execution_count": 22,
   "metadata": {},
   "outputs": [
    {
     "output_type": "execute_result",
     "data": {
      "text/plain": [
       "             state US_state_code  article_score    weekday\n",
       "0          Alabama            AL         -0.097     Friday\n",
       "1           Alaska            AK          0.081     Friday\n",
       "2          Arizona            AZ         -0.213     Friday\n",
       "3         Arkansas            AR         -0.044     Friday\n",
       "4       California            CA         -0.015     Friday\n",
       "..             ...           ...            ...        ...\n",
       "347       Virginia            VA         -0.053  Wednesday\n",
       "348     Washington            WA         -0.080  Wednesday\n",
       "349  West Virginia            WV          0.007  Wednesday\n",
       "350      Wisconsin            WI         -0.182  Wednesday\n",
       "351        Wyoming            WY          0.275  Wednesday\n",
       "\n",
       "[352 rows x 4 columns]"
      ],
      "text/html": "<div>\n<style scoped>\n    .dataframe tbody tr th:only-of-type {\n        vertical-align: middle;\n    }\n\n    .dataframe tbody tr th {\n        vertical-align: top;\n    }\n\n    .dataframe thead th {\n        text-align: right;\n    }\n</style>\n<table border=\"1\" class=\"dataframe\">\n  <thead>\n    <tr style=\"text-align: right;\">\n      <th></th>\n      <th>state</th>\n      <th>US_state_code</th>\n      <th>article_score</th>\n      <th>weekday</th>\n    </tr>\n  </thead>\n  <tbody>\n    <tr>\n      <th>0</th>\n      <td>Alabama</td>\n      <td>AL</td>\n      <td>-0.097</td>\n      <td>Friday</td>\n    </tr>\n    <tr>\n      <th>1</th>\n      <td>Alaska</td>\n      <td>AK</td>\n      <td>0.081</td>\n      <td>Friday</td>\n    </tr>\n    <tr>\n      <th>2</th>\n      <td>Arizona</td>\n      <td>AZ</td>\n      <td>-0.213</td>\n      <td>Friday</td>\n    </tr>\n    <tr>\n      <th>3</th>\n      <td>Arkansas</td>\n      <td>AR</td>\n      <td>-0.044</td>\n      <td>Friday</td>\n    </tr>\n    <tr>\n      <th>4</th>\n      <td>California</td>\n      <td>CA</td>\n      <td>-0.015</td>\n      <td>Friday</td>\n    </tr>\n    <tr>\n      <th>...</th>\n      <td>...</td>\n      <td>...</td>\n      <td>...</td>\n      <td>...</td>\n    </tr>\n    <tr>\n      <th>347</th>\n      <td>Virginia</td>\n      <td>VA</td>\n      <td>-0.053</td>\n      <td>Wednesday</td>\n    </tr>\n    <tr>\n      <th>348</th>\n      <td>Washington</td>\n      <td>WA</td>\n      <td>-0.080</td>\n      <td>Wednesday</td>\n    </tr>\n    <tr>\n      <th>349</th>\n      <td>West Virginia</td>\n      <td>WV</td>\n      <td>0.007</td>\n      <td>Wednesday</td>\n    </tr>\n    <tr>\n      <th>350</th>\n      <td>Wisconsin</td>\n      <td>WI</td>\n      <td>-0.182</td>\n      <td>Wednesday</td>\n    </tr>\n    <tr>\n      <th>351</th>\n      <td>Wyoming</td>\n      <td>WY</td>\n      <td>0.275</td>\n      <td>Wednesday</td>\n    </tr>\n  </tbody>\n</table>\n<p>352 rows × 4 columns</p>\n</div>"
     },
     "metadata": {},
     "execution_count": 22
    }
   ],
   "source": [
    "# Get mean scores by state by day of the week\n",
    "\n",
    "df_st_weekday = df[['state', 'US_state_code', 'article_score', 'weekday']]\n",
    "group_by_weekday = df_st_weekday.groupby(['weekday', 'state', 'US_state_code'], as_index=False)['article_score'].mean()\n",
    "df_st_weekday = pd.DataFrame({'state':group_by_weekday.state, 'US_state_code':group_by_weekday.US_state_code, 'article_score':group_by_weekday.article_score, 'weekday':group_by_weekday.weekday})\n",
    "\n",
    "for i in range(len(df_st_weekday)):\n",
    "    df_st_weekday['article_score'][i] = \"{:.3f}\".format(df_st_weekday['article_score'][i])\n",
    "df_st_weekday"
   ]
  },
  {
   "cell_type": "code",
   "execution_count": 23,
   "metadata": {},
   "outputs": [
    {
     "output_type": "execute_result",
     "data": {
      "text/plain": [
       "             state US_state_code article_score weekday\n",
       "0          Alabama            AL         0.031  Monday\n",
       "1           Alaska            AK         0.184  Monday\n",
       "2          Arizona            AZ         0.042  Monday\n",
       "3         Arkansas            AR        -0.075  Monday\n",
       "4       California            CA         0.031  Monday\n",
       "..             ...           ...           ...     ...\n",
       "352       Virginia            VA        -0.286  Sunday\n",
       "353     Washington            WA         -0.16  Sunday\n",
       "354  West Virginia            WV            -0  Sunday\n",
       "355      Wisconsin            WI        -0.309  Sunday\n",
       "356        Wyoming            WY         0.112  Sunday\n",
       "\n",
       "[357 rows x 4 columns]"
      ],
      "text/html": "<div>\n<style scoped>\n    .dataframe tbody tr th:only-of-type {\n        vertical-align: middle;\n    }\n\n    .dataframe tbody tr th {\n        vertical-align: top;\n    }\n\n    .dataframe thead th {\n        text-align: right;\n    }\n</style>\n<table border=\"1\" class=\"dataframe\">\n  <thead>\n    <tr style=\"text-align: right;\">\n      <th></th>\n      <th>state</th>\n      <th>US_state_code</th>\n      <th>article_score</th>\n      <th>weekday</th>\n    </tr>\n  </thead>\n  <tbody>\n    <tr>\n      <th>0</th>\n      <td>Alabama</td>\n      <td>AL</td>\n      <td>0.031</td>\n      <td>Monday</td>\n    </tr>\n    <tr>\n      <th>1</th>\n      <td>Alaska</td>\n      <td>AK</td>\n      <td>0.184</td>\n      <td>Monday</td>\n    </tr>\n    <tr>\n      <th>2</th>\n      <td>Arizona</td>\n      <td>AZ</td>\n      <td>0.042</td>\n      <td>Monday</td>\n    </tr>\n    <tr>\n      <th>3</th>\n      <td>Arkansas</td>\n      <td>AR</td>\n      <td>-0.075</td>\n      <td>Monday</td>\n    </tr>\n    <tr>\n      <th>4</th>\n      <td>California</td>\n      <td>CA</td>\n      <td>0.031</td>\n      <td>Monday</td>\n    </tr>\n    <tr>\n      <th>...</th>\n      <td>...</td>\n      <td>...</td>\n      <td>...</td>\n      <td>...</td>\n    </tr>\n    <tr>\n      <th>352</th>\n      <td>Virginia</td>\n      <td>VA</td>\n      <td>-0.286</td>\n      <td>Sunday</td>\n    </tr>\n    <tr>\n      <th>353</th>\n      <td>Washington</td>\n      <td>WA</td>\n      <td>-0.16</td>\n      <td>Sunday</td>\n    </tr>\n    <tr>\n      <th>354</th>\n      <td>West Virginia</td>\n      <td>WV</td>\n      <td>-0</td>\n      <td>Sunday</td>\n    </tr>\n    <tr>\n      <th>355</th>\n      <td>Wisconsin</td>\n      <td>WI</td>\n      <td>-0.309</td>\n      <td>Sunday</td>\n    </tr>\n    <tr>\n      <th>356</th>\n      <td>Wyoming</td>\n      <td>WY</td>\n      <td>0.112</td>\n      <td>Sunday</td>\n    </tr>\n  </tbody>\n</table>\n<p>357 rows × 4 columns</p>\n</div>"
     },
     "metadata": {},
     "execution_count": 23
    }
   ],
   "source": [
    "# Create state dataframes for each weekday and combine to get a single master dataset\n",
    "\n",
    "# Extract and concat data for Monday\n",
    "df_state_mon = df_states_weekday\n",
    "for i in range(len(df_state_mon)):\n",
    "    df_state_mon['weekday'][i]  = \"Monday\"\n",
    "    for j in range(len(df_st_weekday)):\n",
    "        if df_st_weekday['weekday'][j] == \"Monday\":\n",
    "            if df_state_mon['state'][i] == df_st_weekday['state'][j]:     \n",
    "                df_state_mon['article_score'][i] = df_st_weekday['article_score'][j]\n",
    "            else:\n",
    "                continue\n",
    "        else:     \n",
    "            continue\n",
    "    if df_state_mon['article_score'][i] == \" \":\n",
    "        df_state_mon['article_score'][i] = np.nan\n",
    "\n",
    "df_state_weekday = pd.DataFrame()\n",
    "df_state_weekday = pd.concat([df_state_weekday, df_state_mon], ignore_index=True)\n",
    "\n",
    "\n",
    "# Extract and concat data for Tuesday\n",
    "df_state_tues = df_states_weekday\n",
    "for i in range(len(df_state_tues)):\n",
    "    df_state_tues['weekday'][i]  = \"Tuesday\"\n",
    "    for j in range(len(df_st_weekday)):\n",
    "        if df_st_weekday['weekday'][j] == \"Tuesday\":\n",
    "            if df_state_tues['state'][i] == df_st_weekday['state'][j]:     \n",
    "                df_state_tues['article_score'][i] = df_st_weekday['article_score'][j]\n",
    "            else:\n",
    "                continue\n",
    "        else:     \n",
    "            continue\n",
    "    if df_state_tues['article_score'][i] == \" \":\n",
    "        df_state_tues['article_score'][i] = np.nan\n",
    "\n",
    "df_state_weekday = pd.concat([df_state_weekday, df_state_tues], ignore_index=True)\n",
    "\n",
    "\n",
    "# Extract and concat data for Wednesday\n",
    "df_state_wed = df_states_weekday\n",
    "for i in range(len(df_state_wed)):\n",
    "    df_state_wed['weekday'][i]  = \"Wednesday\"\n",
    "    for j in range(len(df_st_weekday)):\n",
    "        if df_st_weekday['weekday'][j] == \"Wednesday\":\n",
    "            if df_state_wed['state'][i] == df_st_weekday['state'][j]:     \n",
    "                df_state_wed['article_score'][i] = df_st_weekday['article_score'][j]\n",
    "            else:\n",
    "                continue\n",
    "        else:     \n",
    "            continue\n",
    "    if df_state_wed['article_score'][i] == \" \":\n",
    "        df_state_wed['article_score'][i] = np.nan\n",
    "\n",
    "df_state_weekday = pd.concat([df_state_weekday, df_state_wed], ignore_index=True)\n",
    "\n",
    "\n",
    "# Extract and concat data for Thursday\n",
    "df_state_thur = df_states_weekday\n",
    "for i in range(len(df_state_thur)):\n",
    "    df_state_thur['weekday'][i]  = \"Thursday\"\n",
    "    for j in range(len(df_st_weekday)):\n",
    "        if df_st_weekday['weekday'][j] == \"Thursday\":\n",
    "            if df_state_thur['state'][i] == df_st_weekday['state'][j]:     \n",
    "                df_state_thur['article_score'][i] = df_st_weekday['article_score'][j]\n",
    "            else:\n",
    "                continue\n",
    "        else:     \n",
    "            continue\n",
    "    if df_state_thur['article_score'][i] == \" \":\n",
    "        df_state_thur['article_score'][i] = np.nan\n",
    "\n",
    "df_state_weekday = pd.concat([df_state_weekday, df_state_thur], ignore_index=True)\n",
    "\n",
    "\n",
    "# Extract and concat data for Friday\n",
    "df_state_fri = df_states_weekday\n",
    "for i in range(len(df_state_fri)):\n",
    "    df_state_fri['weekday'][i]  = \"Friday\"\n",
    "    for j in range(len(df_st_weekday)):\n",
    "        if df_st_weekday['weekday'][j] == \"Friday\":\n",
    "            if df_state_fri['state'][i] == df_st_weekday['state'][j]:     \n",
    "                df_state_fri['article_score'][i] = df_st_weekday['article_score'][j]\n",
    "            else:\n",
    "                continue\n",
    "        else:     \n",
    "            continue\n",
    "    if df_state_fri['article_score'][i] == \" \":\n",
    "        df_state_fri['article_score'][i] = np.nan\n",
    "\n",
    "df_state_weekday = pd.concat([df_state_weekday, df_state_fri], ignore_index=True)\n",
    "\n",
    "\n",
    "# Extract and concat data for Saturday\n",
    "df_state_sat = df_states_weekday\n",
    "for i in range(len(df_state_sat)):\n",
    "    df_state_sat['weekday'][i]  = \"Saturday\"\n",
    "    for j in range(len(df_st_weekday)):\n",
    "        if df_st_weekday['weekday'][j] == \"Saturday\":\n",
    "            if df_state_sat['state'][i] == df_st_weekday['state'][j]:     \n",
    "                df_state_sat['article_score'][i] = df_st_weekday['article_score'][j]\n",
    "            else:\n",
    "                continue\n",
    "        else:     \n",
    "            continue\n",
    "    if df_state_sat['article_score'][i] == \" \":\n",
    "        df_state_sat['article_score'][i] = np.nan\n",
    "\n",
    "df_state_weekday = pd.concat([df_state_weekday, df_state_sat], ignore_index=True)\n",
    "\n",
    "\n",
    "# Extract and concat data for Sunday\n",
    "df_state_sun = df_states_weekday\n",
    "for i in range(len(df_state_sun)):\n",
    "    df_state_sun['weekday'][i]  = \"Sunday\"\n",
    "    for j in range(len(df_st_weekday)):\n",
    "        if df_st_weekday['weekday'][j] == \"Sunday\":\n",
    "            if df_state_sun['state'][i] == df_st_weekday['state'][j]:     \n",
    "                df_state_sun['article_score'][i] = df_st_weekday['article_score'][j]\n",
    "            else:\n",
    "                continue\n",
    "        else:     \n",
    "            continue\n",
    "    if df_state_sun['article_score'][i] == \" \":\n",
    "        df_state_sun['article_score'][i] = np.nan\n",
    "\n",
    "df_state_weekday = pd.concat([df_state_weekday, df_state_sun], ignore_index=True)\n",
    "\n",
    "\n",
    "df_state_weekday"
   ]
  },
  {
   "source": [
    "## States - final data by weekday"
   ],
   "cell_type": "markdown",
   "metadata": {}
  },
  {
   "cell_type": "code",
   "execution_count": 31,
   "metadata": {},
   "outputs": [],
   "source": [
    "state_monday = df_state_weekday.loc[df_state_weekday['weekday'] == \"Monday\"]\n",
    "state_tuesday = df_state_weekday.loc[df_state_weekday['weekday'] == \"Tuesday\"]\n",
    "state_wednesday = df_state_weekday.loc[df_state_weekday['weekday'] == \"Wednesday\"]\n",
    "state_thursday = df_state_weekday.loc[df_state_weekday['weekday'] == \"Thursday\"]\n",
    "state_friday = df_state_weekday.loc[df_state_weekday['weekday'] == \"Friday\"]\n",
    "state_saturday = df_state_weekday.loc[df_state_weekday['weekday'] == \"Saturday\"]\n",
    "state_sunday = df_state_weekday.loc[df_state_weekday['weekday'] == \"Sunday\"]"
   ]
  },
  {
   "source": [
    "## State Animations"
   ],
   "cell_type": "markdown",
   "metadata": {}
  },
  {
   "cell_type": "code",
   "execution_count": 16,
   "metadata": {},
   "outputs": [
    {
     "output_type": "display_data",
     "data": {
      "application/vnd.plotly.v1+json": {
       "config": {
        "plotlyServerURL": "https://plot.ly"
       },
       "data": [
        {
         "colorscale": [
          [
           0,
           "#636efa"
          ],
          [
           1,
           "#636efa"
          ]
         ],
         "geo": "geo",
         "hovertemplate": "<b>%{hovertext}</b><br><br>article_score=-0.268<br>year=2015<br>country_ISO_code=%{location}<extra></extra>",
         "hovertext": [
          "Afghanistan"
         ],
         "locations": [
          "AFG"
         ],
         "name": "-0.268",
         "showlegend": true,
         "showscale": false,
         "type": "choropleth",
         "z": [
          1
         ]
        },
        {
         "colorscale": [
          [
           0,
           "#EF553B"
          ],
          [
           1,
           "#EF553B"
          ]
         ],
         "geo": "geo",
         "hovertemplate": "<b>%{hovertext}</b><br><br>article_score=-0.101<br>year=2015<br>country_ISO_code=%{location}<extra></extra>",
         "hovertext": [
          "Andorra"
         ],
         "locations": [
          "AND"
         ],
         "name": "-0.101",
         "showlegend": true,
         "showscale": false,
         "type": "choropleth",
         "z": [
          1
         ]
        },
        {
         "colorscale": [
          [
           0,
           "#00cc96"
          ],
          [
           1,
           "#00cc96"
          ]
         ],
         "geo": "geo",
         "hovertemplate": "<b>%{hovertext}</b><br><br>article_score=0.286<br>year=2015<br>country_ISO_code=%{location}<extra></extra>",
         "hovertext": [
          "Antarctica"
         ],
         "locations": [
          "ATA"
         ],
         "name": "0.286",
         "showlegend": true,
         "showscale": false,
         "type": "choropleth",
         "z": [
          1
         ]
        },
        {
         "colorscale": [
          [
           0,
           "#ab63fa"
          ],
          [
           1,
           "#ab63fa"
          ]
         ],
         "geo": "geo",
         "hovertemplate": "<b>%{hovertext}</b><br><br>article_score=0.181<br>year=2015<br>country_ISO_code=%{location}<extra></extra>",
         "hovertext": [
          "Argentina"
         ],
         "locations": [
          "ARG"
         ],
         "name": "0.181",
         "showlegend": true,
         "showscale": false,
         "type": "choropleth",
         "z": [
          1
         ]
        },
        {
         "colorscale": [
          [
           0,
           "#FFA15A"
          ],
          [
           1,
           "#FFA15A"
          ]
         ],
         "geo": "geo",
         "hovertemplate": "<b>%{hovertext}</b><br><br>article_score=-0.052<br>year=2015<br>country_ISO_code=%{location}<extra></extra>",
         "hovertext": [
          "Australia"
         ],
         "locations": [
          "AUS"
         ],
         "name": "-0.052",
         "showlegend": true,
         "showscale": false,
         "type": "choropleth",
         "z": [
          1
         ]
        },
        {
         "colorscale": [
          [
           0,
           "#19d3f3"
          ],
          [
           1,
           "#19d3f3"
          ]
         ],
         "geo": "geo",
         "hovertemplate": "<b>%{hovertext}</b><br><br>article_score=0.27<br>year=2015<br>country_ISO_code=%{location}<extra></extra>",
         "hovertext": [
          "Austria"
         ],
         "locations": [
          "AUT"
         ],
         "name": "0.27",
         "showlegend": true,
         "showscale": false,
         "type": "choropleth",
         "z": [
          1
         ]
        },
        {
         "colorscale": [
          [
           0,
           "#FF6692"
          ],
          [
           1,
           "#FF6692"
          ]
         ],
         "geo": "geo",
         "hovertemplate": "<b>%{hovertext}</b><br><br>article_score=0.599<br>year=2015<br>country_ISO_code=%{location}<extra></extra>",
         "hovertext": [
          "Azerbaijan"
         ],
         "locations": [
          "AZE"
         ],
         "name": "0.599",
         "showlegend": true,
         "showscale": false,
         "type": "choropleth",
         "z": [
          1
         ]
        },
        {
         "colorscale": [
          [
           0,
           "#B6E880"
          ],
          [
           1,
           "#B6E880"
          ]
         ],
         "geo": "geo",
         "hovertemplate": "<b>%{hovertext}</b><br><br>article_score=-0.421<br>year=2015<br>country_ISO_code=%{location}<extra></extra>",
         "hovertext": [
          "Bangladesh"
         ],
         "locations": [
          "BGD"
         ],
         "name": "-0.421",
         "showlegend": true,
         "showscale": false,
         "type": "choropleth",
         "z": [
          1
         ]
        },
        {
         "colorscale": [
          [
           0,
           "#FF97FF"
          ],
          [
           1,
           "#FF97FF"
          ]
         ],
         "geo": "geo",
         "hovertemplate": "<b>%{hovertext}</b><br><br>article_score=0.0<br>year=2015<br>country_ISO_code=%{location}<extra></extra>",
         "hovertext": [
          "Belarus",
          "Croatia",
          "Slovakia"
         ],
         "locations": [
          "BLR",
          "HRV",
          "SVK"
         ],
         "name": "0.0",
         "showlegend": true,
         "showscale": false,
         "type": "choropleth",
         "z": [
          1,
          1,
          1
         ]
        },
        {
         "colorscale": [
          [
           0,
           "#FECB52"
          ],
          [
           1,
           "#FECB52"
          ]
         ],
         "geo": "geo",
         "hovertemplate": "<b>%{hovertext}</b><br><br>article_score=-0.02<br>year=2015<br>country_ISO_code=%{location}<extra></extra>",
         "hovertext": [
          "Belgium"
         ],
         "locations": [
          "BEL"
         ],
         "name": "-0.02",
         "showlegend": true,
         "showscale": false,
         "type": "choropleth",
         "z": [
          1
         ]
        },
        {
         "colorscale": [
          [
           0,
           "#636efa"
          ],
          [
           1,
           "#636efa"
          ]
         ],
         "geo": "geo",
         "hovertemplate": "<b>%{hovertext}</b><br><br>article_score=0.254<br>year=2015<br>country_ISO_code=%{location}<extra></extra>",
         "hovertext": [
          "Bermuda"
         ],
         "locations": [
          "BMU"
         ],
         "name": "0.254",
         "showlegend": true,
         "showscale": false,
         "type": "choropleth",
         "z": [
          1
         ]
        },
        {
         "colorscale": [
          [
           0,
           "#EF553B"
          ],
          [
           1,
           "#EF553B"
          ]
         ],
         "geo": "geo",
         "hovertemplate": "<b>%{hovertext}</b><br><br>article_score=0.402<br>year=2015<br>country_ISO_code=%{location}<extra></extra>",
         "hovertext": [
          "Bolivia",
          "Czechia"
         ],
         "locations": [
          "BOL",
          "CZE"
         ],
         "name": "0.402",
         "showlegend": true,
         "showscale": false,
         "type": "choropleth",
         "z": [
          1,
          1
         ]
        },
        {
         "colorscale": [
          [
           0,
           "#00cc96"
          ],
          [
           1,
           "#00cc96"
          ]
         ],
         "geo": "geo",
         "hovertemplate": "<b>%{hovertext}</b><br><br>article_score=-0.49<br>year=2015<br>country_ISO_code=%{location}<extra></extra>",
         "hovertext": [
          "Botswana"
         ],
         "locations": [
          "BWA"
         ],
         "name": "-0.49",
         "showlegend": true,
         "showscale": false,
         "type": "choropleth",
         "z": [
          1
         ]
        },
        {
         "colorscale": [
          [
           0,
           "#ab63fa"
          ],
          [
           1,
           "#ab63fa"
          ]
         ],
         "geo": "geo",
         "hovertemplate": "<b>%{hovertext}</b><br><br>article_score=0.019<br>year=2015<br>country_ISO_code=%{location}<extra></extra>",
         "hovertext": [
          "Brazil"
         ],
         "locations": [
          "BRA"
         ],
         "name": "0.019",
         "showlegend": true,
         "showscale": false,
         "type": "choropleth",
         "z": [
          1
         ]
        },
        {
         "colorscale": [
          [
           0,
           "#FFA15A"
          ],
          [
           1,
           "#FFA15A"
          ]
         ],
         "geo": "geo",
         "hovertemplate": "<b>%{hovertext}</b><br><br>article_score=-0.226<br>year=2015<br>country_ISO_code=%{location}<extra></extra>",
         "hovertext": [
          "British Virgin Islands"
         ],
         "locations": [
          "VGB"
         ],
         "name": "-0.226",
         "showlegend": true,
         "showscale": false,
         "type": "choropleth",
         "z": [
          1
         ]
        },
        {
         "colorscale": [
          [
           0,
           "#19d3f3"
          ],
          [
           1,
           "#19d3f3"
          ]
         ],
         "geo": "geo",
         "hovertemplate": "<b>%{hovertext}</b><br><br>article_score=0.012<br>year=2015<br>country_ISO_code=%{location}<extra></extra>",
         "hovertext": [
          "Cambodia"
         ],
         "locations": [
          "KHM"
         ],
         "name": "0.012",
         "showlegend": true,
         "showscale": false,
         "type": "choropleth",
         "z": [
          1
         ]
        },
        {
         "colorscale": [
          [
           0,
           "#FF6692"
          ],
          [
           1,
           "#FF6692"
          ]
         ],
         "geo": "geo",
         "hovertemplate": "<b>%{hovertext}</b><br><br>article_score=0.073<br>year=2015<br>country_ISO_code=%{location}<extra></extra>",
         "hovertext": [
          "Canada"
         ],
         "locations": [
          "CAN"
         ],
         "name": "0.073",
         "showlegend": true,
         "showscale": false,
         "type": "choropleth",
         "z": [
          1
         ]
        },
        {
         "colorscale": [
          [
           0,
           "#B6E880"
          ],
          [
           1,
           "#B6E880"
          ]
         ],
         "geo": "geo",
         "hovertemplate": "<b>%{hovertext}</b><br><br>article_score=0.018<br>year=2015<br>country_ISO_code=%{location}<extra></extra>",
         "hovertext": [
          "Chile",
          "Kazakhstan",
          "United Kingdom"
         ],
         "locations": [
          "CHL",
          "KAZ",
          "GBR"
         ],
         "name": "0.018",
         "showlegend": true,
         "showscale": false,
         "type": "choropleth",
         "z": [
          1,
          1,
          1
         ]
        },
        {
         "colorscale": [
          [
           0,
           "#FF97FF"
          ],
          [
           1,
           "#FF97FF"
          ]
         ],
         "geo": "geo",
         "hovertemplate": "<b>%{hovertext}</b><br><br>article_score=0.099<br>year=2015<br>country_ISO_code=%{location}<extra></extra>",
         "hovertext": [
          "China"
         ],
         "locations": [
          "CHN"
         ],
         "name": "0.099",
         "showlegend": true,
         "showscale": false,
         "type": "choropleth",
         "z": [
          1
         ]
        },
        {
         "colorscale": [
          [
           0,
           "#FECB52"
          ],
          [
           1,
           "#FECB52"
          ]
         ],
         "geo": "geo",
         "hovertemplate": "<b>%{hovertext}</b><br><br>article_score=-0.445<br>year=2015<br>country_ISO_code=%{location}<extra></extra>",
         "hovertext": [
          "Colombia"
         ],
         "locations": [
          "COL"
         ],
         "name": "-0.445",
         "showlegend": true,
         "showscale": false,
         "type": "choropleth",
         "z": [
          1
         ]
        },
        {
         "colorscale": [
          [
           0,
           "#636efa"
          ],
          [
           1,
           "#636efa"
          ]
         ],
         "geo": "geo",
         "hovertemplate": "<b>%{hovertext}</b><br><br>article_score=-0.131<br>year=2015<br>country_ISO_code=%{location}<extra></extra>",
         "hovertext": [
          "Cuba"
         ],
         "locations": [
          "CUB"
         ],
         "name": "-0.131",
         "showlegend": true,
         "showscale": false,
         "type": "choropleth",
         "z": [
          1
         ]
        },
        {
         "colorscale": [
          [
           0,
           "#EF553B"
          ],
          [
           1,
           "#EF553B"
          ]
         ],
         "geo": "geo",
         "hovertemplate": "<b>%{hovertext}</b><br><br>article_score=-0.236<br>year=2015<br>country_ISO_code=%{location}<extra></extra>",
         "hovertext": [
          "Cyprus"
         ],
         "locations": [
          "CYP"
         ],
         "name": "-0.236",
         "showlegend": true,
         "showscale": false,
         "type": "choropleth",
         "z": [
          1
         ]
        },
        {
         "colorscale": [
          [
           0,
           "#00cc96"
          ],
          [
           1,
           "#00cc96"
          ]
         ],
         "geo": "geo",
         "hovertemplate": "<b>%{hovertext}</b><br><br>article_score=0.178<br>year=2015<br>country_ISO_code=%{location}<extra></extra>",
         "hovertext": [
          "Côte d'Ivoire"
         ],
         "locations": [
          "CIV"
         ],
         "name": "0.178",
         "showlegend": true,
         "showscale": false,
         "type": "choropleth",
         "z": [
          1
         ]
        },
        {
         "colorscale": [
          [
           0,
           "#ab63fa"
          ],
          [
           1,
           "#ab63fa"
          ]
         ],
         "geo": "geo",
         "hovertemplate": "<b>%{hovertext}</b><br><br>article_score=0.061<br>year=2015<br>country_ISO_code=%{location}<extra></extra>",
         "hovertext": [
          "Denmark"
         ],
         "locations": [
          "DNK"
         ],
         "name": "0.061",
         "showlegend": true,
         "showscale": false,
         "type": "choropleth",
         "z": [
          1
         ]
        },
        {
         "colorscale": [
          [
           0,
           "#FFA15A"
          ],
          [
           1,
           "#FFA15A"
          ]
         ],
         "geo": "geo",
         "hovertemplate": "<b>%{hovertext}</b><br><br>article_score=-0.27<br>year=2015<br>country_ISO_code=%{location}<extra></extra>",
         "hovertext": [
          "Ecuador"
         ],
         "locations": [
          "ECU"
         ],
         "name": "-0.27",
         "showlegend": true,
         "showscale": false,
         "type": "choropleth",
         "z": [
          1
         ]
        },
        {
         "colorscale": [
          [
           0,
           "#19d3f3"
          ],
          [
           1,
           "#19d3f3"
          ]
         ],
         "geo": "geo",
         "hovertemplate": "<b>%{hovertext}</b><br><br>article_score=-0.031<br>year=2015<br>country_ISO_code=%{location}<extra></extra>",
         "hovertext": [
          "Egypt"
         ],
         "locations": [
          "EGY"
         ],
         "name": "-0.031",
         "showlegend": true,
         "showscale": false,
         "type": "choropleth",
         "z": [
          1
         ]
        },
        {
         "colorscale": [
          [
           0,
           "#FF6692"
          ],
          [
           1,
           "#FF6692"
          ]
         ],
         "geo": "geo",
         "hovertemplate": "<b>%{hovertext}</b><br><br>article_score=-0.452<br>year=2015<br>country_ISO_code=%{location}<extra></extra>",
         "hovertext": [
          "El Salvador"
         ],
         "locations": [
          "SLV"
         ],
         "name": "-0.452",
         "showlegend": true,
         "showscale": false,
         "type": "choropleth",
         "z": [
          1
         ]
        },
        {
         "colorscale": [
          [
           0,
           "#B6E880"
          ],
          [
           1,
           "#B6E880"
          ]
         ],
         "geo": "geo",
         "hovertemplate": "<b>%{hovertext}</b><br><br>article_score=0.229<br>year=2015<br>country_ISO_code=%{location}<extra></extra>",
         "hovertext": [
          "Ethiopia"
         ],
         "locations": [
          "ETH"
         ],
         "name": "0.229",
         "showlegend": true,
         "showscale": false,
         "type": "choropleth",
         "z": [
          1
         ]
        },
        {
         "colorscale": [
          [
           0,
           "#FF97FF"
          ],
          [
           1,
           "#FF97FF"
          ]
         ],
         "geo": "geo",
         "hovertemplate": "<b>%{hovertext}</b><br><br>article_score=0.075<br>year=2015<br>country_ISO_code=%{location}<extra></extra>",
         "hovertext": [
          "Finland"
         ],
         "locations": [
          "FIN"
         ],
         "name": "0.075",
         "showlegend": true,
         "showscale": false,
         "type": "choropleth",
         "z": [
          1
         ]
        },
        {
         "colorscale": [
          [
           0,
           "#FECB52"
          ],
          [
           1,
           "#FECB52"
          ]
         ],
         "geo": "geo",
         "hovertemplate": "<b>%{hovertext}</b><br><br>article_score=-0.01<br>year=2015<br>country_ISO_code=%{location}<extra></extra>",
         "hovertext": [
          "France"
         ],
         "locations": [
          "FRA"
         ],
         "name": "-0.01",
         "showlegend": true,
         "showscale": false,
         "type": "choropleth",
         "z": [
          1
         ]
        },
        {
         "colorscale": [
          [
           0,
           "#636efa"
          ],
          [
           1,
           "#636efa"
          ]
         ],
         "geo": "geo",
         "hovertemplate": "<b>%{hovertext}</b><br><br>article_score=-0.053<br>year=2015<br>country_ISO_code=%{location}<extra></extra>",
         "hovertext": [
          "Germany"
         ],
         "locations": [
          "DEU"
         ],
         "name": "-0.053",
         "showlegend": true,
         "showscale": false,
         "type": "choropleth",
         "z": [
          1
         ]
        },
        {
         "colorscale": [
          [
           0,
           "#EF553B"
          ],
          [
           1,
           "#EF553B"
          ]
         ],
         "geo": "geo",
         "hovertemplate": "<b>%{hovertext}</b><br><br>article_score=-0.7<br>year=2015<br>country_ISO_code=%{location}<extra></extra>",
         "hovertext": [
          "Ghana"
         ],
         "locations": [
          "GHA"
         ],
         "name": "-0.7",
         "showlegend": true,
         "showscale": false,
         "type": "choropleth",
         "z": [
          1
         ]
        },
        {
         "colorscale": [
          [
           0,
           "#00cc96"
          ],
          [
           1,
           "#00cc96"
          ]
         ],
         "geo": "geo",
         "hovertemplate": "<b>%{hovertext}</b><br><br>article_score=0.421<br>year=2015<br>country_ISO_code=%{location}<extra></extra>",
         "hovertext": [
          "Gibraltar"
         ],
         "locations": [
          "GIB"
         ],
         "name": "0.421",
         "showlegend": true,
         "showscale": false,
         "type": "choropleth",
         "z": [
          1
         ]
        },
        {
         "colorscale": [
          [
           0,
           "#ab63fa"
          ],
          [
           1,
           "#ab63fa"
          ]
         ],
         "geo": "geo",
         "hovertemplate": "<b>%{hovertext}</b><br><br>article_score=-0.145<br>year=2015<br>country_ISO_code=%{location}<extra></extra>",
         "hovertext": [
          "Greece"
         ],
         "locations": [
          "GRC"
         ],
         "name": "-0.145",
         "showlegend": true,
         "showscale": false,
         "type": "choropleth",
         "z": [
          1
         ]
        },
        {
         "colorscale": [
          [
           0,
           "#FFA15A"
          ],
          [
           1,
           "#FFA15A"
          ]
         ],
         "geo": "geo",
         "hovertemplate": "<b>%{hovertext}</b><br><br>article_score=0.153<br>year=2015<br>country_ISO_code=%{location}<extra></extra>",
         "hovertext": [
          "Greenland"
         ],
         "locations": [
          "GRL"
         ],
         "name": "0.153",
         "showlegend": true,
         "showscale": false,
         "type": "choropleth",
         "z": [
          1
         ]
        },
        {
         "colorscale": [
          [
           0,
           "#19d3f3"
          ],
          [
           1,
           "#19d3f3"
          ]
         ],
         "geo": "geo",
         "hovertemplate": "<b>%{hovertext}</b><br><br>article_score=-0.137<br>year=2015<br>country_ISO_code=%{location}<extra></extra>",
         "hovertext": [
          "Guinea"
         ],
         "locations": [
          "GIN"
         ],
         "name": "-0.137",
         "showlegend": true,
         "showscale": false,
         "type": "choropleth",
         "z": [
          1
         ]
        },
        {
         "colorscale": [
          [
           0,
           "#FF6692"
          ],
          [
           1,
           "#FF6692"
          ]
         ],
         "geo": "geo",
         "hovertemplate": "<b>%{hovertext}</b><br><br>article_score=-0.527<br>year=2015<br>country_ISO_code=%{location}<extra></extra>",
         "hovertext": [
          "Guyana"
         ],
         "locations": [
          "GUY"
         ],
         "name": "-0.527",
         "showlegend": true,
         "showscale": false,
         "type": "choropleth",
         "z": [
          1
         ]
        },
        {
         "colorscale": [
          [
           0,
           "#B6E880"
          ],
          [
           1,
           "#B6E880"
          ]
         ],
         "geo": "geo",
         "hovertemplate": "<b>%{hovertext}</b><br><br>article_score=0.725<br>year=2015<br>country_ISO_code=%{location}<extra></extra>",
         "hovertext": [
          "Haiti"
         ],
         "locations": [
          "HTI"
         ],
         "name": "0.725",
         "showlegend": true,
         "showscale": false,
         "type": "choropleth",
         "z": [
          1
         ]
        },
        {
         "colorscale": [
          [
           0,
           "#FF97FF"
          ],
          [
           1,
           "#FF97FF"
          ]
         ],
         "geo": "geo",
         "hovertemplate": "<b>%{hovertext}</b><br><br>article_score=-0.599<br>year=2015<br>country_ISO_code=%{location}<extra></extra>",
         "hovertext": [
          "Heard Island and McDonald Islands"
         ],
         "locations": [
          "HMD"
         ],
         "name": "-0.599",
         "showlegend": true,
         "showscale": false,
         "type": "choropleth",
         "z": [
          1
         ]
        },
        {
         "colorscale": [
          [
           0,
           "#FECB52"
          ],
          [
           1,
           "#FECB52"
          ]
         ],
         "geo": "geo",
         "hovertemplate": "<b>%{hovertext}</b><br><br>article_score=-0.026<br>year=2015<br>country_ISO_code=%{location}<extra></extra>",
         "hovertext": [
          "Honduras",
          "Rwanda"
         ],
         "locations": [
          "HND",
          "RWA"
         ],
         "name": "-0.026",
         "showlegend": true,
         "showscale": false,
         "type": "choropleth",
         "z": [
          1,
          1
         ]
        },
        {
         "colorscale": [
          [
           0,
           "#636efa"
          ],
          [
           1,
           "#636efa"
          ]
         ],
         "geo": "geo",
         "hovertemplate": "<b>%{hovertext}</b><br><br>article_score=0.143<br>year=2015<br>country_ISO_code=%{location}<extra></extra>",
         "hovertext": [
          "Hong Kong"
         ],
         "locations": [
          "HKG"
         ],
         "name": "0.143",
         "showlegend": true,
         "showscale": false,
         "type": "choropleth",
         "z": [
          1
         ]
        },
        {
         "colorscale": [
          [
           0,
           "#EF553B"
          ],
          [
           1,
           "#EF553B"
          ]
         ],
         "geo": "geo",
         "hovertemplate": "<b>%{hovertext}</b><br><br>article_score=-0.134<br>year=2015<br>country_ISO_code=%{location}<extra></extra>",
         "hovertext": [
          "Iceland"
         ],
         "locations": [
          "ISL"
         ],
         "name": "-0.134",
         "showlegend": true,
         "showscale": false,
         "type": "choropleth",
         "z": [
          1
         ]
        },
        {
         "colorscale": [
          [
           0,
           "#00cc96"
          ],
          [
           1,
           "#00cc96"
          ]
         ],
         "geo": "geo",
         "hovertemplate": "<b>%{hovertext}</b><br><br>article_score=0.105<br>year=2015<br>country_ISO_code=%{location}<extra></extra>",
         "hovertext": [
          "India"
         ],
         "locations": [
          "IND"
         ],
         "name": "0.105",
         "showlegend": true,
         "showscale": false,
         "type": "choropleth",
         "z": [
          1
         ]
        },
        {
         "colorscale": [
          [
           0,
           "#ab63fa"
          ],
          [
           1,
           "#ab63fa"
          ]
         ],
         "geo": "geo",
         "hovertemplate": "<b>%{hovertext}</b><br><br>article_score=0.101<br>year=2015<br>country_ISO_code=%{location}<extra></extra>",
         "hovertext": [
          "Indonesia"
         ],
         "locations": [
          "IDN"
         ],
         "name": "0.101",
         "showlegend": true,
         "showscale": false,
         "type": "choropleth",
         "z": [
          1
         ]
        },
        {
         "colorscale": [
          [
           0,
           "#FFA15A"
          ],
          [
           1,
           "#FFA15A"
          ]
         ],
         "geo": "geo",
         "hovertemplate": "<b>%{hovertext}</b><br><br>article_score=0.062<br>year=2015<br>country_ISO_code=%{location}<extra></extra>",
         "hovertext": [
          "Iran"
         ],
         "locations": [
          "IRN"
         ],
         "name": "0.062",
         "showlegend": true,
         "showscale": false,
         "type": "choropleth",
         "z": [
          1
         ]
        },
        {
         "colorscale": [
          [
           0,
           "#19d3f3"
          ],
          [
           1,
           "#19d3f3"
          ]
         ],
         "geo": "geo",
         "hovertemplate": "<b>%{hovertext}</b><br><br>article_score=-0.292<br>year=2015<br>country_ISO_code=%{location}<extra></extra>",
         "hovertext": [
          "Iraq"
         ],
         "locations": [
          "IRQ"
         ],
         "name": "-0.292",
         "showlegend": true,
         "showscale": false,
         "type": "choropleth",
         "z": [
          1
         ]
        },
        {
         "colorscale": [
          [
           0,
           "#FF6692"
          ],
          [
           1,
           "#FF6692"
          ]
         ],
         "geo": "geo",
         "hovertemplate": "<b>%{hovertext}</b><br><br>article_score=0.046<br>year=2015<br>country_ISO_code=%{location}<extra></extra>",
         "hovertext": [
          "Ireland"
         ],
         "locations": [
          "IRL"
         ],
         "name": "0.046",
         "showlegend": true,
         "showscale": false,
         "type": "choropleth",
         "z": [
          1
         ]
        },
        {
         "colorscale": [
          [
           0,
           "#B6E880"
          ],
          [
           1,
           "#B6E880"
          ]
         ],
         "geo": "geo",
         "hovertemplate": "<b>%{hovertext}</b><br><br>article_score=0.606<br>year=2015<br>country_ISO_code=%{location}<extra></extra>",
         "hovertext": [
          "Isle of Man"
         ],
         "locations": [
          "IMN"
         ],
         "name": "0.606",
         "showlegend": true,
         "showscale": false,
         "type": "choropleth",
         "z": [
          1
         ]
        },
        {
         "colorscale": [
          [
           0,
           "#FF97FF"
          ],
          [
           1,
           "#FF97FF"
          ]
         ],
         "geo": "geo",
         "hovertemplate": "<b>%{hovertext}</b><br><br>article_score=0.096<br>year=2015<br>country_ISO_code=%{location}<extra></extra>",
         "hovertext": [
          "Israel"
         ],
         "locations": [
          "ISR"
         ],
         "name": "0.096",
         "showlegend": true,
         "showscale": false,
         "type": "choropleth",
         "z": [
          1
         ]
        },
        {
         "colorscale": [
          [
           0,
           "#FECB52"
          ],
          [
           1,
           "#FECB52"
          ]
         ],
         "geo": "geo",
         "hovertemplate": "<b>%{hovertext}</b><br><br>article_score=0.127<br>year=2015<br>country_ISO_code=%{location}<extra></extra>",
         "hovertext": [
          "Italy"
         ],
         "locations": [
          "ITA"
         ],
         "name": "0.127",
         "showlegend": true,
         "showscale": false,
         "type": "choropleth",
         "z": [
          1
         ]
        },
        {
         "colorscale": [
          [
           0,
           "#636efa"
          ],
          [
           1,
           "#636efa"
          ]
         ],
         "geo": "geo",
         "hovertemplate": "<b>%{hovertext}</b><br><br>article_score=0.067<br>year=2015<br>country_ISO_code=%{location}<extra></extra>",
         "hovertext": [
          "Japan"
         ],
         "locations": [
          "JPN"
         ],
         "name": "0.067",
         "showlegend": true,
         "showscale": false,
         "type": "choropleth",
         "z": [
          1
         ]
        },
        {
         "colorscale": [
          [
           0,
           "#EF553B"
          ],
          [
           1,
           "#EF553B"
          ]
         ],
         "geo": "geo",
         "hovertemplate": "<b>%{hovertext}</b><br><br>article_score=-0.087<br>year=2015<br>country_ISO_code=%{location}<extra></extra>",
         "hovertext": [
          "Kenya"
         ],
         "locations": [
          "KEN"
         ],
         "name": "-0.087",
         "showlegend": true,
         "showscale": false,
         "type": "choropleth",
         "z": [
          1
         ]
        },
        {
         "colorscale": [
          [
           0,
           "#00cc96"
          ],
          [
           1,
           "#00cc96"
          ]
         ],
         "geo": "geo",
         "hovertemplate": "<b>%{hovertext}</b><br><br>article_score=-0.477<br>year=2015<br>country_ISO_code=%{location}<extra></extra>",
         "hovertext": [
          "Latvia"
         ],
         "locations": [
          "LVA"
         ],
         "name": "-0.477",
         "showlegend": true,
         "showscale": false,
         "type": "choropleth",
         "z": [
          1
         ]
        },
        {
         "colorscale": [
          [
           0,
           "#ab63fa"
          ],
          [
           1,
           "#ab63fa"
          ]
         ],
         "geo": "geo",
         "hovertemplate": "<b>%{hovertext}</b><br><br>article_score=-0.019<br>year=2015<br>country_ISO_code=%{location}<extra></extra>",
         "hovertext": [
          "Lebanon"
         ],
         "locations": [
          "LBN"
         ],
         "name": "-0.019",
         "showlegend": true,
         "showscale": false,
         "type": "choropleth",
         "z": [
          1
         ]
        },
        {
         "colorscale": [
          [
           0,
           "#FFA15A"
          ],
          [
           1,
           "#FFA15A"
          ]
         ],
         "geo": "geo",
         "hovertemplate": "<b>%{hovertext}</b><br><br>article_score=0.222<br>year=2015<br>country_ISO_code=%{location}<extra></extra>",
         "hovertext": [
          "Liberia"
         ],
         "locations": [
          "LBR"
         ],
         "name": "0.222",
         "showlegend": true,
         "showscale": false,
         "type": "choropleth",
         "z": [
          1
         ]
        },
        {
         "colorscale": [
          [
           0,
           "#19d3f3"
          ],
          [
           1,
           "#19d3f3"
          ]
         ],
         "geo": "geo",
         "hovertemplate": "<b>%{hovertext}</b><br><br>article_score=-0.299<br>year=2015<br>country_ISO_code=%{location}<extra></extra>",
         "hovertext": [
          "Libya"
         ],
         "locations": [
          "LBY"
         ],
         "name": "-0.299",
         "showlegend": true,
         "showscale": false,
         "type": "choropleth",
         "z": [
          1
         ]
        },
        {
         "colorscale": [
          [
           0,
           "#FF6692"
          ],
          [
           1,
           "#FF6692"
          ]
         ],
         "geo": "geo",
         "hovertemplate": "<b>%{hovertext}</b><br><br>article_score=0.494<br>year=2015<br>country_ISO_code=%{location}<extra></extra>",
         "hovertext": [
          "Lithuania"
         ],
         "locations": [
          "LTU"
         ],
         "name": "0.494",
         "showlegend": true,
         "showscale": false,
         "type": "choropleth",
         "z": [
          1
         ]
        },
        {
         "colorscale": [
          [
           0,
           "#B6E880"
          ],
          [
           1,
           "#B6E880"
          ]
         ],
         "geo": "geo",
         "hovertemplate": "<b>%{hovertext}</b><br><br>article_score=0.013<br>year=2015<br>country_ISO_code=%{location}<extra></extra>",
         "hovertext": [
          "Luxembourg",
          "Poland",
          "Sweden"
         ],
         "locations": [
          "LUX",
          "POL",
          "SWE"
         ],
         "name": "0.013",
         "showlegend": true,
         "showscale": false,
         "type": "choropleth",
         "z": [
          1,
          1,
          1
         ]
        },
        {
         "colorscale": [
          [
           0,
           "#FF97FF"
          ],
          [
           1,
           "#FF97FF"
          ]
         ],
         "geo": "geo",
         "hovertemplate": "<b>%{hovertext}</b><br><br>article_score=0.44<br>year=2015<br>country_ISO_code=%{location}<extra></extra>",
         "hovertext": [
          "Macao",
          "Vatican City"
         ],
         "locations": [
          "MAC",
          "VAT"
         ],
         "name": "0.44",
         "showlegend": true,
         "showscale": false,
         "type": "choropleth",
         "z": [
          1,
          1
         ]
        },
        {
         "colorscale": [
          [
           0,
           "#FECB52"
          ],
          [
           1,
           "#FECB52"
          ]
         ],
         "geo": "geo",
         "hovertemplate": "<b>%{hovertext}</b><br><br>article_score=-0.404<br>year=2015<br>country_ISO_code=%{location}<extra></extra>",
         "hovertext": [
          "Malaysia"
         ],
         "locations": [
          "MYS"
         ],
         "name": "-0.404",
         "showlegend": true,
         "showscale": false,
         "type": "choropleth",
         "z": [
          1
         ]
        },
        {
         "colorscale": [
          [
           0,
           "#636efa"
          ],
          [
           1,
           "#636efa"
          ]
         ],
         "geo": "geo",
         "hovertemplate": "<b>%{hovertext}</b><br><br>article_score=0.361<br>year=2015<br>country_ISO_code=%{location}<extra></extra>",
         "hovertext": [
          "Marshall Islands",
          "Venezuela"
         ],
         "locations": [
          "MHL",
          "VEN"
         ],
         "name": "0.361",
         "showlegend": true,
         "showscale": false,
         "type": "choropleth",
         "z": [
          1,
          1
         ]
        },
        {
         "colorscale": [
          [
           0,
           "#EF553B"
          ],
          [
           1,
           "#EF553B"
          ]
         ],
         "geo": "geo",
         "hovertemplate": "<b>%{hovertext}</b><br><br>article_score=-0.007<br>year=2015<br>country_ISO_code=%{location}<extra></extra>",
         "hovertext": [
          "Mexico"
         ],
         "locations": [
          "MEX"
         ],
         "name": "-0.007",
         "showlegend": true,
         "showscale": false,
         "type": "choropleth",
         "z": [
          1
         ]
        },
        {
         "colorscale": [
          [
           0,
           "#00cc96"
          ],
          [
           1,
           "#00cc96"
          ]
         ],
         "geo": "geo",
         "hovertemplate": "<b>%{hovertext}</b><br><br>article_score=-0.623<br>year=2015<br>country_ISO_code=%{location}<extra></extra>",
         "hovertext": [
          "Morocco"
         ],
         "locations": [
          "MAR"
         ],
         "name": "-0.623",
         "showlegend": true,
         "showscale": false,
         "type": "choropleth",
         "z": [
          1
         ]
        },
        {
         "colorscale": [
          [
           0,
           "#ab63fa"
          ],
          [
           1,
           "#ab63fa"
          ]
         ],
         "geo": "geo",
         "hovertemplate": "<b>%{hovertext}</b><br><br>article_score=0.159<br>year=2015<br>country_ISO_code=%{location}<extra></extra>",
         "hovertext": [
          "Nepal"
         ],
         "locations": [
          "NPL"
         ],
         "name": "0.159",
         "showlegend": true,
         "showscale": false,
         "type": "choropleth",
         "z": [
          1
         ]
        },
        {
         "colorscale": [
          [
           0,
           "#FFA15A"
          ],
          [
           1,
           "#FFA15A"
          ]
         ],
         "geo": "geo",
         "hovertemplate": "<b>%{hovertext}</b><br><br>article_score=0.166<br>year=2015<br>country_ISO_code=%{location}<extra></extra>",
         "hovertext": [
          "Netherlands"
         ],
         "locations": [
          "NLD"
         ],
         "name": "0.166",
         "showlegend": true,
         "showscale": false,
         "type": "choropleth",
         "z": [
          1
         ]
        },
        {
         "colorscale": [
          [
           0,
           "#19d3f3"
          ],
          [
           1,
           "#19d3f3"
          ]
         ],
         "geo": "geo",
         "hovertemplate": "<b>%{hovertext}</b><br><br>article_score=-0.036<br>year=2015<br>country_ISO_code=%{location}<extra></extra>",
         "hovertext": [
          "New Zealand"
         ],
         "locations": [
          "NZL"
         ],
         "name": "-0.036",
         "showlegend": true,
         "showscale": false,
         "type": "choropleth",
         "z": [
          1
         ]
        },
        {
         "colorscale": [
          [
           0,
           "#FF6692"
          ],
          [
           1,
           "#FF6692"
          ]
         ],
         "geo": "geo",
         "hovertemplate": "<b>%{hovertext}</b><br><br>article_score=-0.273<br>year=2015<br>country_ISO_code=%{location}<extra></extra>",
         "hovertext": [
          "Nicaragua"
         ],
         "locations": [
          "NIC"
         ],
         "name": "-0.273",
         "showlegend": true,
         "showscale": false,
         "type": "choropleth",
         "z": [
          1
         ]
        },
        {
         "colorscale": [
          [
           0,
           "#B6E880"
          ],
          [
           1,
           "#B6E880"
          ]
         ],
         "geo": "geo",
         "hovertemplate": "<b>%{hovertext}</b><br><br>article_score=0.35<br>year=2015<br>country_ISO_code=%{location}<extra></extra>",
         "hovertext": [
          "Nigeria"
         ],
         "locations": [
          "NGA"
         ],
         "name": "0.35",
         "showlegend": true,
         "showscale": false,
         "type": "choropleth",
         "z": [
          1
         ]
        },
        {
         "colorscale": [
          [
           0,
           "#FF97FF"
          ],
          [
           1,
           "#FF97FF"
          ]
         ],
         "geo": "geo",
         "hovertemplate": "<b>%{hovertext}</b><br><br>article_score=0.625<br>year=2015<br>country_ISO_code=%{location}<extra></extra>",
         "hovertext": [
          "North Macedonia"
         ],
         "locations": [
          "MKD"
         ],
         "name": "0.625",
         "showlegend": true,
         "showscale": false,
         "type": "choropleth",
         "z": [
          1
         ]
        },
        {
         "colorscale": [
          [
           0,
           "#FECB52"
          ],
          [
           1,
           "#FECB52"
          ]
         ],
         "geo": "geo",
         "hovertemplate": "<b>%{hovertext}</b><br><br>article_score=-0.042<br>year=2015<br>country_ISO_code=%{location}<extra></extra>",
         "hovertext": [
          "Norway"
         ],
         "locations": [
          "NOR"
         ],
         "name": "-0.042",
         "showlegend": true,
         "showscale": false,
         "type": "choropleth",
         "z": [
          1
         ]
        },
        {
         "colorscale": [
          [
           0,
           "#636efa"
          ],
          [
           1,
           "#636efa"
          ]
         ],
         "geo": "geo",
         "hovertemplate": "<b>%{hovertext}</b><br><br>article_score=-0.189<br>year=2015<br>country_ISO_code=%{location}<extra></extra>",
         "hovertext": [
          "Pakistan"
         ],
         "locations": [
          "PAK"
         ],
         "name": "-0.189",
         "showlegend": true,
         "showscale": false,
         "type": "choropleth",
         "z": [
          1
         ]
        },
        {
         "colorscale": [
          [
           0,
           "#EF553B"
          ],
          [
           1,
           "#EF553B"
          ]
         ],
         "geo": "geo",
         "hovertemplate": "<b>%{hovertext}</b><br><br>article_score=0.09<br>year=2015<br>country_ISO_code=%{location}<extra></extra>",
         "hovertext": [
          "Panama"
         ],
         "locations": [
          "PAN"
         ],
         "name": "0.09",
         "showlegend": true,
         "showscale": false,
         "type": "choropleth",
         "z": [
          1
         ]
        },
        {
         "colorscale": [
          [
           0,
           "#00cc96"
          ],
          [
           1,
           "#00cc96"
          ]
         ],
         "geo": "geo",
         "hovertemplate": "<b>%{hovertext}</b><br><br>article_score=-0.52<br>year=2015<br>country_ISO_code=%{location}<extra></extra>",
         "hovertext": [
          "Papua New Guinea"
         ],
         "locations": [
          "PNG"
         ],
         "name": "-0.52",
         "showlegend": true,
         "showscale": false,
         "type": "choropleth",
         "z": [
          1
         ]
        },
        {
         "colorscale": [
          [
           0,
           "#ab63fa"
          ],
          [
           1,
           "#ab63fa"
          ]
         ],
         "geo": "geo",
         "hovertemplate": "<b>%{hovertext}</b><br><br>article_score=-0.03<br>year=2015<br>country_ISO_code=%{location}<extra></extra>",
         "hovertext": [
          "Philippines"
         ],
         "locations": [
          "PHL"
         ],
         "name": "-0.03",
         "showlegend": true,
         "showscale": false,
         "type": "choropleth",
         "z": [
          1
         ]
        },
        {
         "colorscale": [
          [
           0,
           "#FFA15A"
          ],
          [
           1,
           "#FFA15A"
          ]
         ],
         "geo": "geo",
         "hovertemplate": "<b>%{hovertext}</b><br><br>article_score=0.008<br>year=2015<br>country_ISO_code=%{location}<extra></extra>",
         "hovertext": [
          "Portugal"
         ],
         "locations": [
          "PRT"
         ],
         "name": "0.008",
         "showlegend": true,
         "showscale": false,
         "type": "choropleth",
         "z": [
          1
         ]
        },
        {
         "colorscale": [
          [
           0,
           "#19d3f3"
          ],
          [
           1,
           "#19d3f3"
          ]
         ],
         "geo": "geo",
         "hovertemplate": "<b>%{hovertext}</b><br><br>article_score=-0.121<br>year=2015<br>country_ISO_code=%{location}<extra></extra>",
         "hovertext": [
          "Puerto Rico"
         ],
         "locations": [
          "PRI"
         ],
         "name": "-0.121",
         "showlegend": true,
         "showscale": false,
         "type": "choropleth",
         "z": [
          1
         ]
        },
        {
         "colorscale": [
          [
           0,
           "#FF6692"
          ],
          [
           1,
           "#FF6692"
          ]
         ],
         "geo": "geo",
         "hovertemplate": "<b>%{hovertext}</b><br><br>article_score=0.007<br>year=2015<br>country_ISO_code=%{location}<extra></extra>",
         "hovertext": [
          "Qatar"
         ],
         "locations": [
          "QAT"
         ],
         "name": "0.007",
         "showlegend": true,
         "showscale": false,
         "type": "choropleth",
         "z": [
          1
         ]
        },
        {
         "colorscale": [
          [
           0,
           "#B6E880"
          ],
          [
           1,
           "#B6E880"
          ]
         ],
         "geo": "geo",
         "hovertemplate": "<b>%{hovertext}</b><br><br>article_score=0.051<br>year=2015<br>country_ISO_code=%{location}<extra></extra>",
         "hovertext": [
          "Russia"
         ],
         "locations": [
          "RUS"
         ],
         "name": "0.051",
         "showlegend": true,
         "showscale": false,
         "type": "choropleth",
         "z": [
          1
         ]
        },
        {
         "colorscale": [
          [
           0,
           "#FF97FF"
          ],
          [
           1,
           "#FF97FF"
          ]
         ],
         "geo": "geo",
         "hovertemplate": "<b>%{hovertext}</b><br><br>article_score=-0.027<br>year=2015<br>country_ISO_code=%{location}<extra></extra>",
         "hovertext": [
          "Saudi Arabia"
         ],
         "locations": [
          "SAU"
         ],
         "name": "-0.027",
         "showlegend": true,
         "showscale": false,
         "type": "choropleth",
         "z": [
          1
         ]
        },
        {
         "colorscale": [
          [
           0,
           "#FECB52"
          ],
          [
           1,
           "#FECB52"
          ]
         ],
         "geo": "geo",
         "hovertemplate": "<b>%{hovertext}</b><br><br>article_score=0.84<br>year=2015<br>country_ISO_code=%{location}<extra></extra>",
         "hovertext": [
          "Sierra Leone"
         ],
         "locations": [
          "SLE"
         ],
         "name": "0.84",
         "showlegend": true,
         "showscale": false,
         "type": "choropleth",
         "z": [
          1
         ]
        },
        {
         "colorscale": [
          [
           0,
           "#636efa"
          ],
          [
           1,
           "#636efa"
          ]
         ],
         "geo": "geo",
         "hovertemplate": "<b>%{hovertext}</b><br><br>article_score=0.239<br>year=2015<br>country_ISO_code=%{location}<extra></extra>",
         "hovertext": [
          "Singapore"
         ],
         "locations": [
          "SGP"
         ],
         "name": "0.239",
         "showlegend": true,
         "showscale": false,
         "type": "choropleth",
         "z": [
          1
         ]
        },
        {
         "colorscale": [
          [
           0,
           "#EF553B"
          ],
          [
           1,
           "#EF553B"
          ]
         ],
         "geo": "geo",
         "hovertemplate": "<b>%{hovertext}</b><br><br>article_score=0.144<br>year=2015<br>country_ISO_code=%{location}<extra></extra>",
         "hovertext": [
          "Somalia"
         ],
         "locations": [
          "SOM"
         ],
         "name": "0.144",
         "showlegend": true,
         "showscale": false,
         "type": "choropleth",
         "z": [
          1
         ]
        },
        {
         "colorscale": [
          [
           0,
           "#00cc96"
          ],
          [
           1,
           "#00cc96"
          ]
         ],
         "geo": "geo",
         "hovertemplate": "<b>%{hovertext}</b><br><br>article_score=-0.05<br>year=2015<br>country_ISO_code=%{location}<extra></extra>",
         "hovertext": [
          "South Africa"
         ],
         "locations": [
          "ZAF"
         ],
         "name": "-0.05",
         "showlegend": true,
         "showscale": false,
         "type": "choropleth",
         "z": [
          1
         ]
        },
        {
         "colorscale": [
          [
           0,
           "#ab63fa"
          ],
          [
           1,
           "#ab63fa"
          ]
         ],
         "geo": "geo",
         "hovertemplate": "<b>%{hovertext}</b><br><br>article_score=-0.612<br>year=2015<br>country_ISO_code=%{location}<extra></extra>",
         "hovertext": [
          "South Sudan"
         ],
         "locations": [
          "SSD"
         ],
         "name": "-0.612",
         "showlegend": true,
         "showscale": false,
         "type": "choropleth",
         "z": [
          1
         ]
        },
        {
         "colorscale": [
          [
           0,
           "#FFA15A"
          ],
          [
           1,
           "#FFA15A"
          ]
         ],
         "geo": "geo",
         "hovertemplate": "<b>%{hovertext}</b><br><br>article_score=0.054<br>year=2015<br>country_ISO_code=%{location}<extra></extra>",
         "hovertext": [
          "Spain"
         ],
         "locations": [
          "ESP"
         ],
         "name": "0.054",
         "showlegend": true,
         "showscale": false,
         "type": "choropleth",
         "z": [
          1
         ]
        },
        {
         "colorscale": [
          [
           0,
           "#19d3f3"
          ],
          [
           1,
           "#19d3f3"
          ]
         ],
         "geo": "geo",
         "hovertemplate": "<b>%{hovertext}</b><br><br>article_score=-0.165<br>year=2015<br>country_ISO_code=%{location}<extra></extra>",
         "hovertext": [
          "Sudan"
         ],
         "locations": [
          "SDN"
         ],
         "name": "-0.165",
         "showlegend": true,
         "showscale": false,
         "type": "choropleth",
         "z": [
          1
         ]
        },
        {
         "colorscale": [
          [
           0,
           "#FF6692"
          ],
          [
           1,
           "#FF6692"
          ]
         ],
         "geo": "geo",
         "hovertemplate": "<b>%{hovertext}</b><br><br>article_score=0.202<br>year=2015<br>country_ISO_code=%{location}<extra></extra>",
         "hovertext": [
          "Switzerland"
         ],
         "locations": [
          "CHE"
         ],
         "name": "0.202",
         "showlegend": true,
         "showscale": false,
         "type": "choropleth",
         "z": [
          1
         ]
        },
        {
         "colorscale": [
          [
           0,
           "#B6E880"
          ],
          [
           1,
           "#B6E880"
          ]
         ],
         "geo": "geo",
         "hovertemplate": "<b>%{hovertext}</b><br><br>article_score=-0.14<br>year=2015<br>country_ISO_code=%{location}<extra></extra>",
         "hovertext": [
          "Syria"
         ],
         "locations": [
          "SYR"
         ],
         "name": "-0.14",
         "showlegend": true,
         "showscale": false,
         "type": "choropleth",
         "z": [
          1
         ]
        },
        {
         "colorscale": [
          [
           0,
           "#FF97FF"
          ],
          [
           1,
           "#FF97FF"
          ]
         ],
         "geo": "geo",
         "hovertemplate": "<b>%{hovertext}</b><br><br>article_score=-0.148<br>year=2015<br>country_ISO_code=%{location}<extra></extra>",
         "hovertext": [
          "Taiwan"
         ],
         "locations": [
          "TWN"
         ],
         "name": "-0.148",
         "showlegend": true,
         "showscale": false,
         "type": "choropleth",
         "z": [
          1
         ]
        },
        {
         "colorscale": [
          [
           0,
           "#FECB52"
          ],
          [
           1,
           "#FECB52"
          ]
         ],
         "geo": "geo",
         "hovertemplate": "<b>%{hovertext}</b><br><br>article_score=-0.572<br>year=2015<br>country_ISO_code=%{location}<extra></extra>",
         "hovertext": [
          "Tajikistan"
         ],
         "locations": [
          "TJK"
         ],
         "name": "-0.572",
         "showlegend": true,
         "showscale": false,
         "type": "choropleth",
         "z": [
          1
         ]
        },
        {
         "colorscale": [
          [
           0,
           "#636efa"
          ],
          [
           1,
           "#636efa"
          ]
         ],
         "geo": "geo",
         "hovertemplate": "<b>%{hovertext}</b><br><br>article_score=-0.839<br>year=2015<br>country_ISO_code=%{location}<extra></extra>",
         "hovertext": [
          "Thailand"
         ],
         "locations": [
          "THA"
         ],
         "name": "-0.839",
         "showlegend": true,
         "showscale": false,
         "type": "choropleth",
         "z": [
          1
         ]
        },
        {
         "colorscale": [
          [
           0,
           "#EF553B"
          ],
          [
           1,
           "#EF553B"
          ]
         ],
         "geo": "geo",
         "hovertemplate": "<b>%{hovertext}</b><br><br>article_score=0.189<br>year=2015<br>country_ISO_code=%{location}<extra></extra>",
         "hovertext": [
          "The Bahamas"
         ],
         "locations": [
          "BHS"
         ],
         "name": "0.189",
         "showlegend": true,
         "showscale": false,
         "type": "choropleth",
         "z": [
          1
         ]
        },
        {
         "colorscale": [
          [
           0,
           "#00cc96"
          ],
          [
           1,
           "#00cc96"
          ]
         ],
         "geo": "geo",
         "hovertemplate": "<b>%{hovertext}</b><br><br>article_score=-0.117<br>year=2015<br>country_ISO_code=%{location}<extra></extra>",
         "hovertext": [
          "Turkey"
         ],
         "locations": [
          "TUR"
         ],
         "name": "-0.117",
         "showlegend": true,
         "showscale": false,
         "type": "choropleth",
         "z": [
          1
         ]
        },
        {
         "colorscale": [
          [
           0,
           "#ab63fa"
          ],
          [
           1,
           "#ab63fa"
          ]
         ],
         "geo": "geo",
         "hovertemplate": "<b>%{hovertext}</b><br><br>article_score=-0.243<br>year=2015<br>country_ISO_code=%{location}<extra></extra>",
         "hovertext": [
          "Uganda"
         ],
         "locations": [
          "UGA"
         ],
         "name": "-0.243",
         "showlegend": true,
         "showscale": false,
         "type": "choropleth",
         "z": [
          1
         ]
        },
        {
         "colorscale": [
          [
           0,
           "#FFA15A"
          ],
          [
           1,
           "#FFA15A"
          ]
         ],
         "geo": "geo",
         "hovertemplate": "<b>%{hovertext}</b><br><br>article_score=-0.201<br>year=2015<br>country_ISO_code=%{location}<extra></extra>",
         "hovertext": [
          "Ukraine"
         ],
         "locations": [
          "UKR"
         ],
         "name": "-0.201",
         "showlegend": true,
         "showscale": false,
         "type": "choropleth",
         "z": [
          1
         ]
        },
        {
         "colorscale": [
          [
           0,
           "#19d3f3"
          ],
          [
           1,
           "#19d3f3"
          ]
         ],
         "geo": "geo",
         "hovertemplate": "<b>%{hovertext}</b><br><br>article_score=-0.018<br>year=2015<br>country_ISO_code=%{location}<extra></extra>",
         "hovertext": [
          "United Arab Emirates"
         ],
         "locations": [
          "ARE"
         ],
         "name": "-0.018",
         "showlegend": true,
         "showscale": false,
         "type": "choropleth",
         "z": [
          1
         ]
        },
        {
         "colorscale": [
          [
           0,
           "#FF6692"
          ],
          [
           1,
           "#FF6692"
          ]
         ],
         "geo": "geo",
         "hovertemplate": "<b>%{hovertext}</b><br><br>article_score=-0.082<br>year=2015<br>country_ISO_code=%{location}<extra></extra>",
         "hovertext": [
          "United States"
         ],
         "locations": [
          "USA"
         ],
         "name": "-0.082",
         "showlegend": true,
         "showscale": false,
         "type": "choropleth",
         "z": [
          1
         ]
        },
        {
         "colorscale": [
          [
           0,
           "#B6E880"
          ],
          [
           1,
           "#B6E880"
          ]
         ],
         "geo": "geo",
         "hovertemplate": "<b>%{hovertext}</b><br><br>article_score=0.138<br>year=2015<br>country_ISO_code=%{location}<extra></extra>",
         "hovertext": [
          "Uruguay"
         ],
         "locations": [
          "URY"
         ],
         "name": "0.138",
         "showlegend": true,
         "showscale": false,
         "type": "choropleth",
         "z": [
          1
         ]
        },
        {
         "colorscale": [
          [
           0,
           "#FF97FF"
          ],
          [
           1,
           "#FF97FF"
          ]
         ],
         "geo": "geo",
         "hovertemplate": "<b>%{hovertext}</b><br><br>article_score=-0.807<br>year=2015<br>country_ISO_code=%{location}<extra></extra>",
         "hovertext": [
          "Uzbekistan"
         ],
         "locations": [
          "UZB"
         ],
         "name": "-0.807",
         "showlegend": true,
         "showscale": false,
         "type": "choropleth",
         "z": [
          1
         ]
        },
        {
         "colorscale": [
          [
           0,
           "#FECB52"
          ],
          [
           1,
           "#FECB52"
          ]
         ],
         "geo": "geo",
         "hovertemplate": "<b>%{hovertext}</b><br><br>article_score=0.358<br>year=2015<br>country_ISO_code=%{location}<extra></extra>",
         "hovertext": [
          "Vietnam"
         ],
         "locations": [
          "VNM"
         ],
         "name": "0.358",
         "showlegend": true,
         "showscale": false,
         "type": "choropleth",
         "z": [
          1
         ]
        },
        {
         "colorscale": [
          [
           0,
           "#636efa"
          ],
          [
           1,
           "#636efa"
          ]
         ],
         "geo": "geo",
         "hovertemplate": "<b>%{hovertext}</b><br><br>article_score=-0.665<br>year=2015<br>country_ISO_code=%{location}<extra></extra>",
         "hovertext": [
          "Yemen"
         ],
         "locations": [
          "YEM"
         ],
         "name": "-0.665",
         "showlegend": true,
         "showscale": false,
         "type": "choropleth",
         "z": [
          1
         ]
        },
        {
         "colorscale": [
          [
           0,
           "#EF553B"
          ],
          [
           1,
           "#EF553B"
          ]
         ],
         "geo": "geo",
         "hovertemplate": "<b>%{hovertext}</b><br><br>article_score=-0.622<br>year=2015<br>country_ISO_code=%{location}<extra></extra>",
         "hovertext": [
          "Zimbabwe"
         ],
         "locations": [
          "ZWE"
         ],
         "name": "-0.622",
         "showlegend": true,
         "showscale": false,
         "type": "choropleth",
         "z": [
          1
         ]
        }
       ],
       "frames": [
        {
         "data": [
          {
           "colorscale": [
            [
             0,
             "#636efa"
            ],
            [
             1,
             "#636efa"
            ]
           ],
           "geo": "geo",
           "hovertemplate": "<b>%{hovertext}</b><br><br>article_score=-0.268<br>year=2015<br>country_ISO_code=%{location}<extra></extra>",
           "hovertext": [
            "Afghanistan"
           ],
           "locations": [
            "AFG"
           ],
           "name": "-0.268",
           "showlegend": true,
           "showscale": false,
           "type": "choropleth",
           "z": [
            1
           ]
          },
          {
           "colorscale": [
            [
             0,
             "#EF553B"
            ],
            [
             1,
             "#EF553B"
            ]
           ],
           "geo": "geo",
           "hovertemplate": "<b>%{hovertext}</b><br><br>article_score=-0.101<br>year=2015<br>country_ISO_code=%{location}<extra></extra>",
           "hovertext": [
            "Andorra"
           ],
           "locations": [
            "AND"
           ],
           "name": "-0.101",
           "showlegend": true,
           "showscale": false,
           "type": "choropleth",
           "z": [
            1
           ]
          },
          {
           "colorscale": [
            [
             0,
             "#00cc96"
            ],
            [
             1,
             "#00cc96"
            ]
           ],
           "geo": "geo",
           "hovertemplate": "<b>%{hovertext}</b><br><br>article_score=0.286<br>year=2015<br>country_ISO_code=%{location}<extra></extra>",
           "hovertext": [
            "Antarctica"
           ],
           "locations": [
            "ATA"
           ],
           "name": "0.286",
           "showlegend": true,
           "showscale": false,
           "type": "choropleth",
           "z": [
            1
           ]
          },
          {
           "colorscale": [
            [
             0,
             "#ab63fa"
            ],
            [
             1,
             "#ab63fa"
            ]
           ],
           "geo": "geo",
           "hovertemplate": "<b>%{hovertext}</b><br><br>article_score=0.181<br>year=2015<br>country_ISO_code=%{location}<extra></extra>",
           "hovertext": [
            "Argentina"
           ],
           "locations": [
            "ARG"
           ],
           "name": "0.181",
           "showlegend": true,
           "showscale": false,
           "type": "choropleth",
           "z": [
            1
           ]
          },
          {
           "colorscale": [
            [
             0,
             "#FFA15A"
            ],
            [
             1,
             "#FFA15A"
            ]
           ],
           "geo": "geo",
           "hovertemplate": "<b>%{hovertext}</b><br><br>article_score=-0.052<br>year=2015<br>country_ISO_code=%{location}<extra></extra>",
           "hovertext": [
            "Australia"
           ],
           "locations": [
            "AUS"
           ],
           "name": "-0.052",
           "showlegend": true,
           "showscale": false,
           "type": "choropleth",
           "z": [
            1
           ]
          },
          {
           "colorscale": [
            [
             0,
             "#19d3f3"
            ],
            [
             1,
             "#19d3f3"
            ]
           ],
           "geo": "geo",
           "hovertemplate": "<b>%{hovertext}</b><br><br>article_score=0.27<br>year=2015<br>country_ISO_code=%{location}<extra></extra>",
           "hovertext": [
            "Austria"
           ],
           "locations": [
            "AUT"
           ],
           "name": "0.27",
           "showlegend": true,
           "showscale": false,
           "type": "choropleth",
           "z": [
            1
           ]
          },
          {
           "colorscale": [
            [
             0,
             "#FF6692"
            ],
            [
             1,
             "#FF6692"
            ]
           ],
           "geo": "geo",
           "hovertemplate": "<b>%{hovertext}</b><br><br>article_score=0.599<br>year=2015<br>country_ISO_code=%{location}<extra></extra>",
           "hovertext": [
            "Azerbaijan"
           ],
           "locations": [
            "AZE"
           ],
           "name": "0.599",
           "showlegend": true,
           "showscale": false,
           "type": "choropleth",
           "z": [
            1
           ]
          },
          {
           "colorscale": [
            [
             0,
             "#B6E880"
            ],
            [
             1,
             "#B6E880"
            ]
           ],
           "geo": "geo",
           "hovertemplate": "<b>%{hovertext}</b><br><br>article_score=-0.421<br>year=2015<br>country_ISO_code=%{location}<extra></extra>",
           "hovertext": [
            "Bangladesh"
           ],
           "locations": [
            "BGD"
           ],
           "name": "-0.421",
           "showlegend": true,
           "showscale": false,
           "type": "choropleth",
           "z": [
            1
           ]
          },
          {
           "colorscale": [
            [
             0,
             "#FF97FF"
            ],
            [
             1,
             "#FF97FF"
            ]
           ],
           "geo": "geo",
           "hovertemplate": "<b>%{hovertext}</b><br><br>article_score=0.0<br>year=2015<br>country_ISO_code=%{location}<extra></extra>",
           "hovertext": [
            "Belarus",
            "Croatia",
            "Slovakia"
           ],
           "locations": [
            "BLR",
            "HRV",
            "SVK"
           ],
           "name": "0.0",
           "showlegend": true,
           "showscale": false,
           "type": "choropleth",
           "z": [
            1,
            1,
            1
           ]
          },
          {
           "colorscale": [
            [
             0,
             "#FECB52"
            ],
            [
             1,
             "#FECB52"
            ]
           ],
           "geo": "geo",
           "hovertemplate": "<b>%{hovertext}</b><br><br>article_score=-0.02<br>year=2015<br>country_ISO_code=%{location}<extra></extra>",
           "hovertext": [
            "Belgium"
           ],
           "locations": [
            "BEL"
           ],
           "name": "-0.02",
           "showlegend": true,
           "showscale": false,
           "type": "choropleth",
           "z": [
            1
           ]
          },
          {
           "colorscale": [
            [
             0,
             "#636efa"
            ],
            [
             1,
             "#636efa"
            ]
           ],
           "geo": "geo",
           "hovertemplate": "<b>%{hovertext}</b><br><br>article_score=0.254<br>year=2015<br>country_ISO_code=%{location}<extra></extra>",
           "hovertext": [
            "Bermuda"
           ],
           "locations": [
            "BMU"
           ],
           "name": "0.254",
           "showlegend": true,
           "showscale": false,
           "type": "choropleth",
           "z": [
            1
           ]
          },
          {
           "colorscale": [
            [
             0,
             "#EF553B"
            ],
            [
             1,
             "#EF553B"
            ]
           ],
           "geo": "geo",
           "hovertemplate": "<b>%{hovertext}</b><br><br>article_score=0.402<br>year=2015<br>country_ISO_code=%{location}<extra></extra>",
           "hovertext": [
            "Bolivia",
            "Czechia"
           ],
           "locations": [
            "BOL",
            "CZE"
           ],
           "name": "0.402",
           "showlegend": true,
           "showscale": false,
           "type": "choropleth",
           "z": [
            1,
            1
           ]
          },
          {
           "colorscale": [
            [
             0,
             "#00cc96"
            ],
            [
             1,
             "#00cc96"
            ]
           ],
           "geo": "geo",
           "hovertemplate": "<b>%{hovertext}</b><br><br>article_score=-0.49<br>year=2015<br>country_ISO_code=%{location}<extra></extra>",
           "hovertext": [
            "Botswana"
           ],
           "locations": [
            "BWA"
           ],
           "name": "-0.49",
           "showlegend": true,
           "showscale": false,
           "type": "choropleth",
           "z": [
            1
           ]
          },
          {
           "colorscale": [
            [
             0,
             "#ab63fa"
            ],
            [
             1,
             "#ab63fa"
            ]
           ],
           "geo": "geo",
           "hovertemplate": "<b>%{hovertext}</b><br><br>article_score=0.019<br>year=2015<br>country_ISO_code=%{location}<extra></extra>",
           "hovertext": [
            "Brazil"
           ],
           "locations": [
            "BRA"
           ],
           "name": "0.019",
           "showlegend": true,
           "showscale": false,
           "type": "choropleth",
           "z": [
            1
           ]
          },
          {
           "colorscale": [
            [
             0,
             "#FFA15A"
            ],
            [
             1,
             "#FFA15A"
            ]
           ],
           "geo": "geo",
           "hovertemplate": "<b>%{hovertext}</b><br><br>article_score=-0.226<br>year=2015<br>country_ISO_code=%{location}<extra></extra>",
           "hovertext": [
            "British Virgin Islands"
           ],
           "locations": [
            "VGB"
           ],
           "name": "-0.226",
           "showlegend": true,
           "showscale": false,
           "type": "choropleth",
           "z": [
            1
           ]
          },
          {
           "colorscale": [
            [
             0,
             "#19d3f3"
            ],
            [
             1,
             "#19d3f3"
            ]
           ],
           "geo": "geo",
           "hovertemplate": "<b>%{hovertext}</b><br><br>article_score=0.012<br>year=2015<br>country_ISO_code=%{location}<extra></extra>",
           "hovertext": [
            "Cambodia"
           ],
           "locations": [
            "KHM"
           ],
           "name": "0.012",
           "showlegend": true,
           "showscale": false,
           "type": "choropleth",
           "z": [
            1
           ]
          },
          {
           "colorscale": [
            [
             0,
             "#FF6692"
            ],
            [
             1,
             "#FF6692"
            ]
           ],
           "geo": "geo",
           "hovertemplate": "<b>%{hovertext}</b><br><br>article_score=0.073<br>year=2015<br>country_ISO_code=%{location}<extra></extra>",
           "hovertext": [
            "Canada"
           ],
           "locations": [
            "CAN"
           ],
           "name": "0.073",
           "showlegend": true,
           "showscale": false,
           "type": "choropleth",
           "z": [
            1
           ]
          },
          {
           "colorscale": [
            [
             0,
             "#B6E880"
            ],
            [
             1,
             "#B6E880"
            ]
           ],
           "geo": "geo",
           "hovertemplate": "<b>%{hovertext}</b><br><br>article_score=0.018<br>year=2015<br>country_ISO_code=%{location}<extra></extra>",
           "hovertext": [
            "Chile",
            "Kazakhstan",
            "United Kingdom"
           ],
           "locations": [
            "CHL",
            "KAZ",
            "GBR"
           ],
           "name": "0.018",
           "showlegend": true,
           "showscale": false,
           "type": "choropleth",
           "z": [
            1,
            1,
            1
           ]
          },
          {
           "colorscale": [
            [
             0,
             "#FF97FF"
            ],
            [
             1,
             "#FF97FF"
            ]
           ],
           "geo": "geo",
           "hovertemplate": "<b>%{hovertext}</b><br><br>article_score=0.099<br>year=2015<br>country_ISO_code=%{location}<extra></extra>",
           "hovertext": [
            "China"
           ],
           "locations": [
            "CHN"
           ],
           "name": "0.099",
           "showlegend": true,
           "showscale": false,
           "type": "choropleth",
           "z": [
            1
           ]
          },
          {
           "colorscale": [
            [
             0,
             "#FECB52"
            ],
            [
             1,
             "#FECB52"
            ]
           ],
           "geo": "geo",
           "hovertemplate": "<b>%{hovertext}</b><br><br>article_score=-0.445<br>year=2015<br>country_ISO_code=%{location}<extra></extra>",
           "hovertext": [
            "Colombia"
           ],
           "locations": [
            "COL"
           ],
           "name": "-0.445",
           "showlegend": true,
           "showscale": false,
           "type": "choropleth",
           "z": [
            1
           ]
          },
          {
           "colorscale": [
            [
             0,
             "#636efa"
            ],
            [
             1,
             "#636efa"
            ]
           ],
           "geo": "geo",
           "hovertemplate": "<b>%{hovertext}</b><br><br>article_score=-0.131<br>year=2015<br>country_ISO_code=%{location}<extra></extra>",
           "hovertext": [
            "Cuba"
           ],
           "locations": [
            "CUB"
           ],
           "name": "-0.131",
           "showlegend": true,
           "showscale": false,
           "type": "choropleth",
           "z": [
            1
           ]
          },
          {
           "colorscale": [
            [
             0,
             "#EF553B"
            ],
            [
             1,
             "#EF553B"
            ]
           ],
           "geo": "geo",
           "hovertemplate": "<b>%{hovertext}</b><br><br>article_score=-0.236<br>year=2015<br>country_ISO_code=%{location}<extra></extra>",
           "hovertext": [
            "Cyprus"
           ],
           "locations": [
            "CYP"
           ],
           "name": "-0.236",
           "showlegend": true,
           "showscale": false,
           "type": "choropleth",
           "z": [
            1
           ]
          },
          {
           "colorscale": [
            [
             0,
             "#00cc96"
            ],
            [
             1,
             "#00cc96"
            ]
           ],
           "geo": "geo",
           "hovertemplate": "<b>%{hovertext}</b><br><br>article_score=0.178<br>year=2015<br>country_ISO_code=%{location}<extra></extra>",
           "hovertext": [
            "Côte d'Ivoire"
           ],
           "locations": [
            "CIV"
           ],
           "name": "0.178",
           "showlegend": true,
           "showscale": false,
           "type": "choropleth",
           "z": [
            1
           ]
          },
          {
           "colorscale": [
            [
             0,
             "#ab63fa"
            ],
            [
             1,
             "#ab63fa"
            ]
           ],
           "geo": "geo",
           "hovertemplate": "<b>%{hovertext}</b><br><br>article_score=0.061<br>year=2015<br>country_ISO_code=%{location}<extra></extra>",
           "hovertext": [
            "Denmark"
           ],
           "locations": [
            "DNK"
           ],
           "name": "0.061",
           "showlegend": true,
           "showscale": false,
           "type": "choropleth",
           "z": [
            1
           ]
          },
          {
           "colorscale": [
            [
             0,
             "#FFA15A"
            ],
            [
             1,
             "#FFA15A"
            ]
           ],
           "geo": "geo",
           "hovertemplate": "<b>%{hovertext}</b><br><br>article_score=-0.27<br>year=2015<br>country_ISO_code=%{location}<extra></extra>",
           "hovertext": [
            "Ecuador"
           ],
           "locations": [
            "ECU"
           ],
           "name": "-0.27",
           "showlegend": true,
           "showscale": false,
           "type": "choropleth",
           "z": [
            1
           ]
          },
          {
           "colorscale": [
            [
             0,
             "#19d3f3"
            ],
            [
             1,
             "#19d3f3"
            ]
           ],
           "geo": "geo",
           "hovertemplate": "<b>%{hovertext}</b><br><br>article_score=-0.031<br>year=2015<br>country_ISO_code=%{location}<extra></extra>",
           "hovertext": [
            "Egypt"
           ],
           "locations": [
            "EGY"
           ],
           "name": "-0.031",
           "showlegend": true,
           "showscale": false,
           "type": "choropleth",
           "z": [
            1
           ]
          },
          {
           "colorscale": [
            [
             0,
             "#FF6692"
            ],
            [
             1,
             "#FF6692"
            ]
           ],
           "geo": "geo",
           "hovertemplate": "<b>%{hovertext}</b><br><br>article_score=-0.452<br>year=2015<br>country_ISO_code=%{location}<extra></extra>",
           "hovertext": [
            "El Salvador"
           ],
           "locations": [
            "SLV"
           ],
           "name": "-0.452",
           "showlegend": true,
           "showscale": false,
           "type": "choropleth",
           "z": [
            1
           ]
          },
          {
           "colorscale": [
            [
             0,
             "#B6E880"
            ],
            [
             1,
             "#B6E880"
            ]
           ],
           "geo": "geo",
           "hovertemplate": "<b>%{hovertext}</b><br><br>article_score=0.229<br>year=2015<br>country_ISO_code=%{location}<extra></extra>",
           "hovertext": [
            "Ethiopia"
           ],
           "locations": [
            "ETH"
           ],
           "name": "0.229",
           "showlegend": true,
           "showscale": false,
           "type": "choropleth",
           "z": [
            1
           ]
          },
          {
           "colorscale": [
            [
             0,
             "#FF97FF"
            ],
            [
             1,
             "#FF97FF"
            ]
           ],
           "geo": "geo",
           "hovertemplate": "<b>%{hovertext}</b><br><br>article_score=0.075<br>year=2015<br>country_ISO_code=%{location}<extra></extra>",
           "hovertext": [
            "Finland"
           ],
           "locations": [
            "FIN"
           ],
           "name": "0.075",
           "showlegend": true,
           "showscale": false,
           "type": "choropleth",
           "z": [
            1
           ]
          },
          {
           "colorscale": [
            [
             0,
             "#FECB52"
            ],
            [
             1,
             "#FECB52"
            ]
           ],
           "geo": "geo",
           "hovertemplate": "<b>%{hovertext}</b><br><br>article_score=-0.01<br>year=2015<br>country_ISO_code=%{location}<extra></extra>",
           "hovertext": [
            "France"
           ],
           "locations": [
            "FRA"
           ],
           "name": "-0.01",
           "showlegend": true,
           "showscale": false,
           "type": "choropleth",
           "z": [
            1
           ]
          },
          {
           "colorscale": [
            [
             0,
             "#636efa"
            ],
            [
             1,
             "#636efa"
            ]
           ],
           "geo": "geo",
           "hovertemplate": "<b>%{hovertext}</b><br><br>article_score=-0.053<br>year=2015<br>country_ISO_code=%{location}<extra></extra>",
           "hovertext": [
            "Germany"
           ],
           "locations": [
            "DEU"
           ],
           "name": "-0.053",
           "showlegend": true,
           "showscale": false,
           "type": "choropleth",
           "z": [
            1
           ]
          },
          {
           "colorscale": [
            [
             0,
             "#EF553B"
            ],
            [
             1,
             "#EF553B"
            ]
           ],
           "geo": "geo",
           "hovertemplate": "<b>%{hovertext}</b><br><br>article_score=-0.7<br>year=2015<br>country_ISO_code=%{location}<extra></extra>",
           "hovertext": [
            "Ghana"
           ],
           "locations": [
            "GHA"
           ],
           "name": "-0.7",
           "showlegend": true,
           "showscale": false,
           "type": "choropleth",
           "z": [
            1
           ]
          },
          {
           "colorscale": [
            [
             0,
             "#00cc96"
            ],
            [
             1,
             "#00cc96"
            ]
           ],
           "geo": "geo",
           "hovertemplate": "<b>%{hovertext}</b><br><br>article_score=0.421<br>year=2015<br>country_ISO_code=%{location}<extra></extra>",
           "hovertext": [
            "Gibraltar"
           ],
           "locations": [
            "GIB"
           ],
           "name": "0.421",
           "showlegend": true,
           "showscale": false,
           "type": "choropleth",
           "z": [
            1
           ]
          },
          {
           "colorscale": [
            [
             0,
             "#ab63fa"
            ],
            [
             1,
             "#ab63fa"
            ]
           ],
           "geo": "geo",
           "hovertemplate": "<b>%{hovertext}</b><br><br>article_score=-0.145<br>year=2015<br>country_ISO_code=%{location}<extra></extra>",
           "hovertext": [
            "Greece"
           ],
           "locations": [
            "GRC"
           ],
           "name": "-0.145",
           "showlegend": true,
           "showscale": false,
           "type": "choropleth",
           "z": [
            1
           ]
          },
          {
           "colorscale": [
            [
             0,
             "#FFA15A"
            ],
            [
             1,
             "#FFA15A"
            ]
           ],
           "geo": "geo",
           "hovertemplate": "<b>%{hovertext}</b><br><br>article_score=0.153<br>year=2015<br>country_ISO_code=%{location}<extra></extra>",
           "hovertext": [
            "Greenland"
           ],
           "locations": [
            "GRL"
           ],
           "name": "0.153",
           "showlegend": true,
           "showscale": false,
           "type": "choropleth",
           "z": [
            1
           ]
          },
          {
           "colorscale": [
            [
             0,
             "#19d3f3"
            ],
            [
             1,
             "#19d3f3"
            ]
           ],
           "geo": "geo",
           "hovertemplate": "<b>%{hovertext}</b><br><br>article_score=-0.137<br>year=2015<br>country_ISO_code=%{location}<extra></extra>",
           "hovertext": [
            "Guinea"
           ],
           "locations": [
            "GIN"
           ],
           "name": "-0.137",
           "showlegend": true,
           "showscale": false,
           "type": "choropleth",
           "z": [
            1
           ]
          },
          {
           "colorscale": [
            [
             0,
             "#FF6692"
            ],
            [
             1,
             "#FF6692"
            ]
           ],
           "geo": "geo",
           "hovertemplate": "<b>%{hovertext}</b><br><br>article_score=-0.527<br>year=2015<br>country_ISO_code=%{location}<extra></extra>",
           "hovertext": [
            "Guyana"
           ],
           "locations": [
            "GUY"
           ],
           "name": "-0.527",
           "showlegend": true,
           "showscale": false,
           "type": "choropleth",
           "z": [
            1
           ]
          },
          {
           "colorscale": [
            [
             0,
             "#B6E880"
            ],
            [
             1,
             "#B6E880"
            ]
           ],
           "geo": "geo",
           "hovertemplate": "<b>%{hovertext}</b><br><br>article_score=0.725<br>year=2015<br>country_ISO_code=%{location}<extra></extra>",
           "hovertext": [
            "Haiti"
           ],
           "locations": [
            "HTI"
           ],
           "name": "0.725",
           "showlegend": true,
           "showscale": false,
           "type": "choropleth",
           "z": [
            1
           ]
          },
          {
           "colorscale": [
            [
             0,
             "#FF97FF"
            ],
            [
             1,
             "#FF97FF"
            ]
           ],
           "geo": "geo",
           "hovertemplate": "<b>%{hovertext}</b><br><br>article_score=-0.599<br>year=2015<br>country_ISO_code=%{location}<extra></extra>",
           "hovertext": [
            "Heard Island and McDonald Islands"
           ],
           "locations": [
            "HMD"
           ],
           "name": "-0.599",
           "showlegend": true,
           "showscale": false,
           "type": "choropleth",
           "z": [
            1
           ]
          },
          {
           "colorscale": [
            [
             0,
             "#FECB52"
            ],
            [
             1,
             "#FECB52"
            ]
           ],
           "geo": "geo",
           "hovertemplate": "<b>%{hovertext}</b><br><br>article_score=-0.026<br>year=2015<br>country_ISO_code=%{location}<extra></extra>",
           "hovertext": [
            "Honduras",
            "Rwanda"
           ],
           "locations": [
            "HND",
            "RWA"
           ],
           "name": "-0.026",
           "showlegend": true,
           "showscale": false,
           "type": "choropleth",
           "z": [
            1,
            1
           ]
          },
          {
           "colorscale": [
            [
             0,
             "#636efa"
            ],
            [
             1,
             "#636efa"
            ]
           ],
           "geo": "geo",
           "hovertemplate": "<b>%{hovertext}</b><br><br>article_score=0.143<br>year=2015<br>country_ISO_code=%{location}<extra></extra>",
           "hovertext": [
            "Hong Kong"
           ],
           "locations": [
            "HKG"
           ],
           "name": "0.143",
           "showlegend": true,
           "showscale": false,
           "type": "choropleth",
           "z": [
            1
           ]
          },
          {
           "colorscale": [
            [
             0,
             "#EF553B"
            ],
            [
             1,
             "#EF553B"
            ]
           ],
           "geo": "geo",
           "hovertemplate": "<b>%{hovertext}</b><br><br>article_score=-0.134<br>year=2015<br>country_ISO_code=%{location}<extra></extra>",
           "hovertext": [
            "Iceland"
           ],
           "locations": [
            "ISL"
           ],
           "name": "-0.134",
           "showlegend": true,
           "showscale": false,
           "type": "choropleth",
           "z": [
            1
           ]
          },
          {
           "colorscale": [
            [
             0,
             "#00cc96"
            ],
            [
             1,
             "#00cc96"
            ]
           ],
           "geo": "geo",
           "hovertemplate": "<b>%{hovertext}</b><br><br>article_score=0.105<br>year=2015<br>country_ISO_code=%{location}<extra></extra>",
           "hovertext": [
            "India"
           ],
           "locations": [
            "IND"
           ],
           "name": "0.105",
           "showlegend": true,
           "showscale": false,
           "type": "choropleth",
           "z": [
            1
           ]
          },
          {
           "colorscale": [
            [
             0,
             "#ab63fa"
            ],
            [
             1,
             "#ab63fa"
            ]
           ],
           "geo": "geo",
           "hovertemplate": "<b>%{hovertext}</b><br><br>article_score=0.101<br>year=2015<br>country_ISO_code=%{location}<extra></extra>",
           "hovertext": [
            "Indonesia"
           ],
           "locations": [
            "IDN"
           ],
           "name": "0.101",
           "showlegend": true,
           "showscale": false,
           "type": "choropleth",
           "z": [
            1
           ]
          },
          {
           "colorscale": [
            [
             0,
             "#FFA15A"
            ],
            [
             1,
             "#FFA15A"
            ]
           ],
           "geo": "geo",
           "hovertemplate": "<b>%{hovertext}</b><br><br>article_score=0.062<br>year=2015<br>country_ISO_code=%{location}<extra></extra>",
           "hovertext": [
            "Iran"
           ],
           "locations": [
            "IRN"
           ],
           "name": "0.062",
           "showlegend": true,
           "showscale": false,
           "type": "choropleth",
           "z": [
            1
           ]
          },
          {
           "colorscale": [
            [
             0,
             "#19d3f3"
            ],
            [
             1,
             "#19d3f3"
            ]
           ],
           "geo": "geo",
           "hovertemplate": "<b>%{hovertext}</b><br><br>article_score=-0.292<br>year=2015<br>country_ISO_code=%{location}<extra></extra>",
           "hovertext": [
            "Iraq"
           ],
           "locations": [
            "IRQ"
           ],
           "name": "-0.292",
           "showlegend": true,
           "showscale": false,
           "type": "choropleth",
           "z": [
            1
           ]
          },
          {
           "colorscale": [
            [
             0,
             "#FF6692"
            ],
            [
             1,
             "#FF6692"
            ]
           ],
           "geo": "geo",
           "hovertemplate": "<b>%{hovertext}</b><br><br>article_score=0.046<br>year=2015<br>country_ISO_code=%{location}<extra></extra>",
           "hovertext": [
            "Ireland"
           ],
           "locations": [
            "IRL"
           ],
           "name": "0.046",
           "showlegend": true,
           "showscale": false,
           "type": "choropleth",
           "z": [
            1
           ]
          },
          {
           "colorscale": [
            [
             0,
             "#B6E880"
            ],
            [
             1,
             "#B6E880"
            ]
           ],
           "geo": "geo",
           "hovertemplate": "<b>%{hovertext}</b><br><br>article_score=0.606<br>year=2015<br>country_ISO_code=%{location}<extra></extra>",
           "hovertext": [
            "Isle of Man"
           ],
           "locations": [
            "IMN"
           ],
           "name": "0.606",
           "showlegend": true,
           "showscale": false,
           "type": "choropleth",
           "z": [
            1
           ]
          },
          {
           "colorscale": [
            [
             0,
             "#FF97FF"
            ],
            [
             1,
             "#FF97FF"
            ]
           ],
           "geo": "geo",
           "hovertemplate": "<b>%{hovertext}</b><br><br>article_score=0.096<br>year=2015<br>country_ISO_code=%{location}<extra></extra>",
           "hovertext": [
            "Israel"
           ],
           "locations": [
            "ISR"
           ],
           "name": "0.096",
           "showlegend": true,
           "showscale": false,
           "type": "choropleth",
           "z": [
            1
           ]
          },
          {
           "colorscale": [
            [
             0,
             "#FECB52"
            ],
            [
             1,
             "#FECB52"
            ]
           ],
           "geo": "geo",
           "hovertemplate": "<b>%{hovertext}</b><br><br>article_score=0.127<br>year=2015<br>country_ISO_code=%{location}<extra></extra>",
           "hovertext": [
            "Italy"
           ],
           "locations": [
            "ITA"
           ],
           "name": "0.127",
           "showlegend": true,
           "showscale": false,
           "type": "choropleth",
           "z": [
            1
           ]
          },
          {
           "colorscale": [
            [
             0,
             "#636efa"
            ],
            [
             1,
             "#636efa"
            ]
           ],
           "geo": "geo",
           "hovertemplate": "<b>%{hovertext}</b><br><br>article_score=0.067<br>year=2015<br>country_ISO_code=%{location}<extra></extra>",
           "hovertext": [
            "Japan"
           ],
           "locations": [
            "JPN"
           ],
           "name": "0.067",
           "showlegend": true,
           "showscale": false,
           "type": "choropleth",
           "z": [
            1
           ]
          },
          {
           "colorscale": [
            [
             0,
             "#EF553B"
            ],
            [
             1,
             "#EF553B"
            ]
           ],
           "geo": "geo",
           "hovertemplate": "<b>%{hovertext}</b><br><br>article_score=-0.087<br>year=2015<br>country_ISO_code=%{location}<extra></extra>",
           "hovertext": [
            "Kenya"
           ],
           "locations": [
            "KEN"
           ],
           "name": "-0.087",
           "showlegend": true,
           "showscale": false,
           "type": "choropleth",
           "z": [
            1
           ]
          },
          {
           "colorscale": [
            [
             0,
             "#00cc96"
            ],
            [
             1,
             "#00cc96"
            ]
           ],
           "geo": "geo",
           "hovertemplate": "<b>%{hovertext}</b><br><br>article_score=-0.477<br>year=2015<br>country_ISO_code=%{location}<extra></extra>",
           "hovertext": [
            "Latvia"
           ],
           "locations": [
            "LVA"
           ],
           "name": "-0.477",
           "showlegend": true,
           "showscale": false,
           "type": "choropleth",
           "z": [
            1
           ]
          },
          {
           "colorscale": [
            [
             0,
             "#ab63fa"
            ],
            [
             1,
             "#ab63fa"
            ]
           ],
           "geo": "geo",
           "hovertemplate": "<b>%{hovertext}</b><br><br>article_score=-0.019<br>year=2015<br>country_ISO_code=%{location}<extra></extra>",
           "hovertext": [
            "Lebanon"
           ],
           "locations": [
            "LBN"
           ],
           "name": "-0.019",
           "showlegend": true,
           "showscale": false,
           "type": "choropleth",
           "z": [
            1
           ]
          },
          {
           "colorscale": [
            [
             0,
             "#FFA15A"
            ],
            [
             1,
             "#FFA15A"
            ]
           ],
           "geo": "geo",
           "hovertemplate": "<b>%{hovertext}</b><br><br>article_score=0.222<br>year=2015<br>country_ISO_code=%{location}<extra></extra>",
           "hovertext": [
            "Liberia"
           ],
           "locations": [
            "LBR"
           ],
           "name": "0.222",
           "showlegend": true,
           "showscale": false,
           "type": "choropleth",
           "z": [
            1
           ]
          },
          {
           "colorscale": [
            [
             0,
             "#19d3f3"
            ],
            [
             1,
             "#19d3f3"
            ]
           ],
           "geo": "geo",
           "hovertemplate": "<b>%{hovertext}</b><br><br>article_score=-0.299<br>year=2015<br>country_ISO_code=%{location}<extra></extra>",
           "hovertext": [
            "Libya"
           ],
           "locations": [
            "LBY"
           ],
           "name": "-0.299",
           "showlegend": true,
           "showscale": false,
           "type": "choropleth",
           "z": [
            1
           ]
          },
          {
           "colorscale": [
            [
             0,
             "#FF6692"
            ],
            [
             1,
             "#FF6692"
            ]
           ],
           "geo": "geo",
           "hovertemplate": "<b>%{hovertext}</b><br><br>article_score=0.494<br>year=2015<br>country_ISO_code=%{location}<extra></extra>",
           "hovertext": [
            "Lithuania"
           ],
           "locations": [
            "LTU"
           ],
           "name": "0.494",
           "showlegend": true,
           "showscale": false,
           "type": "choropleth",
           "z": [
            1
           ]
          },
          {
           "colorscale": [
            [
             0,
             "#B6E880"
            ],
            [
             1,
             "#B6E880"
            ]
           ],
           "geo": "geo",
           "hovertemplate": "<b>%{hovertext}</b><br><br>article_score=0.013<br>year=2015<br>country_ISO_code=%{location}<extra></extra>",
           "hovertext": [
            "Luxembourg",
            "Poland",
            "Sweden"
           ],
           "locations": [
            "LUX",
            "POL",
            "SWE"
           ],
           "name": "0.013",
           "showlegend": true,
           "showscale": false,
           "type": "choropleth",
           "z": [
            1,
            1,
            1
           ]
          },
          {
           "colorscale": [
            [
             0,
             "#FF97FF"
            ],
            [
             1,
             "#FF97FF"
            ]
           ],
           "geo": "geo",
           "hovertemplate": "<b>%{hovertext}</b><br><br>article_score=0.44<br>year=2015<br>country_ISO_code=%{location}<extra></extra>",
           "hovertext": [
            "Macao",
            "Vatican City"
           ],
           "locations": [
            "MAC",
            "VAT"
           ],
           "name": "0.44",
           "showlegend": true,
           "showscale": false,
           "type": "choropleth",
           "z": [
            1,
            1
           ]
          },
          {
           "colorscale": [
            [
             0,
             "#FECB52"
            ],
            [
             1,
             "#FECB52"
            ]
           ],
           "geo": "geo",
           "hovertemplate": "<b>%{hovertext}</b><br><br>article_score=-0.404<br>year=2015<br>country_ISO_code=%{location}<extra></extra>",
           "hovertext": [
            "Malaysia"
           ],
           "locations": [
            "MYS"
           ],
           "name": "-0.404",
           "showlegend": true,
           "showscale": false,
           "type": "choropleth",
           "z": [
            1
           ]
          },
          {
           "colorscale": [
            [
             0,
             "#636efa"
            ],
            [
             1,
             "#636efa"
            ]
           ],
           "geo": "geo",
           "hovertemplate": "<b>%{hovertext}</b><br><br>article_score=0.361<br>year=2015<br>country_ISO_code=%{location}<extra></extra>",
           "hovertext": [
            "Marshall Islands",
            "Venezuela"
           ],
           "locations": [
            "MHL",
            "VEN"
           ],
           "name": "0.361",
           "showlegend": true,
           "showscale": false,
           "type": "choropleth",
           "z": [
            1,
            1
           ]
          },
          {
           "colorscale": [
            [
             0,
             "#EF553B"
            ],
            [
             1,
             "#EF553B"
            ]
           ],
           "geo": "geo",
           "hovertemplate": "<b>%{hovertext}</b><br><br>article_score=-0.007<br>year=2015<br>country_ISO_code=%{location}<extra></extra>",
           "hovertext": [
            "Mexico"
           ],
           "locations": [
            "MEX"
           ],
           "name": "-0.007",
           "showlegend": true,
           "showscale": false,
           "type": "choropleth",
           "z": [
            1
           ]
          },
          {
           "colorscale": [
            [
             0,
             "#00cc96"
            ],
            [
             1,
             "#00cc96"
            ]
           ],
           "geo": "geo",
           "hovertemplate": "<b>%{hovertext}</b><br><br>article_score=-0.623<br>year=2015<br>country_ISO_code=%{location}<extra></extra>",
           "hovertext": [
            "Morocco"
           ],
           "locations": [
            "MAR"
           ],
           "name": "-0.623",
           "showlegend": true,
           "showscale": false,
           "type": "choropleth",
           "z": [
            1
           ]
          },
          {
           "colorscale": [
            [
             0,
             "#ab63fa"
            ],
            [
             1,
             "#ab63fa"
            ]
           ],
           "geo": "geo",
           "hovertemplate": "<b>%{hovertext}</b><br><br>article_score=0.159<br>year=2015<br>country_ISO_code=%{location}<extra></extra>",
           "hovertext": [
            "Nepal"
           ],
           "locations": [
            "NPL"
           ],
           "name": "0.159",
           "showlegend": true,
           "showscale": false,
           "type": "choropleth",
           "z": [
            1
           ]
          },
          {
           "colorscale": [
            [
             0,
             "#FFA15A"
            ],
            [
             1,
             "#FFA15A"
            ]
           ],
           "geo": "geo",
           "hovertemplate": "<b>%{hovertext}</b><br><br>article_score=0.166<br>year=2015<br>country_ISO_code=%{location}<extra></extra>",
           "hovertext": [
            "Netherlands"
           ],
           "locations": [
            "NLD"
           ],
           "name": "0.166",
           "showlegend": true,
           "showscale": false,
           "type": "choropleth",
           "z": [
            1
           ]
          },
          {
           "colorscale": [
            [
             0,
             "#19d3f3"
            ],
            [
             1,
             "#19d3f3"
            ]
           ],
           "geo": "geo",
           "hovertemplate": "<b>%{hovertext}</b><br><br>article_score=-0.036<br>year=2015<br>country_ISO_code=%{location}<extra></extra>",
           "hovertext": [
            "New Zealand"
           ],
           "locations": [
            "NZL"
           ],
           "name": "-0.036",
           "showlegend": true,
           "showscale": false,
           "type": "choropleth",
           "z": [
            1
           ]
          },
          {
           "colorscale": [
            [
             0,
             "#FF6692"
            ],
            [
             1,
             "#FF6692"
            ]
           ],
           "geo": "geo",
           "hovertemplate": "<b>%{hovertext}</b><br><br>article_score=-0.273<br>year=2015<br>country_ISO_code=%{location}<extra></extra>",
           "hovertext": [
            "Nicaragua"
           ],
           "locations": [
            "NIC"
           ],
           "name": "-0.273",
           "showlegend": true,
           "showscale": false,
           "type": "choropleth",
           "z": [
            1
           ]
          },
          {
           "colorscale": [
            [
             0,
             "#B6E880"
            ],
            [
             1,
             "#B6E880"
            ]
           ],
           "geo": "geo",
           "hovertemplate": "<b>%{hovertext}</b><br><br>article_score=0.35<br>year=2015<br>country_ISO_code=%{location}<extra></extra>",
           "hovertext": [
            "Nigeria"
           ],
           "locations": [
            "NGA"
           ],
           "name": "0.35",
           "showlegend": true,
           "showscale": false,
           "type": "choropleth",
           "z": [
            1
           ]
          },
          {
           "colorscale": [
            [
             0,
             "#FF97FF"
            ],
            [
             1,
             "#FF97FF"
            ]
           ],
           "geo": "geo",
           "hovertemplate": "<b>%{hovertext}</b><br><br>article_score=0.625<br>year=2015<br>country_ISO_code=%{location}<extra></extra>",
           "hovertext": [
            "North Macedonia"
           ],
           "locations": [
            "MKD"
           ],
           "name": "0.625",
           "showlegend": true,
           "showscale": false,
           "type": "choropleth",
           "z": [
            1
           ]
          },
          {
           "colorscale": [
            [
             0,
             "#FECB52"
            ],
            [
             1,
             "#FECB52"
            ]
           ],
           "geo": "geo",
           "hovertemplate": "<b>%{hovertext}</b><br><br>article_score=-0.042<br>year=2015<br>country_ISO_code=%{location}<extra></extra>",
           "hovertext": [
            "Norway"
           ],
           "locations": [
            "NOR"
           ],
           "name": "-0.042",
           "showlegend": true,
           "showscale": false,
           "type": "choropleth",
           "z": [
            1
           ]
          },
          {
           "colorscale": [
            [
             0,
             "#636efa"
            ],
            [
             1,
             "#636efa"
            ]
           ],
           "geo": "geo",
           "hovertemplate": "<b>%{hovertext}</b><br><br>article_score=-0.189<br>year=2015<br>country_ISO_code=%{location}<extra></extra>",
           "hovertext": [
            "Pakistan"
           ],
           "locations": [
            "PAK"
           ],
           "name": "-0.189",
           "showlegend": true,
           "showscale": false,
           "type": "choropleth",
           "z": [
            1
           ]
          },
          {
           "colorscale": [
            [
             0,
             "#EF553B"
            ],
            [
             1,
             "#EF553B"
            ]
           ],
           "geo": "geo",
           "hovertemplate": "<b>%{hovertext}</b><br><br>article_score=0.09<br>year=2015<br>country_ISO_code=%{location}<extra></extra>",
           "hovertext": [
            "Panama"
           ],
           "locations": [
            "PAN"
           ],
           "name": "0.09",
           "showlegend": true,
           "showscale": false,
           "type": "choropleth",
           "z": [
            1
           ]
          },
          {
           "colorscale": [
            [
             0,
             "#00cc96"
            ],
            [
             1,
             "#00cc96"
            ]
           ],
           "geo": "geo",
           "hovertemplate": "<b>%{hovertext}</b><br><br>article_score=-0.52<br>year=2015<br>country_ISO_code=%{location}<extra></extra>",
           "hovertext": [
            "Papua New Guinea"
           ],
           "locations": [
            "PNG"
           ],
           "name": "-0.52",
           "showlegend": true,
           "showscale": false,
           "type": "choropleth",
           "z": [
            1
           ]
          },
          {
           "colorscale": [
            [
             0,
             "#ab63fa"
            ],
            [
             1,
             "#ab63fa"
            ]
           ],
           "geo": "geo",
           "hovertemplate": "<b>%{hovertext}</b><br><br>article_score=-0.03<br>year=2015<br>country_ISO_code=%{location}<extra></extra>",
           "hovertext": [
            "Philippines"
           ],
           "locations": [
            "PHL"
           ],
           "name": "-0.03",
           "showlegend": true,
           "showscale": false,
           "type": "choropleth",
           "z": [
            1
           ]
          },
          {
           "colorscale": [
            [
             0,
             "#FFA15A"
            ],
            [
             1,
             "#FFA15A"
            ]
           ],
           "geo": "geo",
           "hovertemplate": "<b>%{hovertext}</b><br><br>article_score=0.008<br>year=2015<br>country_ISO_code=%{location}<extra></extra>",
           "hovertext": [
            "Portugal"
           ],
           "locations": [
            "PRT"
           ],
           "name": "0.008",
           "showlegend": true,
           "showscale": false,
           "type": "choropleth",
           "z": [
            1
           ]
          },
          {
           "colorscale": [
            [
             0,
             "#19d3f3"
            ],
            [
             1,
             "#19d3f3"
            ]
           ],
           "geo": "geo",
           "hovertemplate": "<b>%{hovertext}</b><br><br>article_score=-0.121<br>year=2015<br>country_ISO_code=%{location}<extra></extra>",
           "hovertext": [
            "Puerto Rico"
           ],
           "locations": [
            "PRI"
           ],
           "name": "-0.121",
           "showlegend": true,
           "showscale": false,
           "type": "choropleth",
           "z": [
            1
           ]
          },
          {
           "colorscale": [
            [
             0,
             "#FF6692"
            ],
            [
             1,
             "#FF6692"
            ]
           ],
           "geo": "geo",
           "hovertemplate": "<b>%{hovertext}</b><br><br>article_score=0.007<br>year=2015<br>country_ISO_code=%{location}<extra></extra>",
           "hovertext": [
            "Qatar"
           ],
           "locations": [
            "QAT"
           ],
           "name": "0.007",
           "showlegend": true,
           "showscale": false,
           "type": "choropleth",
           "z": [
            1
           ]
          },
          {
           "colorscale": [
            [
             0,
             "#B6E880"
            ],
            [
             1,
             "#B6E880"
            ]
           ],
           "geo": "geo",
           "hovertemplate": "<b>%{hovertext}</b><br><br>article_score=0.051<br>year=2015<br>country_ISO_code=%{location}<extra></extra>",
           "hovertext": [
            "Russia"
           ],
           "locations": [
            "RUS"
           ],
           "name": "0.051",
           "showlegend": true,
           "showscale": false,
           "type": "choropleth",
           "z": [
            1
           ]
          },
          {
           "colorscale": [
            [
             0,
             "#FF97FF"
            ],
            [
             1,
             "#FF97FF"
            ]
           ],
           "geo": "geo",
           "hovertemplate": "<b>%{hovertext}</b><br><br>article_score=-0.027<br>year=2015<br>country_ISO_code=%{location}<extra></extra>",
           "hovertext": [
            "Saudi Arabia"
           ],
           "locations": [
            "SAU"
           ],
           "name": "-0.027",
           "showlegend": true,
           "showscale": false,
           "type": "choropleth",
           "z": [
            1
           ]
          },
          {
           "colorscale": [
            [
             0,
             "#FECB52"
            ],
            [
             1,
             "#FECB52"
            ]
           ],
           "geo": "geo",
           "hovertemplate": "<b>%{hovertext}</b><br><br>article_score=0.84<br>year=2015<br>country_ISO_code=%{location}<extra></extra>",
           "hovertext": [
            "Sierra Leone"
           ],
           "locations": [
            "SLE"
           ],
           "name": "0.84",
           "showlegend": true,
           "showscale": false,
           "type": "choropleth",
           "z": [
            1
           ]
          },
          {
           "colorscale": [
            [
             0,
             "#636efa"
            ],
            [
             1,
             "#636efa"
            ]
           ],
           "geo": "geo",
           "hovertemplate": "<b>%{hovertext}</b><br><br>article_score=0.239<br>year=2015<br>country_ISO_code=%{location}<extra></extra>",
           "hovertext": [
            "Singapore"
           ],
           "locations": [
            "SGP"
           ],
           "name": "0.239",
           "showlegend": true,
           "showscale": false,
           "type": "choropleth",
           "z": [
            1
           ]
          },
          {
           "colorscale": [
            [
             0,
             "#EF553B"
            ],
            [
             1,
             "#EF553B"
            ]
           ],
           "geo": "geo",
           "hovertemplate": "<b>%{hovertext}</b><br><br>article_score=0.144<br>year=2015<br>country_ISO_code=%{location}<extra></extra>",
           "hovertext": [
            "Somalia"
           ],
           "locations": [
            "SOM"
           ],
           "name": "0.144",
           "showlegend": true,
           "showscale": false,
           "type": "choropleth",
           "z": [
            1
           ]
          },
          {
           "colorscale": [
            [
             0,
             "#00cc96"
            ],
            [
             1,
             "#00cc96"
            ]
           ],
           "geo": "geo",
           "hovertemplate": "<b>%{hovertext}</b><br><br>article_score=-0.05<br>year=2015<br>country_ISO_code=%{location}<extra></extra>",
           "hovertext": [
            "South Africa"
           ],
           "locations": [
            "ZAF"
           ],
           "name": "-0.05",
           "showlegend": true,
           "showscale": false,
           "type": "choropleth",
           "z": [
            1
           ]
          },
          {
           "colorscale": [
            [
             0,
             "#ab63fa"
            ],
            [
             1,
             "#ab63fa"
            ]
           ],
           "geo": "geo",
           "hovertemplate": "<b>%{hovertext}</b><br><br>article_score=-0.612<br>year=2015<br>country_ISO_code=%{location}<extra></extra>",
           "hovertext": [
            "South Sudan"
           ],
           "locations": [
            "SSD"
           ],
           "name": "-0.612",
           "showlegend": true,
           "showscale": false,
           "type": "choropleth",
           "z": [
            1
           ]
          },
          {
           "colorscale": [
            [
             0,
             "#FFA15A"
            ],
            [
             1,
             "#FFA15A"
            ]
           ],
           "geo": "geo",
           "hovertemplate": "<b>%{hovertext}</b><br><br>article_score=0.054<br>year=2015<br>country_ISO_code=%{location}<extra></extra>",
           "hovertext": [
            "Spain"
           ],
           "locations": [
            "ESP"
           ],
           "name": "0.054",
           "showlegend": true,
           "showscale": false,
           "type": "choropleth",
           "z": [
            1
           ]
          },
          {
           "colorscale": [
            [
             0,
             "#19d3f3"
            ],
            [
             1,
             "#19d3f3"
            ]
           ],
           "geo": "geo",
           "hovertemplate": "<b>%{hovertext}</b><br><br>article_score=-0.165<br>year=2015<br>country_ISO_code=%{location}<extra></extra>",
           "hovertext": [
            "Sudan"
           ],
           "locations": [
            "SDN"
           ],
           "name": "-0.165",
           "showlegend": true,
           "showscale": false,
           "type": "choropleth",
           "z": [
            1
           ]
          },
          {
           "colorscale": [
            [
             0,
             "#FF6692"
            ],
            [
             1,
             "#FF6692"
            ]
           ],
           "geo": "geo",
           "hovertemplate": "<b>%{hovertext}</b><br><br>article_score=0.202<br>year=2015<br>country_ISO_code=%{location}<extra></extra>",
           "hovertext": [
            "Switzerland"
           ],
           "locations": [
            "CHE"
           ],
           "name": "0.202",
           "showlegend": true,
           "showscale": false,
           "type": "choropleth",
           "z": [
            1
           ]
          },
          {
           "colorscale": [
            [
             0,
             "#B6E880"
            ],
            [
             1,
             "#B6E880"
            ]
           ],
           "geo": "geo",
           "hovertemplate": "<b>%{hovertext}</b><br><br>article_score=-0.14<br>year=2015<br>country_ISO_code=%{location}<extra></extra>",
           "hovertext": [
            "Syria"
           ],
           "locations": [
            "SYR"
           ],
           "name": "-0.14",
           "showlegend": true,
           "showscale": false,
           "type": "choropleth",
           "z": [
            1
           ]
          },
          {
           "colorscale": [
            [
             0,
             "#FF97FF"
            ],
            [
             1,
             "#FF97FF"
            ]
           ],
           "geo": "geo",
           "hovertemplate": "<b>%{hovertext}</b><br><br>article_score=-0.148<br>year=2015<br>country_ISO_code=%{location}<extra></extra>",
           "hovertext": [
            "Taiwan"
           ],
           "locations": [
            "TWN"
           ],
           "name": "-0.148",
           "showlegend": true,
           "showscale": false,
           "type": "choropleth",
           "z": [
            1
           ]
          },
          {
           "colorscale": [
            [
             0,
             "#FECB52"
            ],
            [
             1,
             "#FECB52"
            ]
           ],
           "geo": "geo",
           "hovertemplate": "<b>%{hovertext}</b><br><br>article_score=-0.572<br>year=2015<br>country_ISO_code=%{location}<extra></extra>",
           "hovertext": [
            "Tajikistan"
           ],
           "locations": [
            "TJK"
           ],
           "name": "-0.572",
           "showlegend": true,
           "showscale": false,
           "type": "choropleth",
           "z": [
            1
           ]
          },
          {
           "colorscale": [
            [
             0,
             "#636efa"
            ],
            [
             1,
             "#636efa"
            ]
           ],
           "geo": "geo",
           "hovertemplate": "<b>%{hovertext}</b><br><br>article_score=-0.839<br>year=2015<br>country_ISO_code=%{location}<extra></extra>",
           "hovertext": [
            "Thailand"
           ],
           "locations": [
            "THA"
           ],
           "name": "-0.839",
           "showlegend": true,
           "showscale": false,
           "type": "choropleth",
           "z": [
            1
           ]
          },
          {
           "colorscale": [
            [
             0,
             "#EF553B"
            ],
            [
             1,
             "#EF553B"
            ]
           ],
           "geo": "geo",
           "hovertemplate": "<b>%{hovertext}</b><br><br>article_score=0.189<br>year=2015<br>country_ISO_code=%{location}<extra></extra>",
           "hovertext": [
            "The Bahamas"
           ],
           "locations": [
            "BHS"
           ],
           "name": "0.189",
           "showlegend": true,
           "showscale": false,
           "type": "choropleth",
           "z": [
            1
           ]
          },
          {
           "colorscale": [
            [
             0,
             "#00cc96"
            ],
            [
             1,
             "#00cc96"
            ]
           ],
           "geo": "geo",
           "hovertemplate": "<b>%{hovertext}</b><br><br>article_score=-0.117<br>year=2015<br>country_ISO_code=%{location}<extra></extra>",
           "hovertext": [
            "Turkey"
           ],
           "locations": [
            "TUR"
           ],
           "name": "-0.117",
           "showlegend": true,
           "showscale": false,
           "type": "choropleth",
           "z": [
            1
           ]
          },
          {
           "colorscale": [
            [
             0,
             "#ab63fa"
            ],
            [
             1,
             "#ab63fa"
            ]
           ],
           "geo": "geo",
           "hovertemplate": "<b>%{hovertext}</b><br><br>article_score=-0.243<br>year=2015<br>country_ISO_code=%{location}<extra></extra>",
           "hovertext": [
            "Uganda"
           ],
           "locations": [
            "UGA"
           ],
           "name": "-0.243",
           "showlegend": true,
           "showscale": false,
           "type": "choropleth",
           "z": [
            1
           ]
          },
          {
           "colorscale": [
            [
             0,
             "#FFA15A"
            ],
            [
             1,
             "#FFA15A"
            ]
           ],
           "geo": "geo",
           "hovertemplate": "<b>%{hovertext}</b><br><br>article_score=-0.201<br>year=2015<br>country_ISO_code=%{location}<extra></extra>",
           "hovertext": [
            "Ukraine"
           ],
           "locations": [
            "UKR"
           ],
           "name": "-0.201",
           "showlegend": true,
           "showscale": false,
           "type": "choropleth",
           "z": [
            1
           ]
          },
          {
           "colorscale": [
            [
             0,
             "#19d3f3"
            ],
            [
             1,
             "#19d3f3"
            ]
           ],
           "geo": "geo",
           "hovertemplate": "<b>%{hovertext}</b><br><br>article_score=-0.018<br>year=2015<br>country_ISO_code=%{location}<extra></extra>",
           "hovertext": [
            "United Arab Emirates"
           ],
           "locations": [
            "ARE"
           ],
           "name": "-0.018",
           "showlegend": true,
           "showscale": false,
           "type": "choropleth",
           "z": [
            1
           ]
          },
          {
           "colorscale": [
            [
             0,
             "#FF6692"
            ],
            [
             1,
             "#FF6692"
            ]
           ],
           "geo": "geo",
           "hovertemplate": "<b>%{hovertext}</b><br><br>article_score=-0.082<br>year=2015<br>country_ISO_code=%{location}<extra></extra>",
           "hovertext": [
            "United States"
           ],
           "locations": [
            "USA"
           ],
           "name": "-0.082",
           "showlegend": true,
           "showscale": false,
           "type": "choropleth",
           "z": [
            1
           ]
          },
          {
           "colorscale": [
            [
             0,
             "#B6E880"
            ],
            [
             1,
             "#B6E880"
            ]
           ],
           "geo": "geo",
           "hovertemplate": "<b>%{hovertext}</b><br><br>article_score=0.138<br>year=2015<br>country_ISO_code=%{location}<extra></extra>",
           "hovertext": [
            "Uruguay"
           ],
           "locations": [
            "URY"
           ],
           "name": "0.138",
           "showlegend": true,
           "showscale": false,
           "type": "choropleth",
           "z": [
            1
           ]
          },
          {
           "colorscale": [
            [
             0,
             "#FF97FF"
            ],
            [
             1,
             "#FF97FF"
            ]
           ],
           "geo": "geo",
           "hovertemplate": "<b>%{hovertext}</b><br><br>article_score=-0.807<br>year=2015<br>country_ISO_code=%{location}<extra></extra>",
           "hovertext": [
            "Uzbekistan"
           ],
           "locations": [
            "UZB"
           ],
           "name": "-0.807",
           "showlegend": true,
           "showscale": false,
           "type": "choropleth",
           "z": [
            1
           ]
          },
          {
           "colorscale": [
            [
             0,
             "#FECB52"
            ],
            [
             1,
             "#FECB52"
            ]
           ],
           "geo": "geo",
           "hovertemplate": "<b>%{hovertext}</b><br><br>article_score=0.358<br>year=2015<br>country_ISO_code=%{location}<extra></extra>",
           "hovertext": [
            "Vietnam"
           ],
           "locations": [
            "VNM"
           ],
           "name": "0.358",
           "showlegend": true,
           "showscale": false,
           "type": "choropleth",
           "z": [
            1
           ]
          },
          {
           "colorscale": [
            [
             0,
             "#636efa"
            ],
            [
             1,
             "#636efa"
            ]
           ],
           "geo": "geo",
           "hovertemplate": "<b>%{hovertext}</b><br><br>article_score=-0.665<br>year=2015<br>country_ISO_code=%{location}<extra></extra>",
           "hovertext": [
            "Yemen"
           ],
           "locations": [
            "YEM"
           ],
           "name": "-0.665",
           "showlegend": true,
           "showscale": false,
           "type": "choropleth",
           "z": [
            1
           ]
          },
          {
           "colorscale": [
            [
             0,
             "#EF553B"
            ],
            [
             1,
             "#EF553B"
            ]
           ],
           "geo": "geo",
           "hovertemplate": "<b>%{hovertext}</b><br><br>article_score=-0.622<br>year=2015<br>country_ISO_code=%{location}<extra></extra>",
           "hovertext": [
            "Zimbabwe"
           ],
           "locations": [
            "ZWE"
           ],
           "name": "-0.622",
           "showlegend": true,
           "showscale": false,
           "type": "choropleth",
           "z": [
            1
           ]
          }
         ],
         "name": "2015"
        },
        {
         "data": [
          {
           "colorscale": [
            [
             0,
             "#EF553B"
            ],
            [
             1,
             "#EF553B"
            ]
           ],
           "geo": "geo",
           "hovertemplate": "<b>%{hovertext}</b><br><br>article_score=-0.101<br>year=2016<br>country_ISO_code=%{location}<extra></extra>",
           "hovertext": [
            "Andorra"
           ],
           "locations": [
            "AND"
           ],
           "name": "-0.101",
           "showlegend": true,
           "showscale": false,
           "type": "choropleth",
           "z": [
            1
           ]
          },
          {
           "colorscale": [
            [
             0,
             "#ab63fa"
            ],
            [
             1,
             "#ab63fa"
            ]
           ],
           "geo": "geo",
           "hovertemplate": "<b>%{hovertext}</b><br><br>article_score=0.181<br>year=2016<br>country_ISO_code=%{location}<extra></extra>",
           "hovertext": [
            "Egypt"
           ],
           "locations": [
            "EGY"
           ],
           "name": "0.181",
           "showlegend": true,
           "showscale": false,
           "type": "choropleth",
           "z": [
            1
           ]
          },
          {
           "colorscale": [
            [
             0,
             "#19d3f3"
            ],
            [
             1,
             "#19d3f3"
            ]
           ],
           "geo": "geo",
           "hovertemplate": "<b>%{hovertext}</b><br><br>article_score=0.27<br>year=2016<br>country_ISO_code=%{location}<extra></extra>",
           "hovertext": [
            "Austria"
           ],
           "locations": [
            "AUT"
           ],
           "name": "0.27",
           "showlegend": true,
           "showscale": false,
           "type": "choropleth",
           "z": [
            1
           ]
          },
          {
           "colorscale": [
            [
             0,
             "#FF6692"
            ],
            [
             1,
             "#FF6692"
            ]
           ],
           "geo": "geo",
           "hovertemplate": "<b>%{hovertext}</b><br><br>article_score=0.599<br>year=2016<br>country_ISO_code=%{location}<extra></extra>",
           "hovertext": [
            "Azerbaijan"
           ],
           "locations": [
            "AZE"
           ],
           "name": "0.599",
           "showlegend": true,
           "showscale": false,
           "type": "choropleth",
           "z": [
            1
           ]
          },
          {
           "colorscale": [
            [
             0,
             "#FF97FF"
            ],
            [
             1,
             "#FF97FF"
            ]
           ],
           "geo": "geo",
           "hovertemplate": "<b>%{hovertext}</b><br><br>article_score=0.0<br>year=2016<br>country_ISO_code=%{location}<extra></extra>",
           "hovertext": [
            "Belarus",
            "Bermuda",
            "Croatia",
            "Iceland",
            "Jordan",
            "Netherlands",
            "Pakistan",
            "Portugal",
            "Slovakia"
           ],
           "locations": [
            "BLR",
            "BMU",
            "HRV",
            "ISL",
            "JOR",
            "NLD",
            "PAK",
            "PRT",
            "SVK"
           ],
           "name": "0.0",
           "showlegend": true,
           "showscale": false,
           "type": "choropleth",
           "z": [
            1,
            1,
            1,
            1,
            1,
            1,
            1,
            1,
            1
           ]
          },
          {
           "colorscale": [
            [
             0,
             "#FECB52"
            ],
            [
             1,
             "#FECB52"
            ]
           ],
           "geo": "geo",
           "hovertemplate": "<b>%{hovertext}</b><br><br>article_score=-0.02<br>year=2016<br>country_ISO_code=%{location}<extra></extra>",
           "hovertext": [
            "Hong Kong"
           ],
           "locations": [
            "HKG"
           ],
           "name": "-0.02",
           "showlegend": true,
           "showscale": false,
           "type": "choropleth",
           "z": [
            1
           ]
          },
          {
           "colorscale": [
            [
             0,
             "#EF553B"
            ],
            [
             1,
             "#EF553B"
            ]
           ],
           "geo": "geo",
           "hovertemplate": "<b>%{hovertext}</b><br><br>article_score=0.402<br>year=2016<br>country_ISO_code=%{location}<extra></extra>",
           "hovertext": [
            "Bolivia",
            "Czechia"
           ],
           "locations": [
            "BOL",
            "CZE"
           ],
           "name": "0.402",
           "showlegend": true,
           "showscale": false,
           "type": "choropleth",
           "z": [
            1,
            1
           ]
          },
          {
           "colorscale": [
            [
             0,
             "#00cc96"
            ],
            [
             1,
             "#00cc96"
            ]
           ],
           "geo": "geo",
           "hovertemplate": "<b>%{hovertext}</b><br><br>article_score=-0.49<br>year=2016<br>country_ISO_code=%{location}<extra></extra>",
           "hovertext": [
            "Botswana"
           ],
           "locations": [
            "BWA"
           ],
           "name": "-0.49",
           "showlegend": true,
           "showscale": false,
           "type": "choropleth",
           "z": [
            1
           ]
          },
          {
           "colorscale": [
            [
             0,
             "#FFA15A"
            ],
            [
             1,
             "#FFA15A"
            ]
           ],
           "geo": "geo",
           "hovertemplate": "<b>%{hovertext}</b><br><br>article_score=-0.226<br>year=2016<br>country_ISO_code=%{location}<extra></extra>",
           "hovertext": [
            "British Virgin Islands"
           ],
           "locations": [
            "VGB"
           ],
           "name": "-0.226",
           "showlegend": true,
           "showscale": false,
           "type": "choropleth",
           "z": [
            1
           ]
          },
          {
           "colorscale": [
            [
             0,
             "#B6E880"
            ],
            [
             1,
             "#B6E880"
            ]
           ],
           "geo": "geo",
           "hovertemplate": "<b>%{hovertext}</b><br><br>article_score=0.018<br>year=2016<br>country_ISO_code=%{location}<extra></extra>",
           "hovertext": [
            "Chile",
            "Spain"
           ],
           "locations": [
            "CHL",
            "ESP"
           ],
           "name": "0.018",
           "showlegend": true,
           "showscale": false,
           "type": "choropleth",
           "z": [
            1,
            1
           ]
          },
          {
           "colorscale": [
            [
             0,
             "#636efa"
            ],
            [
             1,
             "#636efa"
            ]
           ],
           "geo": "geo",
           "hovertemplate": "<b>%{hovertext}</b><br><br>article_score=-0.131<br>year=2016<br>country_ISO_code=%{location}<extra></extra>",
           "hovertext": [
            "Germany"
           ],
           "locations": [
            "DEU"
           ],
           "name": "-0.131",
           "showlegend": true,
           "showscale": false,
           "type": "choropleth",
           "z": [
            1
           ]
          },
          {
           "colorscale": [
            [
             0,
             "#EF553B"
            ],
            [
             1,
             "#EF553B"
            ]
           ],
           "geo": "geo",
           "hovertemplate": "<b>%{hovertext}</b><br><br>article_score=-0.236<br>year=2016<br>country_ISO_code=%{location}<extra></extra>",
           "hovertext": [
            "Cyprus"
           ],
           "locations": [
            "CYP"
           ],
           "name": "-0.236",
           "showlegend": true,
           "showscale": false,
           "type": "choropleth",
           "z": [
            1
           ]
          },
          {
           "colorscale": [
            [
             0,
             "#00cc96"
            ],
            [
             1,
             "#00cc96"
            ]
           ],
           "geo": "geo",
           "hovertemplate": "<b>%{hovertext}</b><br><br>article_score=0.178<br>year=2016<br>country_ISO_code=%{location}<extra></extra>",
           "hovertext": [
            "Côte d'Ivoire"
           ],
           "locations": [
            "CIV"
           ],
           "name": "0.178",
           "showlegend": true,
           "showscale": false,
           "type": "choropleth",
           "z": [
            1
           ]
          },
          {
           "colorscale": [
            [
             0,
             "#EF553B"
            ],
            [
             1,
             "#EF553B"
            ]
           ],
           "geo": "geo",
           "hovertemplate": "<b>%{hovertext}</b><br><br>article_score=-0.7<br>year=2016<br>country_ISO_code=%{location}<extra></extra>",
           "hovertext": [
            "Ghana"
           ],
           "locations": [
            "GHA"
           ],
           "name": "-0.7",
           "showlegend": true,
           "showscale": false,
           "type": "choropleth",
           "z": [
            1
           ]
          },
          {
           "colorscale": [
            [
             0,
             "#00cc96"
            ],
            [
             1,
             "#00cc96"
            ]
           ],
           "geo": "geo",
           "hovertemplate": "<b>%{hovertext}</b><br><br>article_score=0.421<br>year=2016<br>country_ISO_code=%{location}<extra></extra>",
           "hovertext": [
            "American Samoa",
            "Gibraltar",
            "Singapore"
           ],
           "locations": [
            "ASM",
            "GIB",
            "SGP"
           ],
           "name": "0.421",
           "showlegend": true,
           "showscale": false,
           "type": "choropleth",
           "z": [
            1,
            1,
            1
           ]
          },
          {
           "colorscale": [
            [
             0,
             "#19d3f3"
            ],
            [
             1,
             "#19d3f3"
            ]
           ],
           "geo": "geo",
           "hovertemplate": "<b>%{hovertext}</b><br><br>article_score=-0.137<br>year=2016<br>country_ISO_code=%{location}<extra></extra>",
           "hovertext": [
            "Guinea",
            "Iran"
           ],
           "locations": [
            "GIN",
            "IRN"
           ],
           "name": "-0.137",
           "showlegend": true,
           "showscale": false,
           "type": "choropleth",
           "z": [
            1,
            1
           ]
          },
          {
           "colorscale": [
            [
             0,
             "#FF6692"
            ],
            [
             1,
             "#FF6692"
            ]
           ],
           "geo": "geo",
           "hovertemplate": "<b>%{hovertext}</b><br><br>article_score=-0.527<br>year=2016<br>country_ISO_code=%{location}<extra></extra>",
           "hovertext": [
            "Guyana"
           ],
           "locations": [
            "GUY"
           ],
           "name": "-0.527",
           "showlegend": true,
           "showscale": false,
           "type": "choropleth",
           "z": [
            1
           ]
          },
          {
           "colorscale": [
            [
             0,
             "#FF97FF"
            ],
            [
             1,
             "#FF97FF"
            ]
           ],
           "geo": "geo",
           "hovertemplate": "<b>%{hovertext}</b><br><br>article_score=-0.599<br>year=2016<br>country_ISO_code=%{location}<extra></extra>",
           "hovertext": [
            "Heard Island and McDonald Islands"
           ],
           "locations": [
            "HMD"
           ],
           "name": "-0.599",
           "showlegend": true,
           "showscale": false,
           "type": "choropleth",
           "z": [
            1
           ]
          },
          {
           "colorscale": [
            [
             0,
             "#FECB52"
            ],
            [
             1,
             "#FECB52"
            ]
           ],
           "geo": "geo",
           "hovertemplate": "<b>%{hovertext}</b><br><br>article_score=-0.026<br>year=2016<br>country_ISO_code=%{location}<extra></extra>",
           "hovertext": [
            "Tanzania"
           ],
           "locations": [
            "TZA"
           ],
           "name": "-0.026",
           "showlegend": true,
           "showscale": false,
           "type": "choropleth",
           "z": [
            1
           ]
          },
          {
           "colorscale": [
            [
             0,
             "#EF553B"
            ],
            [
             1,
             "#EF553B"
            ]
           ],
           "geo": "geo",
           "hovertemplate": "<b>%{hovertext}</b><br><br>article_score=-0.134<br>year=2016<br>country_ISO_code=%{location}<extra></extra>",
           "hovertext": [
            "Argentina"
           ],
           "locations": [
            "ARG"
           ],
           "name": "-0.134",
           "showlegend": true,
           "showscale": false,
           "type": "choropleth",
           "z": [
            1
           ]
          },
          {
           "colorscale": [
            [
             0,
             "#ab63fa"
            ],
            [
             1,
             "#ab63fa"
            ]
           ],
           "geo": "geo",
           "hovertemplate": "<b>%{hovertext}</b><br><br>article_score=0.101<br>year=2016<br>country_ISO_code=%{location}<extra></extra>",
           "hovertext": [
            "Peru"
           ],
           "locations": [
            "PER"
           ],
           "name": "0.101",
           "showlegend": true,
           "showscale": false,
           "type": "choropleth",
           "z": [
            1
           ]
          },
          {
           "colorscale": [
            [
             0,
             "#19d3f3"
            ],
            [
             1,
             "#19d3f3"
            ]
           ],
           "geo": "geo",
           "hovertemplate": "<b>%{hovertext}</b><br><br>article_score=-0.292<br>year=2016<br>country_ISO_code=%{location}<extra></extra>",
           "hovertext": [
            "Ireland"
           ],
           "locations": [
            "IRL"
           ],
           "name": "-0.292",
           "showlegend": true,
           "showscale": false,
           "type": "choropleth",
           "z": [
            1
           ]
          },
          {
           "colorscale": [
            [
             0,
             "#B6E880"
            ],
            [
             1,
             "#B6E880"
            ]
           ],
           "geo": "geo",
           "hovertemplate": "<b>%{hovertext}</b><br><br>article_score=0.606<br>year=2016<br>country_ISO_code=%{location}<extra></extra>",
           "hovertext": [
            "Isle of Man"
           ],
           "locations": [
            "IMN"
           ],
           "name": "0.606",
           "showlegend": true,
           "showscale": false,
           "type": "choropleth",
           "z": [
            1
           ]
          },
          {
           "colorscale": [
            [
             0,
             "#00cc96"
            ],
            [
             1,
             "#00cc96"
            ]
           ],
           "geo": "geo",
           "hovertemplate": "<b>%{hovertext}</b><br><br>article_score=-0.477<br>year=2016<br>country_ISO_code=%{location}<extra></extra>",
           "hovertext": [
            "Hungary",
            "Latvia"
           ],
           "locations": [
            "HUN",
            "LVA"
           ],
           "name": "-0.477",
           "showlegend": true,
           "showscale": false,
           "type": "choropleth",
           "z": [
            1,
            1
           ]
          },
          {
           "colorscale": [
            [
             0,
             "#FFA15A"
            ],
            [
             1,
             "#FFA15A"
            ]
           ],
           "geo": "geo",
           "hovertemplate": "<b>%{hovertext}</b><br><br>article_score=0.222<br>year=2016<br>country_ISO_code=%{location}<extra></extra>",
           "hovertext": [
            "Liberia"
           ],
           "locations": [
            "LBR"
           ],
           "name": "0.222",
           "showlegend": true,
           "showscale": false,
           "type": "choropleth",
           "z": [
            1
           ]
          },
          {
           "colorscale": [
            [
             0,
             "#FF6692"
            ],
            [
             1,
             "#FF6692"
            ]
           ],
           "geo": "geo",
           "hovertemplate": "<b>%{hovertext}</b><br><br>article_score=0.494<br>year=2016<br>country_ISO_code=%{location}<extra></extra>",
           "hovertext": [
            "Lithuania"
           ],
           "locations": [
            "LTU"
           ],
           "name": "0.494",
           "showlegend": true,
           "showscale": false,
           "type": "choropleth",
           "z": [
            1
           ]
          },
          {
           "colorscale": [
            [
             0,
             "#FF97FF"
            ],
            [
             1,
             "#FF97FF"
            ]
           ],
           "geo": "geo",
           "hovertemplate": "<b>%{hovertext}</b><br><br>article_score=0.44<br>year=2016<br>country_ISO_code=%{location}<extra></extra>",
           "hovertext": [
            "Macao"
           ],
           "locations": [
            "MAC"
           ],
           "name": "0.44",
           "showlegend": true,
           "showscale": false,
           "type": "choropleth",
           "z": [
            1
           ]
          },
          {
           "colorscale": [
            [
             0,
             "#ab63fa"
            ],
            [
             1,
             "#ab63fa"
            ]
           ],
           "geo": "geo",
           "hovertemplate": "<b>%{hovertext}</b><br><br>article_score=0.159<br>year=2016<br>country_ISO_code=%{location}<extra></extra>",
           "hovertext": [
            "Nepal"
           ],
           "locations": [
            "NPL"
           ],
           "name": "0.159",
           "showlegend": true,
           "showscale": false,
           "type": "choropleth",
           "z": [
            1
           ]
          },
          {
           "colorscale": [
            [
             0,
             "#FF6692"
            ],
            [
             1,
             "#FF6692"
            ]
           ],
           "geo": "geo",
           "hovertemplate": "<b>%{hovertext}</b><br><br>article_score=-0.273<br>year=2016<br>country_ISO_code=%{location}<extra></extra>",
           "hovertext": [
            "Nicaragua"
           ],
           "locations": [
            "NIC"
           ],
           "name": "-0.273",
           "showlegend": true,
           "showscale": false,
           "type": "choropleth",
           "z": [
            1
           ]
          },
          {
           "colorscale": [
            [
             0,
             "#B6E880"
            ],
            [
             1,
             "#B6E880"
            ]
           ],
           "geo": "geo",
           "hovertemplate": "<b>%{hovertext}</b><br><br>article_score=0.35<br>year=2016<br>country_ISO_code=%{location}<extra></extra>",
           "hovertext": [
            "Nigeria"
           ],
           "locations": [
            "NGA"
           ],
           "name": "0.35",
           "showlegend": true,
           "showscale": false,
           "type": "choropleth",
           "z": [
            1
           ]
          },
          {
           "colorscale": [
            [
             0,
             "#FF97FF"
            ],
            [
             1,
             "#FF97FF"
            ]
           ],
           "geo": "geo",
           "hovertemplate": "<b>%{hovertext}</b><br><br>article_score=0.625<br>year=2016<br>country_ISO_code=%{location}<extra></extra>",
           "hovertext": [
            "North Macedonia"
           ],
           "locations": [
            "MKD"
           ],
           "name": "0.625",
           "showlegend": true,
           "showscale": false,
           "type": "choropleth",
           "z": [
            1
           ]
          },
          {
           "colorscale": [
            [
             0,
             "#00cc96"
            ],
            [
             1,
             "#00cc96"
            ]
           ],
           "geo": "geo",
           "hovertemplate": "<b>%{hovertext}</b><br><br>article_score=-0.52<br>year=2016<br>country_ISO_code=%{location}<extra></extra>",
           "hovertext": [
            "Papua New Guinea"
           ],
           "locations": [
            "PNG"
           ],
           "name": "-0.52",
           "showlegend": true,
           "showscale": false,
           "type": "choropleth",
           "z": [
            1
           ]
          },
          {
           "colorscale": [
            [
             0,
             "#ab63fa"
            ],
            [
             1,
             "#ab63fa"
            ]
           ],
           "geo": "geo",
           "hovertemplate": "<b>%{hovertext}</b><br><br>article_score=-0.03<br>year=2016<br>country_ISO_code=%{location}<extra></extra>",
           "hovertext": [
            "Greece"
           ],
           "locations": [
            "GRC"
           ],
           "name": "-0.03",
           "showlegend": true,
           "showscale": false,
           "type": "choropleth",
           "z": [
            1
           ]
          },
          {
           "colorscale": [
            [
             0,
             "#FFA15A"
            ],
            [
             1,
             "#FFA15A"
            ]
           ],
           "geo": "geo",
           "hovertemplate": "<b>%{hovertext}</b><br><br>article_score=0.008<br>year=2016<br>country_ISO_code=%{location}<extra></extra>",
           "hovertext": [
            "Panama"
           ],
           "locations": [
            "PAN"
           ],
           "name": "0.008",
           "showlegend": true,
           "showscale": false,
           "type": "choropleth",
           "z": [
            1
           ]
          },
          {
           "colorscale": [
            [
             0,
             "#19d3f3"
            ],
            [
             1,
             "#19d3f3"
            ]
           ],
           "geo": "geo",
           "hovertemplate": "<b>%{hovertext}</b><br><br>article_score=-0.121<br>year=2016<br>country_ISO_code=%{location}<extra></extra>",
           "hovertext": [
            "Japan"
           ],
           "locations": [
            "JPN"
           ],
           "name": "-0.121",
           "showlegend": true,
           "showscale": false,
           "type": "choropleth",
           "z": [
            1
           ]
          },
          {
           "colorscale": [
            [
             0,
             "#FECB52"
            ],
            [
             1,
             "#FECB52"
            ]
           ],
           "geo": "geo",
           "hovertemplate": "<b>%{hovertext}</b><br><br>article_score=0.84<br>year=2016<br>country_ISO_code=%{location}<extra></extra>",
           "hovertext": [
            "Sierra Leone"
           ],
           "locations": [
            "SLE"
           ],
           "name": "0.84",
           "showlegend": true,
           "showscale": false,
           "type": "choropleth",
           "z": [
            1
           ]
          },
          {
           "colorscale": [
            [
             0,
             "#EF553B"
            ],
            [
             1,
             "#EF553B"
            ]
           ],
           "geo": "geo",
           "hovertemplate": "<b>%{hovertext}</b><br><br>article_score=0.144<br>year=2016<br>country_ISO_code=%{location}<extra></extra>",
           "hovertext": [
            "Taiwan"
           ],
           "locations": [
            "TWN"
           ],
           "name": "0.144",
           "showlegend": true,
           "showscale": false,
           "type": "choropleth",
           "z": [
            1
           ]
          },
          {
           "colorscale": [
            [
             0,
             "#ab63fa"
            ],
            [
             1,
             "#ab63fa"
            ]
           ],
           "geo": "geo",
           "hovertemplate": "<b>%{hovertext}</b><br><br>article_score=-0.612<br>year=2016<br>country_ISO_code=%{location}<extra></extra>",
           "hovertext": [
            "South Sudan"
           ],
           "locations": [
            "SSD"
           ],
           "name": "-0.612",
           "showlegend": true,
           "showscale": false,
           "type": "choropleth",
           "z": [
            1
           ]
          },
          {
           "colorscale": [
            [
             0,
             "#19d3f3"
            ],
            [
             1,
             "#19d3f3"
            ]
           ],
           "geo": "geo",
           "hovertemplate": "<b>%{hovertext}</b><br><br>article_score=-0.165<br>year=2016<br>country_ISO_code=%{location}<extra></extra>",
           "hovertext": [
            "Sudan"
           ],
           "locations": [
            "SDN"
           ],
           "name": "-0.165",
           "showlegend": true,
           "showscale": false,
           "type": "choropleth",
           "z": [
            1
           ]
          },
          {
           "colorscale": [
            [
             0,
             "#FF6692"
            ],
            [
             1,
             "#FF6692"
            ]
           ],
           "geo": "geo",
           "hovertemplate": "<b>%{hovertext}</b><br><br>article_score=0.202<br>year=2016<br>country_ISO_code=%{location}<extra></extra>",
           "hovertext": [
            "Poland"
           ],
           "locations": [
            "POL"
           ],
           "name": "0.202",
           "showlegend": true,
           "showscale": false,
           "type": "choropleth",
           "z": [
            1
           ]
          },
          {
           "colorscale": [
            [
             0,
             "#FECB52"
            ],
            [
             1,
             "#FECB52"
            ]
           ],
           "geo": "geo",
           "hovertemplate": "<b>%{hovertext}</b><br><br>article_score=-0.572<br>year=2016<br>country_ISO_code=%{location}<extra></extra>",
           "hovertext": [
            "Tajikistan"
           ],
           "locations": [
            "TJK"
           ],
           "name": "-0.572",
           "showlegend": true,
           "showscale": false,
           "type": "choropleth",
           "z": [
            1
           ]
          },
          {
           "colorscale": [
            [
             0,
             "#636efa"
            ],
            [
             1,
             "#636efa"
            ]
           ],
           "geo": "geo",
           "hovertemplate": "<b>%{hovertext}</b><br><br>article_score=-0.839<br>year=2016<br>country_ISO_code=%{location}<extra></extra>",
           "hovertext": [
            "Thailand"
           ],
           "locations": [
            "THA"
           ],
           "name": "-0.839",
           "showlegend": true,
           "showscale": false,
           "type": "choropleth",
           "z": [
            1
           ]
          },
          {
           "colorscale": [
            [
             0,
             "#EF553B"
            ],
            [
             1,
             "#EF553B"
            ]
           ],
           "geo": "geo",
           "hovertemplate": "<b>%{hovertext}</b><br><br>article_score=0.189<br>year=2016<br>country_ISO_code=%{location}<extra></extra>",
           "hovertext": [
            "The Bahamas",
            "Turkey"
           ],
           "locations": [
            "BHS",
            "TUR"
           ],
           "name": "0.189",
           "showlegend": true,
           "showscale": false,
           "type": "choropleth",
           "z": [
            1,
            1
           ]
          },
          {
           "colorscale": [
            [
             0,
             "#FF97FF"
            ],
            [
             1,
             "#FF97FF"
            ]
           ],
           "geo": "geo",
           "hovertemplate": "<b>%{hovertext}</b><br><br>article_score=-0.807<br>year=2016<br>country_ISO_code=%{location}<extra></extra>",
           "hovertext": [
            "Uzbekistan"
           ],
           "locations": [
            "UZB"
           ],
           "name": "-0.807",
           "showlegend": true,
           "showscale": false,
           "type": "choropleth",
           "z": [
            1
           ]
          },
          {
           "colorscale": [
            [
             0,
             "#EF553B"
            ],
            [
             1,
             "#EF553B"
            ]
           ],
           "geo": "geo",
           "hovertemplate": "<b>%{hovertext}</b><br><br>article_score=-0.622<br>year=2016<br>country_ISO_code=%{location}<extra></extra>",
           "hovertext": [
            "Zimbabwe"
           ],
           "locations": [
            "ZWE"
           ],
           "name": "-0.622",
           "showlegend": true,
           "showscale": false,
           "type": "choropleth",
           "z": [
            1
           ]
          },
          {
           "colorscale": [
            [
             0,
             "#00cc96"
            ],
            [
             1,
             "#00cc96"
            ]
           ],
           "geo": "geo",
           "hovertemplate": "<b>%{hovertext}</b><br><br>article_score=-0.348<br>year=2016<br>country_ISO_code=%{location}<extra></extra>",
           "hovertext": [
            "Afghanistan"
           ],
           "locations": [
            "AFG"
           ],
           "name": "-0.348",
           "showlegend": true,
           "showscale": false,
           "type": "choropleth",
           "z": [
            1
           ]
          },
          {
           "colorscale": [
            [
             0,
             "#ab63fa"
            ],
            [
             1,
             "#ab63fa"
            ]
           ],
           "geo": "geo",
           "hovertemplate": "<b>%{hovertext}</b><br><br>article_score=-0.691<br>year=2016<br>country_ISO_code=%{location}<extra></extra>",
           "hovertext": [
            "Algeria"
           ],
           "locations": [
            "DZA"
           ],
           "name": "-0.691",
           "showlegend": true,
           "showscale": false,
           "type": "choropleth",
           "z": [
            1
           ]
          },
          {
           "colorscale": [
            [
             0,
             "#FFA15A"
            ],
            [
             1,
             "#FFA15A"
            ]
           ],
           "geo": "geo",
           "hovertemplate": "<b>%{hovertext}</b><br><br>article_score=-0.099<br>year=2016<br>country_ISO_code=%{location}<extra></extra>",
           "hovertext": [
            "Antarctica"
           ],
           "locations": [
            "ATA"
           ],
           "name": "-0.099",
           "showlegend": true,
           "showscale": false,
           "type": "choropleth",
           "z": [
            1
           ]
          },
          {
           "colorscale": [
            [
             0,
             "#19d3f3"
            ],
            [
             1,
             "#19d3f3"
            ]
           ],
           "geo": "geo",
           "hovertemplate": "<b>%{hovertext}</b><br><br>article_score=-0.096<br>year=2016<br>country_ISO_code=%{location}<extra></extra>",
           "hovertext": [
            "Australia"
           ],
           "locations": [
            "AUS"
           ],
           "name": "-0.096",
           "showlegend": true,
           "showscale": false,
           "type": "choropleth",
           "z": [
            1
           ]
          },
          {
           "colorscale": [
            [
             0,
             "#FF6692"
            ],
            [
             1,
             "#FF6692"
            ]
           ],
           "geo": "geo",
           "hovertemplate": "<b>%{hovertext}</b><br><br>article_score=-0.426<br>year=2016<br>country_ISO_code=%{location}<extra></extra>",
           "hovertext": [
            "Bangladesh"
           ],
           "locations": [
            "BGD"
           ],
           "name": "-0.426",
           "showlegend": true,
           "showscale": false,
           "type": "choropleth",
           "z": [
            1
           ]
          },
          {
           "colorscale": [
            [
             0,
             "#B6E880"
            ],
            [
             1,
             "#B6E880"
            ]
           ],
           "geo": "geo",
           "hovertemplate": "<b>%{hovertext}</b><br><br>article_score=-0.441<br>year=2016<br>country_ISO_code=%{location}<extra></extra>",
           "hovertext": [
            "Belgium"
           ],
           "locations": [
            "BEL"
           ],
           "name": "-0.441",
           "showlegend": true,
           "showscale": false,
           "type": "choropleth",
           "z": [
            1
           ]
          },
          {
           "colorscale": [
            [
             0,
             "#FF97FF"
            ],
            [
             1,
             "#FF97FF"
            ]
           ],
           "geo": "geo",
           "hovertemplate": "<b>%{hovertext}</b><br><br>article_score=-0.058<br>year=2016<br>country_ISO_code=%{location}<extra></extra>",
           "hovertext": [
            "Brazil"
           ],
           "locations": [
            "BRA"
           ],
           "name": "-0.058",
           "showlegend": true,
           "showscale": false,
           "type": "choropleth",
           "z": [
            1
           ]
          },
          {
           "colorscale": [
            [
             0,
             "#FECB52"
            ],
            [
             1,
             "#FECB52"
            ]
           ],
           "geo": "geo",
           "hovertemplate": "<b>%{hovertext}</b><br><br>article_score=0.274<br>year=2016<br>country_ISO_code=%{location}<extra></extra>",
           "hovertext": [
            "Cambodia"
           ],
           "locations": [
            "KHM"
           ],
           "name": "0.274",
           "showlegend": true,
           "showscale": false,
           "type": "choropleth",
           "z": [
            1
           ]
          },
          {
           "colorscale": [
            [
             0,
             "#636efa"
            ],
            [
             1,
             "#636efa"
            ]
           ],
           "geo": "geo",
           "hovertemplate": "<b>%{hovertext}</b><br><br>article_score=0.161<br>year=2016<br>country_ISO_code=%{location}<extra></extra>",
           "hovertext": [
            "Canada"
           ],
           "locations": [
            "CAN"
           ],
           "name": "0.161",
           "showlegend": true,
           "showscale": false,
           "type": "choropleth",
           "z": [
            1
           ]
          },
          {
           "colorscale": [
            [
             0,
             "#EF553B"
            ],
            [
             1,
             "#EF553B"
            ]
           ],
           "geo": "geo",
           "hovertemplate": "<b>%{hovertext}</b><br><br>article_score=0.226<br>year=2016<br>country_ISO_code=%{location}<extra></extra>",
           "hovertext": [
            "Cayman Islands"
           ],
           "locations": [
            "CYM"
           ],
           "name": "0.226",
           "showlegend": true,
           "showscale": false,
           "type": "choropleth",
           "z": [
            1
           ]
          },
          {
           "colorscale": [
            [
             0,
             "#00cc96"
            ],
            [
             1,
             "#00cc96"
            ]
           ],
           "geo": "geo",
           "hovertemplate": "<b>%{hovertext}</b><br><br>article_score=0.057<br>year=2016<br>country_ISO_code=%{location}<extra></extra>",
           "hovertext": [
            "China",
            "United Kingdom"
           ],
           "locations": [
            "CHN",
            "GBR"
           ],
           "name": "0.057",
           "showlegend": true,
           "showscale": false,
           "type": "choropleth",
           "z": [
            1,
            1
           ]
          },
          {
           "colorscale": [
            [
             0,
             "#ab63fa"
            ],
            [
             1,
             "#ab63fa"
            ]
           ],
           "geo": "geo",
           "hovertemplate": "<b>%{hovertext}</b><br><br>article_score=-0.155<br>year=2016<br>country_ISO_code=%{location}<extra></extra>",
           "hovertext": [
            "Colombia",
            "Puerto Rico"
           ],
           "locations": [
            "COL",
            "PRI"
           ],
           "name": "-0.155",
           "showlegend": true,
           "showscale": false,
           "type": "choropleth",
           "z": [
            1,
            1
           ]
          },
          {
           "colorscale": [
            [
             0,
             "#FFA15A"
            ],
            [
             1,
             "#FFA15A"
            ]
           ],
           "geo": "geo",
           "hovertemplate": "<b>%{hovertext}</b><br><br>article_score=-0.284<br>year=2016<br>country_ISO_code=%{location}<extra></extra>",
           "hovertext": [
            "Cuba"
           ],
           "locations": [
            "CUB"
           ],
           "name": "-0.284",
           "showlegend": true,
           "showscale": false,
           "type": "choropleth",
           "z": [
            1
           ]
          },
          {
           "colorscale": [
            [
             0,
             "#19d3f3"
            ],
            [
             1,
             "#19d3f3"
            ]
           ],
           "geo": "geo",
           "hovertemplate": "<b>%{hovertext}</b><br><br>article_score=0.346<br>year=2016<br>country_ISO_code=%{location}<extra></extra>",
           "hovertext": [
            "Denmark"
           ],
           "locations": [
            "DNK"
           ],
           "name": "0.346",
           "showlegend": true,
           "showscale": false,
           "type": "choropleth",
           "z": [
            1
           ]
          },
          {
           "colorscale": [
            [
             0,
             "#FF6692"
            ],
            [
             1,
             "#FF6692"
            ]
           ],
           "geo": "geo",
           "hovertemplate": "<b>%{hovertext}</b><br><br>article_score=-0.279<br>year=2016<br>country_ISO_code=%{location}<extra></extra>",
           "hovertext": [
            "Dominican Republic"
           ],
           "locations": [
            "DOM"
           ],
           "name": "-0.279",
           "showlegend": true,
           "showscale": false,
           "type": "choropleth",
           "z": [
            1
           ]
          },
          {
           "colorscale": [
            [
             0,
             "#B6E880"
            ],
            [
             1,
             "#B6E880"
            ]
           ],
           "geo": "geo",
           "hovertemplate": "<b>%{hovertext}</b><br><br>article_score=-0.681<br>year=2016<br>country_ISO_code=%{location}<extra></extra>",
           "hovertext": [
            "Ecuador"
           ],
           "locations": [
            "ECU"
           ],
           "name": "-0.681",
           "showlegend": true,
           "showscale": false,
           "type": "choropleth",
           "z": [
            1
           ]
          },
          {
           "colorscale": [
            [
             0,
             "#FF97FF"
            ],
            [
             1,
             "#FF97FF"
            ]
           ],
           "geo": "geo",
           "hovertemplate": "<b>%{hovertext}</b><br><br>article_score=-0.596<br>year=2016<br>country_ISO_code=%{location}<extra></extra>",
           "hovertext": [
            "El Salvador"
           ],
           "locations": [
            "SLV"
           ],
           "name": "-0.596",
           "showlegend": true,
           "showscale": false,
           "type": "choropleth",
           "z": [
            1
           ]
          },
          {
           "colorscale": [
            [
             0,
             "#FECB52"
            ],
            [
             1,
             "#FECB52"
            ]
           ],
           "geo": "geo",
           "hovertemplate": "<b>%{hovertext}</b><br><br>article_score=0.148<br>year=2016<br>country_ISO_code=%{location}<extra></extra>",
           "hovertext": [
            "Ethiopia"
           ],
           "locations": [
            "ETH"
           ],
           "name": "0.148",
           "showlegend": true,
           "showscale": false,
           "type": "choropleth",
           "z": [
            1
           ]
          },
          {
           "colorscale": [
            [
             0,
             "#636efa"
            ],
            [
             1,
             "#636efa"
            ]
           ],
           "geo": "geo",
           "hovertemplate": "<b>%{hovertext}</b><br><br>article_score=-0.392<br>year=2016<br>country_ISO_code=%{location}<extra></extra>",
           "hovertext": [
            "Finland"
           ],
           "locations": [
            "FIN"
           ],
           "name": "-0.392",
           "showlegend": true,
           "showscale": false,
           "type": "choropleth",
           "z": [
            1
           ]
          },
          {
           "colorscale": [
            [
             0,
             "#EF553B"
            ],
            [
             1,
             "#EF553B"
            ]
           ],
           "geo": "geo",
           "hovertemplate": "<b>%{hovertext}</b><br><br>article_score=-0.073<br>year=2016<br>country_ISO_code=%{location}<extra></extra>",
           "hovertext": [
            "France"
           ],
           "locations": [
            "FRA"
           ],
           "name": "-0.073",
           "showlegend": true,
           "showscale": false,
           "type": "choropleth",
           "z": [
            1
           ]
          },
          {
           "colorscale": [
            [
             0,
             "#00cc96"
            ],
            [
             1,
             "#00cc96"
            ]
           ],
           "geo": "geo",
           "hovertemplate": "<b>%{hovertext}</b><br><br>article_score=-0.103<br>year=2016<br>country_ISO_code=%{location}<extra></extra>",
           "hovertext": [
            "Greenland"
           ],
           "locations": [
            "GRL"
           ],
           "name": "-0.103",
           "showlegend": true,
           "showscale": false,
           "type": "choropleth",
           "z": [
            1
           ]
          },
          {
           "colorscale": [
            [
             0,
             "#ab63fa"
            ],
            [
             1,
             "#ab63fa"
            ]
           ],
           "geo": "geo",
           "hovertemplate": "<b>%{hovertext}</b><br><br>article_score=-0.093<br>year=2016<br>country_ISO_code=%{location}<extra></extra>",
           "hovertext": [
            "Haiti"
           ],
           "locations": [
            "HTI"
           ],
           "name": "-0.093",
           "showlegend": true,
           "showscale": false,
           "type": "choropleth",
           "z": [
            1
           ]
          },
          {
           "colorscale": [
            [
             0,
             "#FFA15A"
            ],
            [
             1,
             "#FFA15A"
            ]
           ],
           "geo": "geo",
           "hovertemplate": "<b>%{hovertext}</b><br><br>article_score=-0.84<br>year=2016<br>country_ISO_code=%{location}<extra></extra>",
           "hovertext": [
            "Honduras"
           ],
           "locations": [
            "HND"
           ],
           "name": "-0.84",
           "showlegend": true,
           "showscale": false,
           "type": "choropleth",
           "z": [
            1
           ]
          },
          {
           "colorscale": [
            [
             0,
             "#19d3f3"
            ],
            [
             1,
             "#19d3f3"
            ]
           ],
           "geo": "geo",
           "hovertemplate": "<b>%{hovertext}</b><br><br>article_score=0.121<br>year=2016<br>country_ISO_code=%{location}<extra></extra>",
           "hovertext": [
            "India"
           ],
           "locations": [
            "IND"
           ],
           "name": "0.121",
           "showlegend": true,
           "showscale": false,
           "type": "choropleth",
           "z": [
            1
           ]
          },
          {
           "colorscale": [
            [
             0,
             "#FF6692"
            ],
            [
             1,
             "#FF6692"
            ]
           ],
           "geo": "geo",
           "hovertemplate": "<b>%{hovertext}</b><br><br>article_score=-0.149<br>year=2016<br>country_ISO_code=%{location}<extra></extra>",
           "hovertext": [
            "Indonesia"
           ],
           "locations": [
            "IDN"
           ],
           "name": "-0.149",
           "showlegend": true,
           "showscale": false,
           "type": "choropleth",
           "z": [
            1
           ]
          },
          {
           "colorscale": [
            [
             0,
             "#B6E880"
            ],
            [
             1,
             "#B6E880"
            ]
           ],
           "geo": "geo",
           "hovertemplate": "<b>%{hovertext}</b><br><br>article_score=-0.176<br>year=2016<br>country_ISO_code=%{location}<extra></extra>",
           "hovertext": [
            "Iraq"
           ],
           "locations": [
            "IRQ"
           ],
           "name": "-0.176",
           "showlegend": true,
           "showscale": false,
           "type": "choropleth",
           "z": [
            1
           ]
          },
          {
           "colorscale": [
            [
             0,
             "#FF97FF"
            ],
            [
             1,
             "#FF97FF"
            ]
           ],
           "geo": "geo",
           "hovertemplate": "<b>%{hovertext}</b><br><br>article_score=0.13<br>year=2016<br>country_ISO_code=%{location}<extra></extra>",
           "hovertext": [
            "Israel"
           ],
           "locations": [
            "ISR"
           ],
           "name": "0.13",
           "showlegend": true,
           "showscale": false,
           "type": "choropleth",
           "z": [
            1
           ]
          },
          {
           "colorscale": [
            [
             0,
             "#FECB52"
            ],
            [
             1,
             "#FECB52"
            ]
           ],
           "geo": "geo",
           "hovertemplate": "<b>%{hovertext}</b><br><br>article_score=0.211<br>year=2016<br>country_ISO_code=%{location}<extra></extra>",
           "hovertext": [
            "Italy"
           ],
           "locations": [
            "ITA"
           ],
           "name": "0.211",
           "showlegend": true,
           "showscale": false,
           "type": "choropleth",
           "z": [
            1
           ]
          },
          {
           "colorscale": [
            [
             0,
             "#636efa"
            ],
            [
             1,
             "#636efa"
            ]
           ],
           "geo": "geo",
           "hovertemplate": "<b>%{hovertext}</b><br><br>article_score=-0.126<br>year=2016<br>country_ISO_code=%{location}<extra></extra>",
           "hovertext": [
            "Jamaica"
           ],
           "locations": [
            "JAM"
           ],
           "name": "-0.126",
           "showlegend": true,
           "showscale": false,
           "type": "choropleth",
           "z": [
            1
           ]
          },
          {
           "colorscale": [
            [
             0,
             "#EF553B"
            ],
            [
             1,
             "#EF553B"
            ]
           ],
           "geo": "geo",
           "hovertemplate": "<b>%{hovertext}</b><br><br>article_score=0.087<br>year=2016<br>country_ISO_code=%{location}<extra></extra>",
           "hovertext": [
            "Kazakhstan"
           ],
           "locations": [
            "KAZ"
           ],
           "name": "0.087",
           "showlegend": true,
           "showscale": false,
           "type": "choropleth",
           "z": [
            1
           ]
          },
          {
           "colorscale": [
            [
             0,
             "#00cc96"
            ],
            [
             1,
             "#00cc96"
            ]
           ],
           "geo": "geo",
           "hovertemplate": "<b>%{hovertext}</b><br><br>article_score=-0.263<br>year=2016<br>country_ISO_code=%{location}<extra></extra>",
           "hovertext": [
            "Kenya",
            "Syria"
           ],
           "locations": [
            "KEN",
            "SYR"
           ],
           "name": "-0.263",
           "showlegend": true,
           "showscale": false,
           "type": "choropleth",
           "z": [
            1,
            1
           ]
          },
          {
           "colorscale": [
            [
             0,
             "#ab63fa"
            ],
            [
             1,
             "#ab63fa"
            ]
           ],
           "geo": "geo",
           "hovertemplate": "<b>%{hovertext}</b><br><br>article_score=-0.649<br>year=2016<br>country_ISO_code=%{location}<extra></extra>",
           "hovertext": [
            "Kiribati"
           ],
           "locations": [
            "KIR"
           ],
           "name": "-0.649",
           "showlegend": true,
           "showscale": false,
           "type": "choropleth",
           "z": [
            1
           ]
          },
          {
           "colorscale": [
            [
             0,
             "#FFA15A"
            ],
            [
             1,
             "#FFA15A"
            ]
           ],
           "geo": "geo",
           "hovertemplate": "<b>%{hovertext}</b><br><br>article_score=0.074<br>year=2016<br>country_ISO_code=%{location}<extra></extra>",
           "hovertext": [
            "Kuwait"
           ],
           "locations": [
            "KWT"
           ],
           "name": "0.074",
           "showlegend": true,
           "showscale": false,
           "type": "choropleth",
           "z": [
            1
           ]
          },
          {
           "colorscale": [
            [
             0,
             "#19d3f3"
            ],
            [
             1,
             "#19d3f3"
            ]
           ],
           "geo": "geo",
           "hovertemplate": "<b>%{hovertext}</b><br><br>article_score=-0.228<br>year=2016<br>country_ISO_code=%{location}<extra></extra>",
           "hovertext": [
            "Lebanon"
           ],
           "locations": [
            "LBN"
           ],
           "name": "-0.228",
           "showlegend": true,
           "showscale": false,
           "type": "choropleth",
           "z": [
            1
           ]
          },
          {
           "colorscale": [
            [
             0,
             "#FF6692"
            ],
            [
             1,
             "#FF6692"
            ]
           ],
           "geo": "geo",
           "hovertemplate": "<b>%{hovertext}</b><br><br>article_score=-0.264<br>year=2016<br>country_ISO_code=%{location}<extra></extra>",
           "hovertext": [
            "Libya"
           ],
           "locations": [
            "LBY"
           ],
           "name": "-0.264",
           "showlegend": true,
           "showscale": false,
           "type": "choropleth",
           "z": [
            1
           ]
          },
          {
           "colorscale": [
            [
             0,
             "#B6E880"
            ],
            [
             1,
             "#B6E880"
            ]
           ],
           "geo": "geo",
           "hovertemplate": "<b>%{hovertext}</b><br><br>article_score=-0.178<br>year=2016<br>country_ISO_code=%{location}<extra></extra>",
           "hovertext": [
            "Luxembourg"
           ],
           "locations": [
            "LUX"
           ],
           "name": "-0.178",
           "showlegend": true,
           "showscale": false,
           "type": "choropleth",
           "z": [
            1
           ]
          },
          {
           "colorscale": [
            [
             0,
             "#FF97FF"
            ],
            [
             1,
             "#FF97FF"
            ]
           ],
           "geo": "geo",
           "hovertemplate": "<b>%{hovertext}</b><br><br>article_score=-0.318<br>year=2016<br>country_ISO_code=%{location}<extra></extra>",
           "hovertext": [
            "Madagascar"
           ],
           "locations": [
            "MDG"
           ],
           "name": "-0.318",
           "showlegend": true,
           "showscale": false,
           "type": "choropleth",
           "z": [
            1
           ]
          },
          {
           "colorscale": [
            [
             0,
             "#FECB52"
            ],
            [
             1,
             "#FECB52"
            ]
           ],
           "geo": "geo",
           "hovertemplate": "<b>%{hovertext}</b><br><br>article_score=-0.34<br>year=2016<br>country_ISO_code=%{location}<extra></extra>",
           "hovertext": [
            "Malawi"
           ],
           "locations": [
            "MWI"
           ],
           "name": "-0.34",
           "showlegend": true,
           "showscale": false,
           "type": "choropleth",
           "z": [
            1
           ]
          },
          {
           "colorscale": [
            [
             0,
             "#636efa"
            ],
            [
             1,
             "#636efa"
            ]
           ],
           "geo": "geo",
           "hovertemplate": "<b>%{hovertext}</b><br><br>article_score=-0.056<br>year=2016<br>country_ISO_code=%{location}<extra></extra>",
           "hovertext": [
            "Malaysia"
           ],
           "locations": [
            "MYS"
           ],
           "name": "-0.056",
           "showlegend": true,
           "showscale": false,
           "type": "choropleth",
           "z": [
            1
           ]
          },
          {
           "colorscale": [
            [
             0,
             "#EF553B"
            ],
            [
             1,
             "#EF553B"
            ]
           ],
           "geo": "geo",
           "hovertemplate": "<b>%{hovertext}</b><br><br>article_score=-0.334<br>year=2016<br>country_ISO_code=%{location}<extra></extra>",
           "hovertext": [
            "Marshall Islands"
           ],
           "locations": [
            "MHL"
           ],
           "name": "-0.334",
           "showlegend": true,
           "showscale": false,
           "type": "choropleth",
           "z": [
            1
           ]
          },
          {
           "colorscale": [
            [
             0,
             "#00cc96"
            ],
            [
             1,
             "#00cc96"
            ]
           ],
           "geo": "geo",
           "hovertemplate": "<b>%{hovertext}</b><br><br>article_score=-0.606<br>year=2016<br>country_ISO_code=%{location}<extra></extra>",
           "hovertext": [
            "Mauritania"
           ],
           "locations": [
            "MRT"
           ],
           "name": "-0.606",
           "showlegend": true,
           "showscale": false,
           "type": "choropleth",
           "z": [
            1
           ]
          },
          {
           "colorscale": [
            [
             0,
             "#ab63fa"
            ],
            [
             1,
             "#ab63fa"
            ]
           ],
           "geo": "geo",
           "hovertemplate": "<b>%{hovertext}</b><br><br>article_score=0.025<br>year=2016<br>country_ISO_code=%{location}<extra></extra>",
           "hovertext": [
            "Mexico"
           ],
           "locations": [
            "MEX"
           ],
           "name": "0.025",
           "showlegend": true,
           "showscale": false,
           "type": "choropleth",
           "z": [
            1
           ]
          },
          {
           "colorscale": [
            [
             0,
             "#FFA15A"
            ],
            [
             1,
             "#FFA15A"
            ]
           ],
           "geo": "geo",
           "hovertemplate": "<b>%{hovertext}</b><br><br>article_score=0.252<br>year=2016<br>country_ISO_code=%{location}<extra></extra>",
           "hovertext": [
            "Morocco"
           ],
           "locations": [
            "MAR"
           ],
           "name": "0.252",
           "showlegend": true,
           "showscale": false,
           "type": "choropleth",
           "z": [
            1
           ]
          },
          {
           "colorscale": [
            [
             0,
             "#19d3f3"
            ],
            [
             1,
             "#19d3f3"
            ]
           ],
           "geo": "geo",
           "hovertemplate": "<b>%{hovertext}</b><br><br>article_score=0.126<br>year=2016<br>country_ISO_code=%{location}<extra></extra>",
           "hovertext": [
            "New Zealand"
           ],
           "locations": [
            "NZL"
           ],
           "name": "0.126",
           "showlegend": true,
           "showscale": false,
           "type": "choropleth",
           "z": [
            1
           ]
          },
          {
           "colorscale": [
            [
             0,
             "#FF6692"
            ],
            [
             1,
             "#FF6692"
            ]
           ],
           "geo": "geo",
           "hovertemplate": "<b>%{hovertext}</b><br><br>article_score=0.77<br>year=2016<br>country_ISO_code=%{location}<extra></extra>",
           "hovertext": [
            "Northern Mariana Islands"
           ],
           "locations": [
            "MNP"
           ],
           "name": "0.77",
           "showlegend": true,
           "showscale": false,
           "type": "choropleth",
           "z": [
            1
           ]
          },
          {
           "colorscale": [
            [
             0,
             "#B6E880"
            ],
            [
             1,
             "#B6E880"
            ]
           ],
           "geo": "geo",
           "hovertemplate": "<b>%{hovertext}</b><br><br>article_score=-0.065<br>year=2016<br>country_ISO_code=%{location}<extra></extra>",
           "hovertext": [
            "Norway"
           ],
           "locations": [
            "NOR"
           ],
           "name": "-0.065",
           "showlegend": true,
           "showscale": false,
           "type": "choropleth",
           "z": [
            1
           ]
          },
          {
           "colorscale": [
            [
             0,
             "#FF97FF"
            ],
            [
             1,
             "#FF97FF"
            ]
           ],
           "geo": "geo",
           "hovertemplate": "<b>%{hovertext}</b><br><br>article_score=-0.242<br>year=2016<br>country_ISO_code=%{location}<extra></extra>",
           "hovertext": [
            "Oman"
           ],
           "locations": [
            "OMN"
           ],
           "name": "-0.242",
           "showlegend": true,
           "showscale": false,
           "type": "choropleth",
           "z": [
            1
           ]
          },
          {
           "colorscale": [
            [
             0,
             "#FECB52"
            ],
            [
             1,
             "#FECB52"
            ]
           ],
           "geo": "geo",
           "hovertemplate": "<b>%{hovertext}</b><br><br>article_score=-0.119<br>year=2016<br>country_ISO_code=%{location}<extra></extra>",
           "hovertext": [
            "Philippines"
           ],
           "locations": [
            "PHL"
           ],
           "name": "-0.119",
           "showlegend": true,
           "showscale": false,
           "type": "choropleth",
           "z": [
            1
           ]
          },
          {
           "colorscale": [
            [
             0,
             "#636efa"
            ],
            [
             1,
             "#636efa"
            ]
           ],
           "geo": "geo",
           "hovertemplate": "<b>%{hovertext}</b><br><br>article_score=0.19<br>year=2016<br>country_ISO_code=%{location}<extra></extra>",
           "hovertext": [
            "Qatar"
           ],
           "locations": [
            "QAT"
           ],
           "name": "0.19",
           "showlegend": true,
           "showscale": false,
           "type": "choropleth",
           "z": [
            1
           ]
          },
          {
           "colorscale": [
            [
             0,
             "#EF553B"
            ],
            [
             1,
             "#EF553B"
            ]
           ],
           "geo": "geo",
           "hovertemplate": "<b>%{hovertext}</b><br><br>article_score=0.091<br>year=2016<br>country_ISO_code=%{location}<extra></extra>",
           "hovertext": [
            "Russia"
           ],
           "locations": [
            "RUS"
           ],
           "name": "0.091",
           "showlegend": true,
           "showscale": false,
           "type": "choropleth",
           "z": [
            1
           ]
          },
          {
           "colorscale": [
            [
             0,
             "#00cc96"
            ],
            [
             1,
             "#00cc96"
            ]
           ],
           "geo": "geo",
           "hovertemplate": "<b>%{hovertext}</b><br><br>article_score=-0.208<br>year=2016<br>country_ISO_code=%{location}<extra></extra>",
           "hovertext": [
            "Rwanda"
           ],
           "locations": [
            "RWA"
           ],
           "name": "-0.208",
           "showlegend": true,
           "showscale": false,
           "type": "choropleth",
           "z": [
            1
           ]
          },
          {
           "colorscale": [
            [
             0,
             "#ab63fa"
            ],
            [
             1,
             "#ab63fa"
            ]
           ],
           "geo": "geo",
           "hovertemplate": "<b>%{hovertext}</b><br><br>article_score=-0.229<br>year=2016<br>country_ISO_code=%{location}<extra></extra>",
           "hovertext": [
            "Saudi Arabia"
           ],
           "locations": [
            "SAU"
           ],
           "name": "-0.229",
           "showlegend": true,
           "showscale": false,
           "type": "choropleth",
           "z": [
            1
           ]
          },
          {
           "colorscale": [
            [
             0,
             "#FFA15A"
            ],
            [
             1,
             "#FFA15A"
            ]
           ],
           "geo": "geo",
           "hovertemplate": "<b>%{hovertext}</b><br><br>article_score=-0.335<br>year=2016<br>country_ISO_code=%{location}<extra></extra>",
           "hovertext": [
            "Serbia"
           ],
           "locations": [
            "SRB"
           ],
           "name": "-0.335",
           "showlegend": true,
           "showscale": false,
           "type": "choropleth",
           "z": [
            1
           ]
          },
          {
           "colorscale": [
            [
             0,
             "#19d3f3"
            ],
            [
             1,
             "#19d3f3"
            ]
           ],
           "geo": "geo",
           "hovertemplate": "<b>%{hovertext}</b><br><br>article_score=-0.577<br>year=2016<br>country_ISO_code=%{location}<extra></extra>",
           "hovertext": [
            "Slovenia"
           ],
           "locations": [
            "SVN"
           ],
           "name": "-0.577",
           "showlegend": true,
           "showscale": false,
           "type": "choropleth",
           "z": [
            1
           ]
          },
          {
           "colorscale": [
            [
             0,
             "#FF6692"
            ],
            [
             1,
             "#FF6692"
            ]
           ],
           "geo": "geo",
           "hovertemplate": "<b>%{hovertext}</b><br><br>article_score=0.71<br>year=2016<br>country_ISO_code=%{location}<extra></extra>",
           "hovertext": [
            "Somalia"
           ],
           "locations": [
            "SOM"
           ],
           "name": "0.71",
           "showlegend": true,
           "showscale": false,
           "type": "choropleth",
           "z": [
            1
           ]
          },
          {
           "colorscale": [
            [
             0,
             "#B6E880"
            ],
            [
             1,
             "#B6E880"
            ]
           ],
           "geo": "geo",
           "hovertemplate": "<b>%{hovertext}</b><br><br>article_score=-0.068<br>year=2016<br>country_ISO_code=%{location}<extra></extra>",
           "hovertext": [
            "South Africa"
           ],
           "locations": [
            "ZAF"
           ],
           "name": "-0.068",
           "showlegend": true,
           "showscale": false,
           "type": "choropleth",
           "z": [
            1
           ]
          },
          {
           "colorscale": [
            [
             0,
             "#FF97FF"
            ],
            [
             1,
             "#FF97FF"
            ]
           ],
           "geo": "geo",
           "hovertemplate": "<b>%{hovertext}</b><br><br>article_score=-0.113<br>year=2016<br>country_ISO_code=%{location}<extra></extra>",
           "hovertext": [
            "Sri Lanka"
           ],
           "locations": [
            "LKA"
           ],
           "name": "-0.113",
           "showlegend": true,
           "showscale": false,
           "type": "choropleth",
           "z": [
            1
           ]
          },
          {
           "colorscale": [
            [
             0,
             "#FECB52"
            ],
            [
             1,
             "#FECB52"
            ]
           ],
           "geo": "geo",
           "hovertemplate": "<b>%{hovertext}</b><br><br>article_score=-0.075<br>year=2016<br>country_ISO_code=%{location}<extra></extra>",
           "hovertext": [
            "Sweden"
           ],
           "locations": [
            "SWE"
           ],
           "name": "-0.075",
           "showlegend": true,
           "showscale": false,
           "type": "choropleth",
           "z": [
            1
           ]
          },
          {
           "colorscale": [
            [
             0,
             "#636efa"
            ],
            [
             1,
             "#636efa"
            ]
           ],
           "geo": "geo",
           "hovertemplate": "<b>%{hovertext}</b><br><br>article_score=0.23<br>year=2016<br>country_ISO_code=%{location}<extra></extra>",
           "hovertext": [
            "Switzerland"
           ],
           "locations": [
            "CHE"
           ],
           "name": "0.23",
           "showlegend": true,
           "showscale": false,
           "type": "choropleth",
           "z": [
            1
           ]
          },
          {
           "colorscale": [
            [
             0,
             "#EF553B"
            ],
            [
             1,
             "#EF553B"
            ]
           ],
           "geo": "geo",
           "hovertemplate": "<b>%{hovertext}</b><br><br>article_score=-0.171<br>year=2016<br>country_ISO_code=%{location}<extra></extra>",
           "hovertext": [
            "Uganda"
           ],
           "locations": [
            "UGA"
           ],
           "name": "-0.171",
           "showlegend": true,
           "showscale": false,
           "type": "choropleth",
           "z": [
            1
           ]
          },
          {
           "colorscale": [
            [
             0,
             "#00cc96"
            ],
            [
             1,
             "#00cc96"
            ]
           ],
           "geo": "geo",
           "hovertemplate": "<b>%{hovertext}</b><br><br>article_score=0.136<br>year=2016<br>country_ISO_code=%{location}<extra></extra>",
           "hovertext": [
            "Ukraine"
           ],
           "locations": [
            "UKR"
           ],
           "name": "0.136",
           "showlegend": true,
           "showscale": false,
           "type": "choropleth",
           "z": [
            1
           ]
          },
          {
           "colorscale": [
            [
             0,
             "#ab63fa"
            ],
            [
             1,
             "#ab63fa"
            ]
           ],
           "geo": "geo",
           "hovertemplate": "<b>%{hovertext}</b><br><br>article_score=0.123<br>year=2016<br>country_ISO_code=%{location}<extra></extra>",
           "hovertext": [
            "United Arab Emirates"
           ],
           "locations": [
            "ARE"
           ],
           "name": "0.123",
           "showlegend": true,
           "showscale": false,
           "type": "choropleth",
           "z": [
            1
           ]
          },
          {
           "colorscale": [
            [
             0,
             "#FFA15A"
            ],
            [
             1,
             "#FFA15A"
            ]
           ],
           "geo": "geo",
           "hovertemplate": "<b>%{hovertext}</b><br><br>article_score=-0.043<br>year=2016<br>country_ISO_code=%{location}<extra></extra>",
           "hovertext": [
            "United States"
           ],
           "locations": [
            "USA"
           ],
           "name": "-0.043",
           "showlegend": true,
           "showscale": false,
           "type": "choropleth",
           "z": [
            1
           ]
          },
          {
           "colorscale": [
            [
             0,
             "#19d3f3"
            ],
            [
             1,
             "#19d3f3"
            ]
           ],
           "geo": "geo",
           "hovertemplate": "<b>%{hovertext}</b><br><br>article_score=-0.778<br>year=2016<br>country_ISO_code=%{location}<extra></extra>",
           "hovertext": [
            "Uruguay"
           ],
           "locations": [
            "URY"
           ],
           "name": "-0.778",
           "showlegend": true,
           "showscale": false,
           "type": "choropleth",
           "z": [
            1
           ]
          },
          {
           "colorscale": [
            [
             0,
             "#FF6692"
            ],
            [
             1,
             "#FF6692"
            ]
           ],
           "geo": "geo",
           "hovertemplate": "<b>%{hovertext}</b><br><br>article_score=0.034<br>year=2016<br>country_ISO_code=%{location}<extra></extra>",
           "hovertext": [
            "Vatican City"
           ],
           "locations": [
            "VAT"
           ],
           "name": "0.034",
           "showlegend": true,
           "showscale": false,
           "type": "choropleth",
           "z": [
            1
           ]
          },
          {
           "colorscale": [
            [
             0,
             "#B6E880"
            ],
            [
             1,
             "#B6E880"
            ]
           ],
           "geo": "geo",
           "hovertemplate": "<b>%{hovertext}</b><br><br>article_score=-0.359<br>year=2016<br>country_ISO_code=%{location}<extra></extra>",
           "hovertext": [
            "Venezuela"
           ],
           "locations": [
            "VEN"
           ],
           "name": "-0.359",
           "showlegend": true,
           "showscale": false,
           "type": "choropleth",
           "z": [
            1
           ]
          },
          {
           "colorscale": [
            [
             0,
             "#FF97FF"
            ],
            [
             1,
             "#FF97FF"
            ]
           ],
           "geo": "geo",
           "hovertemplate": "<b>%{hovertext}</b><br><br>article_score=-0.204<br>year=2016<br>country_ISO_code=%{location}<extra></extra>",
           "hovertext": [
            "Vietnam"
           ],
           "locations": [
            "VNM"
           ],
           "name": "-0.204",
           "showlegend": true,
           "showscale": false,
           "type": "choropleth",
           "z": [
            1
           ]
          },
          {
           "colorscale": [
            [
             0,
             "#FECB52"
            ],
            [
             1,
             "#FECB52"
            ]
           ],
           "geo": "geo",
           "hovertemplate": "<b>%{hovertext}</b><br><br>article_score=-0.332<br>year=2016<br>country_ISO_code=%{location}<extra></extra>",
           "hovertext": [
            "Yemen"
           ],
           "locations": [
            "YEM"
           ],
           "name": "-0.332",
           "showlegend": true,
           "showscale": false,
           "type": "choropleth",
           "z": [
            1
           ]
          }
         ],
         "name": "2016"
        },
        {
         "data": [
          {
           "colorscale": [
            [
             0,
             "#EF553B"
            ],
            [
             1,
             "#EF553B"
            ]
           ],
           "geo": "geo",
           "hovertemplate": "<b>%{hovertext}</b><br><br>article_score=-0.101<br>year=2017<br>country_ISO_code=%{location}<extra></extra>",
           "hovertext": [
            "Andorra"
           ],
           "locations": [
            "AND"
           ],
           "name": "-0.101",
           "showlegend": true,
           "showscale": false,
           "type": "choropleth",
           "z": [
            1
           ]
          },
          {
           "colorscale": [
            [
             0,
             "#FF6692"
            ],
            [
             1,
             "#FF6692"
            ]
           ],
           "geo": "geo",
           "hovertemplate": "<b>%{hovertext}</b><br><br>article_score=0.599<br>year=2017<br>country_ISO_code=%{location}<extra></extra>",
           "hovertext": [
            "Rwanda"
           ],
           "locations": [
            "RWA"
           ],
           "name": "0.599",
           "showlegend": true,
           "showscale": false,
           "type": "choropleth",
           "z": [
            1
           ]
          },
          {
           "colorscale": [
            [
             0,
             "#FF97FF"
            ],
            [
             1,
             "#FF97FF"
            ]
           ],
           "geo": "geo",
           "hovertemplate": "<b>%{hovertext}</b><br><br>article_score=0.0<br>year=2017<br>country_ISO_code=%{location}<extra></extra>",
           "hovertext": [
            "Austria",
            "Belarus",
            "Bermuda",
            "Croatia",
            "Georgia",
            "Ghana",
            "Hungary",
            "Jordan",
            "Lebanon",
            "Malawi",
            "Monaco",
            "Mongolia",
            "Morocco",
            "Papua New Guinea",
            "Portugal",
            "Slovakia",
            "Solomon Islands"
           ],
           "locations": [
            "AUT",
            "BLR",
            "BMU",
            "HRV",
            "GEO",
            "GHA",
            "HUN",
            "JOR",
            "LBN",
            "MWI",
            "MCO",
            "MNG",
            "MAR",
            "PNG",
            "PRT",
            "SVK",
            "SLB"
           ],
           "name": "0.0",
           "showlegend": true,
           "showscale": false,
           "type": "choropleth",
           "z": [
            1,
            1,
            1,
            1,
            1,
            1,
            1,
            1,
            1,
            1,
            1,
            1,
            1,
            1,
            1,
            1,
            1
           ]
          },
          {
           "colorscale": [
            [
             0,
             "#FECB52"
            ],
            [
             1,
             "#FECB52"
            ]
           ],
           "geo": "geo",
           "hovertemplate": "<b>%{hovertext}</b><br><br>article_score=-0.02<br>year=2017<br>country_ISO_code=%{location}<extra></extra>",
           "hovertext": [
            "India"
           ],
           "locations": [
            "IND"
           ],
           "name": "-0.02",
           "showlegend": true,
           "showscale": false,
           "type": "choropleth",
           "z": [
            1
           ]
          },
          {
           "colorscale": [
            [
             0,
             "#EF553B"
            ],
            [
             1,
             "#EF553B"
            ]
           ],
           "geo": "geo",
           "hovertemplate": "<b>%{hovertext}</b><br><br>article_score=0.402<br>year=2017<br>country_ISO_code=%{location}<extra></extra>",
           "hovertext": [
            "Bolivia",
            "Czechia"
           ],
           "locations": [
            "BOL",
            "CZE"
           ],
           "name": "0.402",
           "showlegend": true,
           "showscale": false,
           "type": "choropleth",
           "z": [
            1,
            1
           ]
          },
          {
           "colorscale": [
            [
             0,
             "#FFA15A"
            ],
            [
             1,
             "#FFA15A"
            ]
           ],
           "geo": "geo",
           "hovertemplate": "<b>%{hovertext}</b><br><br>article_score=-0.226<br>year=2017<br>country_ISO_code=%{location}<extra></extra>",
           "hovertext": [
            "Sierra Leone"
           ],
           "locations": [
            "SLE"
           ],
           "name": "-0.226",
           "showlegend": true,
           "showscale": false,
           "type": "choropleth",
           "z": [
            1
           ]
          },
          {
           "colorscale": [
            [
             0,
             "#FF6692"
            ],
            [
             1,
             "#FF6692"
            ]
           ],
           "geo": "geo",
           "hovertemplate": "<b>%{hovertext}</b><br><br>article_score=0.073<br>year=2017<br>country_ISO_code=%{location}<extra></extra>",
           "hovertext": [
            "South Africa"
           ],
           "locations": [
            "ZAF"
           ],
           "name": "0.073",
           "showlegend": true,
           "showscale": false,
           "type": "choropleth",
           "z": [
            1
           ]
          },
          {
           "colorscale": [
            [
             0,
             "#FF97FF"
            ],
            [
             1,
             "#FF97FF"
            ]
           ],
           "geo": "geo",
           "hovertemplate": "<b>%{hovertext}</b><br><br>article_score=0.099<br>year=2017<br>country_ISO_code=%{location}<extra></extra>",
           "hovertext": [
            "Denmark",
            "Russia"
           ],
           "locations": [
            "DNK",
            "RUS"
           ],
           "name": "0.099",
           "showlegend": true,
           "showscale": false,
           "type": "choropleth",
           "z": [
            1,
            1
           ]
          },
          {
           "colorscale": [
            [
             0,
             "#00cc96"
            ],
            [
             1,
             "#00cc96"
            ]
           ],
           "geo": "geo",
           "hovertemplate": "<b>%{hovertext}</b><br><br>article_score=0.178<br>year=2017<br>country_ISO_code=%{location}<extra></extra>",
           "hovertext": [
            "Côte d'Ivoire"
           ],
           "locations": [
            "CIV"
           ],
           "name": "0.178",
           "showlegend": true,
           "showscale": false,
           "type": "choropleth",
           "z": [
            1
           ]
          },
          {
           "colorscale": [
            [
             0,
             "#00cc96"
            ],
            [
             1,
             "#00cc96"
            ]
           ],
           "geo": "geo",
           "hovertemplate": "<b>%{hovertext}</b><br><br>article_score=0.421<br>year=2017<br>country_ISO_code=%{location}<extra></extra>",
           "hovertext": [
            "American Samoa"
           ],
           "locations": [
            "ASM"
           ],
           "name": "0.421",
           "showlegend": true,
           "showscale": false,
           "type": "choropleth",
           "z": [
            1
           ]
          },
          {
           "colorscale": [
            [
             0,
             "#19d3f3"
            ],
            [
             1,
             "#19d3f3"
            ]
           ],
           "geo": "geo",
           "hovertemplate": "<b>%{hovertext}</b><br><br>article_score=-0.137<br>year=2017<br>country_ISO_code=%{location}<extra></extra>",
           "hovertext": [
            "Guinea"
           ],
           "locations": [
            "GIN"
           ],
           "name": "-0.137",
           "showlegend": true,
           "showscale": false,
           "type": "choropleth",
           "z": [
            1
           ]
          },
          {
           "colorscale": [
            [
             0,
             "#FF97FF"
            ],
            [
             1,
             "#FF97FF"
            ]
           ],
           "geo": "geo",
           "hovertemplate": "<b>%{hovertext}</b><br><br>article_score=-0.599<br>year=2017<br>country_ISO_code=%{location}<extra></extra>",
           "hovertext": [
            "Heard Island and McDonald Islands"
           ],
           "locations": [
            "HMD"
           ],
           "name": "-0.599",
           "showlegend": true,
           "showscale": false,
           "type": "choropleth",
           "z": [
            1
           ]
          },
          {
           "colorscale": [
            [
             0,
             "#FECB52"
            ],
            [
             1,
             "#FECB52"
            ]
           ],
           "geo": "geo",
           "hovertemplate": "<b>%{hovertext}</b><br><br>article_score=-0.026<br>year=2017<br>country_ISO_code=%{location}<extra></extra>",
           "hovertext": [
            "Panama"
           ],
           "locations": [
            "PAN"
           ],
           "name": "-0.026",
           "showlegend": true,
           "showscale": false,
           "type": "choropleth",
           "z": [
            1
           ]
          },
          {
           "colorscale": [
            [
             0,
             "#EF553B"
            ],
            [
             1,
             "#EF553B"
            ]
           ],
           "geo": "geo",
           "hovertemplate": "<b>%{hovertext}</b><br><br>article_score=-0.134<br>year=2017<br>country_ISO_code=%{location}<extra></extra>",
           "hovertext": [
            "Argentina"
           ],
           "locations": [
            "ARG"
           ],
           "name": "-0.134",
           "showlegend": true,
           "showscale": false,
           "type": "choropleth",
           "z": [
            1
           ]
          },
          {
           "colorscale": [
            [
             0,
             "#ab63fa"
            ],
            [
             1,
             "#ab63fa"
            ]
           ],
           "geo": "geo",
           "hovertemplate": "<b>%{hovertext}</b><br><br>article_score=0.101<br>year=2017<br>country_ISO_code=%{location}<extra></extra>",
           "hovertext": [
            "Peru"
           ],
           "locations": [
            "PER"
           ],
           "name": "0.101",
           "showlegend": true,
           "showscale": false,
           "type": "choropleth",
           "z": [
            1
           ]
          },
          {
           "colorscale": [
            [
             0,
             "#19d3f3"
            ],
            [
             1,
             "#19d3f3"
            ]
           ],
           "geo": "geo",
           "hovertemplate": "<b>%{hovertext}</b><br><br>article_score=-0.292<br>year=2017<br>country_ISO_code=%{location}<extra></extra>",
           "hovertext": [
            "Colombia",
            "Ireland"
           ],
           "locations": [
            "COL",
            "IRL"
           ],
           "name": "-0.292",
           "showlegend": true,
           "showscale": false,
           "type": "choropleth",
           "z": [
            1,
            1
           ]
          },
          {
           "colorscale": [
            [
             0,
             "#B6E880"
            ],
            [
             1,
             "#B6E880"
            ]
           ],
           "geo": "geo",
           "hovertemplate": "<b>%{hovertext}</b><br><br>article_score=0.606<br>year=2017<br>country_ISO_code=%{location}<extra></extra>",
           "hovertext": [
            "Isle of Man"
           ],
           "locations": [
            "IMN"
           ],
           "name": "0.606",
           "showlegend": true,
           "showscale": false,
           "type": "choropleth",
           "z": [
            1
           ]
          },
          {
           "colorscale": [
            [
             0,
             "#FF97FF"
            ],
            [
             1,
             "#FF97FF"
            ]
           ],
           "geo": "geo",
           "hovertemplate": "<b>%{hovertext}</b><br><br>article_score=0.096<br>year=2017<br>country_ISO_code=%{location}<extra></extra>",
           "hovertext": [
            "Venezuela"
           ],
           "locations": [
            "VEN"
           ],
           "name": "0.096",
           "showlegend": true,
           "showscale": false,
           "type": "choropleth",
           "z": [
            1
           ]
          },
          {
           "colorscale": [
            [
             0,
             "#00cc96"
            ],
            [
             1,
             "#00cc96"
            ]
           ],
           "geo": "geo",
           "hovertemplate": "<b>%{hovertext}</b><br><br>article_score=-0.477<br>year=2017<br>country_ISO_code=%{location}<extra></extra>",
           "hovertext": [
            "Latvia"
           ],
           "locations": [
            "LVA"
           ],
           "name": "-0.477",
           "showlegend": true,
           "showscale": false,
           "type": "choropleth",
           "z": [
            1
           ]
          },
          {
           "colorscale": [
            [
             0,
             "#ab63fa"
            ],
            [
             1,
             "#ab63fa"
            ]
           ],
           "geo": "geo",
           "hovertemplate": "<b>%{hovertext}</b><br><br>article_score=-0.019<br>year=2017<br>country_ISO_code=%{location}<extra></extra>",
           "hovertext": [
            "United Kingdom"
           ],
           "locations": [
            "GBR"
           ],
           "name": "-0.019",
           "showlegend": true,
           "showscale": false,
           "type": "choropleth",
           "z": [
            1
           ]
          },
          {
           "colorscale": [
            [
             0,
             "#FFA15A"
            ],
            [
             1,
             "#FFA15A"
            ]
           ],
           "geo": "geo",
           "hovertemplate": "<b>%{hovertext}</b><br><br>article_score=0.222<br>year=2017<br>country_ISO_code=%{location}<extra></extra>",
           "hovertext": [
            "Liberia"
           ],
           "locations": [
            "LBR"
           ],
           "name": "0.222",
           "showlegend": true,
           "showscale": false,
           "type": "choropleth",
           "z": [
            1
           ]
          },
          {
           "colorscale": [
            [
             0,
             "#FF97FF"
            ],
            [
             1,
             "#FF97FF"
            ]
           ],
           "geo": "geo",
           "hovertemplate": "<b>%{hovertext}</b><br><br>article_score=0.44<br>year=2017<br>country_ISO_code=%{location}<extra></extra>",
           "hovertext": [
            "Macao"
           ],
           "locations": [
            "MAC"
           ],
           "name": "0.44",
           "showlegend": true,
           "showscale": false,
           "type": "choropleth",
           "z": [
            1
           ]
          },
          {
           "colorscale": [
            [
             0,
             "#636efa"
            ],
            [
             1,
             "#636efa"
            ]
           ],
           "geo": "geo",
           "hovertemplate": "<b>%{hovertext}</b><br><br>article_score=0.361<br>year=2017<br>country_ISO_code=%{location}<extra></extra>",
           "hovertext": [
            "Indonesia"
           ],
           "locations": [
            "IDN"
           ],
           "name": "0.361",
           "showlegend": true,
           "showscale": false,
           "type": "choropleth",
           "z": [
            1
           ]
          },
          {
           "colorscale": [
            [
             0,
             "#ab63fa"
            ],
            [
             1,
             "#ab63fa"
            ]
           ],
           "geo": "geo",
           "hovertemplate": "<b>%{hovertext}</b><br><br>article_score=0.159<br>year=2017<br>country_ISO_code=%{location}<extra></extra>",
           "hovertext": [
            "Nepal"
           ],
           "locations": [
            "NPL"
           ],
           "name": "0.159",
           "showlegend": true,
           "showscale": false,
           "type": "choropleth",
           "z": [
            1
           ]
          },
          {
           "colorscale": [
            [
             0,
             "#FF6692"
            ],
            [
             1,
             "#FF6692"
            ]
           ],
           "geo": "geo",
           "hovertemplate": "<b>%{hovertext}</b><br><br>article_score=-0.273<br>year=2017<br>country_ISO_code=%{location}<extra></extra>",
           "hovertext": [
            "Nicaragua"
           ],
           "locations": [
            "NIC"
           ],
           "name": "-0.273",
           "showlegend": true,
           "showscale": false,
           "type": "choropleth",
           "z": [
            1
           ]
          },
          {
           "colorscale": [
            [
             0,
             "#FF97FF"
            ],
            [
             1,
             "#FF97FF"
            ]
           ],
           "geo": "geo",
           "hovertemplate": "<b>%{hovertext}</b><br><br>article_score=0.625<br>year=2017<br>country_ISO_code=%{location}<extra></extra>",
           "hovertext": [
            "Guyana",
            "North Macedonia"
           ],
           "locations": [
            "GUY",
            "MKD"
           ],
           "name": "0.625",
           "showlegend": true,
           "showscale": false,
           "type": "choropleth",
           "z": [
            1,
            1
           ]
          },
          {
           "colorscale": [
            [
             0,
             "#EF553B"
            ],
            [
             1,
             "#EF553B"
            ]
           ],
           "geo": "geo",
           "hovertemplate": "<b>%{hovertext}</b><br><br>article_score=0.09<br>year=2017<br>country_ISO_code=%{location}<extra></extra>",
           "hovertext": [
            "Honduras"
           ],
           "locations": [
            "HND"
           ],
           "name": "0.09",
           "showlegend": true,
           "showscale": false,
           "type": "choropleth",
           "z": [
            1
           ]
          },
          {
           "colorscale": [
            [
             0,
             "#FF97FF"
            ],
            [
             1,
             "#FF97FF"
            ]
           ],
           "geo": "geo",
           "hovertemplate": "<b>%{hovertext}</b><br><br>article_score=-0.027<br>year=2017<br>country_ISO_code=%{location}<extra></extra>",
           "hovertext": [
            "Greece"
           ],
           "locations": [
            "GRC"
           ],
           "name": "-0.027",
           "showlegend": true,
           "showscale": false,
           "type": "choropleth",
           "z": [
            1
           ]
          },
          {
           "colorscale": [
            [
             0,
             "#FFA15A"
            ],
            [
             1,
             "#FFA15A"
            ]
           ],
           "geo": "geo",
           "hovertemplate": "<b>%{hovertext}</b><br><br>article_score=0.054<br>year=2017<br>country_ISO_code=%{location}<extra></extra>",
           "hovertext": [
            "Singapore"
           ],
           "locations": [
            "SGP"
           ],
           "name": "0.054",
           "showlegend": true,
           "showscale": false,
           "type": "choropleth",
           "z": [
            1
           ]
          },
          {
           "colorscale": [
            [
             0,
             "#19d3f3"
            ],
            [
             1,
             "#19d3f3"
            ]
           ],
           "geo": "geo",
           "hovertemplate": "<b>%{hovertext}</b><br><br>article_score=-0.165<br>year=2017<br>country_ISO_code=%{location}<extra></extra>",
           "hovertext": [
            "Sudan"
           ],
           "locations": [
            "SDN"
           ],
           "name": "-0.165",
           "showlegend": true,
           "showscale": false,
           "type": "choropleth",
           "z": [
            1
           ]
          },
          {
           "colorscale": [
            [
             0,
             "#FF6692"
            ],
            [
             1,
             "#FF6692"
            ]
           ],
           "geo": "geo",
           "hovertemplate": "<b>%{hovertext}</b><br><br>article_score=0.202<br>year=2017<br>country_ISO_code=%{location}<extra></extra>",
           "hovertext": [
            "Brazil",
            "Marshall Islands",
            "Mexico"
           ],
           "locations": [
            "BRA",
            "MHL",
            "MEX"
           ],
           "name": "0.202",
           "showlegend": true,
           "showscale": false,
           "type": "choropleth",
           "z": [
            1,
            1,
            1
           ]
          },
          {
           "colorscale": [
            [
             0,
             "#FECB52"
            ],
            [
             1,
             "#FECB52"
            ]
           ],
           "geo": "geo",
           "hovertemplate": "<b>%{hovertext}</b><br><br>article_score=-0.572<br>year=2017<br>country_ISO_code=%{location}<extra></extra>",
           "hovertext": [
            "Tajikistan"
           ],
           "locations": [
            "TJK"
           ],
           "name": "-0.572",
           "showlegend": true,
           "showscale": false,
           "type": "choropleth",
           "z": [
            1
           ]
          },
          {
           "colorscale": [
            [
             0,
             "#FFA15A"
            ],
            [
             1,
             "#FFA15A"
            ]
           ],
           "geo": "geo",
           "hovertemplate": "<b>%{hovertext}</b><br><br>article_score=-0.201<br>year=2017<br>country_ISO_code=%{location}<extra></extra>",
           "hovertext": [
            "Thailand"
           ],
           "locations": [
            "THA"
           ],
           "name": "-0.201",
           "showlegend": true,
           "showscale": false,
           "type": "choropleth",
           "z": [
            1
           ]
          },
          {
           "colorscale": [
            [
             0,
             "#19d3f3"
            ],
            [
             1,
             "#19d3f3"
            ]
           ],
           "geo": "geo",
           "hovertemplate": "<b>%{hovertext}</b><br><br>article_score=-0.018<br>year=2017<br>country_ISO_code=%{location}<extra></extra>",
           "hovertext": [
            "Puerto Rico"
           ],
           "locations": [
            "PRI"
           ],
           "name": "-0.018",
           "showlegend": true,
           "showscale": false,
           "type": "choropleth",
           "z": [
            1
           ]
          },
          {
           "colorscale": [
            [
             0,
             "#FF97FF"
            ],
            [
             1,
             "#FF97FF"
            ]
           ],
           "geo": "geo",
           "hovertemplate": "<b>%{hovertext}</b><br><br>article_score=-0.807<br>year=2017<br>country_ISO_code=%{location}<extra></extra>",
           "hovertext": [
            "Uzbekistan"
           ],
           "locations": [
            "UZB"
           ],
           "name": "-0.807",
           "showlegend": true,
           "showscale": false,
           "type": "choropleth",
           "z": [
            1
           ]
          },
          {
           "colorscale": [
            [
             0,
             "#00cc96"
            ],
            [
             1,
             "#00cc96"
            ]
           ],
           "geo": "geo",
           "hovertemplate": "<b>%{hovertext}</b><br><br>article_score=-0.348<br>year=2017<br>country_ISO_code=%{location}<extra></extra>",
           "hovertext": [
            "Afghanistan"
           ],
           "locations": [
            "AFG"
           ],
           "name": "-0.348",
           "showlegend": true,
           "showscale": false,
           "type": "choropleth",
           "z": [
            1
           ]
          },
          {
           "colorscale": [
            [
             0,
             "#ab63fa"
            ],
            [
             1,
             "#ab63fa"
            ]
           ],
           "geo": "geo",
           "hovertemplate": "<b>%{hovertext}</b><br><br>article_score=-0.691<br>year=2017<br>country_ISO_code=%{location}<extra></extra>",
           "hovertext": [
            "Algeria"
           ],
           "locations": [
            "DZA"
           ],
           "name": "-0.691",
           "showlegend": true,
           "showscale": false,
           "type": "choropleth",
           "z": [
            1
           ]
          },
          {
           "colorscale": [
            [
             0,
             "#EF553B"
            ],
            [
             1,
             "#EF553B"
            ]
           ],
           "geo": "geo",
           "hovertemplate": "<b>%{hovertext}</b><br><br>article_score=0.226<br>year=2017<br>country_ISO_code=%{location}<extra></extra>",
           "hovertext": [
            "Cayman Islands"
           ],
           "locations": [
            "CYM"
           ],
           "name": "0.226",
           "showlegend": true,
           "showscale": false,
           "type": "choropleth",
           "z": [
            1
           ]
          },
          {
           "colorscale": [
            [
             0,
             "#636efa"
            ],
            [
             1,
             "#636efa"
            ]
           ],
           "geo": "geo",
           "hovertemplate": "<b>%{hovertext}</b><br><br>article_score=-0.392<br>year=2017<br>country_ISO_code=%{location}<extra></extra>",
           "hovertext": [
            "Finland"
           ],
           "locations": [
            "FIN"
           ],
           "name": "-0.392",
           "showlegend": true,
           "showscale": false,
           "type": "choropleth",
           "z": [
            1
           ]
          },
          {
           "colorscale": [
            [
             0,
             "#00cc96"
            ],
            [
             1,
             "#00cc96"
            ]
           ],
           "geo": "geo",
           "hovertemplate": "<b>%{hovertext}</b><br><br>article_score=-0.103<br>year=2017<br>country_ISO_code=%{location}<extra></extra>",
           "hovertext": [
            "Greenland"
           ],
           "locations": [
            "GRL"
           ],
           "name": "-0.103",
           "showlegend": true,
           "showscale": false,
           "type": "choropleth",
           "z": [
            1
           ]
          },
          {
           "colorscale": [
            [
             0,
             "#636efa"
            ],
            [
             1,
             "#636efa"
            ]
           ],
           "geo": "geo",
           "hovertemplate": "<b>%{hovertext}</b><br><br>article_score=-0.126<br>year=2017<br>country_ISO_code=%{location}<extra></extra>",
           "hovertext": [
            "Jamaica"
           ],
           "locations": [
            "JAM"
           ],
           "name": "-0.126",
           "showlegend": true,
           "showscale": false,
           "type": "choropleth",
           "z": [
            1
           ]
          },
          {
           "colorscale": [
            [
             0,
             "#EF553B"
            ],
            [
             1,
             "#EF553B"
            ]
           ],
           "geo": "geo",
           "hovertemplate": "<b>%{hovertext}</b><br><br>article_score=0.087<br>year=2017<br>country_ISO_code=%{location}<extra></extra>",
           "hovertext": [
            "Kazakhstan"
           ],
           "locations": [
            "KAZ"
           ],
           "name": "0.087",
           "showlegend": true,
           "showscale": false,
           "type": "choropleth",
           "z": [
            1
           ]
          },
          {
           "colorscale": [
            [
             0,
             "#FFA15A"
            ],
            [
             1,
             "#FFA15A"
            ]
           ],
           "geo": "geo",
           "hovertemplate": "<b>%{hovertext}</b><br><br>article_score=0.074<br>year=2017<br>country_ISO_code=%{location}<extra></extra>",
           "hovertext": [
            "Kuwait"
           ],
           "locations": [
            "KWT"
           ],
           "name": "0.074",
           "showlegend": true,
           "showscale": false,
           "type": "choropleth",
           "z": [
            1
           ]
          },
          {
           "colorscale": [
            [
             0,
             "#B6E880"
            ],
            [
             1,
             "#B6E880"
            ]
           ],
           "geo": "geo",
           "hovertemplate": "<b>%{hovertext}</b><br><br>article_score=-0.178<br>year=2017<br>country_ISO_code=%{location}<extra></extra>",
           "hovertext": [
            "Belgium",
            "Netherlands"
           ],
           "locations": [
            "BEL",
            "NLD"
           ],
           "name": "-0.178",
           "showlegend": true,
           "showscale": false,
           "type": "choropleth",
           "z": [
            1,
            1
           ]
          },
          {
           "colorscale": [
            [
             0,
             "#EF553B"
            ],
            [
             1,
             "#EF553B"
            ]
           ],
           "geo": "geo",
           "hovertemplate": "<b>%{hovertext}</b><br><br>article_score=-0.334<br>year=2017<br>country_ISO_code=%{location}<extra></extra>",
           "hovertext": [
            "El Salvador"
           ],
           "locations": [
            "SLV"
           ],
           "name": "-0.334",
           "showlegend": true,
           "showscale": false,
           "type": "choropleth",
           "z": [
            1
           ]
          },
          {
           "colorscale": [
            [
             0,
             "#00cc96"
            ],
            [
             1,
             "#00cc96"
            ]
           ],
           "geo": "geo",
           "hovertemplate": "<b>%{hovertext}</b><br><br>article_score=-0.606<br>year=2017<br>country_ISO_code=%{location}<extra></extra>",
           "hovertext": [
            "Mauritania"
           ],
           "locations": [
            "MRT"
           ],
           "name": "-0.606",
           "showlegend": true,
           "showscale": false,
           "type": "choropleth",
           "z": [
            1
           ]
          },
          {
           "colorscale": [
            [
             0,
             "#19d3f3"
            ],
            [
             1,
             "#19d3f3"
            ]
           ],
           "geo": "geo",
           "hovertemplate": "<b>%{hovertext}</b><br><br>article_score=0.126<br>year=2017<br>country_ISO_code=%{location}<extra></extra>",
           "hovertext": [
            "Senegal"
           ],
           "locations": [
            "SEN"
           ],
           "name": "0.126",
           "showlegend": true,
           "showscale": false,
           "type": "choropleth",
           "z": [
            1
           ]
          },
          {
           "colorscale": [
            [
             0,
             "#FF97FF"
            ],
            [
             1,
             "#FF97FF"
            ]
           ],
           "geo": "geo",
           "hovertemplate": "<b>%{hovertext}</b><br><br>article_score=-0.242<br>year=2017<br>country_ISO_code=%{location}<extra></extra>",
           "hovertext": [
            "Oman"
           ],
           "locations": [
            "OMN"
           ],
           "name": "-0.242",
           "showlegend": true,
           "showscale": false,
           "type": "choropleth",
           "z": [
            1
           ]
          },
          {
           "colorscale": [
            [
             0,
             "#FFA15A"
            ],
            [
             1,
             "#FFA15A"
            ]
           ],
           "geo": "geo",
           "hovertemplate": "<b>%{hovertext}</b><br><br>article_score=-0.335<br>year=2017<br>country_ISO_code=%{location}<extra></extra>",
           "hovertext": [
            "Serbia"
           ],
           "locations": [
            "SRB"
           ],
           "name": "-0.335",
           "showlegend": true,
           "showscale": false,
           "type": "choropleth",
           "z": [
            1
           ]
          },
          {
           "colorscale": [
            [
             0,
             "#19d3f3"
            ],
            [
             1,
             "#19d3f3"
            ]
           ],
           "geo": "geo",
           "hovertemplate": "<b>%{hovertext}</b><br><br>article_score=-0.577<br>year=2017<br>country_ISO_code=%{location}<extra></extra>",
           "hovertext": [
            "Slovenia"
           ],
           "locations": [
            "SVN"
           ],
           "name": "-0.577",
           "showlegend": true,
           "showscale": false,
           "type": "choropleth",
           "z": [
            1
           ]
          },
          {
           "colorscale": [
            [
             0,
             "#FF97FF"
            ],
            [
             1,
             "#FF97FF"
            ]
           ],
           "geo": "geo",
           "hovertemplate": "<b>%{hovertext}</b><br><br>article_score=-0.113<br>year=2017<br>country_ISO_code=%{location}<extra></extra>",
           "hovertext": [
            "Lithuania",
            "Sri Lanka"
           ],
           "locations": [
            "LTU",
            "LKA"
           ],
           "name": "-0.113",
           "showlegend": true,
           "showscale": false,
           "type": "choropleth",
           "z": [
            1,
            1
           ]
          },
          {
           "colorscale": [
            [
             0,
             "#EF553B"
            ],
            [
             1,
             "#EF553B"
            ]
           ],
           "geo": "geo",
           "hovertemplate": "<b>%{hovertext}</b><br><br>article_score=-0.171<br>year=2017<br>country_ISO_code=%{location}<extra></extra>",
           "hovertext": [
            "Switzerland"
           ],
           "locations": [
            "CHE"
           ],
           "name": "-0.171",
           "showlegend": true,
           "showscale": false,
           "type": "choropleth",
           "z": [
            1
           ]
          },
          {
           "colorscale": [
            [
             0,
             "#19d3f3"
            ],
            [
             1,
             "#19d3f3"
            ]
           ],
           "geo": "geo",
           "hovertemplate": "<b>%{hovertext}</b><br><br>article_score=-0.778<br>year=2017<br>country_ISO_code=%{location}<extra></extra>",
           "hovertext": [
            "Uruguay"
           ],
           "locations": [
            "URY"
           ],
           "name": "-0.778",
           "showlegend": true,
           "showscale": false,
           "type": "choropleth",
           "z": [
            1
           ]
          },
          {
           "colorscale": [
            [
             0,
             "#FF6692"
            ],
            [
             1,
             "#FF6692"
            ]
           ],
           "geo": "geo",
           "hovertemplate": "<b>%{hovertext}</b><br><br>article_score=0.034<br>year=2017<br>country_ISO_code=%{location}<extra></extra>",
           "hovertext": [
            "Vatican City"
           ],
           "locations": [
            "VAT"
           ],
           "name": "0.034",
           "showlegend": true,
           "showscale": false,
           "type": "choropleth",
           "z": [
            1
           ]
          },
          {
           "colorscale": [
            [
             0,
             "#636efa"
            ],
            [
             1,
             "#636efa"
            ]
           ],
           "geo": "geo",
           "hovertemplate": "<b>%{hovertext}</b><br><br>article_score=0.318<br>year=2017<br>country_ISO_code=%{location}<extra></extra>",
           "hovertext": [
            "Angola"
           ],
           "locations": [
            "AGO"
           ],
           "name": "0.318",
           "showlegend": true,
           "showscale": false,
           "type": "choropleth",
           "z": [
            1
           ]
          },
          {
           "colorscale": [
            [
             0,
             "#EF553B"
            ],
            [
             1,
             "#EF553B"
            ]
           ],
           "geo": "geo",
           "hovertemplate": "<b>%{hovertext}</b><br><br>article_score=0.011<br>year=2017<br>country_ISO_code=%{location}<extra></extra>",
           "hovertext": [
            "Antarctica"
           ],
           "locations": [
            "ATA"
           ],
           "name": "0.011",
           "showlegend": true,
           "showscale": false,
           "type": "choropleth",
           "z": [
            1
           ]
          },
          {
           "colorscale": [
            [
             0,
             "#00cc96"
            ],
            [
             1,
             "#00cc96"
            ]
           ],
           "geo": "geo",
           "hovertemplate": "<b>%{hovertext}</b><br><br>article_score=0.526<br>year=2017<br>country_ISO_code=%{location}<extra></extra>",
           "hovertext": [
            "Antigua and Barbuda"
           ],
           "locations": [
            "ATG"
           ],
           "name": "0.526",
           "showlegend": true,
           "showscale": false,
           "type": "choropleth",
           "z": [
            1
           ]
          },
          {
           "colorscale": [
            [
             0,
             "#ab63fa"
            ],
            [
             1,
             "#ab63fa"
            ]
           ],
           "geo": "geo",
           "hovertemplate": "<b>%{hovertext}</b><br><br>article_score=-0.017<br>year=2017<br>country_ISO_code=%{location}<extra></extra>",
           "hovertext": [
            "Australia"
           ],
           "locations": [
            "AUS"
           ],
           "name": "-0.017",
           "showlegend": true,
           "showscale": false,
           "type": "choropleth",
           "z": [
            1
           ]
          },
          {
           "colorscale": [
            [
             0,
             "#FFA15A"
            ],
            [
             1,
             "#FFA15A"
            ]
           ],
           "geo": "geo",
           "hovertemplate": "<b>%{hovertext}</b><br><br>article_score=-0.542<br>year=2017<br>country_ISO_code=%{location}<extra></extra>",
           "hovertext": [
            "Azerbaijan"
           ],
           "locations": [
            "AZE"
           ],
           "name": "-0.542",
           "showlegend": true,
           "showscale": false,
           "type": "choropleth",
           "z": [
            1
           ]
          },
          {
           "colorscale": [
            [
             0,
             "#19d3f3"
            ],
            [
             1,
             "#19d3f3"
            ]
           ],
           "geo": "geo",
           "hovertemplate": "<b>%{hovertext}</b><br><br>article_score=-0.067<br>year=2017<br>country_ISO_code=%{location}<extra></extra>",
           "hovertext": [
            "Bangladesh",
            "United States"
           ],
           "locations": [
            "BGD",
            "USA"
           ],
           "name": "-0.067",
           "showlegend": true,
           "showscale": false,
           "type": "choropleth",
           "z": [
            1,
            1
           ]
          },
          {
           "colorscale": [
            [
             0,
             "#FF6692"
            ],
            [
             1,
             "#FF6692"
            ]
           ],
           "geo": "geo",
           "hovertemplate": "<b>%{hovertext}</b><br><br>article_score=0.077<br>year=2017<br>country_ISO_code=%{location}<extra></extra>",
           "hovertext": [
            "Botswana",
            "Palau"
           ],
           "locations": [
            "BWA",
            "PLW"
           ],
           "name": "0.077",
           "showlegend": true,
           "showscale": false,
           "type": "choropleth",
           "z": [
            1,
            1
           ]
          },
          {
           "colorscale": [
            [
             0,
             "#B6E880"
            ],
            [
             1,
             "#B6E880"
            ]
           ],
           "geo": "geo",
           "hovertemplate": "<b>%{hovertext}</b><br><br>article_score=-0.765<br>year=2017<br>country_ISO_code=%{location}<extra></extra>",
           "hovertext": [
            "British Virgin Islands"
           ],
           "locations": [
            "VGB"
           ],
           "name": "-0.765",
           "showlegend": true,
           "showscale": false,
           "type": "choropleth",
           "z": [
            1
           ]
          },
          {
           "colorscale": [
            [
             0,
             "#FF97FF"
            ],
            [
             1,
             "#FF97FF"
            ]
           ],
           "geo": "geo",
           "hovertemplate": "<b>%{hovertext}</b><br><br>article_score=0.217<br>year=2017<br>country_ISO_code=%{location}<extra></extra>",
           "hovertext": [
            "Bulgaria"
           ],
           "locations": [
            "BGR"
           ],
           "name": "0.217",
           "showlegend": true,
           "showscale": false,
           "type": "choropleth",
           "z": [
            1
           ]
          },
          {
           "colorscale": [
            [
             0,
             "#FECB52"
            ],
            [
             1,
             "#FECB52"
            ]
           ],
           "geo": "geo",
           "hovertemplate": "<b>%{hovertext}</b><br><br>article_score=-0.249<br>year=2017<br>country_ISO_code=%{location}<extra></extra>",
           "hovertext": [
            "Cambodia"
           ],
           "locations": [
            "KHM"
           ],
           "name": "-0.249",
           "showlegend": true,
           "showscale": false,
           "type": "choropleth",
           "z": [
            1
           ]
          },
          {
           "colorscale": [
            [
             0,
             "#636efa"
            ],
            [
             1,
             "#636efa"
            ]
           ],
           "geo": "geo",
           "hovertemplate": "<b>%{hovertext}</b><br><br>article_score=0.11<br>year=2017<br>country_ISO_code=%{location}<extra></extra>",
           "hovertext": [
            "Canada"
           ],
           "locations": [
            "CAN"
           ],
           "name": "0.11",
           "showlegend": true,
           "showscale": false,
           "type": "choropleth",
           "z": [
            1
           ]
          },
          {
           "colorscale": [
            [
             0,
             "#EF553B"
            ],
            [
             1,
             "#EF553B"
            ]
           ],
           "geo": "geo",
           "hovertemplate": "<b>%{hovertext}</b><br><br>article_score=0.289<br>year=2017<br>country_ISO_code=%{location}<extra></extra>",
           "hovertext": [
            "Chile"
           ],
           "locations": [
            "CHL"
           ],
           "name": "0.289",
           "showlegend": true,
           "showscale": false,
           "type": "choropleth",
           "z": [
            1
           ]
          },
          {
           "colorscale": [
            [
             0,
             "#00cc96"
            ],
            [
             1,
             "#00cc96"
            ]
           ],
           "geo": "geo",
           "hovertemplate": "<b>%{hovertext}</b><br><br>article_score=0.131<br>year=2017<br>country_ISO_code=%{location}<extra></extra>",
           "hovertext": [
            "China"
           ],
           "locations": [
            "CHN"
           ],
           "name": "0.131",
           "showlegend": true,
           "showscale": false,
           "type": "choropleth",
           "z": [
            1
           ]
          },
          {
           "colorscale": [
            [
             0,
             "#ab63fa"
            ],
            [
             1,
             "#ab63fa"
            ]
           ],
           "geo": "geo",
           "hovertemplate": "<b>%{hovertext}</b><br><br>article_score=0.103<br>year=2017<br>country_ISO_code=%{location}<extra></extra>",
           "hovertext": [
            "Costa Rica"
           ],
           "locations": [
            "CRI"
           ],
           "name": "0.103",
           "showlegend": true,
           "showscale": false,
           "type": "choropleth",
           "z": [
            1
           ]
          },
          {
           "colorscale": [
            [
             0,
             "#FFA15A"
            ],
            [
             1,
             "#FFA15A"
            ]
           ],
           "geo": "geo",
           "hovertemplate": "<b>%{hovertext}</b><br><br>article_score=-0.367<br>year=2017<br>country_ISO_code=%{location}<extra></extra>",
           "hovertext": [
            "Cuba"
           ],
           "locations": [
            "CUB"
           ],
           "name": "-0.367",
           "showlegend": true,
           "showscale": false,
           "type": "choropleth",
           "z": [
            1
           ]
          },
          {
           "colorscale": [
            [
             0,
             "#19d3f3"
            ],
            [
             1,
             "#19d3f3"
            ]
           ],
           "geo": "geo",
           "hovertemplate": "<b>%{hovertext}</b><br><br>article_score=0.586<br>year=2017<br>country_ISO_code=%{location}<extra></extra>",
           "hovertext": [
            "Cyprus"
           ],
           "locations": [
            "CYP"
           ],
           "name": "0.586",
           "showlegend": true,
           "showscale": false,
           "type": "choropleth",
           "z": [
            1
           ]
          },
          {
           "colorscale": [
            [
             0,
             "#FF6692"
            ],
            [
             1,
             "#FF6692"
            ]
           ],
           "geo": "geo",
           "hovertemplate": "<b>%{hovertext}</b><br><br>article_score=0.459<br>year=2017<br>country_ISO_code=%{location}<extra></extra>",
           "hovertext": [
            "Dominica"
           ],
           "locations": [
            "DMA"
           ],
           "name": "0.459",
           "showlegend": true,
           "showscale": false,
           "type": "choropleth",
           "z": [
            1
           ]
          },
          {
           "colorscale": [
            [
             0,
             "#B6E880"
            ],
            [
             1,
             "#B6E880"
            ]
           ],
           "geo": "geo",
           "hovertemplate": "<b>%{hovertext}</b><br><br>article_score=0.009<br>year=2017<br>country_ISO_code=%{location}<extra></extra>",
           "hovertext": [
            "Dominican Republic"
           ],
           "locations": [
            "DOM"
           ],
           "name": "0.009",
           "showlegend": true,
           "showscale": false,
           "type": "choropleth",
           "z": [
            1
           ]
          },
          {
           "colorscale": [
            [
             0,
             "#FF97FF"
            ],
            [
             1,
             "#FF97FF"
            ]
           ],
           "geo": "geo",
           "hovertemplate": "<b>%{hovertext}</b><br><br>article_score=0.185<br>year=2017<br>country_ISO_code=%{location}<extra></extra>",
           "hovertext": [
            "Ecuador",
            "Sweden"
           ],
           "locations": [
            "ECU",
            "SWE"
           ],
           "name": "0.185",
           "showlegend": true,
           "showscale": false,
           "type": "choropleth",
           "z": [
            1,
            1
           ]
          },
          {
           "colorscale": [
            [
             0,
             "#FECB52"
            ],
            [
             1,
             "#FECB52"
            ]
           ],
           "geo": "geo",
           "hovertemplate": "<b>%{hovertext}</b><br><br>article_score=0.312<br>year=2017<br>country_ISO_code=%{location}<extra></extra>",
           "hovertext": [
            "Egypt"
           ],
           "locations": [
            "EGY"
           ],
           "name": "0.312",
           "showlegend": true,
           "showscale": false,
           "type": "choropleth",
           "z": [
            1
           ]
          },
          {
           "colorscale": [
            [
             0,
             "#636efa"
            ],
            [
             1,
             "#636efa"
            ]
           ],
           "geo": "geo",
           "hovertemplate": "<b>%{hovertext}</b><br><br>article_score=-0.257<br>year=2017<br>country_ISO_code=%{location}<extra></extra>",
           "hovertext": [
            "Ethiopia"
           ],
           "locations": [
            "ETH"
           ],
           "name": "-0.257",
           "showlegend": true,
           "showscale": false,
           "type": "choropleth",
           "z": [
            1
           ]
          },
          {
           "colorscale": [
            [
             0,
             "#EF553B"
            ],
            [
             1,
             "#EF553B"
            ]
           ],
           "geo": "geo",
           "hovertemplate": "<b>%{hovertext}</b><br><br>article_score=0.259<br>year=2017<br>country_ISO_code=%{location}<extra></extra>",
           "hovertext": [
            "France"
           ],
           "locations": [
            "FRA"
           ],
           "name": "0.259",
           "showlegend": true,
           "showscale": false,
           "type": "choropleth",
           "z": [
            1
           ]
          },
          {
           "colorscale": [
            [
             0,
             "#00cc96"
            ],
            [
             1,
             "#00cc96"
            ]
           ],
           "geo": "geo",
           "hovertemplate": "<b>%{hovertext}</b><br><br>article_score=-0.076<br>year=2017<br>country_ISO_code=%{location}<extra></extra>",
           "hovertext": [
            "Germany"
           ],
           "locations": [
            "DEU"
           ],
           "name": "-0.076",
           "showlegend": true,
           "showscale": false,
           "type": "choropleth",
           "z": [
            1
           ]
          },
          {
           "colorscale": [
            [
             0,
             "#ab63fa"
            ],
            [
             1,
             "#ab63fa"
            ]
           ],
           "geo": "geo",
           "hovertemplate": "<b>%{hovertext}</b><br><br>article_score=0.681<br>year=2017<br>country_ISO_code=%{location}<extra></extra>",
           "hovertext": [
            "Gibraltar"
           ],
           "locations": [
            "GIB"
           ],
           "name": "0.681",
           "showlegend": true,
           "showscale": false,
           "type": "choropleth",
           "z": [
            1
           ]
          },
          {
           "colorscale": [
            [
             0,
             "#FFA15A"
            ],
            [
             1,
             "#FFA15A"
            ]
           ],
           "geo": "geo",
           "hovertemplate": "<b>%{hovertext}</b><br><br>article_score=-0.923<br>year=2017<br>country_ISO_code=%{location}<extra></extra>",
           "hovertext": [
            "Guatemala"
           ],
           "locations": [
            "GTM"
           ],
           "name": "-0.923",
           "showlegend": true,
           "showscale": false,
           "type": "choropleth",
           "z": [
            1
           ]
          },
          {
           "colorscale": [
            [
             0,
             "#19d3f3"
            ],
            [
             1,
             "#19d3f3"
            ]
           ],
           "geo": "geo",
           "hovertemplate": "<b>%{hovertext}</b><br><br>article_score=0.637<br>year=2017<br>country_ISO_code=%{location}<extra></extra>",
           "hovertext": [
            "Haiti"
           ],
           "locations": [
            "HTI"
           ],
           "name": "0.637",
           "showlegend": true,
           "showscale": false,
           "type": "choropleth",
           "z": [
            1
           ]
          },
          {
           "colorscale": [
            [
             0,
             "#FF6692"
            ],
            [
             1,
             "#FF6692"
            ]
           ],
           "geo": "geo",
           "hovertemplate": "<b>%{hovertext}</b><br><br>article_score=0.042<br>year=2017<br>country_ISO_code=%{location}<extra></extra>",
           "hovertext": [
            "Hong Kong"
           ],
           "locations": [
            "HKG"
           ],
           "name": "0.042",
           "showlegend": true,
           "showscale": false,
           "type": "choropleth",
           "z": [
            1
           ]
          },
          {
           "colorscale": [
            [
             0,
             "#B6E880"
            ],
            [
             1,
             "#B6E880"
            ]
           ],
           "geo": "geo",
           "hovertemplate": "<b>%{hovertext}</b><br><br>article_score=-0.261<br>year=2017<br>country_ISO_code=%{location}<extra></extra>",
           "hovertext": [
            "Iceland"
           ],
           "locations": [
            "ISL"
           ],
           "name": "-0.261",
           "showlegend": true,
           "showscale": false,
           "type": "choropleth",
           "z": [
            1
           ]
          },
          {
           "colorscale": [
            [
             0,
             "#FF97FF"
            ],
            [
             1,
             "#FF97FF"
            ]
           ],
           "geo": "geo",
           "hovertemplate": "<b>%{hovertext}</b><br><br>article_score=-0.083<br>year=2017<br>country_ISO_code=%{location}<extra></extra>",
           "hovertext": [
            "Iran"
           ],
           "locations": [
            "IRN"
           ],
           "name": "-0.083",
           "showlegend": true,
           "showscale": false,
           "type": "choropleth",
           "z": [
            1
           ]
          },
          {
           "colorscale": [
            [
             0,
             "#FECB52"
            ],
            [
             1,
             "#FECB52"
            ]
           ],
           "geo": "geo",
           "hovertemplate": "<b>%{hovertext}</b><br><br>article_score=-0.095<br>year=2017<br>country_ISO_code=%{location}<extra></extra>",
           "hovertext": [
            "Iraq"
           ],
           "locations": [
            "IRQ"
           ],
           "name": "-0.095",
           "showlegend": true,
           "showscale": false,
           "type": "choropleth",
           "z": [
            1
           ]
          },
          {
           "colorscale": [
            [
             0,
             "#636efa"
            ],
            [
             1,
             "#636efa"
            ]
           ],
           "geo": "geo",
           "hovertemplate": "<b>%{hovertext}</b><br><br>article_score=0.048<br>year=2017<br>country_ISO_code=%{location}<extra></extra>",
           "hovertext": [
            "Israel"
           ],
           "locations": [
            "ISR"
           ],
           "name": "0.048",
           "showlegend": true,
           "showscale": false,
           "type": "choropleth",
           "z": [
            1
           ]
          },
          {
           "colorscale": [
            [
             0,
             "#EF553B"
            ],
            [
             1,
             "#EF553B"
            ]
           ],
           "geo": "geo",
           "hovertemplate": "<b>%{hovertext}</b><br><br>article_score=0.307<br>year=2017<br>country_ISO_code=%{location}<extra></extra>",
           "hovertext": [
            "Italy"
           ],
           "locations": [
            "ITA"
           ],
           "name": "0.307",
           "showlegend": true,
           "showscale": false,
           "type": "choropleth",
           "z": [
            1
           ]
          },
          {
           "colorscale": [
            [
             0,
             "#00cc96"
            ],
            [
             1,
             "#00cc96"
            ]
           ],
           "geo": "geo",
           "hovertemplate": "<b>%{hovertext}</b><br><br>article_score=0.15<br>year=2017<br>country_ISO_code=%{location}<extra></extra>",
           "hovertext": [
            "Japan"
           ],
           "locations": [
            "JPN"
           ],
           "name": "0.15",
           "showlegend": true,
           "showscale": false,
           "type": "choropleth",
           "z": [
            1
           ]
          },
          {
           "colorscale": [
            [
             0,
             "#ab63fa"
            ],
            [
             1,
             "#ab63fa"
            ]
           ],
           "geo": "geo",
           "hovertemplate": "<b>%{hovertext}</b><br><br>article_score=0.36<br>year=2017<br>country_ISO_code=%{location}<extra></extra>",
           "hovertext": [
            "Kenya"
           ],
           "locations": [
            "KEN"
           ],
           "name": "0.36",
           "showlegend": true,
           "showscale": false,
           "type": "choropleth",
           "z": [
            1
           ]
          },
          {
           "colorscale": [
            [
             0,
             "#FFA15A"
            ],
            [
             1,
             "#FFA15A"
            ]
           ],
           "geo": "geo",
           "hovertemplate": "<b>%{hovertext}</b><br><br>article_score=0.032<br>year=2017<br>country_ISO_code=%{location}<extra></extra>",
           "hovertext": [
            "Kiribati"
           ],
           "locations": [
            "KIR"
           ],
           "name": "0.032",
           "showlegend": true,
           "showscale": false,
           "type": "choropleth",
           "z": [
            1
           ]
          },
          {
           "colorscale": [
            [
             0,
             "#19d3f3"
            ],
            [
             1,
             "#19d3f3"
            ]
           ],
           "geo": "geo",
           "hovertemplate": "<b>%{hovertext}</b><br><br>article_score=-0.419<br>year=2017<br>country_ISO_code=%{location}<extra></extra>",
           "hovertext": [
            "Libya"
           ],
           "locations": [
            "LBY"
           ],
           "name": "-0.419",
           "showlegend": true,
           "showscale": false,
           "type": "choropleth",
           "z": [
            1
           ]
          },
          {
           "colorscale": [
            [
             0,
             "#FF6692"
            ],
            [
             1,
             "#FF6692"
            ]
           ],
           "geo": "geo",
           "hovertemplate": "<b>%{hovertext}</b><br><br>article_score=-0.066<br>year=2017<br>country_ISO_code=%{location}<extra></extra>",
           "hovertext": [
            "Luxembourg"
           ],
           "locations": [
            "LUX"
           ],
           "name": "-0.066",
           "showlegend": true,
           "showscale": false,
           "type": "choropleth",
           "z": [
            1
           ]
          },
          {
           "colorscale": [
            [
             0,
             "#B6E880"
            ],
            [
             1,
             "#B6E880"
            ]
           ],
           "geo": "geo",
           "hovertemplate": "<b>%{hovertext}</b><br><br>article_score=-0.238<br>year=2017<br>country_ISO_code=%{location}<extra></extra>",
           "hovertext": [
            "Madagascar"
           ],
           "locations": [
            "MDG"
           ],
           "name": "-0.238",
           "showlegend": true,
           "showscale": false,
           "type": "choropleth",
           "z": [
            1
           ]
          },
          {
           "colorscale": [
            [
             0,
             "#FF97FF"
            ],
            [
             1,
             "#FF97FF"
            ]
           ],
           "geo": "geo",
           "hovertemplate": "<b>%{hovertext}</b><br><br>article_score=0.158<br>year=2017<br>country_ISO_code=%{location}<extra></extra>",
           "hovertext": [
            "Malaysia"
           ],
           "locations": [
            "MYS"
           ],
           "name": "0.158",
           "showlegend": true,
           "showscale": false,
           "type": "choropleth",
           "z": [
            1
           ]
          },
          {
           "colorscale": [
            [
             0,
             "#FECB52"
            ],
            [
             1,
             "#FECB52"
            ]
           ],
           "geo": "geo",
           "hovertemplate": "<b>%{hovertext}</b><br><br>article_score=-0.136<br>year=2017<br>country_ISO_code=%{location}<extra></extra>",
           "hovertext": [
            "New Zealand"
           ],
           "locations": [
            "NZL"
           ],
           "name": "-0.136",
           "showlegend": true,
           "showscale": false,
           "type": "choropleth",
           "z": [
            1
           ]
          },
          {
           "colorscale": [
            [
             0,
             "#636efa"
            ],
            [
             1,
             "#636efa"
            ]
           ],
           "geo": "geo",
           "hovertemplate": "<b>%{hovertext}</b><br><br>article_score=0.052<br>year=2017<br>country_ISO_code=%{location}<extra></extra>",
           "hovertext": [
            "Niger"
           ],
           "locations": [
            "NGA"
           ],
           "name": "0.052",
           "showlegend": true,
           "showscale": false,
           "type": "choropleth",
           "z": [
            1
           ]
          },
          {
           "colorscale": [
            [
             0,
             "#EF553B"
            ],
            [
             1,
             "#EF553B"
            ]
           ],
           "geo": "geo",
           "hovertemplate": "<b>%{hovertext}</b><br><br>article_score=-0.383<br>year=2017<br>country_ISO_code=%{location}<extra></extra>",
           "hovertext": [
            "Nigeria"
           ],
           "locations": [
            "NGA"
           ],
           "name": "-0.383",
           "showlegend": true,
           "showscale": false,
           "type": "choropleth",
           "z": [
            1
           ]
          },
          {
           "colorscale": [
            [
             0,
             "#00cc96"
            ],
            [
             1,
             "#00cc96"
            ]
           ],
           "geo": "geo",
           "hovertemplate": "<b>%{hovertext}</b><br><br>article_score=0.25<br>year=2017<br>country_ISO_code=%{location}<extra></extra>",
           "hovertext": [
            "Northern Mariana Islands"
           ],
           "locations": [
            "MNP"
           ],
           "name": "0.25",
           "showlegend": true,
           "showscale": false,
           "type": "choropleth",
           "z": [
            1
           ]
          },
          {
           "colorscale": [
            [
             0,
             "#ab63fa"
            ],
            [
             1,
             "#ab63fa"
            ]
           ],
           "geo": "geo",
           "hovertemplate": "<b>%{hovertext}</b><br><br>article_score=0.33<br>year=2017<br>country_ISO_code=%{location}<extra></extra>",
           "hovertext": [
            "Norway"
           ],
           "locations": [
            "NOR"
           ],
           "name": "0.33",
           "showlegend": true,
           "showscale": false,
           "type": "choropleth",
           "z": [
            1
           ]
          },
          {
           "colorscale": [
            [
             0,
             "#FFA15A"
            ],
            [
             1,
             "#FFA15A"
            ]
           ],
           "geo": "geo",
           "hovertemplate": "<b>%{hovertext}</b><br><br>article_score=0.183<br>year=2017<br>country_ISO_code=%{location}<extra></extra>",
           "hovertext": [
            "Pakistan"
           ],
           "locations": [
            "PAK"
           ],
           "name": "0.183",
           "showlegend": true,
           "showscale": false,
           "type": "choropleth",
           "z": [
            1
           ]
          },
          {
           "colorscale": [
            [
             0,
             "#19d3f3"
            ],
            [
             1,
             "#19d3f3"
            ]
           ],
           "geo": "geo",
           "hovertemplate": "<b>%{hovertext}</b><br><br>article_score=-0.244<br>year=2017<br>country_ISO_code=%{location}<extra></extra>",
           "hovertext": [
            "Philippines"
           ],
           "locations": [
            "PHL"
           ],
           "name": "-0.244",
           "showlegend": true,
           "showscale": false,
           "type": "choropleth",
           "z": [
            1
           ]
          },
          {
           "colorscale": [
            [
             0,
             "#FF6692"
            ],
            [
             1,
             "#FF6692"
            ]
           ],
           "geo": "geo",
           "hovertemplate": "<b>%{hovertext}</b><br><br>article_score=0.124<br>year=2017<br>country_ISO_code=%{location}<extra></extra>",
           "hovertext": [
            "Poland"
           ],
           "locations": [
            "POL"
           ],
           "name": "0.124",
           "showlegend": true,
           "showscale": false,
           "type": "choropleth",
           "z": [
            1
           ]
          },
          {
           "colorscale": [
            [
             0,
             "#B6E880"
            ],
            [
             1,
             "#B6E880"
            ]
           ],
           "geo": "geo",
           "hovertemplate": "<b>%{hovertext}</b><br><br>article_score=0.07<br>year=2017<br>country_ISO_code=%{location}<extra></extra>",
           "hovertext": [
            "Qatar"
           ],
           "locations": [
            "QAT"
           ],
           "name": "0.07",
           "showlegend": true,
           "showscale": false,
           "type": "choropleth",
           "z": [
            1
           ]
          },
          {
           "colorscale": [
            [
             0,
             "#FF97FF"
            ],
            [
             1,
             "#FF97FF"
            ]
           ],
           "geo": "geo",
           "hovertemplate": "<b>%{hovertext}</b><br><br>article_score=0.22<br>year=2017<br>country_ISO_code=%{location}<extra></extra>",
           "hovertext": [
            "Romania"
           ],
           "locations": [
            "ROU"
           ],
           "name": "0.22",
           "showlegend": true,
           "showscale": false,
           "type": "choropleth",
           "z": [
            1
           ]
          },
          {
           "colorscale": [
            [
             0,
             "#FECB52"
            ],
            [
             1,
             "#FECB52"
            ]
           ],
           "geo": "geo",
           "hovertemplate": "<b>%{hovertext}</b><br><br>article_score=0.162<br>year=2017<br>country_ISO_code=%{location}<extra></extra>",
           "hovertext": [
            "Saudi Arabia"
           ],
           "locations": [
            "SAU"
           ],
           "name": "0.162",
           "showlegend": true,
           "showscale": false,
           "type": "choropleth",
           "z": [
            1
           ]
          },
          {
           "colorscale": [
            [
             0,
             "#636efa"
            ],
            [
             1,
             "#636efa"
            ]
           ],
           "geo": "geo",
           "hovertemplate": "<b>%{hovertext}</b><br><br>article_score=0.039<br>year=2017<br>country_ISO_code=%{location}<extra></extra>",
           "hovertext": [
            "Seychelles"
           ],
           "locations": [
            "SYC"
           ],
           "name": "0.039",
           "showlegend": true,
           "showscale": false,
           "type": "choropleth",
           "z": [
            1
           ]
          },
          {
           "colorscale": [
            [
             0,
             "#EF553B"
            ],
            [
             1,
             "#EF553B"
            ]
           ],
           "geo": "geo",
           "hovertemplate": "<b>%{hovertext}</b><br><br>article_score=-0.138<br>year=2017<br>country_ISO_code=%{location}<extra></extra>",
           "hovertext": [
            "Somalia"
           ],
           "locations": [
            "SOM"
           ],
           "name": "-0.138",
           "showlegend": true,
           "showscale": false,
           "type": "choropleth",
           "z": [
            1
           ]
          },
          {
           "colorscale": [
            [
             0,
             "#00cc96"
            ],
            [
             1,
             "#00cc96"
            ]
           ],
           "geo": "geo",
           "hovertemplate": "<b>%{hovertext}</b><br><br>article_score=-0.786<br>year=2017<br>country_ISO_code=%{location}<extra></extra>",
           "hovertext": [
            "South Sudan"
           ],
           "locations": [
            "SSD"
           ],
           "name": "-0.786",
           "showlegend": true,
           "showscale": false,
           "type": "choropleth",
           "z": [
            1
           ]
          },
          {
           "colorscale": [
            [
             0,
             "#ab63fa"
            ],
            [
             1,
             "#ab63fa"
            ]
           ],
           "geo": "geo",
           "hovertemplate": "<b>%{hovertext}</b><br><br>article_score=-0.199<br>year=2017<br>country_ISO_code=%{location}<extra></extra>",
           "hovertext": [
            "Spain"
           ],
           "locations": [
            "ESP"
           ],
           "name": "-0.199",
           "showlegend": true,
           "showscale": false,
           "type": "choropleth",
           "z": [
            1
           ]
          },
          {
           "colorscale": [
            [
             0,
             "#FFA15A"
            ],
            [
             1,
             "#FFA15A"
            ]
           ],
           "geo": "geo",
           "hovertemplate": "<b>%{hovertext}</b><br><br>article_score=0.587<br>year=2017<br>country_ISO_code=%{location}<extra></extra>",
           "hovertext": [
            "Suriname"
           ],
           "locations": [
            "SUR"
           ],
           "name": "0.587",
           "showlegend": true,
           "showscale": false,
           "type": "choropleth",
           "z": [
            1
           ]
          },
          {
           "colorscale": [
            [
             0,
             "#19d3f3"
            ],
            [
             1,
             "#19d3f3"
            ]
           ],
           "geo": "geo",
           "hovertemplate": "<b>%{hovertext}</b><br><br>article_score=-0.143<br>year=2017<br>country_ISO_code=%{location}<extra></extra>",
           "hovertext": [
            "Syria"
           ],
           "locations": [
            "SYR"
           ],
           "name": "-0.143",
           "showlegend": true,
           "showscale": false,
           "type": "choropleth",
           "z": [
            1
           ]
          },
          {
           "colorscale": [
            [
             0,
             "#FF6692"
            ],
            [
             1,
             "#FF6692"
            ]
           ],
           "geo": "geo",
           "hovertemplate": "<b>%{hovertext}</b><br><br>article_score=0.285<br>year=2017<br>country_ISO_code=%{location}<extra></extra>",
           "hovertext": [
            "Taiwan"
           ],
           "locations": [
            "TWN"
           ],
           "name": "0.285",
           "showlegend": true,
           "showscale": false,
           "type": "choropleth",
           "z": [
            1
           ]
          },
          {
           "colorscale": [
            [
             0,
             "#B6E880"
            ],
            [
             1,
             "#B6E880"
            ]
           ],
           "geo": "geo",
           "hovertemplate": "<b>%{hovertext}</b><br><br>article_score=0.538<br>year=2017<br>country_ISO_code=%{location}<extra></extra>",
           "hovertext": [
            "Tanzania"
           ],
           "locations": [
            "TZA"
           ],
           "name": "0.538",
           "showlegend": true,
           "showscale": false,
           "type": "choropleth",
           "z": [
            1
           ]
          },
          {
           "colorscale": [
            [
             0,
             "#FF97FF"
            ],
            [
             1,
             "#FF97FF"
            ]
           ],
           "geo": "geo",
           "hovertemplate": "<b>%{hovertext}</b><br><br>article_score=0.119<br>year=2017<br>country_ISO_code=%{location}<extra></extra>",
           "hovertext": [
            "The Bahamas",
            "Zimbabwe"
           ],
           "locations": [
            "BHS",
            "ZWE"
           ],
           "name": "0.119",
           "showlegend": true,
           "showscale": false,
           "type": "choropleth",
           "z": [
            1,
            1
           ]
          },
          {
           "colorscale": [
            [
             0,
             "#FECB52"
            ],
            [
             1,
             "#FECB52"
            ]
           ],
           "geo": "geo",
           "hovertemplate": "<b>%{hovertext}</b><br><br>article_score=0.304<br>year=2017<br>country_ISO_code=%{location}<extra></extra>",
           "hovertext": [
            "Tonga"
           ],
           "locations": [
            "TON"
           ],
           "name": "0.304",
           "showlegend": true,
           "showscale": false,
           "type": "choropleth",
           "z": [
            1
           ]
          },
          {
           "colorscale": [
            [
             0,
             "#636efa"
            ],
            [
             1,
             "#636efa"
            ]
           ],
           "geo": "geo",
           "hovertemplate": "<b>%{hovertext}</b><br><br>article_score=-0.156<br>year=2017<br>country_ISO_code=%{location}<extra></extra>",
           "hovertext": [
            "Turkey"
           ],
           "locations": [
            "TUR"
           ],
           "name": "-0.156",
           "showlegend": true,
           "showscale": false,
           "type": "choropleth",
           "z": [
            1
           ]
          },
          {
           "colorscale": [
            [
             0,
             "#EF553B"
            ],
            [
             1,
             "#EF553B"
            ]
           ],
           "geo": "geo",
           "hovertemplate": "<b>%{hovertext}</b><br><br>article_score=-0.135<br>year=2017<br>country_ISO_code=%{location}<extra></extra>",
           "hovertext": [
            "Uganda"
           ],
           "locations": [
            "UGA"
           ],
           "name": "-0.135",
           "showlegend": true,
           "showscale": false,
           "type": "choropleth",
           "z": [
            1
           ]
          },
          {
           "colorscale": [
            [
             0,
             "#00cc96"
            ],
            [
             1,
             "#00cc96"
            ]
           ],
           "geo": "geo",
           "hovertemplate": "<b>%{hovertext}</b><br><br>article_score=0.104<br>year=2017<br>country_ISO_code=%{location}<extra></extra>",
           "hovertext": [
            "Ukraine"
           ],
           "locations": [
            "UKR"
           ],
           "name": "0.104",
           "showlegend": true,
           "showscale": false,
           "type": "choropleth",
           "z": [
            1
           ]
          },
          {
           "colorscale": [
            [
             0,
             "#ab63fa"
            ],
            [
             1,
             "#ab63fa"
            ]
           ],
           "geo": "geo",
           "hovertemplate": "<b>%{hovertext}</b><br><br>article_score=0.409<br>year=2017<br>country_ISO_code=%{location}<extra></extra>",
           "hovertext": [
            "United Arab Emirates"
           ],
           "locations": [
            "ARE"
           ],
           "name": "0.409",
           "showlegend": true,
           "showscale": false,
           "type": "choropleth",
           "z": [
            1
           ]
          },
          {
           "colorscale": [
            [
             0,
             "#FFA15A"
            ],
            [
             1,
             "#FFA15A"
            ]
           ],
           "geo": "geo",
           "hovertemplate": "<b>%{hovertext}</b><br><br>article_score=0.177<br>year=2017<br>country_ISO_code=%{location}<extra></extra>",
           "hovertext": [
            "Vietnam"
           ],
           "locations": [
            "VNM"
           ],
           "name": "0.177",
           "showlegend": true,
           "showscale": false,
           "type": "choropleth",
           "z": [
            1
           ]
          },
          {
           "colorscale": [
            [
             0,
             "#19d3f3"
            ],
            [
             1,
             "#19d3f3"
            ]
           ],
           "geo": "geo",
           "hovertemplate": "<b>%{hovertext}</b><br><br>article_score=-0.651<br>year=2017<br>country_ISO_code=%{location}<extra></extra>",
           "hovertext": [
            "Yemen"
           ],
           "locations": [
            "YEM"
           ],
           "name": "-0.651",
           "showlegend": true,
           "showscale": false,
           "type": "choropleth",
           "z": [
            1
           ]
          }
         ],
         "name": "2017"
        }
       ],
       "layout": {
        "geo": {
         "center": {},
         "domain": {
          "x": [
           0,
           1
          ],
          "y": [
           0,
           1
          ]
         }
        },
        "height": 600,
        "legend": {
         "title": {
          "text": "article_score"
         },
         "tracegroupgap": 0
        },
        "margin": {
         "t": 60
        },
        "sliders": [
         {
          "active": 0,
          "currentvalue": {
           "prefix": "year="
          },
          "len": 0.9,
          "pad": {
           "b": 10,
           "t": 60
          },
          "steps": [
           {
            "args": [
             [
              "2015"
             ],
             {
              "frame": {
               "duration": 0,
               "redraw": true
              },
              "fromcurrent": true,
              "mode": "immediate",
              "transition": {
               "duration": 0,
               "easing": "linear"
              }
             }
            ],
            "label": "2015",
            "method": "animate"
           },
           {
            "args": [
             [
              "2016"
             ],
             {
              "frame": {
               "duration": 0,
               "redraw": true
              },
              "fromcurrent": true,
              "mode": "immediate",
              "transition": {
               "duration": 0,
               "easing": "linear"
              }
             }
            ],
            "label": "2016",
            "method": "animate"
           },
           {
            "args": [
             [
              "2017"
             ],
             {
              "frame": {
               "duration": 0,
               "redraw": true
              },
              "fromcurrent": true,
              "mode": "immediate",
              "transition": {
               "duration": 0,
               "easing": "linear"
              }
             }
            ],
            "label": "2017",
            "method": "animate"
           }
          ],
          "x": 0.1,
          "xanchor": "left",
          "y": 0,
          "yanchor": "top"
         }
        ],
        "template": {
         "data": {
          "bar": [
           {
            "error_x": {
             "color": "#2a3f5f"
            },
            "error_y": {
             "color": "#2a3f5f"
            },
            "marker": {
             "line": {
              "color": "#E5ECF6",
              "width": 0.5
             }
            },
            "type": "bar"
           }
          ],
          "barpolar": [
           {
            "marker": {
             "line": {
              "color": "#E5ECF6",
              "width": 0.5
             }
            },
            "type": "barpolar"
           }
          ],
          "carpet": [
           {
            "aaxis": {
             "endlinecolor": "#2a3f5f",
             "gridcolor": "white",
             "linecolor": "white",
             "minorgridcolor": "white",
             "startlinecolor": "#2a3f5f"
            },
            "baxis": {
             "endlinecolor": "#2a3f5f",
             "gridcolor": "white",
             "linecolor": "white",
             "minorgridcolor": "white",
             "startlinecolor": "#2a3f5f"
            },
            "type": "carpet"
           }
          ],
          "choropleth": [
           {
            "colorbar": {
             "outlinewidth": 0,
             "ticks": ""
            },
            "type": "choropleth"
           }
          ],
          "contour": [
           {
            "colorbar": {
             "outlinewidth": 0,
             "ticks": ""
            },
            "colorscale": [
             [
              0,
              "#0d0887"
             ],
             [
              0.1111111111111111,
              "#46039f"
             ],
             [
              0.2222222222222222,
              "#7201a8"
             ],
             [
              0.3333333333333333,
              "#9c179e"
             ],
             [
              0.4444444444444444,
              "#bd3786"
             ],
             [
              0.5555555555555556,
              "#d8576b"
             ],
             [
              0.6666666666666666,
              "#ed7953"
             ],
             [
              0.7777777777777778,
              "#fb9f3a"
             ],
             [
              0.8888888888888888,
              "#fdca26"
             ],
             [
              1,
              "#f0f921"
             ]
            ],
            "type": "contour"
           }
          ],
          "contourcarpet": [
           {
            "colorbar": {
             "outlinewidth": 0,
             "ticks": ""
            },
            "type": "contourcarpet"
           }
          ],
          "heatmap": [
           {
            "colorbar": {
             "outlinewidth": 0,
             "ticks": ""
            },
            "colorscale": [
             [
              0,
              "#0d0887"
             ],
             [
              0.1111111111111111,
              "#46039f"
             ],
             [
              0.2222222222222222,
              "#7201a8"
             ],
             [
              0.3333333333333333,
              "#9c179e"
             ],
             [
              0.4444444444444444,
              "#bd3786"
             ],
             [
              0.5555555555555556,
              "#d8576b"
             ],
             [
              0.6666666666666666,
              "#ed7953"
             ],
             [
              0.7777777777777778,
              "#fb9f3a"
             ],
             [
              0.8888888888888888,
              "#fdca26"
             ],
             [
              1,
              "#f0f921"
             ]
            ],
            "type": "heatmap"
           }
          ],
          "heatmapgl": [
           {
            "colorbar": {
             "outlinewidth": 0,
             "ticks": ""
            },
            "colorscale": [
             [
              0,
              "#0d0887"
             ],
             [
              0.1111111111111111,
              "#46039f"
             ],
             [
              0.2222222222222222,
              "#7201a8"
             ],
             [
              0.3333333333333333,
              "#9c179e"
             ],
             [
              0.4444444444444444,
              "#bd3786"
             ],
             [
              0.5555555555555556,
              "#d8576b"
             ],
             [
              0.6666666666666666,
              "#ed7953"
             ],
             [
              0.7777777777777778,
              "#fb9f3a"
             ],
             [
              0.8888888888888888,
              "#fdca26"
             ],
             [
              1,
              "#f0f921"
             ]
            ],
            "type": "heatmapgl"
           }
          ],
          "histogram": [
           {
            "marker": {
             "colorbar": {
              "outlinewidth": 0,
              "ticks": ""
             }
            },
            "type": "histogram"
           }
          ],
          "histogram2d": [
           {
            "colorbar": {
             "outlinewidth": 0,
             "ticks": ""
            },
            "colorscale": [
             [
              0,
              "#0d0887"
             ],
             [
              0.1111111111111111,
              "#46039f"
             ],
             [
              0.2222222222222222,
              "#7201a8"
             ],
             [
              0.3333333333333333,
              "#9c179e"
             ],
             [
              0.4444444444444444,
              "#bd3786"
             ],
             [
              0.5555555555555556,
              "#d8576b"
             ],
             [
              0.6666666666666666,
              "#ed7953"
             ],
             [
              0.7777777777777778,
              "#fb9f3a"
             ],
             [
              0.8888888888888888,
              "#fdca26"
             ],
             [
              1,
              "#f0f921"
             ]
            ],
            "type": "histogram2d"
           }
          ],
          "histogram2dcontour": [
           {
            "colorbar": {
             "outlinewidth": 0,
             "ticks": ""
            },
            "colorscale": [
             [
              0,
              "#0d0887"
             ],
             [
              0.1111111111111111,
              "#46039f"
             ],
             [
              0.2222222222222222,
              "#7201a8"
             ],
             [
              0.3333333333333333,
              "#9c179e"
             ],
             [
              0.4444444444444444,
              "#bd3786"
             ],
             [
              0.5555555555555556,
              "#d8576b"
             ],
             [
              0.6666666666666666,
              "#ed7953"
             ],
             [
              0.7777777777777778,
              "#fb9f3a"
             ],
             [
              0.8888888888888888,
              "#fdca26"
             ],
             [
              1,
              "#f0f921"
             ]
            ],
            "type": "histogram2dcontour"
           }
          ],
          "mesh3d": [
           {
            "colorbar": {
             "outlinewidth": 0,
             "ticks": ""
            },
            "type": "mesh3d"
           }
          ],
          "parcoords": [
           {
            "line": {
             "colorbar": {
              "outlinewidth": 0,
              "ticks": ""
             }
            },
            "type": "parcoords"
           }
          ],
          "pie": [
           {
            "automargin": true,
            "type": "pie"
           }
          ],
          "scatter": [
           {
            "marker": {
             "colorbar": {
              "outlinewidth": 0,
              "ticks": ""
             }
            },
            "type": "scatter"
           }
          ],
          "scatter3d": [
           {
            "line": {
             "colorbar": {
              "outlinewidth": 0,
              "ticks": ""
             }
            },
            "marker": {
             "colorbar": {
              "outlinewidth": 0,
              "ticks": ""
             }
            },
            "type": "scatter3d"
           }
          ],
          "scattercarpet": [
           {
            "marker": {
             "colorbar": {
              "outlinewidth": 0,
              "ticks": ""
             }
            },
            "type": "scattercarpet"
           }
          ],
          "scattergeo": [
           {
            "marker": {
             "colorbar": {
              "outlinewidth": 0,
              "ticks": ""
             }
            },
            "type": "scattergeo"
           }
          ],
          "scattergl": [
           {
            "marker": {
             "colorbar": {
              "outlinewidth": 0,
              "ticks": ""
             }
            },
            "type": "scattergl"
           }
          ],
          "scattermapbox": [
           {
            "marker": {
             "colorbar": {
              "outlinewidth": 0,
              "ticks": ""
             }
            },
            "type": "scattermapbox"
           }
          ],
          "scatterpolar": [
           {
            "marker": {
             "colorbar": {
              "outlinewidth": 0,
              "ticks": ""
             }
            },
            "type": "scatterpolar"
           }
          ],
          "scatterpolargl": [
           {
            "marker": {
             "colorbar": {
              "outlinewidth": 0,
              "ticks": ""
             }
            },
            "type": "scatterpolargl"
           }
          ],
          "scatterternary": [
           {
            "marker": {
             "colorbar": {
              "outlinewidth": 0,
              "ticks": ""
             }
            },
            "type": "scatterternary"
           }
          ],
          "surface": [
           {
            "colorbar": {
             "outlinewidth": 0,
             "ticks": ""
            },
            "colorscale": [
             [
              0,
              "#0d0887"
             ],
             [
              0.1111111111111111,
              "#46039f"
             ],
             [
              0.2222222222222222,
              "#7201a8"
             ],
             [
              0.3333333333333333,
              "#9c179e"
             ],
             [
              0.4444444444444444,
              "#bd3786"
             ],
             [
              0.5555555555555556,
              "#d8576b"
             ],
             [
              0.6666666666666666,
              "#ed7953"
             ],
             [
              0.7777777777777778,
              "#fb9f3a"
             ],
             [
              0.8888888888888888,
              "#fdca26"
             ],
             [
              1,
              "#f0f921"
             ]
            ],
            "type": "surface"
           }
          ],
          "table": [
           {
            "cells": {
             "fill": {
              "color": "#EBF0F8"
             },
             "line": {
              "color": "white"
             }
            },
            "header": {
             "fill": {
              "color": "#C8D4E3"
             },
             "line": {
              "color": "white"
             }
            },
            "type": "table"
           }
          ]
         },
         "layout": {
          "annotationdefaults": {
           "arrowcolor": "#2a3f5f",
           "arrowhead": 0,
           "arrowwidth": 1
          },
          "autotypenumbers": "strict",
          "coloraxis": {
           "colorbar": {
            "outlinewidth": 0,
            "ticks": ""
           }
          },
          "colorscale": {
           "diverging": [
            [
             0,
             "#8e0152"
            ],
            [
             0.1,
             "#c51b7d"
            ],
            [
             0.2,
             "#de77ae"
            ],
            [
             0.3,
             "#f1b6da"
            ],
            [
             0.4,
             "#fde0ef"
            ],
            [
             0.5,
             "#f7f7f7"
            ],
            [
             0.6,
             "#e6f5d0"
            ],
            [
             0.7,
             "#b8e186"
            ],
            [
             0.8,
             "#7fbc41"
            ],
            [
             0.9,
             "#4d9221"
            ],
            [
             1,
             "#276419"
            ]
           ],
           "sequential": [
            [
             0,
             "#0d0887"
            ],
            [
             0.1111111111111111,
             "#46039f"
            ],
            [
             0.2222222222222222,
             "#7201a8"
            ],
            [
             0.3333333333333333,
             "#9c179e"
            ],
            [
             0.4444444444444444,
             "#bd3786"
            ],
            [
             0.5555555555555556,
             "#d8576b"
            ],
            [
             0.6666666666666666,
             "#ed7953"
            ],
            [
             0.7777777777777778,
             "#fb9f3a"
            ],
            [
             0.8888888888888888,
             "#fdca26"
            ],
            [
             1,
             "#f0f921"
            ]
           ],
           "sequentialminus": [
            [
             0,
             "#0d0887"
            ],
            [
             0.1111111111111111,
             "#46039f"
            ],
            [
             0.2222222222222222,
             "#7201a8"
            ],
            [
             0.3333333333333333,
             "#9c179e"
            ],
            [
             0.4444444444444444,
             "#bd3786"
            ],
            [
             0.5555555555555556,
             "#d8576b"
            ],
            [
             0.6666666666666666,
             "#ed7953"
            ],
            [
             0.7777777777777778,
             "#fb9f3a"
            ],
            [
             0.8888888888888888,
             "#fdca26"
            ],
            [
             1,
             "#f0f921"
            ]
           ]
          },
          "colorway": [
           "#636efa",
           "#EF553B",
           "#00cc96",
           "#ab63fa",
           "#FFA15A",
           "#19d3f3",
           "#FF6692",
           "#B6E880",
           "#FF97FF",
           "#FECB52"
          ],
          "font": {
           "color": "#2a3f5f"
          },
          "geo": {
           "bgcolor": "white",
           "lakecolor": "white",
           "landcolor": "#E5ECF6",
           "showlakes": true,
           "showland": true,
           "subunitcolor": "white"
          },
          "hoverlabel": {
           "align": "left"
          },
          "hovermode": "closest",
          "mapbox": {
           "style": "light"
          },
          "paper_bgcolor": "white",
          "plot_bgcolor": "#E5ECF6",
          "polar": {
           "angularaxis": {
            "gridcolor": "white",
            "linecolor": "white",
            "ticks": ""
           },
           "bgcolor": "#E5ECF6",
           "radialaxis": {
            "gridcolor": "white",
            "linecolor": "white",
            "ticks": ""
           }
          },
          "scene": {
           "xaxis": {
            "backgroundcolor": "#E5ECF6",
            "gridcolor": "white",
            "gridwidth": 2,
            "linecolor": "white",
            "showbackground": true,
            "ticks": "",
            "zerolinecolor": "white"
           },
           "yaxis": {
            "backgroundcolor": "#E5ECF6",
            "gridcolor": "white",
            "gridwidth": 2,
            "linecolor": "white",
            "showbackground": true,
            "ticks": "",
            "zerolinecolor": "white"
           },
           "zaxis": {
            "backgroundcolor": "#E5ECF6",
            "gridcolor": "white",
            "gridwidth": 2,
            "linecolor": "white",
            "showbackground": true,
            "ticks": "",
            "zerolinecolor": "white"
           }
          },
          "shapedefaults": {
           "line": {
            "color": "#2a3f5f"
           }
          },
          "ternary": {
           "aaxis": {
            "gridcolor": "white",
            "linecolor": "white",
            "ticks": ""
           },
           "baxis": {
            "gridcolor": "white",
            "linecolor": "white",
            "ticks": ""
           },
           "bgcolor": "#E5ECF6",
           "caxis": {
            "gridcolor": "white",
            "linecolor": "white",
            "ticks": ""
           }
          },
          "title": {
           "x": 0.05
          },
          "xaxis": {
           "automargin": true,
           "gridcolor": "white",
           "linecolor": "white",
           "ticks": "",
           "title": {
            "standoff": 15
           },
           "zerolinecolor": "white",
           "zerolinewidth": 2
          },
          "yaxis": {
           "automargin": true,
           "gridcolor": "white",
           "linecolor": "white",
           "ticks": "",
           "title": {
            "standoff": 15
           },
           "zerolinecolor": "white",
           "zerolinewidth": 2
          }
         }
        },
        "updatemenus": [
         {
          "buttons": [
           {
            "args": [
             null,
             {
              "frame": {
               "duration": 500,
               "redraw": true
              },
              "fromcurrent": true,
              "mode": "immediate",
              "transition": {
               "duration": 500,
               "easing": "linear"
              }
             }
            ],
            "label": "&#9654;",
            "method": "animate"
           },
           {
            "args": [
             [
              null
             ],
             {
              "frame": {
               "duration": 0,
               "redraw": true
              },
              "fromcurrent": true,
              "mode": "immediate",
              "transition": {
               "duration": 0,
               "easing": "linear"
              }
             }
            ],
            "label": "&#9724;",
            "method": "animate"
           }
          ],
          "direction": "left",
          "pad": {
           "r": 10,
           "t": 70
          },
          "showactive": false,
          "type": "buttons",
          "x": 0.1,
          "xanchor": "right",
          "y": 0,
          "yanchor": "top"
         }
        ]
       }
      }
     },
     "metadata": {}
    }
   ],
   "source": [
    "# Create animation\n",
    "\n",
    "px.choropleth(df_states_year,               \n",
    "              locations=\"country_ISO_code\",               \n",
    "              color=\"article_score\",\n",
    "              hover_name=\"country\",  \n",
    "              animation_frame=\"year\",    \n",
    "              color_continuous_scale='Plasma',  \n",
    "              height=600             \n",
    ")"
   ]
  },
  {
   "cell_type": "code",
   "execution_count": 24,
   "metadata": {},
   "outputs": [],
   "source": [
    "# # Create a GIF for the yearly global plots:\n",
    "# years = ['2015', '2016', '2017']\n",
    "\n",
    "# # for year in years:\n",
    "# #     fig(year)\n",
    "# fig(2015) = './news_app/static/img/fig_global_2015.png'\n",
    "# fig(2016) = './news_app/static/img/fig_global_2016.png'\n",
    "# fig(2017) = './news_app/static/img/fig_global_2017.png'\n",
    "\n",
    "\n",
    "# images = [fig(2015), fig(2016), fig(2017)]\n",
    "# # looping over the images and saving them into a list\n",
    "# for i in range(images):\n",
    "#   images.append(images)\n",
    "\n",
    "# # creating the GIF\n",
    "# images[0].save('./news_app/static/img/fig_global_2015-16-17.gif',\n",
    "#                save_all=True, append_images=images[1:], optimize=True, duration=800, loop=0)"
   ]
  },
  {
   "cell_type": "code",
   "execution_count": 42,
   "metadata": {},
   "outputs": [
    {
     "output_type": "error",
     "ename": "ImportError",
     "evalue": "\nThe plotly.plotly module is deprecated,\nplease install the chart-studio package and use the\nchart_studio.plotly module instead. \n",
     "traceback": [
      "\u001b[1;31m---------------------------------------------------------------------------\u001b[0m",
      "\u001b[1;31mImportError\u001b[0m                               Traceback (most recent call last)",
      "\u001b[1;32m<ipython-input-42-c8962050156b>\u001b[0m in \u001b[0;36m<module>\u001b[1;34m\u001b[0m\n\u001b[0;32m      2\u001b[0m \u001b[1;32mimport\u001b[0m \u001b[0mpandas\u001b[0m \u001b[1;32mas\u001b[0m \u001b[0mpd\u001b[0m\u001b[1;33m\u001b[0m\u001b[1;33m\u001b[0m\u001b[0m\n\u001b[0;32m      3\u001b[0m \u001b[1;32mimport\u001b[0m \u001b[0mplotly\u001b[0m\u001b[1;33m.\u001b[0m\u001b[0mgraph_objs\u001b[0m \u001b[1;32mas\u001b[0m \u001b[0mgo\u001b[0m\u001b[1;33m\u001b[0m\u001b[1;33m\u001b[0m\u001b[0m\n\u001b[1;32m----> 4\u001b[1;33m \u001b[1;32mimport\u001b[0m \u001b[0mplotly\u001b[0m\u001b[1;33m.\u001b[0m\u001b[0mplotly\u001b[0m \u001b[1;32mas\u001b[0m \u001b[0mpy\u001b[0m\u001b[1;33m\u001b[0m\u001b[1;33m\u001b[0m\u001b[0m\n\u001b[0m\u001b[0;32m      5\u001b[0m \u001b[1;33m\u001b[0m\u001b[0m\n\u001b[0;32m      6\u001b[0m \u001b[1;31m# min year in your dataset\u001b[0m\u001b[1;33m\u001b[0m\u001b[1;33m\u001b[0m\u001b[1;33m\u001b[0m\u001b[0m\n",
      "\u001b[1;32m~\\AppData\\Local\\Programs\\Python\\Python37\\lib\\site-packages\\plotly\\plotly\\__init__.py\u001b[0m in \u001b[0;36m<module>\u001b[1;34m\u001b[0m\n\u001b[0;32m      2\u001b[0m \u001b[1;32mfrom\u001b[0m \u001b[0m_plotly_future_\u001b[0m \u001b[1;32mimport\u001b[0m \u001b[0m_chart_studio_error\u001b[0m\u001b[1;33m\u001b[0m\u001b[1;33m\u001b[0m\u001b[0m\n\u001b[0;32m      3\u001b[0m \u001b[1;33m\u001b[0m\u001b[0m\n\u001b[1;32m----> 4\u001b[1;33m \u001b[0m_chart_studio_error\u001b[0m\u001b[1;33m(\u001b[0m\u001b[1;34m\"plotly\"\u001b[0m\u001b[1;33m)\u001b[0m\u001b[1;33m\u001b[0m\u001b[1;33m\u001b[0m\u001b[0m\n\u001b[0m",
      "\u001b[1;32m~\\AppData\\Local\\Programs\\Python\\Python37\\lib\\site-packages\\_plotly_future_\\__init__.py\u001b[0m in \u001b[0;36m_chart_studio_error\u001b[1;34m(submodule)\u001b[0m\n\u001b[0;32m     47\u001b[0m \u001b[0mchart_studio\u001b[0m\u001b[1;33m.\u001b[0m\u001b[1;33m{\u001b[0m\u001b[0msubmodule\u001b[0m\u001b[1;33m}\u001b[0m \u001b[0mmodule\u001b[0m \u001b[0minstead\u001b[0m\u001b[1;33m.\u001b[0m\u001b[1;33m\u001b[0m\u001b[1;33m\u001b[0m\u001b[0m\n\u001b[0;32m     48\u001b[0m \"\"\".format(\n\u001b[1;32m---> 49\u001b[1;33m             \u001b[0msubmodule\u001b[0m\u001b[1;33m=\u001b[0m\u001b[0msubmodule\u001b[0m\u001b[1;33m\u001b[0m\u001b[1;33m\u001b[0m\u001b[0m\n\u001b[0m\u001b[0;32m     50\u001b[0m         )\n\u001b[0;32m     51\u001b[0m     )\n",
      "\u001b[1;31mImportError\u001b[0m: \nThe plotly.plotly module is deprecated,\nplease install the chart-studio package and use the\nchart_studio.plotly module instead. \n"
     ]
    }
   ],
   "source": [
    "# import numpy as np\n",
    "# import pandas as pd\n",
    "# import plotly.graph_objs as go\n",
    "# import plotly.plotly as py\n",
    "\n",
    "# # min year in your dataset\n",
    "# year = 2015\n",
    "# # years = ['2015', '2016', '2017']\n",
    "# # your color-scale\n",
    "# colorscale = 'RdBu'\n",
    "# # scl = [[0.0, '#ffffff'],[0.2, '#b4a8ce'],[0.4, '#8573a9'],\n",
    "# #        [0.6, '#7159a3'],[0.8, '#5732a1'],[1.0, '#2c0579']] # purples\n",
    "\n",
    "\n",
    "# data_slider = []\n",
    "# for year in df['years'].unique():\n",
    "#     df_segmented =  df[(df['years']== year)]\n",
    "\n",
    "#     for col in df_segmented.columns:\n",
    "#         df_segmented[col] = df_segmented[col].astype(str)\n",
    "\n",
    "#     data_each_yr = dict(\n",
    "#                         type='choropleth',\n",
    "#                         locations = df_segmented['state'],\n",
    "#                         z=df_segmented['sightings'].astype(float),\n",
    "#                         locationmode='USA-states',\n",
    "#                         colorscale = scl,\n",
    "#                         colorbar= {'title':'# Sightings'})\n",
    "\n",
    "#     data_slider.append(data_each_yr)\n",
    "\n",
    "# steps = []\n",
    "# for i in range(len(data_slider)):\n",
    "#     step = dict(method='restyle',\n",
    "#                 args=['visible', [False] * len(data_slider)],\n",
    "#                 label='Year {}'.format(i + 1998))\n",
    "#     step['args'][1][i] = True\n",
    "#     steps.append(step)\n",
    "\n",
    "# sliders = [dict(active=0, pad={\"t\": 1}, steps=steps)]\n",
    "\n",
    "# layout = dict(title ='UFO Sightings by State Since 1998', geo=dict(scope='usa',\n",
    "#                        projection={'type': 'albers usa'}),\n",
    "#               sliders=sliders)\n",
    "\n",
    "# fig = dict(data=data_slider, layout=layout)\n",
    "# periscope.plotly(fig)"
   ]
  }
 ]
}