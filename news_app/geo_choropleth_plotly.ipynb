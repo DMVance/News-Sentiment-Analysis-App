{
 "metadata": {
  "language_info": {
   "codemirror_mode": {
    "name": "ipython",
    "version": 3
   },
   "file_extension": ".py",
   "mimetype": "text/x-python",
   "name": "python",
   "nbconvert_exporter": "python",
   "pygments_lexer": "ipython3",
   "version": "3.7.9-final"
  },
  "orig_nbformat": 2,
  "kernelspec": {
   "name": "python3",
   "display_name": "Python 3",
   "language": "python"
  }
 },
 "nbformat": 4,
 "nbformat_minor": 2,
 "cells": [
  {
   "source": [
    "# **Choropleth Maps Showing Geographic Distribution of News Sentiment**"
   ],
   "cell_type": "markdown",
   "metadata": {}
  },
  {
   "cell_type": "code",
   "execution_count": 84,
   "metadata": {},
   "outputs": [
    {
     "output_type": "execute_result",
     "data": {
      "text/plain": [
       "         nid        country country_ISO_code          state US_state_code  \\\n",
       "0          2  United States              USA      Louisiana            LA   \n",
       "1          3  United States              USA                                \n",
       "2          5  United States              USA  Massachusetts            MA   \n",
       "3          6  United States              USA          Texas            TX   \n",
       "4         11  United States              USA       New York            NY   \n",
       "...      ...            ...              ...            ...           ...   \n",
       "15625  50563  United States              USA       Colorado            CO   \n",
       "15626  50564  United States              USA          Maine            ME   \n",
       "15627  50570  United States              USA     California            CA   \n",
       "15628  50571  United States              USA       New York            NY   \n",
       "15629  50572  United States              USA         Kansas            KS   \n",
       "\n",
       "       year     month   weekday  headline_score  article_score  \n",
       "0      2015   January  Thursday          0.0000       0.128000  \n",
       "1      2015   January  Thursday          0.2960      -0.051600  \n",
       "2      2015   January  Thursday          0.0000      -0.291450  \n",
       "3      2015   January  Thursday          0.0000      -0.670500  \n",
       "4      2015   January  Thursday          0.0000       0.585900  \n",
       "...     ...       ...       ...             ...            ...  \n",
       "15625  2015  November    Friday          0.0000       0.493900  \n",
       "15626  2015  November    Friday         -0.6369      -0.630833  \n",
       "15627  2015  November    Friday         -0.5994      -0.612400  \n",
       "15628  2015  November    Friday          0.0000       0.338400  \n",
       "15629  2015  November    Friday          0.0000       0.000000  \n",
       "\n",
       "[15630 rows x 10 columns]"
      ],
      "text/html": "<div>\n<style scoped>\n    .dataframe tbody tr th:only-of-type {\n        vertical-align: middle;\n    }\n\n    .dataframe tbody tr th {\n        vertical-align: top;\n    }\n\n    .dataframe thead th {\n        text-align: right;\n    }\n</style>\n<table border=\"1\" class=\"dataframe\">\n  <thead>\n    <tr style=\"text-align: right;\">\n      <th></th>\n      <th>nid</th>\n      <th>country</th>\n      <th>country_ISO_code</th>\n      <th>state</th>\n      <th>US_state_code</th>\n      <th>year</th>\n      <th>month</th>\n      <th>weekday</th>\n      <th>headline_score</th>\n      <th>article_score</th>\n    </tr>\n  </thead>\n  <tbody>\n    <tr>\n      <th>0</th>\n      <td>2</td>\n      <td>United States</td>\n      <td>USA</td>\n      <td>Louisiana</td>\n      <td>LA</td>\n      <td>2015</td>\n      <td>January</td>\n      <td>Thursday</td>\n      <td>0.0000</td>\n      <td>0.128000</td>\n    </tr>\n    <tr>\n      <th>1</th>\n      <td>3</td>\n      <td>United States</td>\n      <td>USA</td>\n      <td></td>\n      <td></td>\n      <td>2015</td>\n      <td>January</td>\n      <td>Thursday</td>\n      <td>0.2960</td>\n      <td>-0.051600</td>\n    </tr>\n    <tr>\n      <th>2</th>\n      <td>5</td>\n      <td>United States</td>\n      <td>USA</td>\n      <td>Massachusetts</td>\n      <td>MA</td>\n      <td>2015</td>\n      <td>January</td>\n      <td>Thursday</td>\n      <td>0.0000</td>\n      <td>-0.291450</td>\n    </tr>\n    <tr>\n      <th>3</th>\n      <td>6</td>\n      <td>United States</td>\n      <td>USA</td>\n      <td>Texas</td>\n      <td>TX</td>\n      <td>2015</td>\n      <td>January</td>\n      <td>Thursday</td>\n      <td>0.0000</td>\n      <td>-0.670500</td>\n    </tr>\n    <tr>\n      <th>4</th>\n      <td>11</td>\n      <td>United States</td>\n      <td>USA</td>\n      <td>New York</td>\n      <td>NY</td>\n      <td>2015</td>\n      <td>January</td>\n      <td>Thursday</td>\n      <td>0.0000</td>\n      <td>0.585900</td>\n    </tr>\n    <tr>\n      <th>...</th>\n      <td>...</td>\n      <td>...</td>\n      <td>...</td>\n      <td>...</td>\n      <td>...</td>\n      <td>...</td>\n      <td>...</td>\n      <td>...</td>\n      <td>...</td>\n      <td>...</td>\n    </tr>\n    <tr>\n      <th>15625</th>\n      <td>50563</td>\n      <td>United States</td>\n      <td>USA</td>\n      <td>Colorado</td>\n      <td>CO</td>\n      <td>2015</td>\n      <td>November</td>\n      <td>Friday</td>\n      <td>0.0000</td>\n      <td>0.493900</td>\n    </tr>\n    <tr>\n      <th>15626</th>\n      <td>50564</td>\n      <td>United States</td>\n      <td>USA</td>\n      <td>Maine</td>\n      <td>ME</td>\n      <td>2015</td>\n      <td>November</td>\n      <td>Friday</td>\n      <td>-0.6369</td>\n      <td>-0.630833</td>\n    </tr>\n    <tr>\n      <th>15627</th>\n      <td>50570</td>\n      <td>United States</td>\n      <td>USA</td>\n      <td>California</td>\n      <td>CA</td>\n      <td>2015</td>\n      <td>November</td>\n      <td>Friday</td>\n      <td>-0.5994</td>\n      <td>-0.612400</td>\n    </tr>\n    <tr>\n      <th>15628</th>\n      <td>50571</td>\n      <td>United States</td>\n      <td>USA</td>\n      <td>New York</td>\n      <td>NY</td>\n      <td>2015</td>\n      <td>November</td>\n      <td>Friday</td>\n      <td>0.0000</td>\n      <td>0.338400</td>\n    </tr>\n    <tr>\n      <th>15629</th>\n      <td>50572</td>\n      <td>United States</td>\n      <td>USA</td>\n      <td>Kansas</td>\n      <td>KS</td>\n      <td>2015</td>\n      <td>November</td>\n      <td>Friday</td>\n      <td>0.0000</td>\n      <td>0.000000</td>\n    </tr>\n  </tbody>\n</table>\n<p>15630 rows × 10 columns</p>\n</div>"
     },
     "metadata": {},
     "execution_count": 84
    }
   ],
   "source": [
    "# Setup dependencies\n",
    "import pandas as pd \n",
    "import plotly_express as px\n",
    "import plotly.graph_objects as go\n",
    "\n",
    "path = \"static/data/geolocations_with_sentiment_scores.csv\"\n",
    "df = pd.read_csv(path)\n",
    "df"
   ]
  },
  {
   "cell_type": "code",
   "execution_count": 85,
   "metadata": {},
   "outputs": [
    {
     "output_type": "execute_result",
     "data": {
      "text/plain": [
       "            country country_ISO_code  article_score\n",
       "0       Afghanistan              AFG      -0.342814\n",
       "1           Algeria              DZA      -0.690800\n",
       "2    American Samoa              ASM       0.421500\n",
       "3           Andorra              AND      -0.101150\n",
       "4            Angola              AGO       0.053233\n",
       "..              ...              ...            ...\n",
       "151    Vatican City              VAT       0.101400\n",
       "152       Venezuela              VEN      -0.076110\n",
       "153         Vietnam              VNM       0.091304\n",
       "154           Yemen              YEM      -0.240227\n",
       "155        Zimbabwe              ZWE      -0.490167\n",
       "\n",
       "[156 rows x 3 columns]"
      ],
      "text/html": "<div>\n<style scoped>\n    .dataframe tbody tr th:only-of-type {\n        vertical-align: middle;\n    }\n\n    .dataframe tbody tr th {\n        vertical-align: top;\n    }\n\n    .dataframe thead th {\n        text-align: right;\n    }\n</style>\n<table border=\"1\" class=\"dataframe\">\n  <thead>\n    <tr style=\"text-align: right;\">\n      <th></th>\n      <th>country</th>\n      <th>country_ISO_code</th>\n      <th>article_score</th>\n    </tr>\n  </thead>\n  <tbody>\n    <tr>\n      <th>0</th>\n      <td>Afghanistan</td>\n      <td>AFG</td>\n      <td>-0.342814</td>\n    </tr>\n    <tr>\n      <th>1</th>\n      <td>Algeria</td>\n      <td>DZA</td>\n      <td>-0.690800</td>\n    </tr>\n    <tr>\n      <th>2</th>\n      <td>American Samoa</td>\n      <td>ASM</td>\n      <td>0.421500</td>\n    </tr>\n    <tr>\n      <th>3</th>\n      <td>Andorra</td>\n      <td>AND</td>\n      <td>-0.101150</td>\n    </tr>\n    <tr>\n      <th>4</th>\n      <td>Angola</td>\n      <td>AGO</td>\n      <td>0.053233</td>\n    </tr>\n    <tr>\n      <th>...</th>\n      <td>...</td>\n      <td>...</td>\n      <td>...</td>\n    </tr>\n    <tr>\n      <th>151</th>\n      <td>Vatican City</td>\n      <td>VAT</td>\n      <td>0.101400</td>\n    </tr>\n    <tr>\n      <th>152</th>\n      <td>Venezuela</td>\n      <td>VEN</td>\n      <td>-0.076110</td>\n    </tr>\n    <tr>\n      <th>153</th>\n      <td>Vietnam</td>\n      <td>VNM</td>\n      <td>0.091304</td>\n    </tr>\n    <tr>\n      <th>154</th>\n      <td>Yemen</td>\n      <td>YEM</td>\n      <td>-0.240227</td>\n    </tr>\n    <tr>\n      <th>155</th>\n      <td>Zimbabwe</td>\n      <td>ZWE</td>\n      <td>-0.490167</td>\n    </tr>\n  </tbody>\n</table>\n<p>156 rows × 3 columns</p>\n</div>"
     },
     "metadata": {},
     "execution_count": 85
    }
   ],
   "source": [
    "# Get mean scores by country in 2015  \n",
    "df_country = df[['country', 'country_ISO_code', 'article_score']]\n",
    "grouped_by_country = df_country.groupby(['country', 'country_ISO_code'],  as_index=False)['article_score'].mean()\n",
    "df_country_final = pd.DataFrame({'country':grouped_by_country.country, 'country_ISO_code':grouped_by_country.country_ISO_code, 'article_score':grouped_by_country.article_score})\n",
    "\n",
    "df_country_final"
   ]
  },
  {
   "cell_type": "code",
   "execution_count": 86,
   "metadata": {},
   "outputs": [
    {
     "output_type": "display_data",
     "data": {
      "application/vnd.plotly.v1+json": {
       "config": {
        "plotlyServerURL": "https://plot.ly"
       },
       "data": [
        {
         "colorbar": {
          "title": {
           "text": "Sentiment Score"
          }
         },
         "colorscale": [
          [
           0,
           "rgb(103,0,31)"
          ],
          [
           0.1,
           "rgb(178,24,43)"
          ],
          [
           0.2,
           "rgb(214,96,77)"
          ],
          [
           0.3,
           "rgb(244,165,130)"
          ],
          [
           0.4,
           "rgb(253,219,199)"
          ],
          [
           0.5,
           "rgb(247,247,247)"
          ],
          [
           0.6,
           "rgb(209,229,240)"
          ],
          [
           0.7,
           "rgb(146,197,222)"
          ],
          [
           0.8,
           "rgb(67,147,195)"
          ],
          [
           0.9,
           "rgb(33,102,172)"
          ],
          [
           1,
           "rgb(5,48,97)"
          ]
         ],
         "locations": [
          "AFG",
          "DZA",
          "ASM",
          "AND",
          "AGO",
          "ATA",
          "ATG",
          "ARG",
          "AUS",
          "AUT",
          "AZE",
          "BGD",
          "BLR",
          "BEL",
          "BMU",
          "BOL",
          "BWA",
          "BRA",
          "VGB",
          "BGR",
          "KHM",
          "CAN",
          " ",
          "CYM",
          "CHL",
          "CHN",
          "COL",
          "CRI",
          "HRV",
          "CUB",
          "CYP",
          "CZE",
          "CIV",
          " ",
          "DNK",
          "DMA",
          "DOM",
          "ECU",
          "EGY",
          "SLV",
          "ETH",
          " ",
          "FIN",
          "FRA",
          "GEO",
          "DEU",
          "GHA",
          "GIB",
          "GRC",
          "GRL",
          "GTM",
          "GIN",
          "GUY",
          "HTI",
          "HMD",
          "HND",
          "HKG",
          "HUN",
          "ISL",
          "IND",
          "IDN",
          "IRN",
          "IRQ",
          "IRL",
          "IMN",
          "ISR",
          "ITA",
          "JAM",
          "JPN",
          "JOR",
          "KAZ",
          "KEN",
          "KIR",
          "KWT",
          " ",
          "LVA",
          "LBN",
          "LBR",
          "LBY",
          "LTU",
          "LUX",
          "MAC",
          "MDG",
          "MWI",
          "MYS",
          "MHL",
          "MRT",
          "MEX",
          "MCO",
          "MNG",
          "MAR",
          " ",
          "NPL",
          "NLD",
          "NZL",
          "NIC",
          "NGA",
          "NGA",
          " ",
          "MKD",
          "MNP",
          "NOR",
          "OMN",
          "PAK",
          "PLW",
          "PAN",
          "PNG",
          "PER",
          "PHL",
          "POL",
          "PRT",
          "PRI",
          "QAT",
          "ROU",
          "RUS",
          "RWA",
          "SAU",
          "SEN",
          "SRB",
          "SYC",
          "SLE",
          "SGP",
          "SVK",
          "SVN",
          "SLB",
          "SOM",
          "ZAF",
          " ",
          "SSD",
          "ESP",
          "LKA",
          "SDN",
          "SUR",
          "SWE",
          "CHE",
          "SYR",
          "TWN",
          "TJK",
          "TZA",
          "THA",
          "BHS",
          "TON",
          "TUR",
          " ",
          "UGA",
          "UKR",
          "ARE",
          "GBR",
          "USA",
          "URY",
          "UZB",
          "VAT",
          "VEN",
          "VNM",
          "YEM",
          "ZWE"
         ],
         "marker": {
          "line": {
           "color": "darkgray",
           "width": 1
          }
         },
         "text": [
          "Afghanistan",
          "Algeria",
          "American Samoa",
          "Andorra",
          "Angola",
          "Antarctica",
          "Antigua and Barbuda",
          "Argentina",
          "Australia",
          "Austria",
          "Azerbaijan",
          "Bangladesh",
          "Belarus",
          "Belgium",
          "Bermuda",
          "Bolivia",
          "Botswana",
          "Brazil",
          "British Virgin Islands",
          "Bulgaria",
          "Cambodia",
          "Canada",
          "Cape Verde",
          "Cayman Islands",
          "Chile",
          "China",
          "Colombia",
          "Costa Rica",
          "Croatia",
          "Cuba",
          "Cyprus",
          "Czechia",
          "Côte d'Ivoire",
          "Democratic Republic of the Congo",
          "Denmark",
          "Dominica",
          "Dominican Republic",
          "Ecuador",
          "Egypt",
          "El Salvador",
          "Ethiopia",
          "Falkland Islands (Islas Malvinas)",
          "Finland",
          "France",
          "Georgia",
          "Germany",
          "Ghana",
          "Gibraltar",
          "Greece",
          "Greenland",
          "Guatemala",
          "Guinea",
          "Guyana",
          "Haiti",
          "Heard Island and McDonald Islands",
          "Honduras",
          "Hong Kong",
          "Hungary",
          "Iceland",
          "India",
          "Indonesia",
          "Iran",
          "Iraq",
          "Ireland",
          "Isle of Man",
          "Israel",
          "Italy",
          "Jamaica",
          "Japan",
          "Jordan",
          "Kazakhstan",
          "Kenya",
          "Kiribati",
          "Kuwait",
          "Laos",
          "Latvia",
          "Lebanon",
          "Liberia",
          "Libya",
          "Lithuania",
          "Luxembourg",
          "Macao",
          "Madagascar",
          "Malawi",
          "Malaysia",
          "Marshall Islands",
          "Mauritania",
          "Mexico",
          "Monaco",
          "Mongolia",
          "Morocco",
          "Myanmar (Burma)",
          "Nepal",
          "Netherlands",
          "New Zealand",
          "Nicaragua",
          "Niger",
          "Nigeria",
          "North Korea",
          "North Macedonia",
          "Northern Mariana Islands",
          "Norway",
          "Oman",
          "Pakistan",
          "Palau",
          "Panama",
          "Papua New Guinea",
          "Peru",
          "Philippines",
          "Poland",
          "Portugal",
          "Puerto Rico",
          "Qatar",
          "Romania",
          "Russia",
          "Rwanda",
          "Saudi Arabia",
          "Senegal",
          "Serbia",
          "Seychelles",
          "Sierra Leone",
          "Singapore",
          "Slovakia",
          "Slovenia",
          "Solomon Islands",
          "Somalia",
          "South Africa",
          "South Korea",
          "South Sudan",
          "Spain",
          "Sri Lanka",
          "Sudan",
          "Suriname",
          "Sweden",
          "Switzerland",
          "Syria",
          "Taiwan",
          "Tajikistan",
          "Tanzania",
          "Thailand",
          "The Bahamas",
          "Tonga",
          "Turkey",
          "U.S. Virgin Islands",
          "Uganda",
          "Ukraine",
          "United Arab Emirates",
          "United Kingdom",
          "United States",
          "Uruguay",
          "Uzbekistan",
          "Vatican City",
          "Venezuela",
          "Vietnam",
          "Yemen",
          "Zimbabwe"
         ],
         "type": "choropleth",
         "z": [
          -0.34281400000000006,
          -0.6908,
          0.4215,
          -0.10115,
          0.053233333,
          0.04856153846153845,
          0.07775,
          -0.025371794884615377,
          0.007622962972222215,
          0.20254583325,
          0.60205,
          -0.25010714285714286,
          0,
          -0.1515520833333333,
          0.19015,
          0.4019,
          -0.2451,
          0.008260315789473676,
          -0.11315,
          -0.6612333333333333,
          0.08392,
          0.09834375000000001,
          0.11315,
          0.2263,
          -0.06344166666666666,
          0.07491590709114919,
          -0.1907393939090909,
          -0.5994,
          0,
          -0.1523578571523809,
          -0.17353333333333332,
          0.4019,
          0.1779,
          0.22743000000000002,
          0.14908431370588238,
          0.5267,
          -0.22003333333333333,
          -0.07229333329999998,
          0.08056944441666666,
          -0.27887037033333323,
          0.21121249999999997,
          -0.572175,
          -0.0024083333333333365,
          0.020025441916666678,
          0,
          -0.03564186992073172,
          -0.11181666666666668,
          0.39135,
          -0.11660983333333341,
          0.20155,
          0.5267,
          -0.1372,
          -0.3147,
          0.2709571428571429,
          -0.5994,
          -0.04599999999999999,
          -0.029883333333333324,
          -0.331325,
          0.01136111111111112,
          0.09273166666666667,
          0.01953947368421053,
          -0.009281150797619058,
          -0.14126492422727274,
          -0.021525,
          0.6064,
          0.07611805555555556,
          0.17942862319565214,
          -0.12645,
          0.011956447151219504,
          0,
          -0.09283571428571427,
          0.010164583375000008,
          -0.1909833333333333,
          0.07415,
          0.6300833335,
          -0.4767,
          -0.06819,
          0.222125,
          -0.27880816328571434,
          0.05572222233333335,
          0.022499999999999996,
          0.4404,
          0.040155555666666676,
          0.13620000000000002,
          -0.16204,
          0.1789083333333333,
          -0.60605,
          -0.015993965517241384,
          0.4215,
          -0.3612,
          -0.23639000000000002,
          -0.17,
          0.15894999999999998,
          0.14928181818181818,
          -0.028419999999999997,
          -0.2732,
          0,
          0.20906000000000002,
          0.0038527777857142783,
          0.6249,
          0.08897499999999997,
          -0.10208181818181815,
          -0.241875,
          -0.023293749999999995,
          -0.249533333,
          0.153858333375,
          0.10764999999999997,
          0.10115,
          0.13079333329999998,
          0.028457142857142854,
          0.006181250000000013,
          -0.07314352112676058,
          0.15769375,
          0.5986,
          0.03282118190027702,
          -0.08465000000000002,
          -0.06819100528571427,
          0.1927,
          -0.33515,
          0.295775,
          0.5791999999999999,
          0.1553,
          0,
          -0.5770000000000001,
          -0.6597,
          0.15546666660000003,
          0.04856474357692308,
          -0.008676570043478245,
          -0.37165000000000004,
          0.0179714052352941,
          -0.11335,
          -0.1653,
          -0.8402,
          0.02328188404347826,
          0.19547187500000002,
          -0.15240333333749997,
          0.11836666666666666,
          -0.5719,
          0.058857142857142844,
          -0.5198,
          0.19126428571428572,
          -0.39185,
          0.008280128230769247,
          -0.054162499999999995,
          -0.03834285714285714,
          -0.05893636363636361,
          0.09535092594444444,
          0.03317458151091707,
          -0.04108716000766609,
          -0.1673,
          -0.807,
          0.10139999999999999,
          -0.07610980388235294,
          0.09130438594736845,
          -0.24022727272727273,
          -0.49016666666666664
         ]
        }
       ],
       "layout": {
        "annotations": [
         {
          "showarrow": false,
          "text": "Source: <a href=\"https://www.nytimes.com/\"> The New York Times</a>",
          "x": 0.55,
          "xref": "paper",
          "y": 0.3,
          "yref": "paper"
         }
        ],
        "font": {
         "size": 20
        },
        "geo": {
         "projection": {
          "type": "equirectangular"
         },
         "showcoastlines": false,
         "showframe": false
        },
        "height": 1150,
        "margin": {
         "b": 300,
         "l": 20,
         "pad": 10,
         "r": 20,
         "t": 100
        },
        "template": {
         "data": {
          "bar": [
           {
            "error_x": {
             "color": "#2a3f5f"
            },
            "error_y": {
             "color": "#2a3f5f"
            },
            "marker": {
             "line": {
              "color": "#E5ECF6",
              "width": 0.5
             }
            },
            "type": "bar"
           }
          ],
          "barpolar": [
           {
            "marker": {
             "line": {
              "color": "#E5ECF6",
              "width": 0.5
             }
            },
            "type": "barpolar"
           }
          ],
          "carpet": [
           {
            "aaxis": {
             "endlinecolor": "#2a3f5f",
             "gridcolor": "white",
             "linecolor": "white",
             "minorgridcolor": "white",
             "startlinecolor": "#2a3f5f"
            },
            "baxis": {
             "endlinecolor": "#2a3f5f",
             "gridcolor": "white",
             "linecolor": "white",
             "minorgridcolor": "white",
             "startlinecolor": "#2a3f5f"
            },
            "type": "carpet"
           }
          ],
          "choropleth": [
           {
            "colorbar": {
             "outlinewidth": 0,
             "ticks": ""
            },
            "type": "choropleth"
           }
          ],
          "contour": [
           {
            "colorbar": {
             "outlinewidth": 0,
             "ticks": ""
            },
            "colorscale": [
             [
              0,
              "#0d0887"
             ],
             [
              0.1111111111111111,
              "#46039f"
             ],
             [
              0.2222222222222222,
              "#7201a8"
             ],
             [
              0.3333333333333333,
              "#9c179e"
             ],
             [
              0.4444444444444444,
              "#bd3786"
             ],
             [
              0.5555555555555556,
              "#d8576b"
             ],
             [
              0.6666666666666666,
              "#ed7953"
             ],
             [
              0.7777777777777778,
              "#fb9f3a"
             ],
             [
              0.8888888888888888,
              "#fdca26"
             ],
             [
              1,
              "#f0f921"
             ]
            ],
            "type": "contour"
           }
          ],
          "contourcarpet": [
           {
            "colorbar": {
             "outlinewidth": 0,
             "ticks": ""
            },
            "type": "contourcarpet"
           }
          ],
          "heatmap": [
           {
            "colorbar": {
             "outlinewidth": 0,
             "ticks": ""
            },
            "colorscale": [
             [
              0,
              "#0d0887"
             ],
             [
              0.1111111111111111,
              "#46039f"
             ],
             [
              0.2222222222222222,
              "#7201a8"
             ],
             [
              0.3333333333333333,
              "#9c179e"
             ],
             [
              0.4444444444444444,
              "#bd3786"
             ],
             [
              0.5555555555555556,
              "#d8576b"
             ],
             [
              0.6666666666666666,
              "#ed7953"
             ],
             [
              0.7777777777777778,
              "#fb9f3a"
             ],
             [
              0.8888888888888888,
              "#fdca26"
             ],
             [
              1,
              "#f0f921"
             ]
            ],
            "type": "heatmap"
           }
          ],
          "heatmapgl": [
           {
            "colorbar": {
             "outlinewidth": 0,
             "ticks": ""
            },
            "colorscale": [
             [
              0,
              "#0d0887"
             ],
             [
              0.1111111111111111,
              "#46039f"
             ],
             [
              0.2222222222222222,
              "#7201a8"
             ],
             [
              0.3333333333333333,
              "#9c179e"
             ],
             [
              0.4444444444444444,
              "#bd3786"
             ],
             [
              0.5555555555555556,
              "#d8576b"
             ],
             [
              0.6666666666666666,
              "#ed7953"
             ],
             [
              0.7777777777777778,
              "#fb9f3a"
             ],
             [
              0.8888888888888888,
              "#fdca26"
             ],
             [
              1,
              "#f0f921"
             ]
            ],
            "type": "heatmapgl"
           }
          ],
          "histogram": [
           {
            "marker": {
             "colorbar": {
              "outlinewidth": 0,
              "ticks": ""
             }
            },
            "type": "histogram"
           }
          ],
          "histogram2d": [
           {
            "colorbar": {
             "outlinewidth": 0,
             "ticks": ""
            },
            "colorscale": [
             [
              0,
              "#0d0887"
             ],
             [
              0.1111111111111111,
              "#46039f"
             ],
             [
              0.2222222222222222,
              "#7201a8"
             ],
             [
              0.3333333333333333,
              "#9c179e"
             ],
             [
              0.4444444444444444,
              "#bd3786"
             ],
             [
              0.5555555555555556,
              "#d8576b"
             ],
             [
              0.6666666666666666,
              "#ed7953"
             ],
             [
              0.7777777777777778,
              "#fb9f3a"
             ],
             [
              0.8888888888888888,
              "#fdca26"
             ],
             [
              1,
              "#f0f921"
             ]
            ],
            "type": "histogram2d"
           }
          ],
          "histogram2dcontour": [
           {
            "colorbar": {
             "outlinewidth": 0,
             "ticks": ""
            },
            "colorscale": [
             [
              0,
              "#0d0887"
             ],
             [
              0.1111111111111111,
              "#46039f"
             ],
             [
              0.2222222222222222,
              "#7201a8"
             ],
             [
              0.3333333333333333,
              "#9c179e"
             ],
             [
              0.4444444444444444,
              "#bd3786"
             ],
             [
              0.5555555555555556,
              "#d8576b"
             ],
             [
              0.6666666666666666,
              "#ed7953"
             ],
             [
              0.7777777777777778,
              "#fb9f3a"
             ],
             [
              0.8888888888888888,
              "#fdca26"
             ],
             [
              1,
              "#f0f921"
             ]
            ],
            "type": "histogram2dcontour"
           }
          ],
          "mesh3d": [
           {
            "colorbar": {
             "outlinewidth": 0,
             "ticks": ""
            },
            "type": "mesh3d"
           }
          ],
          "parcoords": [
           {
            "line": {
             "colorbar": {
              "outlinewidth": 0,
              "ticks": ""
             }
            },
            "type": "parcoords"
           }
          ],
          "pie": [
           {
            "automargin": true,
            "type": "pie"
           }
          ],
          "scatter": [
           {
            "marker": {
             "colorbar": {
              "outlinewidth": 0,
              "ticks": ""
             }
            },
            "type": "scatter"
           }
          ],
          "scatter3d": [
           {
            "line": {
             "colorbar": {
              "outlinewidth": 0,
              "ticks": ""
             }
            },
            "marker": {
             "colorbar": {
              "outlinewidth": 0,
              "ticks": ""
             }
            },
            "type": "scatter3d"
           }
          ],
          "scattercarpet": [
           {
            "marker": {
             "colorbar": {
              "outlinewidth": 0,
              "ticks": ""
             }
            },
            "type": "scattercarpet"
           }
          ],
          "scattergeo": [
           {
            "marker": {
             "colorbar": {
              "outlinewidth": 0,
              "ticks": ""
             }
            },
            "type": "scattergeo"
           }
          ],
          "scattergl": [
           {
            "marker": {
             "colorbar": {
              "outlinewidth": 0,
              "ticks": ""
             }
            },
            "type": "scattergl"
           }
          ],
          "scattermapbox": [
           {
            "marker": {
             "colorbar": {
              "outlinewidth": 0,
              "ticks": ""
             }
            },
            "type": "scattermapbox"
           }
          ],
          "scatterpolar": [
           {
            "marker": {
             "colorbar": {
              "outlinewidth": 0,
              "ticks": ""
             }
            },
            "type": "scatterpolar"
           }
          ],
          "scatterpolargl": [
           {
            "marker": {
             "colorbar": {
              "outlinewidth": 0,
              "ticks": ""
             }
            },
            "type": "scatterpolargl"
           }
          ],
          "scatterternary": [
           {
            "marker": {
             "colorbar": {
              "outlinewidth": 0,
              "ticks": ""
             }
            },
            "type": "scatterternary"
           }
          ],
          "surface": [
           {
            "colorbar": {
             "outlinewidth": 0,
             "ticks": ""
            },
            "colorscale": [
             [
              0,
              "#0d0887"
             ],
             [
              0.1111111111111111,
              "#46039f"
             ],
             [
              0.2222222222222222,
              "#7201a8"
             ],
             [
              0.3333333333333333,
              "#9c179e"
             ],
             [
              0.4444444444444444,
              "#bd3786"
             ],
             [
              0.5555555555555556,
              "#d8576b"
             ],
             [
              0.6666666666666666,
              "#ed7953"
             ],
             [
              0.7777777777777778,
              "#fb9f3a"
             ],
             [
              0.8888888888888888,
              "#fdca26"
             ],
             [
              1,
              "#f0f921"
             ]
            ],
            "type": "surface"
           }
          ],
          "table": [
           {
            "cells": {
             "fill": {
              "color": "#EBF0F8"
             },
             "line": {
              "color": "white"
             }
            },
            "header": {
             "fill": {
              "color": "#C8D4E3"
             },
             "line": {
              "color": "white"
             }
            },
            "type": "table"
           }
          ]
         },
         "layout": {
          "annotationdefaults": {
           "arrowcolor": "#2a3f5f",
           "arrowhead": 0,
           "arrowwidth": 1
          },
          "autotypenumbers": "strict",
          "coloraxis": {
           "colorbar": {
            "outlinewidth": 0,
            "ticks": ""
           }
          },
          "colorscale": {
           "diverging": [
            [
             0,
             "#8e0152"
            ],
            [
             0.1,
             "#c51b7d"
            ],
            [
             0.2,
             "#de77ae"
            ],
            [
             0.3,
             "#f1b6da"
            ],
            [
             0.4,
             "#fde0ef"
            ],
            [
             0.5,
             "#f7f7f7"
            ],
            [
             0.6,
             "#e6f5d0"
            ],
            [
             0.7,
             "#b8e186"
            ],
            [
             0.8,
             "#7fbc41"
            ],
            [
             0.9,
             "#4d9221"
            ],
            [
             1,
             "#276419"
            ]
           ],
           "sequential": [
            [
             0,
             "#0d0887"
            ],
            [
             0.1111111111111111,
             "#46039f"
            ],
            [
             0.2222222222222222,
             "#7201a8"
            ],
            [
             0.3333333333333333,
             "#9c179e"
            ],
            [
             0.4444444444444444,
             "#bd3786"
            ],
            [
             0.5555555555555556,
             "#d8576b"
            ],
            [
             0.6666666666666666,
             "#ed7953"
            ],
            [
             0.7777777777777778,
             "#fb9f3a"
            ],
            [
             0.8888888888888888,
             "#fdca26"
            ],
            [
             1,
             "#f0f921"
            ]
           ],
           "sequentialminus": [
            [
             0,
             "#0d0887"
            ],
            [
             0.1111111111111111,
             "#46039f"
            ],
            [
             0.2222222222222222,
             "#7201a8"
            ],
            [
             0.3333333333333333,
             "#9c179e"
            ],
            [
             0.4444444444444444,
             "#bd3786"
            ],
            [
             0.5555555555555556,
             "#d8576b"
            ],
            [
             0.6666666666666666,
             "#ed7953"
            ],
            [
             0.7777777777777778,
             "#fb9f3a"
            ],
            [
             0.8888888888888888,
             "#fdca26"
            ],
            [
             1,
             "#f0f921"
            ]
           ]
          },
          "colorway": [
           "#636efa",
           "#EF553B",
           "#00cc96",
           "#ab63fa",
           "#FFA15A",
           "#19d3f3",
           "#FF6692",
           "#B6E880",
           "#FF97FF",
           "#FECB52"
          ],
          "font": {
           "color": "#2a3f5f"
          },
          "geo": {
           "bgcolor": "white",
           "lakecolor": "white",
           "landcolor": "#E5ECF6",
           "showlakes": true,
           "showland": true,
           "subunitcolor": "white"
          },
          "hoverlabel": {
           "align": "left"
          },
          "hovermode": "closest",
          "mapbox": {
           "style": "light"
          },
          "paper_bgcolor": "white",
          "plot_bgcolor": "#E5ECF6",
          "polar": {
           "angularaxis": {
            "gridcolor": "white",
            "linecolor": "white",
            "ticks": ""
           },
           "bgcolor": "#E5ECF6",
           "radialaxis": {
            "gridcolor": "white",
            "linecolor": "white",
            "ticks": ""
           }
          },
          "scene": {
           "xaxis": {
            "backgroundcolor": "#E5ECF6",
            "gridcolor": "white",
            "gridwidth": 2,
            "linecolor": "white",
            "showbackground": true,
            "ticks": "",
            "zerolinecolor": "white"
           },
           "yaxis": {
            "backgroundcolor": "#E5ECF6",
            "gridcolor": "white",
            "gridwidth": 2,
            "linecolor": "white",
            "showbackground": true,
            "ticks": "",
            "zerolinecolor": "white"
           },
           "zaxis": {
            "backgroundcolor": "#E5ECF6",
            "gridcolor": "white",
            "gridwidth": 2,
            "linecolor": "white",
            "showbackground": true,
            "ticks": "",
            "zerolinecolor": "white"
           }
          },
          "shapedefaults": {
           "line": {
            "color": "#2a3f5f"
           }
          },
          "ternary": {
           "aaxis": {
            "gridcolor": "white",
            "linecolor": "white",
            "ticks": ""
           },
           "baxis": {
            "gridcolor": "white",
            "linecolor": "white",
            "ticks": ""
           },
           "bgcolor": "#E5ECF6",
           "caxis": {
            "gridcolor": "white",
            "linecolor": "white",
            "ticks": ""
           }
          },
          "title": {
           "x": 0.05
          },
          "xaxis": {
           "automargin": true,
           "gridcolor": "white",
           "linecolor": "white",
           "ticks": "",
           "title": {
            "standoff": 15
           },
           "zerolinecolor": "white",
           "zerolinewidth": 2
          },
          "yaxis": {
           "automargin": true,
           "gridcolor": "white",
           "linecolor": "white",
           "ticks": "",
           "title": {
            "standoff": 15
           },
           "zerolinecolor": "white",
           "zerolinewidth": 2
          }
         }
        },
        "title": {
         "text": "Global News Sentiment by Country (2015)"
        },
        "width": 1150
       }
      }
     },
     "metadata": {}
    }
   ],
   "source": [
    "fig_global_all = go.Figure(data=go.Choropleth(\n",
    "    locations = df_country_final['country_ISO_code'],\n",
    "    z = df_country_final['article_score'],\n",
    "    text = df_country_final['country'],\n",
    "    colorscale = 'RdBu',\n",
    "    marker_line_color='darkgray',\n",
    "    marker_line_width=1,\n",
    "    colorbar_title = 'Sentiment Score',\n",
    "))\n",
    "\n",
    "fig_global_all.update_layout(\n",
    "    title_text='Global News Sentiment by Country (2015)',\n",
    "    width=1150,\n",
    "    height=1150,\n",
    "    margin=dict(l=20, r=20, b=300, t=100, pad=10),\n",
    "    font=dict(size=20),\n",
    "    geo=dict(\n",
    "        showframe=False,\n",
    "        showcoastlines=False,\n",
    "        projection_type='equirectangular'\n",
    "    ),\n",
    "    annotations = [dict(\n",
    "        x=0.55,\n",
    "        y=0.3,\n",
    "        xref='paper',\n",
    "        yref='paper',\n",
    "        text='Source: <a href=\"https://www.nytimes.com/\"> The New York Times</a>',\n",
    "        showarrow = False\n",
    "    )]\n",
    ")\n",
    "\n",
    "fig_global_all.show()"
   ]
  },
  {
   "cell_type": "code",
   "execution_count": 74,
   "metadata": {},
   "outputs": [
    {
     "output_type": "error",
     "ename": "ValueError",
     "evalue": "Image generation requires the psutil package.\n\nInstall using pip:\n    $ pip install psutil\n\nInstall using conda:\n    $ conda install psutil\n",
     "traceback": [
      "\u001b[1;31m---------------------------------------------------------------------------\u001b[0m",
      "\u001b[1;31mValueError\u001b[0m                                Traceback (most recent call last)",
      "\u001b[1;32m<ipython-input-74-00b0f6b80726>\u001b[0m in \u001b[0;36m<module>\u001b[1;34m\u001b[0m\n\u001b[0;32m      1\u001b[0m \u001b[1;31m# Export \"Global News Sentiment Choropleth Map as image\u001b[0m\u001b[1;33m\u001b[0m\u001b[1;33m\u001b[0m\u001b[1;33m\u001b[0m\u001b[0m\n\u001b[1;32m----> 2\u001b[1;33m \u001b[0mfig\u001b[0m\u001b[1;33m.\u001b[0m\u001b[0mwrite_image\u001b[0m\u001b[1;33m(\u001b[0m\u001b[1;34m\"static/img/fig_global_all.png\"\u001b[0m\u001b[1;33m)\u001b[0m\u001b[1;33m\u001b[0m\u001b[1;33m\u001b[0m\u001b[0m\n\u001b[0m",
      "\u001b[1;32m~\\AppData\\Local\\Programs\\Python\\Python37\\lib\\site-packages\\plotly\\basedatatypes.py\u001b[0m in \u001b[0;36mwrite_image\u001b[1;34m(self, *args, **kwargs)\u001b[0m\n\u001b[0;32m   3804\u001b[0m         \u001b[1;32mimport\u001b[0m \u001b[0mplotly\u001b[0m\u001b[1;33m.\u001b[0m\u001b[0mio\u001b[0m \u001b[1;32mas\u001b[0m \u001b[0mpio\u001b[0m\u001b[1;33m\u001b[0m\u001b[1;33m\u001b[0m\u001b[0m\n\u001b[0;32m   3805\u001b[0m \u001b[1;33m\u001b[0m\u001b[0m\n\u001b[1;32m-> 3806\u001b[1;33m         \u001b[1;32mreturn\u001b[0m \u001b[0mpio\u001b[0m\u001b[1;33m.\u001b[0m\u001b[0mwrite_image\u001b[0m\u001b[1;33m(\u001b[0m\u001b[0mself\u001b[0m\u001b[1;33m,\u001b[0m \u001b[1;33m*\u001b[0m\u001b[0margs\u001b[0m\u001b[1;33m,\u001b[0m \u001b[1;33m**\u001b[0m\u001b[0mkwargs\u001b[0m\u001b[1;33m)\u001b[0m\u001b[1;33m\u001b[0m\u001b[1;33m\u001b[0m\u001b[0m\n\u001b[0m\u001b[0;32m   3807\u001b[0m \u001b[1;33m\u001b[0m\u001b[0m\n\u001b[0;32m   3808\u001b[0m     \u001b[1;31m# Static helpers\u001b[0m\u001b[1;33m\u001b[0m\u001b[1;33m\u001b[0m\u001b[1;33m\u001b[0m\u001b[0m\n",
      "\u001b[1;32m~\\AppData\\Local\\Programs\\Python\\Python37\\lib\\site-packages\\plotly\\io\\_kaleido.py\u001b[0m in \u001b[0;36mwrite_image\u001b[1;34m(fig, file, format, scale, width, height, validate, engine)\u001b[0m\n\u001b[0;32m    250\u001b[0m         \u001b[0mheight\u001b[0m\u001b[1;33m=\u001b[0m\u001b[0mheight\u001b[0m\u001b[1;33m,\u001b[0m\u001b[1;33m\u001b[0m\u001b[1;33m\u001b[0m\u001b[0m\n\u001b[0;32m    251\u001b[0m         \u001b[0mvalidate\u001b[0m\u001b[1;33m=\u001b[0m\u001b[0mvalidate\u001b[0m\u001b[1;33m,\u001b[0m\u001b[1;33m\u001b[0m\u001b[1;33m\u001b[0m\u001b[0m\n\u001b[1;32m--> 252\u001b[1;33m         \u001b[0mengine\u001b[0m\u001b[1;33m=\u001b[0m\u001b[0mengine\u001b[0m\u001b[1;33m,\u001b[0m\u001b[1;33m\u001b[0m\u001b[1;33m\u001b[0m\u001b[0m\n\u001b[0m\u001b[0;32m    253\u001b[0m     )\n\u001b[0;32m    254\u001b[0m \u001b[1;33m\u001b[0m\u001b[0m\n",
      "\u001b[1;32m~\\AppData\\Local\\Programs\\Python\\Python37\\lib\\site-packages\\plotly\\io\\_kaleido.py\u001b[0m in \u001b[0;36mto_image\u001b[1;34m(fig, format, width, height, scale, validate, engine)\u001b[0m\n\u001b[0;32m    107\u001b[0m             \u001b[0mheight\u001b[0m\u001b[1;33m=\u001b[0m\u001b[0mheight\u001b[0m\u001b[1;33m,\u001b[0m\u001b[1;33m\u001b[0m\u001b[1;33m\u001b[0m\u001b[0m\n\u001b[0;32m    108\u001b[0m             \u001b[0mscale\u001b[0m\u001b[1;33m=\u001b[0m\u001b[0mscale\u001b[0m\u001b[1;33m,\u001b[0m\u001b[1;33m\u001b[0m\u001b[1;33m\u001b[0m\u001b[0m\n\u001b[1;32m--> 109\u001b[1;33m             \u001b[0mvalidate\u001b[0m\u001b[1;33m=\u001b[0m\u001b[0mvalidate\u001b[0m\u001b[1;33m,\u001b[0m\u001b[1;33m\u001b[0m\u001b[1;33m\u001b[0m\u001b[0m\n\u001b[0m\u001b[0;32m    110\u001b[0m         )\n\u001b[0;32m    111\u001b[0m     \u001b[1;32melif\u001b[0m \u001b[0mengine\u001b[0m \u001b[1;33m!=\u001b[0m \u001b[1;34m\"kaleido\"\u001b[0m\u001b[1;33m:\u001b[0m\u001b[1;33m\u001b[0m\u001b[1;33m\u001b[0m\u001b[0m\n",
      "\u001b[1;32m~\\AppData\\Local\\Programs\\Python\\Python37\\lib\\site-packages\\plotly\\io\\_orca.py\u001b[0m in \u001b[0;36mto_image\u001b[1;34m(fig, format, width, height, scale, validate)\u001b[0m\n\u001b[0;32m   1533\u001b[0m     \u001b[1;31m# Make sure orca sever is running\u001b[0m\u001b[1;33m\u001b[0m\u001b[1;33m\u001b[0m\u001b[1;33m\u001b[0m\u001b[0m\n\u001b[0;32m   1534\u001b[0m     \u001b[1;31m# -------------------------------\u001b[0m\u001b[1;33m\u001b[0m\u001b[1;33m\u001b[0m\u001b[1;33m\u001b[0m\u001b[0m\n\u001b[1;32m-> 1535\u001b[1;33m     \u001b[0mensure_server\u001b[0m\u001b[1;33m(\u001b[0m\u001b[1;33m)\u001b[0m\u001b[1;33m\u001b[0m\u001b[1;33m\u001b[0m\u001b[0m\n\u001b[0m\u001b[0;32m   1536\u001b[0m \u001b[1;33m\u001b[0m\u001b[0m\n\u001b[0;32m   1537\u001b[0m     \u001b[1;31m# Handle defaults\u001b[0m\u001b[1;33m\u001b[0m\u001b[1;33m\u001b[0m\u001b[1;33m\u001b[0m\u001b[0m\n",
      "\u001b[1;32m~\\AppData\\Local\\Programs\\Python\\Python37\\lib\\site-packages\\plotly\\io\\_orca.py\u001b[0m in \u001b[0;36mensure_server\u001b[1;34m()\u001b[0m\n\u001b[0;32m   1368\u001b[0m \u001b[0mInstall\u001b[0m \u001b[0musing\u001b[0m \u001b[0mconda\u001b[0m\u001b[1;33m:\u001b[0m\u001b[1;33m\u001b[0m\u001b[1;33m\u001b[0m\u001b[0m\n\u001b[0;32m   1369\u001b[0m     \u001b[0;31m$\u001b[0m \u001b[0mconda\u001b[0m \u001b[0minstall\u001b[0m \u001b[0mpsutil\u001b[0m\u001b[1;33m\u001b[0m\u001b[1;33m\u001b[0m\u001b[0m\n\u001b[1;32m-> 1370\u001b[1;33m \"\"\"\n\u001b[0m\u001b[0;32m   1371\u001b[0m         )\n\u001b[0;32m   1372\u001b[0m \u001b[1;33m\u001b[0m\u001b[0m\n",
      "\u001b[1;31mValueError\u001b[0m: Image generation requires the psutil package.\n\nInstall using pip:\n    $ pip install psutil\n\nInstall using conda:\n    $ conda install psutil\n"
     ]
    }
   ],
   "source": [
    "# Export \"Global News Sentiment Choropleth Map as image\n",
    "fig.write_image(\"static/img/fig_global_all.png\")"
   ]
  },
  {
   "cell_type": "code",
   "execution_count": 41,
   "metadata": {},
   "outputs": [
    {
     "output_type": "execute_result",
     "data": {
      "text/plain": [
       "                    state US_state_code  article_score\n",
       "3                 Alabama            AL      -0.035563\n",
       "4                  Alaska            AK       0.009822\n",
       "11                Arizona            AZ      -0.114095\n",
       "12               Arkansas            AR       0.079620\n",
       "30             California            CA      -0.018834\n",
       "38               Colorado            CO      -0.092763\n",
       "40            Connecticut            CT       0.041532\n",
       "43               Delaware            DE      -0.011288\n",
       "45   District of Columbia            DC       0.006500\n",
       "54                Florida            FL      -0.026032\n",
       "58                Georgia            GA      -0.122370\n",
       "66                 Hawaii            HI      -0.031298\n",
       "74                  Idaho            ID      -0.024077\n",
       "75               Illinois            IL      -0.154158\n",
       "76                Indiana            IN       0.049303\n",
       "78                   Iowa            IA       0.087369\n",
       "83                 Kansas            KS      -0.019542\n",
       "85               Kentucky            KY       0.036296\n",
       "96              Louisiana            LA      -0.088031\n",
       "100                 Maine            ME      -0.074503\n",
       "103              Maryland            MD      -0.310997\n",
       "105         Massachusetts            MA      -0.040152\n",
       "108              Michigan            MI      -0.100134\n",
       "109             Minnesota            MN      -0.117713\n",
       "110           Mississippi            MS      -0.092887\n",
       "111              Missouri            MO      -0.094407\n",
       "112               Montana            MT      -0.000336\n",
       "115              Nebraska            NE      -0.225905\n",
       "116                Nevada            NV       0.053589\n",
       "117         New Hampshire            NH       0.041627\n",
       "118            New Jersey            NJ       0.037244\n",
       "119            New Mexico            NM      -0.117171\n",
       "121              New York            NY       0.049545\n",
       "123        North Carolina            NC      -0.072131\n",
       "124          North Dakota            ND      -0.172052\n",
       "130                  Ohio            OH      -0.100768\n",
       "131              Oklahoma            OK      -0.199667\n",
       "133                Oregon            OR      -0.139899\n",
       "136          Pennsylvania            PA      -0.050149\n",
       "148          Rhode Island            RI      -0.267967\n",
       "165        South Carolina            SC      -0.105691\n",
       "166          South Dakota            SD      -0.064082\n",
       "177             Tennessee            TN      -0.043543\n",
       "178                 Texas            TX      -0.108544\n",
       "184                  Utah            UT      -0.025396\n",
       "188               Vermont            VT       0.020975\n",
       "192              Virginia            VA      -0.058766\n",
       "196            Washington            WA      -0.108658\n",
       "198         West Virginia            WV      -0.123670\n",
       "200             Wisconsin            WI      -0.065828\n",
       "201               Wyoming            WY       0.029431"
      ],
      "text/html": "<div>\n<style scoped>\n    .dataframe tbody tr th:only-of-type {\n        vertical-align: middle;\n    }\n\n    .dataframe tbody tr th {\n        vertical-align: top;\n    }\n\n    .dataframe thead th {\n        text-align: right;\n    }\n</style>\n<table border=\"1\" class=\"dataframe\">\n  <thead>\n    <tr style=\"text-align: right;\">\n      <th></th>\n      <th>state</th>\n      <th>US_state_code</th>\n      <th>article_score</th>\n    </tr>\n  </thead>\n  <tbody>\n    <tr>\n      <th>3</th>\n      <td>Alabama</td>\n      <td>AL</td>\n      <td>-0.035563</td>\n    </tr>\n    <tr>\n      <th>4</th>\n      <td>Alaska</td>\n      <td>AK</td>\n      <td>0.009822</td>\n    </tr>\n    <tr>\n      <th>11</th>\n      <td>Arizona</td>\n      <td>AZ</td>\n      <td>-0.114095</td>\n    </tr>\n    <tr>\n      <th>12</th>\n      <td>Arkansas</td>\n      <td>AR</td>\n      <td>0.079620</td>\n    </tr>\n    <tr>\n      <th>30</th>\n      <td>California</td>\n      <td>CA</td>\n      <td>-0.018834</td>\n    </tr>\n    <tr>\n      <th>38</th>\n      <td>Colorado</td>\n      <td>CO</td>\n      <td>-0.092763</td>\n    </tr>\n    <tr>\n      <th>40</th>\n      <td>Connecticut</td>\n      <td>CT</td>\n      <td>0.041532</td>\n    </tr>\n    <tr>\n      <th>43</th>\n      <td>Delaware</td>\n      <td>DE</td>\n      <td>-0.011288</td>\n    </tr>\n    <tr>\n      <th>45</th>\n      <td>District of Columbia</td>\n      <td>DC</td>\n      <td>0.006500</td>\n    </tr>\n    <tr>\n      <th>54</th>\n      <td>Florida</td>\n      <td>FL</td>\n      <td>-0.026032</td>\n    </tr>\n    <tr>\n      <th>58</th>\n      <td>Georgia</td>\n      <td>GA</td>\n      <td>-0.122370</td>\n    </tr>\n    <tr>\n      <th>66</th>\n      <td>Hawaii</td>\n      <td>HI</td>\n      <td>-0.031298</td>\n    </tr>\n    <tr>\n      <th>74</th>\n      <td>Idaho</td>\n      <td>ID</td>\n      <td>-0.024077</td>\n    </tr>\n    <tr>\n      <th>75</th>\n      <td>Illinois</td>\n      <td>IL</td>\n      <td>-0.154158</td>\n    </tr>\n    <tr>\n      <th>76</th>\n      <td>Indiana</td>\n      <td>IN</td>\n      <td>0.049303</td>\n    </tr>\n    <tr>\n      <th>78</th>\n      <td>Iowa</td>\n      <td>IA</td>\n      <td>0.087369</td>\n    </tr>\n    <tr>\n      <th>83</th>\n      <td>Kansas</td>\n      <td>KS</td>\n      <td>-0.019542</td>\n    </tr>\n    <tr>\n      <th>85</th>\n      <td>Kentucky</td>\n      <td>KY</td>\n      <td>0.036296</td>\n    </tr>\n    <tr>\n      <th>96</th>\n      <td>Louisiana</td>\n      <td>LA</td>\n      <td>-0.088031</td>\n    </tr>\n    <tr>\n      <th>100</th>\n      <td>Maine</td>\n      <td>ME</td>\n      <td>-0.074503</td>\n    </tr>\n    <tr>\n      <th>103</th>\n      <td>Maryland</td>\n      <td>MD</td>\n      <td>-0.310997</td>\n    </tr>\n    <tr>\n      <th>105</th>\n      <td>Massachusetts</td>\n      <td>MA</td>\n      <td>-0.040152</td>\n    </tr>\n    <tr>\n      <th>108</th>\n      <td>Michigan</td>\n      <td>MI</td>\n      <td>-0.100134</td>\n    </tr>\n    <tr>\n      <th>109</th>\n      <td>Minnesota</td>\n      <td>MN</td>\n      <td>-0.117713</td>\n    </tr>\n    <tr>\n      <th>110</th>\n      <td>Mississippi</td>\n      <td>MS</td>\n      <td>-0.092887</td>\n    </tr>\n    <tr>\n      <th>111</th>\n      <td>Missouri</td>\n      <td>MO</td>\n      <td>-0.094407</td>\n    </tr>\n    <tr>\n      <th>112</th>\n      <td>Montana</td>\n      <td>MT</td>\n      <td>-0.000336</td>\n    </tr>\n    <tr>\n      <th>115</th>\n      <td>Nebraska</td>\n      <td>NE</td>\n      <td>-0.225905</td>\n    </tr>\n    <tr>\n      <th>116</th>\n      <td>Nevada</td>\n      <td>NV</td>\n      <td>0.053589</td>\n    </tr>\n    <tr>\n      <th>117</th>\n      <td>New Hampshire</td>\n      <td>NH</td>\n      <td>0.041627</td>\n    </tr>\n    <tr>\n      <th>118</th>\n      <td>New Jersey</td>\n      <td>NJ</td>\n      <td>0.037244</td>\n    </tr>\n    <tr>\n      <th>119</th>\n      <td>New Mexico</td>\n      <td>NM</td>\n      <td>-0.117171</td>\n    </tr>\n    <tr>\n      <th>121</th>\n      <td>New York</td>\n      <td>NY</td>\n      <td>0.049545</td>\n    </tr>\n    <tr>\n      <th>123</th>\n      <td>North Carolina</td>\n      <td>NC</td>\n      <td>-0.072131</td>\n    </tr>\n    <tr>\n      <th>124</th>\n      <td>North Dakota</td>\n      <td>ND</td>\n      <td>-0.172052</td>\n    </tr>\n    <tr>\n      <th>130</th>\n      <td>Ohio</td>\n      <td>OH</td>\n      <td>-0.100768</td>\n    </tr>\n    <tr>\n      <th>131</th>\n      <td>Oklahoma</td>\n      <td>OK</td>\n      <td>-0.199667</td>\n    </tr>\n    <tr>\n      <th>133</th>\n      <td>Oregon</td>\n      <td>OR</td>\n      <td>-0.139899</td>\n    </tr>\n    <tr>\n      <th>136</th>\n      <td>Pennsylvania</td>\n      <td>PA</td>\n      <td>-0.050149</td>\n    </tr>\n    <tr>\n      <th>148</th>\n      <td>Rhode Island</td>\n      <td>RI</td>\n      <td>-0.267967</td>\n    </tr>\n    <tr>\n      <th>165</th>\n      <td>South Carolina</td>\n      <td>SC</td>\n      <td>-0.105691</td>\n    </tr>\n    <tr>\n      <th>166</th>\n      <td>South Dakota</td>\n      <td>SD</td>\n      <td>-0.064082</td>\n    </tr>\n    <tr>\n      <th>177</th>\n      <td>Tennessee</td>\n      <td>TN</td>\n      <td>-0.043543</td>\n    </tr>\n    <tr>\n      <th>178</th>\n      <td>Texas</td>\n      <td>TX</td>\n      <td>-0.108544</td>\n    </tr>\n    <tr>\n      <th>184</th>\n      <td>Utah</td>\n      <td>UT</td>\n      <td>-0.025396</td>\n    </tr>\n    <tr>\n      <th>188</th>\n      <td>Vermont</td>\n      <td>VT</td>\n      <td>0.020975</td>\n    </tr>\n    <tr>\n      <th>192</th>\n      <td>Virginia</td>\n      <td>VA</td>\n      <td>-0.058766</td>\n    </tr>\n    <tr>\n      <th>196</th>\n      <td>Washington</td>\n      <td>WA</td>\n      <td>-0.108658</td>\n    </tr>\n    <tr>\n      <th>198</th>\n      <td>West Virginia</td>\n      <td>WV</td>\n      <td>-0.123670</td>\n    </tr>\n    <tr>\n      <th>200</th>\n      <td>Wisconsin</td>\n      <td>WI</td>\n      <td>-0.065828</td>\n    </tr>\n    <tr>\n      <th>201</th>\n      <td>Wyoming</td>\n      <td>WY</td>\n      <td>0.029431</td>\n    </tr>\n  </tbody>\n</table>\n</div>"
     },
     "metadata": {},
     "execution_count": 41
    }
   ],
   "source": [
    "# Get mean scores by state in 2015\n",
    "df_state = df[['state', 'US_state_code', 'article_score']]\n",
    "grouped_by_state = df_state.groupby(['state', 'US_state_code'], as_index=False)['article_score'].mean()\n",
    "df_state_final = pd.DataFrame({'state':grouped_by_state.state, 'US_state_code':grouped_by_state.US_state_code, 'article_score':grouped_by_state.article_score})\n",
    "df_state_final = df_state_final.loc[df_state_final['US_state_code'] != \" \"]\n",
    "df_state_final "
   ]
  },
  {
   "cell_type": "code",
   "execution_count": 43,
   "metadata": {},
   "outputs": [],
   "source": [
    "# # Create list of US states\n",
    "# state_list = []\n",
    "# for i in range(len(df_state_final)):\n",
    "#     state_list.append(df_state_final['US_state_code'][i])\n",
    "# print(state_list)"
   ]
  },
  {
   "cell_type": "code",
   "execution_count": 44,
   "metadata": {},
   "outputs": [],
   "source": [
    "# # Create list of article scores by state \n",
    "# state_a_scores_list = []\n",
    "# for i in range(1, len(df_country_final)):\n",
    "#     df_state_final['article_score'][i] = \"{:.3f}\".format(df_state_final['article_score'][i])\n",
    "#     state_a_scores_list.append(df_state_final['article_score'][i])\n",
    "# print(state_a_scores_list)"
   ]
  },
  {
   "cell_type": "code",
   "execution_count": 99,
   "metadata": {},
   "outputs": [
    {
     "output_type": "display_data",
     "data": {
      "application/vnd.plotly.v1+json": {
       "config": {
        "plotlyServerURL": "https://plot.ly"
       },
       "data": [
        {
         "autocolorscale": false,
         "colorbar": {
          "title": {
           "text": "Sentiment Score"
          }
         },
         "colorscale": [
          [
           0,
           "rgb(103,0,31)"
          ],
          [
           0.1,
           "rgb(178,24,43)"
          ],
          [
           0.2,
           "rgb(214,96,77)"
          ],
          [
           0.3,
           "rgb(244,165,130)"
          ],
          [
           0.4,
           "rgb(253,219,199)"
          ],
          [
           0.5,
           "rgb(247,247,247)"
          ],
          [
           0.6,
           "rgb(209,229,240)"
          ],
          [
           0.7,
           "rgb(146,197,222)"
          ],
          [
           0.8,
           "rgb(67,147,195)"
          ],
          [
           0.9,
           "rgb(33,102,172)"
          ],
          [
           1,
           "rgb(5,48,97)"
          ]
         ],
         "locationmode": "USA-states",
         "locations": [
          "AL",
          "AK",
          "AZ",
          "AR",
          "CA",
          "CO",
          "CT",
          "DE",
          "DC",
          "FL",
          "GA",
          "HI",
          "ID",
          "IL",
          "IN",
          "IA",
          "KS",
          "KY",
          "LA",
          "ME",
          "MD",
          "MA",
          "MI",
          "MN",
          "MS",
          "MO",
          "MT",
          "NE",
          "NV",
          "NH",
          "NJ",
          "NM",
          "NY",
          "NC",
          "ND",
          "OH",
          "OK",
          "OR",
          "PA",
          "RI",
          "SC",
          "SD",
          "TN",
          "TX",
          "UT",
          "VT",
          "VA",
          "WA",
          "WV",
          "WI",
          "WY"
         ],
         "marker": {
          "line": {
           "color": "white"
          }
         },
         "text": [
          "AL",
          "AK",
          "AZ",
          "AR",
          "CA",
          "CO",
          "CT",
          "DE",
          "DC",
          "FL",
          "GA",
          "HI",
          "ID",
          "IL",
          "IN",
          "IA",
          "KS",
          "KY",
          "LA",
          "ME",
          "MD",
          "MA",
          "MI",
          "MN",
          "MS",
          "MO",
          "MT",
          "NE",
          "NV",
          "NH",
          "NJ",
          "NM",
          "NY",
          "NC",
          "ND",
          "OH",
          "OK",
          "OR",
          "PA",
          "RI",
          "SC",
          "SD",
          "TN",
          "TX",
          "UT",
          "VT",
          "VA",
          "WA",
          "WV",
          "WI",
          "WY"
         ],
         "type": "choropleth",
         "z": [
          "-0.03556301775147927",
          "0.009821559145161302",
          "-0.11409535714285712",
          "0.07962038461538463",
          "-0.01883449983071435",
          "-0.09276269969892467",
          "0.04153214285714285",
          "-0.011287606846153856",
          "0.0064999063670412",
          "-0.02603227919385798",
          "-0.12237005714285706",
          "-0.03129766665999996",
          "-0.024077083333333343",
          "-0.15415842024233123",
          "0.04930275297321431",
          "0.08736912640821258",
          "-0.019542248069767437",
          "0.036295894736842124",
          "-0.08803060263841811",
          "-0.074503452375",
          "-0.3109973227737555",
          "-0.040151904760180976",
          "-0.10013366609448816",
          "-0.11771276881451609",
          "-0.0928865900459771",
          "-0.09440669312698413",
          "-0.0003362500000000157",
          "-0.2259049999999999",
          "0.05358916361538462",
          "0.04162662473899371",
          "0.03724434781739132",
          "-0.11717139047999998",
          "0.04954541603479571",
          "-0.07213090305179282",
          "-0.17205232558139538",
          "-0.10076805230327864",
          "-0.19966681667000008",
          "-0.1398992195714287",
          "-0.05014928735517241",
          "-0.26796710526315787",
          "-0.10569084596212117",
          "-0.06408235294117645",
          "-0.043542825548672566",
          "-0.10854391518541039",
          "-0.025395658444444434",
          "0.02097549019607843",
          "-0.058765803027272696",
          "-0.10865827422695037",
          "-0.12366975309259261",
          "-0.06582827528855723",
          "0.02943095238095239"
         ]
        }
       ],
       "layout": {
        "annotations": [
         {
          "showarrow": false,
          "text": "Source: <a href=\"https://www.nytimes.com/\"> The New York Times</a>",
          "x": 0.55,
          "xref": "paper",
          "y": 0.1,
          "yref": "paper"
         }
        ],
        "font": {
         "size": 20
        },
        "geo": {
         "lakecolor": "rgb(255, 255, 255)",
         "projection": {
          "type": "albers usa"
         },
         "scope": "usa",
         "showlakes": true
        },
        "height": 1150,
        "margin": {
         "b": 300,
         "l": 20,
         "pad": 10,
         "r": 20,
         "t": 100
        },
        "template": {
         "data": {
          "bar": [
           {
            "error_x": {
             "color": "#2a3f5f"
            },
            "error_y": {
             "color": "#2a3f5f"
            },
            "marker": {
             "line": {
              "color": "#E5ECF6",
              "width": 0.5
             }
            },
            "type": "bar"
           }
          ],
          "barpolar": [
           {
            "marker": {
             "line": {
              "color": "#E5ECF6",
              "width": 0.5
             }
            },
            "type": "barpolar"
           }
          ],
          "carpet": [
           {
            "aaxis": {
             "endlinecolor": "#2a3f5f",
             "gridcolor": "white",
             "linecolor": "white",
             "minorgridcolor": "white",
             "startlinecolor": "#2a3f5f"
            },
            "baxis": {
             "endlinecolor": "#2a3f5f",
             "gridcolor": "white",
             "linecolor": "white",
             "minorgridcolor": "white",
             "startlinecolor": "#2a3f5f"
            },
            "type": "carpet"
           }
          ],
          "choropleth": [
           {
            "colorbar": {
             "outlinewidth": 0,
             "ticks": ""
            },
            "type": "choropleth"
           }
          ],
          "contour": [
           {
            "colorbar": {
             "outlinewidth": 0,
             "ticks": ""
            },
            "colorscale": [
             [
              0,
              "#0d0887"
             ],
             [
              0.1111111111111111,
              "#46039f"
             ],
             [
              0.2222222222222222,
              "#7201a8"
             ],
             [
              0.3333333333333333,
              "#9c179e"
             ],
             [
              0.4444444444444444,
              "#bd3786"
             ],
             [
              0.5555555555555556,
              "#d8576b"
             ],
             [
              0.6666666666666666,
              "#ed7953"
             ],
             [
              0.7777777777777778,
              "#fb9f3a"
             ],
             [
              0.8888888888888888,
              "#fdca26"
             ],
             [
              1,
              "#f0f921"
             ]
            ],
            "type": "contour"
           }
          ],
          "contourcarpet": [
           {
            "colorbar": {
             "outlinewidth": 0,
             "ticks": ""
            },
            "type": "contourcarpet"
           }
          ],
          "heatmap": [
           {
            "colorbar": {
             "outlinewidth": 0,
             "ticks": ""
            },
            "colorscale": [
             [
              0,
              "#0d0887"
             ],
             [
              0.1111111111111111,
              "#46039f"
             ],
             [
              0.2222222222222222,
              "#7201a8"
             ],
             [
              0.3333333333333333,
              "#9c179e"
             ],
             [
              0.4444444444444444,
              "#bd3786"
             ],
             [
              0.5555555555555556,
              "#d8576b"
             ],
             [
              0.6666666666666666,
              "#ed7953"
             ],
             [
              0.7777777777777778,
              "#fb9f3a"
             ],
             [
              0.8888888888888888,
              "#fdca26"
             ],
             [
              1,
              "#f0f921"
             ]
            ],
            "type": "heatmap"
           }
          ],
          "heatmapgl": [
           {
            "colorbar": {
             "outlinewidth": 0,
             "ticks": ""
            },
            "colorscale": [
             [
              0,
              "#0d0887"
             ],
             [
              0.1111111111111111,
              "#46039f"
             ],
             [
              0.2222222222222222,
              "#7201a8"
             ],
             [
              0.3333333333333333,
              "#9c179e"
             ],
             [
              0.4444444444444444,
              "#bd3786"
             ],
             [
              0.5555555555555556,
              "#d8576b"
             ],
             [
              0.6666666666666666,
              "#ed7953"
             ],
             [
              0.7777777777777778,
              "#fb9f3a"
             ],
             [
              0.8888888888888888,
              "#fdca26"
             ],
             [
              1,
              "#f0f921"
             ]
            ],
            "type": "heatmapgl"
           }
          ],
          "histogram": [
           {
            "marker": {
             "colorbar": {
              "outlinewidth": 0,
              "ticks": ""
             }
            },
            "type": "histogram"
           }
          ],
          "histogram2d": [
           {
            "colorbar": {
             "outlinewidth": 0,
             "ticks": ""
            },
            "colorscale": [
             [
              0,
              "#0d0887"
             ],
             [
              0.1111111111111111,
              "#46039f"
             ],
             [
              0.2222222222222222,
              "#7201a8"
             ],
             [
              0.3333333333333333,
              "#9c179e"
             ],
             [
              0.4444444444444444,
              "#bd3786"
             ],
             [
              0.5555555555555556,
              "#d8576b"
             ],
             [
              0.6666666666666666,
              "#ed7953"
             ],
             [
              0.7777777777777778,
              "#fb9f3a"
             ],
             [
              0.8888888888888888,
              "#fdca26"
             ],
             [
              1,
              "#f0f921"
             ]
            ],
            "type": "histogram2d"
           }
          ],
          "histogram2dcontour": [
           {
            "colorbar": {
             "outlinewidth": 0,
             "ticks": ""
            },
            "colorscale": [
             [
              0,
              "#0d0887"
             ],
             [
              0.1111111111111111,
              "#46039f"
             ],
             [
              0.2222222222222222,
              "#7201a8"
             ],
             [
              0.3333333333333333,
              "#9c179e"
             ],
             [
              0.4444444444444444,
              "#bd3786"
             ],
             [
              0.5555555555555556,
              "#d8576b"
             ],
             [
              0.6666666666666666,
              "#ed7953"
             ],
             [
              0.7777777777777778,
              "#fb9f3a"
             ],
             [
              0.8888888888888888,
              "#fdca26"
             ],
             [
              1,
              "#f0f921"
             ]
            ],
            "type": "histogram2dcontour"
           }
          ],
          "mesh3d": [
           {
            "colorbar": {
             "outlinewidth": 0,
             "ticks": ""
            },
            "type": "mesh3d"
           }
          ],
          "parcoords": [
           {
            "line": {
             "colorbar": {
              "outlinewidth": 0,
              "ticks": ""
             }
            },
            "type": "parcoords"
           }
          ],
          "pie": [
           {
            "automargin": true,
            "type": "pie"
           }
          ],
          "scatter": [
           {
            "marker": {
             "colorbar": {
              "outlinewidth": 0,
              "ticks": ""
             }
            },
            "type": "scatter"
           }
          ],
          "scatter3d": [
           {
            "line": {
             "colorbar": {
              "outlinewidth": 0,
              "ticks": ""
             }
            },
            "marker": {
             "colorbar": {
              "outlinewidth": 0,
              "ticks": ""
             }
            },
            "type": "scatter3d"
           }
          ],
          "scattercarpet": [
           {
            "marker": {
             "colorbar": {
              "outlinewidth": 0,
              "ticks": ""
             }
            },
            "type": "scattercarpet"
           }
          ],
          "scattergeo": [
           {
            "marker": {
             "colorbar": {
              "outlinewidth": 0,
              "ticks": ""
             }
            },
            "type": "scattergeo"
           }
          ],
          "scattergl": [
           {
            "marker": {
             "colorbar": {
              "outlinewidth": 0,
              "ticks": ""
             }
            },
            "type": "scattergl"
           }
          ],
          "scattermapbox": [
           {
            "marker": {
             "colorbar": {
              "outlinewidth": 0,
              "ticks": ""
             }
            },
            "type": "scattermapbox"
           }
          ],
          "scatterpolar": [
           {
            "marker": {
             "colorbar": {
              "outlinewidth": 0,
              "ticks": ""
             }
            },
            "type": "scatterpolar"
           }
          ],
          "scatterpolargl": [
           {
            "marker": {
             "colorbar": {
              "outlinewidth": 0,
              "ticks": ""
             }
            },
            "type": "scatterpolargl"
           }
          ],
          "scatterternary": [
           {
            "marker": {
             "colorbar": {
              "outlinewidth": 0,
              "ticks": ""
             }
            },
            "type": "scatterternary"
           }
          ],
          "surface": [
           {
            "colorbar": {
             "outlinewidth": 0,
             "ticks": ""
            },
            "colorscale": [
             [
              0,
              "#0d0887"
             ],
             [
              0.1111111111111111,
              "#46039f"
             ],
             [
              0.2222222222222222,
              "#7201a8"
             ],
             [
              0.3333333333333333,
              "#9c179e"
             ],
             [
              0.4444444444444444,
              "#bd3786"
             ],
             [
              0.5555555555555556,
              "#d8576b"
             ],
             [
              0.6666666666666666,
              "#ed7953"
             ],
             [
              0.7777777777777778,
              "#fb9f3a"
             ],
             [
              0.8888888888888888,
              "#fdca26"
             ],
             [
              1,
              "#f0f921"
             ]
            ],
            "type": "surface"
           }
          ],
          "table": [
           {
            "cells": {
             "fill": {
              "color": "#EBF0F8"
             },
             "line": {
              "color": "white"
             }
            },
            "header": {
             "fill": {
              "color": "#C8D4E3"
             },
             "line": {
              "color": "white"
             }
            },
            "type": "table"
           }
          ]
         },
         "layout": {
          "annotationdefaults": {
           "arrowcolor": "#2a3f5f",
           "arrowhead": 0,
           "arrowwidth": 1
          },
          "autotypenumbers": "strict",
          "coloraxis": {
           "colorbar": {
            "outlinewidth": 0,
            "ticks": ""
           }
          },
          "colorscale": {
           "diverging": [
            [
             0,
             "#8e0152"
            ],
            [
             0.1,
             "#c51b7d"
            ],
            [
             0.2,
             "#de77ae"
            ],
            [
             0.3,
             "#f1b6da"
            ],
            [
             0.4,
             "#fde0ef"
            ],
            [
             0.5,
             "#f7f7f7"
            ],
            [
             0.6,
             "#e6f5d0"
            ],
            [
             0.7,
             "#b8e186"
            ],
            [
             0.8,
             "#7fbc41"
            ],
            [
             0.9,
             "#4d9221"
            ],
            [
             1,
             "#276419"
            ]
           ],
           "sequential": [
            [
             0,
             "#0d0887"
            ],
            [
             0.1111111111111111,
             "#46039f"
            ],
            [
             0.2222222222222222,
             "#7201a8"
            ],
            [
             0.3333333333333333,
             "#9c179e"
            ],
            [
             0.4444444444444444,
             "#bd3786"
            ],
            [
             0.5555555555555556,
             "#d8576b"
            ],
            [
             0.6666666666666666,
             "#ed7953"
            ],
            [
             0.7777777777777778,
             "#fb9f3a"
            ],
            [
             0.8888888888888888,
             "#fdca26"
            ],
            [
             1,
             "#f0f921"
            ]
           ],
           "sequentialminus": [
            [
             0,
             "#0d0887"
            ],
            [
             0.1111111111111111,
             "#46039f"
            ],
            [
             0.2222222222222222,
             "#7201a8"
            ],
            [
             0.3333333333333333,
             "#9c179e"
            ],
            [
             0.4444444444444444,
             "#bd3786"
            ],
            [
             0.5555555555555556,
             "#d8576b"
            ],
            [
             0.6666666666666666,
             "#ed7953"
            ],
            [
             0.7777777777777778,
             "#fb9f3a"
            ],
            [
             0.8888888888888888,
             "#fdca26"
            ],
            [
             1,
             "#f0f921"
            ]
           ]
          },
          "colorway": [
           "#636efa",
           "#EF553B",
           "#00cc96",
           "#ab63fa",
           "#FFA15A",
           "#19d3f3",
           "#FF6692",
           "#B6E880",
           "#FF97FF",
           "#FECB52"
          ],
          "font": {
           "color": "#2a3f5f"
          },
          "geo": {
           "bgcolor": "white",
           "lakecolor": "white",
           "landcolor": "#E5ECF6",
           "showlakes": true,
           "showland": true,
           "subunitcolor": "white"
          },
          "hoverlabel": {
           "align": "left"
          },
          "hovermode": "closest",
          "mapbox": {
           "style": "light"
          },
          "paper_bgcolor": "white",
          "plot_bgcolor": "#E5ECF6",
          "polar": {
           "angularaxis": {
            "gridcolor": "white",
            "linecolor": "white",
            "ticks": ""
           },
           "bgcolor": "#E5ECF6",
           "radialaxis": {
            "gridcolor": "white",
            "linecolor": "white",
            "ticks": ""
           }
          },
          "scene": {
           "xaxis": {
            "backgroundcolor": "#E5ECF6",
            "gridcolor": "white",
            "gridwidth": 2,
            "linecolor": "white",
            "showbackground": true,
            "ticks": "",
            "zerolinecolor": "white"
           },
           "yaxis": {
            "backgroundcolor": "#E5ECF6",
            "gridcolor": "white",
            "gridwidth": 2,
            "linecolor": "white",
            "showbackground": true,
            "ticks": "",
            "zerolinecolor": "white"
           },
           "zaxis": {
            "backgroundcolor": "#E5ECF6",
            "gridcolor": "white",
            "gridwidth": 2,
            "linecolor": "white",
            "showbackground": true,
            "ticks": "",
            "zerolinecolor": "white"
           }
          },
          "shapedefaults": {
           "line": {
            "color": "#2a3f5f"
           }
          },
          "ternary": {
           "aaxis": {
            "gridcolor": "white",
            "linecolor": "white",
            "ticks": ""
           },
           "baxis": {
            "gridcolor": "white",
            "linecolor": "white",
            "ticks": ""
           },
           "bgcolor": "#E5ECF6",
           "caxis": {
            "gridcolor": "white",
            "linecolor": "white",
            "ticks": ""
           }
          },
          "title": {
           "x": 0.05
          },
          "xaxis": {
           "automargin": true,
           "gridcolor": "white",
           "linecolor": "white",
           "ticks": "",
           "title": {
            "standoff": 15
           },
           "zerolinecolor": "white",
           "zerolinewidth": 2
          },
          "yaxis": {
           "automargin": true,
           "gridcolor": "white",
           "linecolor": "white",
           "ticks": "",
           "title": {
            "standoff": 15
           },
           "zerolinecolor": "white",
           "zerolinewidth": 2
          }
         }
        },
        "title": {
         "text": "US News Sentiment by State (2015)"
        },
        "width": 1150
       }
      }
     },
     "metadata": {}
    }
   ],
   "source": [
    "fig_state_all = go.Figure(data=go.Choropleth(\n",
    "    locations=df_state_final['US_state_code'],\n",
    "    z=df_state_final['article_score'].astype(str),\n",
    "    locationmode='USA-states',\n",
    "    colorscale='RdBu',\n",
    "    autocolorscale=False,\n",
    "    text=df_state_final['US_state_code'], # hover text\n",
    "    marker_line_color='white', # line markers between states\n",
    "    colorbar_title=\"Sentiment Score\"\n",
    "))\n",
    "\n",
    "fig_state_all.update_layout(\n",
    "    title_text='US News Sentiment by State (2015)',\n",
    "    width=1150,\n",
    "    height=1150,\n",
    "    margin=dict(l=20, r=20, b=300, t=100, pad=10),\n",
    "    font=dict(size=20),\n",
    "    geo = dict(\n",
    "        scope='usa',\n",
    "        projection=go.layout.geo.Projection(type = 'albers usa'),\n",
    "        showlakes=True, # lakes\n",
    "        lakecolor='rgb(255, 255, 255)'),\n",
    "    annotations = [dict(\n",
    "        x=0.55,\n",
    "        y=0.1,\n",
    "        xref='paper',\n",
    "        yref='paper',\n",
    "        text='Source: <a href=\"https://www.nytimes.com/\"> The New York Times</a>',\n",
    "        showarrow = False\n",
    "    )]\n",
    ")\n",
    "\n",
    "fig_state_all.show()"
   ]
  },
  {
   "cell_type": "code",
   "execution_count": 36,
   "metadata": {},
   "outputs": [
    {
     "output_type": "error",
     "ename": "NameError",
     "evalue": "name 'country_mean_all' is not defined",
     "traceback": [
      "\u001b[1;31m---------------------------------------------------------------------------\u001b[0m",
      "\u001b[1;31mNameError\u001b[0m                                 Traceback (most recent call last)",
      "\u001b[1;32m<ipython-input-36-23759115ae50>\u001b[0m in \u001b[0;36m<module>\u001b[1;34m\u001b[0m\n\u001b[0;32m      1\u001b[0m \u001b[0mlocations_list\u001b[0m \u001b[1;33m=\u001b[0m \u001b[1;33m[\u001b[0m\u001b[1;33m]\u001b[0m\u001b[1;33m\u001b[0m\u001b[1;33m\u001b[0m\u001b[0m\n\u001b[1;32m----> 2\u001b[1;33m \u001b[1;32mfor\u001b[0m \u001b[0mi\u001b[0m \u001b[1;32min\u001b[0m \u001b[0mrange\u001b[0m\u001b[1;33m(\u001b[0m\u001b[0mlen\u001b[0m\u001b[1;33m(\u001b[0m\u001b[0mcountry_mean_all\u001b[0m\u001b[1;33m)\u001b[0m\u001b[1;33m)\u001b[0m\u001b[1;33m:\u001b[0m\u001b[1;33m\u001b[0m\u001b[1;33m\u001b[0m\u001b[0m\n\u001b[0m\u001b[0;32m      3\u001b[0m     \u001b[0mlocations_list\u001b[0m\u001b[1;33m.\u001b[0m\u001b[0mappend\u001b[0m\u001b[1;33m.\u001b[0m\u001b[0mcountry_mean_all\u001b[0m\u001b[1;33m[\u001b[0m\u001b[1;34m'country_ISO_code'\u001b[0m\u001b[1;33m]\u001b[0m\u001b[1;33m\u001b[0m\u001b[1;33m\u001b[0m\u001b[0m\n\u001b[0;32m      4\u001b[0m \u001b[0mprint\u001b[0m\u001b[1;33m(\u001b[0m\u001b[0mlocations_list\u001b[0m\u001b[1;33m)\u001b[0m\u001b[1;33m\u001b[0m\u001b[1;33m\u001b[0m\u001b[0m\n",
      "\u001b[1;31mNameError\u001b[0m: name 'country_mean_all' is not defined"
     ]
    }
   ],
   "source": [
    "locations_list = []\n",
    "for i in range(len(country_mean_all)):\n",
    "    locations_list.append.country_mean_all['country_ISO_code']\n",
    "print(locations_list)"
   ]
  },
  {
   "cell_type": "code",
   "execution_count": 18,
   "metadata": {},
   "outputs": [
    {
     "output_type": "execute_result",
     "data": {
      "text/plain": [
       "                                  nid    year  headline_score  article_score\n",
       "US_state_code month                                                         \n",
       "              April      14710.304519  2015.0       -0.048520       0.010782\n",
       "              August     33165.265107  2015.0       -0.080797      -0.015320\n",
       "              February    6403.076212  2015.0       -0.057462      -0.002754\n",
       "              January     2082.966443  2015.0       -0.027315       0.038733\n",
       "              July       27690.273469  2015.0       -0.069093      -0.034337\n",
       "...                               ...     ...             ...            ...\n",
       "WY            July       28356.500000  2015.0       -0.171000      -0.200638\n",
       "              June       22468.500000  2015.0        0.088950      -0.507075\n",
       "              March      10611.333333  2015.0        0.185667       0.176333\n",
       "              October    43974.333333  2015.0       -0.017200       0.199633\n",
       "              September  38541.000000  2015.0        0.000000      -0.057900\n",
       "\n",
       "[556 rows x 4 columns]"
      ],
      "text/html": "<div>\n<style scoped>\n    .dataframe tbody tr th:only-of-type {\n        vertical-align: middle;\n    }\n\n    .dataframe tbody tr th {\n        vertical-align: top;\n    }\n\n    .dataframe thead th {\n        text-align: right;\n    }\n</style>\n<table border=\"1\" class=\"dataframe\">\n  <thead>\n    <tr style=\"text-align: right;\">\n      <th></th>\n      <th></th>\n      <th>nid</th>\n      <th>year</th>\n      <th>headline_score</th>\n      <th>article_score</th>\n    </tr>\n    <tr>\n      <th>US_state_code</th>\n      <th>month</th>\n      <th></th>\n      <th></th>\n      <th></th>\n      <th></th>\n    </tr>\n  </thead>\n  <tbody>\n    <tr>\n      <th rowspan=\"5\" valign=\"top\"></th>\n      <th>April</th>\n      <td>14710.304519</td>\n      <td>2015.0</td>\n      <td>-0.048520</td>\n      <td>0.010782</td>\n    </tr>\n    <tr>\n      <th>August</th>\n      <td>33165.265107</td>\n      <td>2015.0</td>\n      <td>-0.080797</td>\n      <td>-0.015320</td>\n    </tr>\n    <tr>\n      <th>February</th>\n      <td>6403.076212</td>\n      <td>2015.0</td>\n      <td>-0.057462</td>\n      <td>-0.002754</td>\n    </tr>\n    <tr>\n      <th>January</th>\n      <td>2082.966443</td>\n      <td>2015.0</td>\n      <td>-0.027315</td>\n      <td>0.038733</td>\n    </tr>\n    <tr>\n      <th>July</th>\n      <td>27690.273469</td>\n      <td>2015.0</td>\n      <td>-0.069093</td>\n      <td>-0.034337</td>\n    </tr>\n    <tr>\n      <th>...</th>\n      <th>...</th>\n      <td>...</td>\n      <td>...</td>\n      <td>...</td>\n      <td>...</td>\n    </tr>\n    <tr>\n      <th rowspan=\"5\" valign=\"top\">WY</th>\n      <th>July</th>\n      <td>28356.500000</td>\n      <td>2015.0</td>\n      <td>-0.171000</td>\n      <td>-0.200638</td>\n    </tr>\n    <tr>\n      <th>June</th>\n      <td>22468.500000</td>\n      <td>2015.0</td>\n      <td>0.088950</td>\n      <td>-0.507075</td>\n    </tr>\n    <tr>\n      <th>March</th>\n      <td>10611.333333</td>\n      <td>2015.0</td>\n      <td>0.185667</td>\n      <td>0.176333</td>\n    </tr>\n    <tr>\n      <th>October</th>\n      <td>43974.333333</td>\n      <td>2015.0</td>\n      <td>-0.017200</td>\n      <td>0.199633</td>\n    </tr>\n    <tr>\n      <th>September</th>\n      <td>38541.000000</td>\n      <td>2015.0</td>\n      <td>0.000000</td>\n      <td>-0.057900</td>\n    </tr>\n  </tbody>\n</table>\n<p>556 rows × 4 columns</p>\n</div>"
     },
     "metadata": {},
     "execution_count": 18
    }
   ],
   "source": [
    "# Get mean scores by month\n",
    "state_mean_month = df.groupby('US_state_code')['month').mean()\n",
    "# state_mean_month = state_mean_month.loc['month': 'January']\n",
    "state_mean_month \n",
    "# state_mean_jan = state_mean_month.query(\"month\"==\"January\")\n",
    "# # # state_mean_jan = state_mean_jan[['headline_score', 'article_score']]\n",
    "# state_mean_jan"
   ]
  },
  {
   "cell_type": "code",
   "execution_count": null,
   "metadata": {},
   "outputs": [],
   "source": []
  }
 ]
}