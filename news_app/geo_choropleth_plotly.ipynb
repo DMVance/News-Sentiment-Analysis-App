{
 "metadata": {
  "language_info": {
   "codemirror_mode": {
    "name": "ipython",
    "version": 3
   },
   "file_extension": ".py",
   "mimetype": "text/x-python",
   "name": "python",
   "nbconvert_exporter": "python",
   "pygments_lexer": "ipython3",
   "version": "3.7.9-final"
  },
  "orig_nbformat": 2,
  "kernelspec": {
   "name": "python3",
   "display_name": "Python 3",
   "language": "python"
  }
 },
 "nbformat": 4,
 "nbformat_minor": 2,
 "cells": [
  {
   "source": [
    "# **Choropleth Maps of Showing Geographic Distribution of News Sentiment**"
   ],
   "cell_type": "markdown",
   "metadata": {}
  },
  {
   "cell_type": "code",
   "execution_count": 2,
   "metadata": {},
   "outputs": [
    {
     "output_type": "error",
     "ename": "ModuleNotFoundError",
     "evalue": "No module named 'chart_studio'",
     "traceback": [
      "\u001b[1;31m---------------------------------------------------------------------------\u001b[0m",
      "\u001b[1;31mModuleNotFoundError\u001b[0m                       Traceback (most recent call last)",
      "\u001b[1;32m<ipython-input-2-5671b5d72cf1>\u001b[0m in \u001b[0;36m<module>\u001b[1;34m\u001b[0m\n\u001b[0;32m      1\u001b[0m \u001b[1;31m# Setup dependencies\u001b[0m\u001b[1;33m\u001b[0m\u001b[1;33m\u001b[0m\u001b[1;33m\u001b[0m\u001b[0m\n\u001b[0;32m      2\u001b[0m \u001b[1;32mimport\u001b[0m \u001b[0mpandas\u001b[0m \u001b[1;32mas\u001b[0m \u001b[0mpd\u001b[0m\u001b[1;33m\u001b[0m\u001b[1;33m\u001b[0m\u001b[0m\n\u001b[1;32m----> 3\u001b[1;33m \u001b[1;32mfrom\u001b[0m \u001b[0mchart_studio\u001b[0m\u001b[1;33m.\u001b[0m\u001b[0mplotly\u001b[0m \u001b[1;32mimport\u001b[0m \u001b[0mimage\u001b[0m \u001b[1;32mas\u001b[0m \u001b[0mPlotlyImage\u001b[0m\u001b[1;33m\u001b[0m\u001b[1;33m\u001b[0m\u001b[0m\n\u001b[0m\u001b[0;32m      4\u001b[0m \u001b[1;32mfrom\u001b[0m \u001b[0mPIL\u001b[0m \u001b[1;32mimport\u001b[0m \u001b[0mImage\u001b[0m \u001b[1;32mas\u001b[0m \u001b[0mPILImage\u001b[0m\u001b[1;33m\u001b[0m\u001b[1;33m\u001b[0m\u001b[0m\n\u001b[0;32m      5\u001b[0m \u001b[1;32mimport\u001b[0m \u001b[0mio\u001b[0m\u001b[1;33m\u001b[0m\u001b[1;33m\u001b[0m\u001b[0m\n",
      "\u001b[1;31mModuleNotFoundError\u001b[0m: No module named 'chart_studio'"
     ]
    }
   ],
   "source": [
    "# Setup dependencies\n",
    "import pandas as pd \n",
    "from chart_studio.plotly import image as PlotlyImage\n",
    "from PIL import Image as PILImage\n",
    "import io\n",
    "import chart_studio\n",
    "import plotly_express as px\n",
    "import plotly.graph_objects as go\n",
    "\n",
    "path = \"static/data/geolocations_with_sentiment_scores.csv\"\n",
    "df = pd.read_csv(path)\n",
    "df"
   ]
  },
  {
   "cell_type": "code",
   "execution_count": null,
   "metadata": {},
   "outputs": [],
   "source": [
    "# Get mean scores by country over entire 3-year period\n",
    "country_mean_all = df.groupby(['country_ISO_code']).mean()\n",
    "country_mean_all = country_mean_all[['headline_score', 'article_score']]\n",
    "country_mean_all"
   ]
  },
  {
   "cell_type": "code",
   "execution_count": 8,
   "metadata": {},
   "outputs": [
    {
     "output_type": "execute_result",
     "data": {
      "text/plain": [
       "               headline_score  article_score\n",
       "US_state_code                               \n",
       "                    -0.041926       0.014193\n",
       "AK                  -0.030381       0.009822\n",
       "AL                  -0.034614      -0.035563\n",
       "AR                  -0.090368       0.079620\n",
       "AZ                  -0.088454      -0.114095\n",
       "CA                  -0.088426      -0.018834\n",
       "CO                  -0.110224      -0.092763\n",
       "CT                  -0.081295       0.041532\n",
       "DC                   0.010691       0.006500\n",
       "DE                   0.036785      -0.011288\n",
       "FL                  -0.079305      -0.026032\n",
       "GA                  -0.161974      -0.122370\n",
       "HI                  -0.029704      -0.031298\n",
       "IA                   0.005414       0.087369\n",
       "ID                  -0.085854      -0.024077\n",
       "IL                  -0.134668      -0.154158\n",
       "IN                   0.018393       0.049303\n",
       "KS                  -0.133002      -0.019542\n",
       "KY                  -0.012724       0.036296\n",
       "LA                  -0.094701      -0.088031\n",
       "MA                  -0.058090      -0.040152\n",
       "MD                  -0.248023      -0.310997\n",
       "ME                  -0.096788      -0.074503\n",
       "MI                  -0.148081      -0.100134\n",
       "MN                  -0.131544      -0.117713\n",
       "MO                  -0.091474      -0.094407\n",
       "MS                  -0.113857      -0.092887\n",
       "MT                  -0.167378      -0.000336\n",
       "NC                  -0.087700      -0.072131\n",
       "ND                  -0.116449      -0.172052\n",
       "NE                  -0.264767      -0.225905\n",
       "NH                  -0.026038       0.041627\n",
       "NJ                   0.038224       0.037244\n",
       "NM                  -0.187748      -0.117171\n",
       "NV                   0.005693       0.053589\n",
       "NY                   0.009661       0.049545\n",
       "OH                  -0.063983      -0.100768\n",
       "OK                  -0.175737      -0.199667\n",
       "OR                  -0.152438      -0.139899\n",
       "PA                  -0.065048      -0.050149\n",
       "RI                  -0.224479      -0.267967\n",
       "SC                  -0.113408      -0.105691\n",
       "SD                  -0.124647      -0.064082\n",
       "TN                  -0.110260      -0.043543\n",
       "TX                  -0.122878      -0.108544\n",
       "UT                  -0.064830      -0.025396\n",
       "VA                  -0.070497      -0.058766\n",
       "VT                  -0.010288       0.020975\n",
       "WA                  -0.060752      -0.108658\n",
       "WI                  -0.097081      -0.065828\n",
       "WV                  -0.065250      -0.123670\n",
       "WY                  -0.073219       0.029431"
      ],
      "text/html": "<div>\n<style scoped>\n    .dataframe tbody tr th:only-of-type {\n        vertical-align: middle;\n    }\n\n    .dataframe tbody tr th {\n        vertical-align: top;\n    }\n\n    .dataframe thead th {\n        text-align: right;\n    }\n</style>\n<table border=\"1\" class=\"dataframe\">\n  <thead>\n    <tr style=\"text-align: right;\">\n      <th></th>\n      <th>headline_score</th>\n      <th>article_score</th>\n    </tr>\n    <tr>\n      <th>US_state_code</th>\n      <th></th>\n      <th></th>\n    </tr>\n  </thead>\n  <tbody>\n    <tr>\n      <th></th>\n      <td>-0.041926</td>\n      <td>0.014193</td>\n    </tr>\n    <tr>\n      <th>AK</th>\n      <td>-0.030381</td>\n      <td>0.009822</td>\n    </tr>\n    <tr>\n      <th>AL</th>\n      <td>-0.034614</td>\n      <td>-0.035563</td>\n    </tr>\n    <tr>\n      <th>AR</th>\n      <td>-0.090368</td>\n      <td>0.079620</td>\n    </tr>\n    <tr>\n      <th>AZ</th>\n      <td>-0.088454</td>\n      <td>-0.114095</td>\n    </tr>\n    <tr>\n      <th>CA</th>\n      <td>-0.088426</td>\n      <td>-0.018834</td>\n    </tr>\n    <tr>\n      <th>CO</th>\n      <td>-0.110224</td>\n      <td>-0.092763</td>\n    </tr>\n    <tr>\n      <th>CT</th>\n      <td>-0.081295</td>\n      <td>0.041532</td>\n    </tr>\n    <tr>\n      <th>DC</th>\n      <td>0.010691</td>\n      <td>0.006500</td>\n    </tr>\n    <tr>\n      <th>DE</th>\n      <td>0.036785</td>\n      <td>-0.011288</td>\n    </tr>\n    <tr>\n      <th>FL</th>\n      <td>-0.079305</td>\n      <td>-0.026032</td>\n    </tr>\n    <tr>\n      <th>GA</th>\n      <td>-0.161974</td>\n      <td>-0.122370</td>\n    </tr>\n    <tr>\n      <th>HI</th>\n      <td>-0.029704</td>\n      <td>-0.031298</td>\n    </tr>\n    <tr>\n      <th>IA</th>\n      <td>0.005414</td>\n      <td>0.087369</td>\n    </tr>\n    <tr>\n      <th>ID</th>\n      <td>-0.085854</td>\n      <td>-0.024077</td>\n    </tr>\n    <tr>\n      <th>IL</th>\n      <td>-0.134668</td>\n      <td>-0.154158</td>\n    </tr>\n    <tr>\n      <th>IN</th>\n      <td>0.018393</td>\n      <td>0.049303</td>\n    </tr>\n    <tr>\n      <th>KS</th>\n      <td>-0.133002</td>\n      <td>-0.019542</td>\n    </tr>\n    <tr>\n      <th>KY</th>\n      <td>-0.012724</td>\n      <td>0.036296</td>\n    </tr>\n    <tr>\n      <th>LA</th>\n      <td>-0.094701</td>\n      <td>-0.088031</td>\n    </tr>\n    <tr>\n      <th>MA</th>\n      <td>-0.058090</td>\n      <td>-0.040152</td>\n    </tr>\n    <tr>\n      <th>MD</th>\n      <td>-0.248023</td>\n      <td>-0.310997</td>\n    </tr>\n    <tr>\n      <th>ME</th>\n      <td>-0.096788</td>\n      <td>-0.074503</td>\n    </tr>\n    <tr>\n      <th>MI</th>\n      <td>-0.148081</td>\n      <td>-0.100134</td>\n    </tr>\n    <tr>\n      <th>MN</th>\n      <td>-0.131544</td>\n      <td>-0.117713</td>\n    </tr>\n    <tr>\n      <th>MO</th>\n      <td>-0.091474</td>\n      <td>-0.094407</td>\n    </tr>\n    <tr>\n      <th>MS</th>\n      <td>-0.113857</td>\n      <td>-0.092887</td>\n    </tr>\n    <tr>\n      <th>MT</th>\n      <td>-0.167378</td>\n      <td>-0.000336</td>\n    </tr>\n    <tr>\n      <th>NC</th>\n      <td>-0.087700</td>\n      <td>-0.072131</td>\n    </tr>\n    <tr>\n      <th>ND</th>\n      <td>-0.116449</td>\n      <td>-0.172052</td>\n    </tr>\n    <tr>\n      <th>NE</th>\n      <td>-0.264767</td>\n      <td>-0.225905</td>\n    </tr>\n    <tr>\n      <th>NH</th>\n      <td>-0.026038</td>\n      <td>0.041627</td>\n    </tr>\n    <tr>\n      <th>NJ</th>\n      <td>0.038224</td>\n      <td>0.037244</td>\n    </tr>\n    <tr>\n      <th>NM</th>\n      <td>-0.187748</td>\n      <td>-0.117171</td>\n    </tr>\n    <tr>\n      <th>NV</th>\n      <td>0.005693</td>\n      <td>0.053589</td>\n    </tr>\n    <tr>\n      <th>NY</th>\n      <td>0.009661</td>\n      <td>0.049545</td>\n    </tr>\n    <tr>\n      <th>OH</th>\n      <td>-0.063983</td>\n      <td>-0.100768</td>\n    </tr>\n    <tr>\n      <th>OK</th>\n      <td>-0.175737</td>\n      <td>-0.199667</td>\n    </tr>\n    <tr>\n      <th>OR</th>\n      <td>-0.152438</td>\n      <td>-0.139899</td>\n    </tr>\n    <tr>\n      <th>PA</th>\n      <td>-0.065048</td>\n      <td>-0.050149</td>\n    </tr>\n    <tr>\n      <th>RI</th>\n      <td>-0.224479</td>\n      <td>-0.267967</td>\n    </tr>\n    <tr>\n      <th>SC</th>\n      <td>-0.113408</td>\n      <td>-0.105691</td>\n    </tr>\n    <tr>\n      <th>SD</th>\n      <td>-0.124647</td>\n      <td>-0.064082</td>\n    </tr>\n    <tr>\n      <th>TN</th>\n      <td>-0.110260</td>\n      <td>-0.043543</td>\n    </tr>\n    <tr>\n      <th>TX</th>\n      <td>-0.122878</td>\n      <td>-0.108544</td>\n    </tr>\n    <tr>\n      <th>UT</th>\n      <td>-0.064830</td>\n      <td>-0.025396</td>\n    </tr>\n    <tr>\n      <th>VA</th>\n      <td>-0.070497</td>\n      <td>-0.058766</td>\n    </tr>\n    <tr>\n      <th>VT</th>\n      <td>-0.010288</td>\n      <td>0.020975</td>\n    </tr>\n    <tr>\n      <th>WA</th>\n      <td>-0.060752</td>\n      <td>-0.108658</td>\n    </tr>\n    <tr>\n      <th>WI</th>\n      <td>-0.097081</td>\n      <td>-0.065828</td>\n    </tr>\n    <tr>\n      <th>WV</th>\n      <td>-0.065250</td>\n      <td>-0.123670</td>\n    </tr>\n    <tr>\n      <th>WY</th>\n      <td>-0.073219</td>\n      <td>0.029431</td>\n    </tr>\n  </tbody>\n</table>\n</div>"
     },
     "metadata": {},
     "execution_count": 8
    }
   ],
   "source": [
    "# Get mean scores by state over entire period (covers only 2015 data)\n",
    "state_mean_all = df.groupby(['US_state_code']).mean()\n",
    "state_mean_all = state_mean_all[['headline_score', 'article_score']]\n",
    "state_mean_all"
   ]
  },
  {
   "cell_type": "code",
   "execution_count": 20,
   "metadata": {},
   "outputs": [
    {
     "output_type": "error",
     "ename": "AttributeError",
     "evalue": "'DataFrame' object has no attribute 'get_group'",
     "traceback": [
      "\u001b[1;31m---------------------------------------------------------------------------\u001b[0m",
      "\u001b[1;31mAttributeError\u001b[0m                            Traceback (most recent call last)",
      "\u001b[1;32m<ipython-input-20-4daf65e114a3>\u001b[0m in \u001b[0;36m<module>\u001b[1;34m\u001b[0m\n\u001b[0;32m      2\u001b[0m \u001b[0mstate_mean_month\u001b[0m \u001b[1;33m=\u001b[0m \u001b[0mdf\u001b[0m\u001b[1;33m.\u001b[0m\u001b[0mgroupby\u001b[0m\u001b[1;33m(\u001b[0m\u001b[1;33m[\u001b[0m\u001b[1;34m'US_state_code'\u001b[0m\u001b[1;33m,\u001b[0m \u001b[1;34m'month'\u001b[0m\u001b[1;33m]\u001b[0m\u001b[1;33m)\u001b[0m\u001b[1;33m.\u001b[0m\u001b[0mmean\u001b[0m\u001b[1;33m(\u001b[0m\u001b[1;33m)\u001b[0m\u001b[1;33m\u001b[0m\u001b[1;33m\u001b[0m\u001b[0m\n\u001b[0;32m      3\u001b[0m \u001b[0mstate_mean_month\u001b[0m\u001b[1;33m\u001b[0m\u001b[1;33m\u001b[0m\u001b[0m\n\u001b[1;32m----> 4\u001b[1;33m \u001b[0mstate_mean_jan\u001b[0m \u001b[1;33m=\u001b[0m \u001b[0mstate_mean_year\u001b[0m\u001b[1;33m.\u001b[0m\u001b[0mget_group\u001b[0m\u001b[1;33m(\u001b[0m\u001b[1;33m(\u001b[0m\u001b[1;34m\"January\"\u001b[0m\u001b[1;33m)\u001b[0m\u001b[1;33m)\u001b[0m\u001b[1;33m\u001b[0m\u001b[1;33m\u001b[0m\u001b[0m\n\u001b[0m\u001b[0;32m      5\u001b[0m \u001b[1;31m# # state_mean_jan = state_mean_jan[['headline_score', 'article_score']]\u001b[0m\u001b[1;33m\u001b[0m\u001b[1;33m\u001b[0m\u001b[1;33m\u001b[0m\u001b[0m\n\u001b[0;32m      6\u001b[0m \u001b[1;31m# state_mean_jan\u001b[0m\u001b[1;33m\u001b[0m\u001b[1;33m\u001b[0m\u001b[1;33m\u001b[0m\u001b[0m\n",
      "\u001b[1;32m~\\AppData\\Local\\Programs\\Python\\Python37\\lib\\site-packages\\pandas\\core\\generic.py\u001b[0m in \u001b[0;36m__getattr__\u001b[1;34m(self, name)\u001b[0m\n\u001b[0;32m   5137\u001b[0m             \u001b[1;32mif\u001b[0m \u001b[0mself\u001b[0m\u001b[1;33m.\u001b[0m\u001b[0m_info_axis\u001b[0m\u001b[1;33m.\u001b[0m\u001b[0m_can_hold_identifiers_and_holds_name\u001b[0m\u001b[1;33m(\u001b[0m\u001b[0mname\u001b[0m\u001b[1;33m)\u001b[0m\u001b[1;33m:\u001b[0m\u001b[1;33m\u001b[0m\u001b[1;33m\u001b[0m\u001b[0m\n\u001b[0;32m   5138\u001b[0m                 \u001b[1;32mreturn\u001b[0m \u001b[0mself\u001b[0m\u001b[1;33m[\u001b[0m\u001b[0mname\u001b[0m\u001b[1;33m]\u001b[0m\u001b[1;33m\u001b[0m\u001b[1;33m\u001b[0m\u001b[0m\n\u001b[1;32m-> 5139\u001b[1;33m             \u001b[1;32mreturn\u001b[0m \u001b[0mobject\u001b[0m\u001b[1;33m.\u001b[0m\u001b[0m__getattribute__\u001b[0m\u001b[1;33m(\u001b[0m\u001b[0mself\u001b[0m\u001b[1;33m,\u001b[0m \u001b[0mname\u001b[0m\u001b[1;33m)\u001b[0m\u001b[1;33m\u001b[0m\u001b[1;33m\u001b[0m\u001b[0m\n\u001b[0m\u001b[0;32m   5140\u001b[0m \u001b[1;33m\u001b[0m\u001b[0m\n\u001b[0;32m   5141\u001b[0m     \u001b[1;32mdef\u001b[0m \u001b[0m__setattr__\u001b[0m\u001b[1;33m(\u001b[0m\u001b[0mself\u001b[0m\u001b[1;33m,\u001b[0m \u001b[0mname\u001b[0m\u001b[1;33m:\u001b[0m \u001b[0mstr\u001b[0m\u001b[1;33m,\u001b[0m \u001b[0mvalue\u001b[0m\u001b[1;33m)\u001b[0m \u001b[1;33m->\u001b[0m \u001b[1;32mNone\u001b[0m\u001b[1;33m:\u001b[0m\u001b[1;33m\u001b[0m\u001b[1;33m\u001b[0m\u001b[0m\n",
      "\u001b[1;31mAttributeError\u001b[0m: 'DataFrame' object has no attribute 'get_group'"
     ]
    }
   ],
   "source": [
    "# Get mean scores by month\n",
    "state_mean_month = df.groupby(['US_state_code', 'month']).mean()\n",
    "state_mean_month\n",
    "state_mean_jan = state_mean_year.get_group((\"January\"))\n",
    "# # state_mean_jan = state_mean_jan[['headline_score', 'article_score']]\n",
    "state_mean_jan"
   ]
  },
  {
   "cell_type": "code",
   "execution_count": 3,
   "metadata": {},
   "outputs": [],
   "source": [
    "# state = []\n",
    "# article_score = []\n",
    "\n",
    "# for i in range (len(df)):\n",
    "#     state.append(df['US_state_code'][i])\n",
    "#     article_score.append(df['article_score'][i])\n",
    "\n",
    "# fig = px.choropleth(locations=state, locationmode=\"USA-states\", color=article_score, scope=\"usa\")\n",
    "# fig\n",
    "\n",
    "\n",
    "\n",
    "# fig = go.Figure(data=go.Choropleth(\n",
    "#     # locations=df['US_state_code'], # Spatial coordinates\n",
    "#     z = df['article_score'].astype(float), # Data to be color-coded\n",
    "#     locationmode = 'USA-states', # set of locations match entries in `locations`\n",
    "#     colorscale = 'Reds',\n",
    "#     colorbar_title = \"Sentiment Score\",\n",
    "# ))\n",
    "\n",
    "# fig.update_layout(\n",
    "#     title_text = '2011 US Agriculture Exports by State',\n",
    "#     geo_scope='usa', # limite map scope to USA\n",
    "# )\n",
    "\n",
    "# fig.show()"
   ]
  },
  {
   "cell_type": "code",
   "execution_count": null,
   "metadata": {},
   "outputs": [],
   "source": []
  }
 ]
}