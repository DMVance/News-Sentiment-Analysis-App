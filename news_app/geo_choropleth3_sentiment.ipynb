{
 "metadata": {
  "language_info": {
   "codemirror_mode": {
    "name": "ipython",
    "version": 3
   },
   "file_extension": ".py",
   "mimetype": "text/x-python",
   "name": "python",
   "nbconvert_exporter": "python",
   "pygments_lexer": "ipython3",
   "version": "3.7.9-final"
  },
  "orig_nbformat": 2,
  "kernelspec": {
   "name": "python3",
   "display_name": "Python 3.7.9 64-bit",
   "metadata": {
    "interpreter": {
     "hash": "2df1e4003806ce9bab66def2bed9543e8e058488774a2656ebbb27fd49bd41ea"
    }
   }
  }
 },
 "nbformat": 4,
 "nbformat_minor": 2,
 "cells": [
  {
   "source": [
    "# **Combining Location Data and Sentiment Scores for Choropleth Maps**"
   ],
   "cell_type": "markdown",
   "metadata": {}
  },
  {
   "cell_type": "code",
   "execution_count": 1,
   "metadata": {},
   "outputs": [],
   "source": [
    "# Setup dependencies\n",
    "import pandas as pd\n",
    "import numpy as np\n",
    "import pycountry\n",
    "import us"
   ]
  },
  {
   "cell_type": "code",
   "execution_count": 2,
   "metadata": {},
   "outputs": [
    {
     "output_type": "execute_result",
     "data": {
      "text/plain": [
       "         nid                     glocation    pub_date  year     month  \\\n",
       "0          2                     Louisiana  2015-01-01  2015   January   \n",
       "1          3                 United States  2015-01-01  2015   January   \n",
       "2          5                 Boston (Mass)  2015-01-01  2015   January   \n",
       "3          6                 Killeen (Tex)  2015-01-01  2015   January   \n",
       "4         11  East Village (Manhattan, NY)  2015-01-01  2015   January   \n",
       "...      ...                           ...         ...   ...       ...   \n",
       "16283  50563                 Denver (Colo)  2017-12-31  2017  December   \n",
       "16284  50564     Acadia National Park (Me)  2017-12-31  2017  December   \n",
       "16285  50570         San Francisco (Calif)  2017-12-31  2017  December   \n",
       "16286  50571                New York State  2017-12-31  2017  December   \n",
       "16287  50572                 Wichita (Kan)  2017-12-31  2017  December   \n",
       "\n",
       "        weekday  \n",
       "0      Thursday  \n",
       "1      Thursday  \n",
       "2      Thursday  \n",
       "3      Thursday  \n",
       "4      Thursday  \n",
       "...         ...  \n",
       "16283    Sunday  \n",
       "16284    Sunday  \n",
       "16285    Sunday  \n",
       "16286    Sunday  \n",
       "16287    Sunday  \n",
       "\n",
       "[16288 rows x 6 columns]"
      ],
      "text/html": "<div>\n<style scoped>\n    .dataframe tbody tr th:only-of-type {\n        vertical-align: middle;\n    }\n\n    .dataframe tbody tr th {\n        vertical-align: top;\n    }\n\n    .dataframe thead th {\n        text-align: right;\n    }\n</style>\n<table border=\"1\" class=\"dataframe\">\n  <thead>\n    <tr style=\"text-align: right;\">\n      <th></th>\n      <th>nid</th>\n      <th>glocation</th>\n      <th>pub_date</th>\n      <th>year</th>\n      <th>month</th>\n      <th>weekday</th>\n    </tr>\n  </thead>\n  <tbody>\n    <tr>\n      <th>0</th>\n      <td>2</td>\n      <td>Louisiana</td>\n      <td>2015-01-01</td>\n      <td>2015</td>\n      <td>January</td>\n      <td>Thursday</td>\n    </tr>\n    <tr>\n      <th>1</th>\n      <td>3</td>\n      <td>United States</td>\n      <td>2015-01-01</td>\n      <td>2015</td>\n      <td>January</td>\n      <td>Thursday</td>\n    </tr>\n    <tr>\n      <th>2</th>\n      <td>5</td>\n      <td>Boston (Mass)</td>\n      <td>2015-01-01</td>\n      <td>2015</td>\n      <td>January</td>\n      <td>Thursday</td>\n    </tr>\n    <tr>\n      <th>3</th>\n      <td>6</td>\n      <td>Killeen (Tex)</td>\n      <td>2015-01-01</td>\n      <td>2015</td>\n      <td>January</td>\n      <td>Thursday</td>\n    </tr>\n    <tr>\n      <th>4</th>\n      <td>11</td>\n      <td>East Village (Manhattan, NY)</td>\n      <td>2015-01-01</td>\n      <td>2015</td>\n      <td>January</td>\n      <td>Thursday</td>\n    </tr>\n    <tr>\n      <th>...</th>\n      <td>...</td>\n      <td>...</td>\n      <td>...</td>\n      <td>...</td>\n      <td>...</td>\n      <td>...</td>\n    </tr>\n    <tr>\n      <th>16283</th>\n      <td>50563</td>\n      <td>Denver (Colo)</td>\n      <td>2017-12-31</td>\n      <td>2017</td>\n      <td>December</td>\n      <td>Sunday</td>\n    </tr>\n    <tr>\n      <th>16284</th>\n      <td>50564</td>\n      <td>Acadia National Park (Me)</td>\n      <td>2017-12-31</td>\n      <td>2017</td>\n      <td>December</td>\n      <td>Sunday</td>\n    </tr>\n    <tr>\n      <th>16285</th>\n      <td>50570</td>\n      <td>San Francisco (Calif)</td>\n      <td>2017-12-31</td>\n      <td>2017</td>\n      <td>December</td>\n      <td>Sunday</td>\n    </tr>\n    <tr>\n      <th>16286</th>\n      <td>50571</td>\n      <td>New York State</td>\n      <td>2017-12-31</td>\n      <td>2017</td>\n      <td>December</td>\n      <td>Sunday</td>\n    </tr>\n    <tr>\n      <th>16287</th>\n      <td>50572</td>\n      <td>Wichita (Kan)</td>\n      <td>2017-12-31</td>\n      <td>2017</td>\n      <td>December</td>\n      <td>Sunday</td>\n    </tr>\n  </tbody>\n</table>\n<p>16288 rows × 6 columns</p>\n</div>"
     },
     "metadata": {},
     "execution_count": 2
    }
   ],
   "source": [
    "# Import cleaned news dataset\n",
    "path = \"static/data/choropleth_locations1_clean.csv\"\n",
    "df = pd.read_csv(path)\n",
    "df"
   ]
  },
  {
   "cell_type": "code",
   "execution_count": 3,
   "metadata": {},
   "outputs": [
    {
     "output_type": "execute_result",
     "data": {
      "text/plain": [
       "         nid                     glocation country state latitude longitude  \\\n",
       "0          2                     Louisiana                                    \n",
       "1          3                 United States                                    \n",
       "2          5                 Boston (Mass)                                    \n",
       "3          6                 Killeen (Tex)                                    \n",
       "4         11  East Village (Manhattan, NY)                                    \n",
       "...      ...                           ...     ...   ...      ...       ...   \n",
       "16283  50563                 Denver (Colo)                                    \n",
       "16284  50564     Acadia National Park (Me)                                    \n",
       "16285  50570         San Francisco (Calif)                                    \n",
       "16286  50571                New York State                                    \n",
       "16287  50572                 Wichita (Kan)                                    \n",
       "\n",
       "         pub_date  year     month   weekday  \n",
       "0      2015-01-01  2015   January  Thursday  \n",
       "1      2015-01-01  2015   January  Thursday  \n",
       "2      2015-01-01  2015   January  Thursday  \n",
       "3      2015-01-01  2015   January  Thursday  \n",
       "4      2015-01-01  2015   January  Thursday  \n",
       "...           ...   ...       ...       ...  \n",
       "16283  2017-12-31  2017  December    Sunday  \n",
       "16284  2017-12-31  2017  December    Sunday  \n",
       "16285  2017-12-31  2017  December    Sunday  \n",
       "16286  2017-12-31  2017  December    Sunday  \n",
       "16287  2017-12-31  2017  December    Sunday  \n",
       "\n",
       "[16288 rows x 10 columns]"
      ],
      "text/html": "<div>\n<style scoped>\n    .dataframe tbody tr th:only-of-type {\n        vertical-align: middle;\n    }\n\n    .dataframe tbody tr th {\n        vertical-align: top;\n    }\n\n    .dataframe thead th {\n        text-align: right;\n    }\n</style>\n<table border=\"1\" class=\"dataframe\">\n  <thead>\n    <tr style=\"text-align: right;\">\n      <th></th>\n      <th>nid</th>\n      <th>glocation</th>\n      <th>country</th>\n      <th>state</th>\n      <th>latitude</th>\n      <th>longitude</th>\n      <th>pub_date</th>\n      <th>year</th>\n      <th>month</th>\n      <th>weekday</th>\n    </tr>\n  </thead>\n  <tbody>\n    <tr>\n      <th>0</th>\n      <td>2</td>\n      <td>Louisiana</td>\n      <td></td>\n      <td></td>\n      <td></td>\n      <td></td>\n      <td>2015-01-01</td>\n      <td>2015</td>\n      <td>January</td>\n      <td>Thursday</td>\n    </tr>\n    <tr>\n      <th>1</th>\n      <td>3</td>\n      <td>United States</td>\n      <td></td>\n      <td></td>\n      <td></td>\n      <td></td>\n      <td>2015-01-01</td>\n      <td>2015</td>\n      <td>January</td>\n      <td>Thursday</td>\n    </tr>\n    <tr>\n      <th>2</th>\n      <td>5</td>\n      <td>Boston (Mass)</td>\n      <td></td>\n      <td></td>\n      <td></td>\n      <td></td>\n      <td>2015-01-01</td>\n      <td>2015</td>\n      <td>January</td>\n      <td>Thursday</td>\n    </tr>\n    <tr>\n      <th>3</th>\n      <td>6</td>\n      <td>Killeen (Tex)</td>\n      <td></td>\n      <td></td>\n      <td></td>\n      <td></td>\n      <td>2015-01-01</td>\n      <td>2015</td>\n      <td>January</td>\n      <td>Thursday</td>\n    </tr>\n    <tr>\n      <th>4</th>\n      <td>11</td>\n      <td>East Village (Manhattan, NY)</td>\n      <td></td>\n      <td></td>\n      <td></td>\n      <td></td>\n      <td>2015-01-01</td>\n      <td>2015</td>\n      <td>January</td>\n      <td>Thursday</td>\n    </tr>\n    <tr>\n      <th>...</th>\n      <td>...</td>\n      <td>...</td>\n      <td>...</td>\n      <td>...</td>\n      <td>...</td>\n      <td>...</td>\n      <td>...</td>\n      <td>...</td>\n      <td>...</td>\n      <td>...</td>\n    </tr>\n    <tr>\n      <th>16283</th>\n      <td>50563</td>\n      <td>Denver (Colo)</td>\n      <td></td>\n      <td></td>\n      <td></td>\n      <td></td>\n      <td>2017-12-31</td>\n      <td>2017</td>\n      <td>December</td>\n      <td>Sunday</td>\n    </tr>\n    <tr>\n      <th>16284</th>\n      <td>50564</td>\n      <td>Acadia National Park (Me)</td>\n      <td></td>\n      <td></td>\n      <td></td>\n      <td></td>\n      <td>2017-12-31</td>\n      <td>2017</td>\n      <td>December</td>\n      <td>Sunday</td>\n    </tr>\n    <tr>\n      <th>16285</th>\n      <td>50570</td>\n      <td>San Francisco (Calif)</td>\n      <td></td>\n      <td></td>\n      <td></td>\n      <td></td>\n      <td>2017-12-31</td>\n      <td>2017</td>\n      <td>December</td>\n      <td>Sunday</td>\n    </tr>\n    <tr>\n      <th>16286</th>\n      <td>50571</td>\n      <td>New York State</td>\n      <td></td>\n      <td></td>\n      <td></td>\n      <td></td>\n      <td>2017-12-31</td>\n      <td>2017</td>\n      <td>December</td>\n      <td>Sunday</td>\n    </tr>\n    <tr>\n      <th>16287</th>\n      <td>50572</td>\n      <td>Wichita (Kan)</td>\n      <td></td>\n      <td></td>\n      <td></td>\n      <td></td>\n      <td>2017-12-31</td>\n      <td>2017</td>\n      <td>December</td>\n      <td>Sunday</td>\n    </tr>\n  </tbody>\n</table>\n<p>16288 rows × 10 columns</p>\n</div>"
     },
     "metadata": {},
     "execution_count": 3
    }
   ],
   "source": [
    "# Create columns in main dataframe to add data using API calls\n",
    "df['country'] = \" \"\n",
    "df['state'] = \" \"\n",
    "df['latitude'] = \" \"\n",
    "df['longitude'] = \" \"\n",
    "df = df[['nid', 'glocation', 'country', 'state', 'latitude', 'longitude', 'pub_date', 'year', 'month', 'weekday']]\n",
    "df"
   ]
  },
  {
   "cell_type": "code",
   "execution_count": 4,
   "metadata": {},
   "outputs": [
    {
     "output_type": "execute_result",
     "data": {
      "text/plain": [
       "        nid                       glocation               country  \\\n",
       "0         2                       Louisiana         United States   \n",
       "1         3                   United States         United States   \n",
       "2         5                   Boston (Mass)         United States   \n",
       "3         6                   Killeen (Tex)         United States   \n",
       "4        11    East Village (Manhattan, NY)         United States   \n",
       "...     ...                             ...                   ...   \n",
       "1343  50437                    Massena (NY)         United States   \n",
       "1344  50471                     Kearny (NJ)         United States   \n",
       "1345  50511  Sharjah (United Arab Emirates)  United Arab Emirates   \n",
       "1346  50546                       Troy (NY)         United States   \n",
       "1347  50564       Acadia National Park (Me)         United States   \n",
       "\n",
       "              state    latitude    longitude    pub_date  year     month  \\\n",
       "0         Louisiana  30.9842977  -91.9623327    1/1/2015  2015   January   \n",
       "1                      37.09024   -95.712891    1/1/2015  2015   January   \n",
       "2     Massachusetts  42.3600825  -71.0588801    1/1/2015  2015   January   \n",
       "3             Texas  31.1171194  -97.7277959    1/1/2015  2015   January   \n",
       "4          New York  40.7264773  -73.9815337    1/1/2015  2015   January   \n",
       "...             ...         ...          ...         ...   ...       ...   \n",
       "1343       New York  44.9281049   -74.891865  12/24/2017  2017  December   \n",
       "1344     New Jersey  40.7684342  -74.1454214  12/26/2017  2017  December   \n",
       "1345        Sharjah  25.3462553   55.4209317  12/28/2017  2017  December   \n",
       "1346       New York  42.7284117  -73.6917851  12/30/2017  2017  December   \n",
       "1347          Maine  44.3385559  -68.2733346  12/31/2017  2017  December   \n",
       "\n",
       "       weekday  \n",
       "0     Thursday  \n",
       "1     Thursday  \n",
       "2     Thursday  \n",
       "3     Thursday  \n",
       "4     Thursday  \n",
       "...        ...  \n",
       "1343    Sunday  \n",
       "1344   Tuesday  \n",
       "1345  Thursday  \n",
       "1346  Saturday  \n",
       "1347    Sunday  \n",
       "\n",
       "[1348 rows x 10 columns]"
      ],
      "text/html": "<div>\n<style scoped>\n    .dataframe tbody tr th:only-of-type {\n        vertical-align: middle;\n    }\n\n    .dataframe tbody tr th {\n        vertical-align: top;\n    }\n\n    .dataframe thead th {\n        text-align: right;\n    }\n</style>\n<table border=\"1\" class=\"dataframe\">\n  <thead>\n    <tr style=\"text-align: right;\">\n      <th></th>\n      <th>nid</th>\n      <th>glocation</th>\n      <th>country</th>\n      <th>state</th>\n      <th>latitude</th>\n      <th>longitude</th>\n      <th>pub_date</th>\n      <th>year</th>\n      <th>month</th>\n      <th>weekday</th>\n    </tr>\n  </thead>\n  <tbody>\n    <tr>\n      <th>0</th>\n      <td>2</td>\n      <td>Louisiana</td>\n      <td>United States</td>\n      <td>Louisiana</td>\n      <td>30.9842977</td>\n      <td>-91.9623327</td>\n      <td>1/1/2015</td>\n      <td>2015</td>\n      <td>January</td>\n      <td>Thursday</td>\n    </tr>\n    <tr>\n      <th>1</th>\n      <td>3</td>\n      <td>United States</td>\n      <td>United States</td>\n      <td></td>\n      <td>37.09024</td>\n      <td>-95.712891</td>\n      <td>1/1/2015</td>\n      <td>2015</td>\n      <td>January</td>\n      <td>Thursday</td>\n    </tr>\n    <tr>\n      <th>2</th>\n      <td>5</td>\n      <td>Boston (Mass)</td>\n      <td>United States</td>\n      <td>Massachusetts</td>\n      <td>42.3600825</td>\n      <td>-71.0588801</td>\n      <td>1/1/2015</td>\n      <td>2015</td>\n      <td>January</td>\n      <td>Thursday</td>\n    </tr>\n    <tr>\n      <th>3</th>\n      <td>6</td>\n      <td>Killeen (Tex)</td>\n      <td>United States</td>\n      <td>Texas</td>\n      <td>31.1171194</td>\n      <td>-97.7277959</td>\n      <td>1/1/2015</td>\n      <td>2015</td>\n      <td>January</td>\n      <td>Thursday</td>\n    </tr>\n    <tr>\n      <th>4</th>\n      <td>11</td>\n      <td>East Village (Manhattan, NY)</td>\n      <td>United States</td>\n      <td>New York</td>\n      <td>40.7264773</td>\n      <td>-73.9815337</td>\n      <td>1/1/2015</td>\n      <td>2015</td>\n      <td>January</td>\n      <td>Thursday</td>\n    </tr>\n    <tr>\n      <th>...</th>\n      <td>...</td>\n      <td>...</td>\n      <td>...</td>\n      <td>...</td>\n      <td>...</td>\n      <td>...</td>\n      <td>...</td>\n      <td>...</td>\n      <td>...</td>\n      <td>...</td>\n    </tr>\n    <tr>\n      <th>1343</th>\n      <td>50437</td>\n      <td>Massena (NY)</td>\n      <td>United States</td>\n      <td>New York</td>\n      <td>44.9281049</td>\n      <td>-74.891865</td>\n      <td>12/24/2017</td>\n      <td>2017</td>\n      <td>December</td>\n      <td>Sunday</td>\n    </tr>\n    <tr>\n      <th>1344</th>\n      <td>50471</td>\n      <td>Kearny (NJ)</td>\n      <td>United States</td>\n      <td>New Jersey</td>\n      <td>40.7684342</td>\n      <td>-74.1454214</td>\n      <td>12/26/2017</td>\n      <td>2017</td>\n      <td>December</td>\n      <td>Tuesday</td>\n    </tr>\n    <tr>\n      <th>1345</th>\n      <td>50511</td>\n      <td>Sharjah (United Arab Emirates)</td>\n      <td>United Arab Emirates</td>\n      <td>Sharjah</td>\n      <td>25.3462553</td>\n      <td>55.4209317</td>\n      <td>12/28/2017</td>\n      <td>2017</td>\n      <td>December</td>\n      <td>Thursday</td>\n    </tr>\n    <tr>\n      <th>1346</th>\n      <td>50546</td>\n      <td>Troy (NY)</td>\n      <td>United States</td>\n      <td>New York</td>\n      <td>42.7284117</td>\n      <td>-73.6917851</td>\n      <td>12/30/2017</td>\n      <td>2017</td>\n      <td>December</td>\n      <td>Saturday</td>\n    </tr>\n    <tr>\n      <th>1347</th>\n      <td>50564</td>\n      <td>Acadia National Park (Me)</td>\n      <td>United States</td>\n      <td>Maine</td>\n      <td>44.3385559</td>\n      <td>-68.2733346</td>\n      <td>12/31/2017</td>\n      <td>2017</td>\n      <td>December</td>\n      <td>Sunday</td>\n    </tr>\n  </tbody>\n</table>\n<p>1348 rows × 10 columns</p>\n</div>"
     },
     "metadata": {},
     "execution_count": 4
    }
   ],
   "source": [
    "# Import data from API calls made for unique locations\n",
    "path_unique = \"static/data/choropleth_locations2_api_unique.csv\"\n",
    "df_unique = pd.read_csv(path_unique)\n",
    "df_unique"
   ]
  },
  {
   "cell_type": "code",
   "execution_count": 5,
   "metadata": {},
   "outputs": [
    {
     "output_type": "execute_result",
     "data": {
      "text/plain": [
       "         nid                     glocation        country          state  \\\n",
       "0          2                     Louisiana  United States      Louisiana   \n",
       "1          3                 United States  United States                  \n",
       "2          5                 Boston (Mass)  United States  Massachusetts   \n",
       "3          6                 Killeen (Tex)  United States          Texas   \n",
       "4         11  East Village (Manhattan, NY)  United States       New York   \n",
       "...      ...                           ...            ...            ...   \n",
       "16283  50563                 Denver (Colo)  United States       Colorado   \n",
       "16284  50564     Acadia National Park (Me)  United States          Maine   \n",
       "16285  50570         San Francisco (Calif)  United States     California   \n",
       "16286  50571                New York State  United States       New York   \n",
       "16287  50572                 Wichita (Kan)  United States         Kansas   \n",
       "\n",
       "         latitude     longitude    pub_date  year     month   weekday  \n",
       "0      30.9842977   -91.9623327  2015-01-01  2015   January  Thursday  \n",
       "1        37.09024    -95.712891  2015-01-01  2015   January  Thursday  \n",
       "2      42.3600825   -71.0588801  2015-01-01  2015   January  Thursday  \n",
       "3      31.1171194   -97.7277959  2015-01-01  2015   January  Thursday  \n",
       "4      40.7264773   -73.9815337  2015-01-01  2015   January  Thursday  \n",
       "...           ...           ...         ...   ...       ...       ...  \n",
       "16283  39.7392358   -104.990251  2017-12-31  2017  December    Sunday  \n",
       "16284  44.3385559   -68.2733346  2017-12-31  2017  December    Sunday  \n",
       "16285  37.7749295  -122.4194155  2017-12-31  2017  December    Sunday  \n",
       "16286  43.2994285   -74.2179326  2017-12-31  2017  December    Sunday  \n",
       "16287  37.6871761    -97.330053  2017-12-31  2017  December    Sunday  \n",
       "\n",
       "[16288 rows x 10 columns]"
      ],
      "text/html": "<div>\n<style scoped>\n    .dataframe tbody tr th:only-of-type {\n        vertical-align: middle;\n    }\n\n    .dataframe tbody tr th {\n        vertical-align: top;\n    }\n\n    .dataframe thead th {\n        text-align: right;\n    }\n</style>\n<table border=\"1\" class=\"dataframe\">\n  <thead>\n    <tr style=\"text-align: right;\">\n      <th></th>\n      <th>nid</th>\n      <th>glocation</th>\n      <th>country</th>\n      <th>state</th>\n      <th>latitude</th>\n      <th>longitude</th>\n      <th>pub_date</th>\n      <th>year</th>\n      <th>month</th>\n      <th>weekday</th>\n    </tr>\n  </thead>\n  <tbody>\n    <tr>\n      <th>0</th>\n      <td>2</td>\n      <td>Louisiana</td>\n      <td>United States</td>\n      <td>Louisiana</td>\n      <td>30.9842977</td>\n      <td>-91.9623327</td>\n      <td>2015-01-01</td>\n      <td>2015</td>\n      <td>January</td>\n      <td>Thursday</td>\n    </tr>\n    <tr>\n      <th>1</th>\n      <td>3</td>\n      <td>United States</td>\n      <td>United States</td>\n      <td></td>\n      <td>37.09024</td>\n      <td>-95.712891</td>\n      <td>2015-01-01</td>\n      <td>2015</td>\n      <td>January</td>\n      <td>Thursday</td>\n    </tr>\n    <tr>\n      <th>2</th>\n      <td>5</td>\n      <td>Boston (Mass)</td>\n      <td>United States</td>\n      <td>Massachusetts</td>\n      <td>42.3600825</td>\n      <td>-71.0588801</td>\n      <td>2015-01-01</td>\n      <td>2015</td>\n      <td>January</td>\n      <td>Thursday</td>\n    </tr>\n    <tr>\n      <th>3</th>\n      <td>6</td>\n      <td>Killeen (Tex)</td>\n      <td>United States</td>\n      <td>Texas</td>\n      <td>31.1171194</td>\n      <td>-97.7277959</td>\n      <td>2015-01-01</td>\n      <td>2015</td>\n      <td>January</td>\n      <td>Thursday</td>\n    </tr>\n    <tr>\n      <th>4</th>\n      <td>11</td>\n      <td>East Village (Manhattan, NY)</td>\n      <td>United States</td>\n      <td>New York</td>\n      <td>40.7264773</td>\n      <td>-73.9815337</td>\n      <td>2015-01-01</td>\n      <td>2015</td>\n      <td>January</td>\n      <td>Thursday</td>\n    </tr>\n    <tr>\n      <th>...</th>\n      <td>...</td>\n      <td>...</td>\n      <td>...</td>\n      <td>...</td>\n      <td>...</td>\n      <td>...</td>\n      <td>...</td>\n      <td>...</td>\n      <td>...</td>\n      <td>...</td>\n    </tr>\n    <tr>\n      <th>16283</th>\n      <td>50563</td>\n      <td>Denver (Colo)</td>\n      <td>United States</td>\n      <td>Colorado</td>\n      <td>39.7392358</td>\n      <td>-104.990251</td>\n      <td>2017-12-31</td>\n      <td>2017</td>\n      <td>December</td>\n      <td>Sunday</td>\n    </tr>\n    <tr>\n      <th>16284</th>\n      <td>50564</td>\n      <td>Acadia National Park (Me)</td>\n      <td>United States</td>\n      <td>Maine</td>\n      <td>44.3385559</td>\n      <td>-68.2733346</td>\n      <td>2017-12-31</td>\n      <td>2017</td>\n      <td>December</td>\n      <td>Sunday</td>\n    </tr>\n    <tr>\n      <th>16285</th>\n      <td>50570</td>\n      <td>San Francisco (Calif)</td>\n      <td>United States</td>\n      <td>California</td>\n      <td>37.7749295</td>\n      <td>-122.4194155</td>\n      <td>2017-12-31</td>\n      <td>2017</td>\n      <td>December</td>\n      <td>Sunday</td>\n    </tr>\n    <tr>\n      <th>16286</th>\n      <td>50571</td>\n      <td>New York State</td>\n      <td>United States</td>\n      <td>New York</td>\n      <td>43.2994285</td>\n      <td>-74.2179326</td>\n      <td>2017-12-31</td>\n      <td>2017</td>\n      <td>December</td>\n      <td>Sunday</td>\n    </tr>\n    <tr>\n      <th>16287</th>\n      <td>50572</td>\n      <td>Wichita (Kan)</td>\n      <td>United States</td>\n      <td>Kansas</td>\n      <td>37.6871761</td>\n      <td>-97.330053</td>\n      <td>2017-12-31</td>\n      <td>2017</td>\n      <td>December</td>\n      <td>Sunday</td>\n    </tr>\n  </tbody>\n</table>\n<p>16288 rows × 10 columns</p>\n</div>"
     },
     "metadata": {},
     "execution_count": 5
    }
   ],
   "source": [
    "# Use retrieved data from API calls to populate duplicate locations in dataset\n",
    "for i in range(len(df)):\n",
    "    for j in range(len(df_unique)):\n",
    "        if df['glocation'][i] == df_unique['glocation'][j]:\n",
    "            df['country'][i] = df_unique['country'][j]\n",
    "            df['state'][i] = df_unique['state'][j]\n",
    "            df['latitude'][i] = df_unique['latitude'][j]\n",
    "            df['longitude'][i] = df_unique['longitude'][j]\n",
    "\n",
    "df"
   ]
  },
  {
   "cell_type": "code",
   "execution_count": 9,
   "metadata": {},
   "outputs": [
    {
     "output_type": "execute_result",
     "data": {
      "text/plain": [
       "         nid                     glocation        country          state  \\\n",
       "0          2                     Louisiana  United States      Louisiana   \n",
       "1          3                 United States  United States            NaN   \n",
       "2          5                 Boston (Mass)  United States  Massachusetts   \n",
       "3          6                 Killeen (Tex)  United States          Texas   \n",
       "4         11  East Village (Manhattan, NY)  United States       New York   \n",
       "...      ...                           ...            ...            ...   \n",
       "15625  50563                 Denver (Colo)  United States       Colorado   \n",
       "15626  50564     Acadia National Park (Me)  United States          Maine   \n",
       "15627  50570         San Francisco (Calif)  United States     California   \n",
       "15628  50571                New York State  United States       New York   \n",
       "15629  50572                 Wichita (Kan)  United States         Kansas   \n",
       "\n",
       "         latitude     longitude    pub_date  year     month   weekday  \n",
       "0      30.9842977   -91.9623327  2015-01-01  2015   January  Thursday  \n",
       "1        37.09024    -95.712891  2015-01-01  2015   January  Thursday  \n",
       "2      42.3600825   -71.0588801  2015-01-01  2015   January  Thursday  \n",
       "3      31.1171194   -97.7277959  2015-01-01  2015   January  Thursday  \n",
       "4      40.7264773   -73.9815337  2015-01-01  2015   January  Thursday  \n",
       "...           ...           ...         ...   ...       ...       ...  \n",
       "15625  39.7392358   -104.990251  2017-12-31  2017  December    Sunday  \n",
       "15626  44.3385559   -68.2733346  2017-12-31  2017  December    Sunday  \n",
       "15627  37.7749295  -122.4194155  2017-12-31  2017  December    Sunday  \n",
       "15628  43.2994285   -74.2179326  2017-12-31  2017  December    Sunday  \n",
       "15629  37.6871761    -97.330053  2017-12-31  2017  December    Sunday  \n",
       "\n",
       "[15630 rows x 10 columns]"
      ],
      "text/html": "<div>\n<style scoped>\n    .dataframe tbody tr th:only-of-type {\n        vertical-align: middle;\n    }\n\n    .dataframe tbody tr th {\n        vertical-align: top;\n    }\n\n    .dataframe thead th {\n        text-align: right;\n    }\n</style>\n<table border=\"1\" class=\"dataframe\">\n  <thead>\n    <tr style=\"text-align: right;\">\n      <th></th>\n      <th>nid</th>\n      <th>glocation</th>\n      <th>country</th>\n      <th>state</th>\n      <th>latitude</th>\n      <th>longitude</th>\n      <th>pub_date</th>\n      <th>year</th>\n      <th>month</th>\n      <th>weekday</th>\n    </tr>\n  </thead>\n  <tbody>\n    <tr>\n      <th>0</th>\n      <td>2</td>\n      <td>Louisiana</td>\n      <td>United States</td>\n      <td>Louisiana</td>\n      <td>30.9842977</td>\n      <td>-91.9623327</td>\n      <td>2015-01-01</td>\n      <td>2015</td>\n      <td>January</td>\n      <td>Thursday</td>\n    </tr>\n    <tr>\n      <th>1</th>\n      <td>3</td>\n      <td>United States</td>\n      <td>United States</td>\n      <td>NaN</td>\n      <td>37.09024</td>\n      <td>-95.712891</td>\n      <td>2015-01-01</td>\n      <td>2015</td>\n      <td>January</td>\n      <td>Thursday</td>\n    </tr>\n    <tr>\n      <th>2</th>\n      <td>5</td>\n      <td>Boston (Mass)</td>\n      <td>United States</td>\n      <td>Massachusetts</td>\n      <td>42.3600825</td>\n      <td>-71.0588801</td>\n      <td>2015-01-01</td>\n      <td>2015</td>\n      <td>January</td>\n      <td>Thursday</td>\n    </tr>\n    <tr>\n      <th>3</th>\n      <td>6</td>\n      <td>Killeen (Tex)</td>\n      <td>United States</td>\n      <td>Texas</td>\n      <td>31.1171194</td>\n      <td>-97.7277959</td>\n      <td>2015-01-01</td>\n      <td>2015</td>\n      <td>January</td>\n      <td>Thursday</td>\n    </tr>\n    <tr>\n      <th>4</th>\n      <td>11</td>\n      <td>East Village (Manhattan, NY)</td>\n      <td>United States</td>\n      <td>New York</td>\n      <td>40.7264773</td>\n      <td>-73.9815337</td>\n      <td>2015-01-01</td>\n      <td>2015</td>\n      <td>January</td>\n      <td>Thursday</td>\n    </tr>\n    <tr>\n      <th>...</th>\n      <td>...</td>\n      <td>...</td>\n      <td>...</td>\n      <td>...</td>\n      <td>...</td>\n      <td>...</td>\n      <td>...</td>\n      <td>...</td>\n      <td>...</td>\n      <td>...</td>\n    </tr>\n    <tr>\n      <th>15625</th>\n      <td>50563</td>\n      <td>Denver (Colo)</td>\n      <td>United States</td>\n      <td>Colorado</td>\n      <td>39.7392358</td>\n      <td>-104.990251</td>\n      <td>2017-12-31</td>\n      <td>2017</td>\n      <td>December</td>\n      <td>Sunday</td>\n    </tr>\n    <tr>\n      <th>15626</th>\n      <td>50564</td>\n      <td>Acadia National Park (Me)</td>\n      <td>United States</td>\n      <td>Maine</td>\n      <td>44.3385559</td>\n      <td>-68.2733346</td>\n      <td>2017-12-31</td>\n      <td>2017</td>\n      <td>December</td>\n      <td>Sunday</td>\n    </tr>\n    <tr>\n      <th>15627</th>\n      <td>50570</td>\n      <td>San Francisco (Calif)</td>\n      <td>United States</td>\n      <td>California</td>\n      <td>37.7749295</td>\n      <td>-122.4194155</td>\n      <td>2017-12-31</td>\n      <td>2017</td>\n      <td>December</td>\n      <td>Sunday</td>\n    </tr>\n    <tr>\n      <th>15628</th>\n      <td>50571</td>\n      <td>New York State</td>\n      <td>United States</td>\n      <td>New York</td>\n      <td>43.2994285</td>\n      <td>-74.2179326</td>\n      <td>2017-12-31</td>\n      <td>2017</td>\n      <td>December</td>\n      <td>Sunday</td>\n    </tr>\n    <tr>\n      <th>15629</th>\n      <td>50572</td>\n      <td>Wichita (Kan)</td>\n      <td>United States</td>\n      <td>Kansas</td>\n      <td>37.6871761</td>\n      <td>-97.330053</td>\n      <td>2017-12-31</td>\n      <td>2017</td>\n      <td>December</td>\n      <td>Sunday</td>\n    </tr>\n  </tbody>\n</table>\n<p>15630 rows × 10 columns</p>\n</div>"
     },
     "metadata": {},
     "execution_count": 9
    }
   ],
   "source": [
    "# Drop rows where country name is missing\n",
    "df = df.replace(r'^\\s*$', np.NaN, regex=True)\n",
    "df = df.dropna(subset=['country'])\n",
    "df = df.reset_index(drop=True)\n",
    "df"
   ]
  },
  {
   "cell_type": "code",
   "execution_count": 10,
   "metadata": {},
   "outputs": [
    {
     "output_type": "execute_result",
     "data": {
      "text/plain": [
       "         nid                                           headline  \\\n",
       "0          1  Standouts in Tech: Drones, Virtual Reality, In...   \n",
       "1          2  Much of David Duke's '91 Campaign Is Now in Lo...   \n",
       "2          3  States' Minimum Wages Rise, Helping Millions o...   \n",
       "3          4       New C.D.C. Job Overseeing Laboratory Safety    \n",
       "4          5   Massachusetts: New Effort to Move Bombings Trial   \n",
       "...      ...                                                ...   \n",
       "50567  50568  How Do You Turn an Ad Into a Meme? Two Words: ...   \n",
       "50568  50569  Partisans, Wielding Money, Begin Seeking to Ex...   \n",
       "50569  50570  How Do You Vote? 50 Million Google Images Give...   \n",
       "50570  50571  Democrats in High-Tax States Plot to Blunt Imp...   \n",
       "50571  50572  Fatal 'Swatting' Episode in Kansas Raises Quan...   \n",
       "\n",
       "                                                 article  headline_score  \\\n",
       "0      LOTS of cool new technology products come out ...          0.0000   \n",
       "1      BATON ROUGE, La. — David Duke seems a figure f...          0.0000   \n",
       "2      For some low-wage workers, everyday tasks like...          0.2960   \n",
       "3      A new job title — chief of laboratory safety —...          0.4215   \n",
       "4      Lawyers for Dzhokhar Tsarnaev, the defendant i...          0.0000   \n",
       "...                                                  ...             ...   \n",
       "50567  In 1995, a nation was rapt as three frogs croa...          0.0000   \n",
       "50568  WASHINGTON — As the #MeToo movement to expose ...         -0.5994   \n",
       "50569  What vehicle is most strongly associated with ...          0.0000   \n",
       "50570  Democrats in high-cost, high-tax states are pl...          0.0000   \n",
       "50571  When the police surrounded a house in Wichita,...         -0.7096   \n",
       "\n",
       "       article_score    pub_date  section_name news_desk  \\\n",
       "0            0.16550    1/1/2015    Technology  Business   \n",
       "1            0.12800    1/1/2015          U.S.  National   \n",
       "2           -0.05160    1/1/2015  Business Day  Business   \n",
       "3            0.04162    1/1/2015        Health  National   \n",
       "4           -0.29145    1/1/2015          U.S.  National   \n",
       "...              ...         ...           ...       ...   \n",
       "50567        0.44040  12/31/2017  Business Day  Business   \n",
       "50568       -0.61240  12/31/2017          U.S.  National   \n",
       "50569        0.33840  12/31/2017    Technology  Business   \n",
       "50570        0.00000  12/31/2017  Business Day  Business   \n",
       "50571        0.00000  12/31/2017          U.S.  National   \n",
       "\n",
       "                                           organizations  \\\n",
       "0      ['Oculus VR Inc', 'Skype Technologies', 'DJI I...   \n",
       "1                                                     []   \n",
       "2                                                     []   \n",
       "3         ['Centers for Disease Control and Prevention']   \n",
       "4                                                     []   \n",
       "...                                                  ...   \n",
       "50567                        ['Anheuser-Busch InBev NV']   \n",
       "50568                                                 []   \n",
       "50569      ['Google Street View', 'Stanford University']   \n",
       "50570           ['Democratic Party', 'Republican Party']   \n",
       "50571                                                 []   \n",
       "\n",
       "                                                 persons  \\\n",
       "0                                     ['Manjoo, Farhad']   \n",
       "1      ['Alford, Jeremy', 'Duke, David E', 'Scalise, ...   \n",
       "2                                                     []   \n",
       "3           ['McNeil, Donald G Jr', 'Frieden, Thomas R']   \n",
       "4                               ['Tsarnaev, Dzhokhar A']   \n",
       "...                                                  ...   \n",
       "50567                                                 []   \n",
       "50568  ['Allred, Gloria', 'Bloom, Lisa (1961- )', 'Ce...   \n",
       "50569                                                 []   \n",
       "50570                                                 []   \n",
       "50571  ['Finch, Andrew (1989-2017)', 'Barriss, Tyler R']   \n",
       "\n",
       "                                                 subject  \\\n",
       "0      ['Virtual Reality (Computers)', 'Computers and...   \n",
       "1      ['Blacks', 'Black People', 'Race and Ethnicity...   \n",
       "2                        ['Minimum Wage', 'States (US)']   \n",
       "3      ['Ebola Virus', 'Laboratories and Scientific E...   \n",
       "4                    ['Boston Marathon Bombings (2013)']   \n",
       "...                                                  ...   \n",
       "50567              ['ADVERTISING AND MARKETING', 'Beer']   \n",
       "50568  ['United States Politics and Government', '#Me...   \n",
       "50569  ['Artificial Intelligence', 'Data-Mining and D...   \n",
       "50570  ['Tax Credits, Deductions and Exemptions', 'Ta...   \n",
       "50571  ['Police Brutality, Misconduct and Shootings',...   \n",
       "\n",
       "                                              glocations creative_works  \\\n",
       "0                                                     []             []   \n",
       "1                                          ['Louisiana']             []   \n",
       "2                                      ['United States']             []   \n",
       "3                                                     []             []   \n",
       "4                                      ['Boston (Mass)']             []   \n",
       "...                                                  ...            ...   \n",
       "50567                                                 []             []   \n",
       "50568                                                 []             []   \n",
       "50569  ['Casper (Wyo)', 'Burlington (Vt)', 'Chicago (...             []   \n",
       "50570  ['California', 'Connecticut', 'New Jersey', 'N...             []   \n",
       "50571                                  ['Wichita (Kan)']             []   \n",
       "\n",
       "       abs_headline_score  abs_article_score  \n",
       "0                  0.0000            0.16550  \n",
       "1                  0.0000            0.12800  \n",
       "2                  0.2960            0.05160  \n",
       "3                  0.4215            0.04162  \n",
       "4                  0.0000            0.29145  \n",
       "...                   ...                ...  \n",
       "50567              0.0000            0.44040  \n",
       "50568              0.5994            0.61240  \n",
       "50569              0.0000            0.33840  \n",
       "50570              0.0000            0.00000  \n",
       "50571              0.7096            0.00000  \n",
       "\n",
       "[50572 rows x 15 columns]"
      ],
      "text/html": "<div>\n<style scoped>\n    .dataframe tbody tr th:only-of-type {\n        vertical-align: middle;\n    }\n\n    .dataframe tbody tr th {\n        vertical-align: top;\n    }\n\n    .dataframe thead th {\n        text-align: right;\n    }\n</style>\n<table border=\"1\" class=\"dataframe\">\n  <thead>\n    <tr style=\"text-align: right;\">\n      <th></th>\n      <th>nid</th>\n      <th>headline</th>\n      <th>article</th>\n      <th>headline_score</th>\n      <th>article_score</th>\n      <th>pub_date</th>\n      <th>section_name</th>\n      <th>news_desk</th>\n      <th>organizations</th>\n      <th>persons</th>\n      <th>subject</th>\n      <th>glocations</th>\n      <th>creative_works</th>\n      <th>abs_headline_score</th>\n      <th>abs_article_score</th>\n    </tr>\n  </thead>\n  <tbody>\n    <tr>\n      <th>0</th>\n      <td>1</td>\n      <td>Standouts in Tech: Drones, Virtual Reality, In...</td>\n      <td>LOTS of cool new technology products come out ...</td>\n      <td>0.0000</td>\n      <td>0.16550</td>\n      <td>1/1/2015</td>\n      <td>Technology</td>\n      <td>Business</td>\n      <td>['Oculus VR Inc', 'Skype Technologies', 'DJI I...</td>\n      <td>['Manjoo, Farhad']</td>\n      <td>['Virtual Reality (Computers)', 'Computers and...</td>\n      <td>[]</td>\n      <td>[]</td>\n      <td>0.0000</td>\n      <td>0.16550</td>\n    </tr>\n    <tr>\n      <th>1</th>\n      <td>2</td>\n      <td>Much of David Duke's '91 Campaign Is Now in Lo...</td>\n      <td>BATON ROUGE, La. — David Duke seems a figure f...</td>\n      <td>0.0000</td>\n      <td>0.12800</td>\n      <td>1/1/2015</td>\n      <td>U.S.</td>\n      <td>National</td>\n      <td>[]</td>\n      <td>['Alford, Jeremy', 'Duke, David E', 'Scalise, ...</td>\n      <td>['Blacks', 'Black People', 'Race and Ethnicity...</td>\n      <td>['Louisiana']</td>\n      <td>[]</td>\n      <td>0.0000</td>\n      <td>0.12800</td>\n    </tr>\n    <tr>\n      <th>2</th>\n      <td>3</td>\n      <td>States' Minimum Wages Rise, Helping Millions o...</td>\n      <td>For some low-wage workers, everyday tasks like...</td>\n      <td>0.2960</td>\n      <td>-0.05160</td>\n      <td>1/1/2015</td>\n      <td>Business Day</td>\n      <td>Business</td>\n      <td>[]</td>\n      <td>[]</td>\n      <td>['Minimum Wage', 'States (US)']</td>\n      <td>['United States']</td>\n      <td>[]</td>\n      <td>0.2960</td>\n      <td>0.05160</td>\n    </tr>\n    <tr>\n      <th>3</th>\n      <td>4</td>\n      <td>New C.D.C. Job Overseeing Laboratory Safety</td>\n      <td>A new job title — chief of laboratory safety —...</td>\n      <td>0.4215</td>\n      <td>0.04162</td>\n      <td>1/1/2015</td>\n      <td>Health</td>\n      <td>National</td>\n      <td>['Centers for Disease Control and Prevention']</td>\n      <td>['McNeil, Donald G Jr', 'Frieden, Thomas R']</td>\n      <td>['Ebola Virus', 'Laboratories and Scientific E...</td>\n      <td>[]</td>\n      <td>[]</td>\n      <td>0.4215</td>\n      <td>0.04162</td>\n    </tr>\n    <tr>\n      <th>4</th>\n      <td>5</td>\n      <td>Massachusetts: New Effort to Move Bombings Trial</td>\n      <td>Lawyers for Dzhokhar Tsarnaev, the defendant i...</td>\n      <td>0.0000</td>\n      <td>-0.29145</td>\n      <td>1/1/2015</td>\n      <td>U.S.</td>\n      <td>National</td>\n      <td>[]</td>\n      <td>['Tsarnaev, Dzhokhar A']</td>\n      <td>['Boston Marathon Bombings (2013)']</td>\n      <td>['Boston (Mass)']</td>\n      <td>[]</td>\n      <td>0.0000</td>\n      <td>0.29145</td>\n    </tr>\n    <tr>\n      <th>...</th>\n      <td>...</td>\n      <td>...</td>\n      <td>...</td>\n      <td>...</td>\n      <td>...</td>\n      <td>...</td>\n      <td>...</td>\n      <td>...</td>\n      <td>...</td>\n      <td>...</td>\n      <td>...</td>\n      <td>...</td>\n      <td>...</td>\n      <td>...</td>\n      <td>...</td>\n    </tr>\n    <tr>\n      <th>50567</th>\n      <td>50568</td>\n      <td>How Do You Turn an Ad Into a Meme? Two Words: ...</td>\n      <td>In 1995, a nation was rapt as three frogs croa...</td>\n      <td>0.0000</td>\n      <td>0.44040</td>\n      <td>12/31/2017</td>\n      <td>Business Day</td>\n      <td>Business</td>\n      <td>['Anheuser-Busch InBev NV']</td>\n      <td>[]</td>\n      <td>['ADVERTISING AND MARKETING', 'Beer']</td>\n      <td>[]</td>\n      <td>[]</td>\n      <td>0.0000</td>\n      <td>0.44040</td>\n    </tr>\n    <tr>\n      <th>50568</th>\n      <td>50569</td>\n      <td>Partisans, Wielding Money, Begin Seeking to Ex...</td>\n      <td>WASHINGTON — As the #MeToo movement to expose ...</td>\n      <td>-0.5994</td>\n      <td>-0.61240</td>\n      <td>12/31/2017</td>\n      <td>U.S.</td>\n      <td>National</td>\n      <td>[]</td>\n      <td>['Allred, Gloria', 'Bloom, Lisa (1961- )', 'Ce...</td>\n      <td>['United States Politics and Government', '#Me...</td>\n      <td>[]</td>\n      <td>[]</td>\n      <td>0.5994</td>\n      <td>0.61240</td>\n    </tr>\n    <tr>\n      <th>50569</th>\n      <td>50570</td>\n      <td>How Do You Vote? 50 Million Google Images Give...</td>\n      <td>What vehicle is most strongly associated with ...</td>\n      <td>0.0000</td>\n      <td>0.33840</td>\n      <td>12/31/2017</td>\n      <td>Technology</td>\n      <td>Business</td>\n      <td>['Google Street View', 'Stanford University']</td>\n      <td>[]</td>\n      <td>['Artificial Intelligence', 'Data-Mining and D...</td>\n      <td>['Casper (Wyo)', 'Burlington (Vt)', 'Chicago (...</td>\n      <td>[]</td>\n      <td>0.0000</td>\n      <td>0.33840</td>\n    </tr>\n    <tr>\n      <th>50570</th>\n      <td>50571</td>\n      <td>Democrats in High-Tax States Plot to Blunt Imp...</td>\n      <td>Democrats in high-cost, high-tax states are pl...</td>\n      <td>0.0000</td>\n      <td>0.00000</td>\n      <td>12/31/2017</td>\n      <td>Business Day</td>\n      <td>Business</td>\n      <td>['Democratic Party', 'Republican Party']</td>\n      <td>[]</td>\n      <td>['Tax Credits, Deductions and Exemptions', 'Ta...</td>\n      <td>['California', 'Connecticut', 'New Jersey', 'N...</td>\n      <td>[]</td>\n      <td>0.0000</td>\n      <td>0.00000</td>\n    </tr>\n    <tr>\n      <th>50571</th>\n      <td>50572</td>\n      <td>Fatal 'Swatting' Episode in Kansas Raises Quan...</td>\n      <td>When the police surrounded a house in Wichita,...</td>\n      <td>-0.7096</td>\n      <td>0.00000</td>\n      <td>12/31/2017</td>\n      <td>U.S.</td>\n      <td>National</td>\n      <td>[]</td>\n      <td>['Finch, Andrew (1989-2017)', 'Barriss, Tyler R']</td>\n      <td>['Police Brutality, Misconduct and Shootings',...</td>\n      <td>['Wichita (Kan)']</td>\n      <td>[]</td>\n      <td>0.7096</td>\n      <td>0.00000</td>\n    </tr>\n  </tbody>\n</table>\n<p>50572 rows × 15 columns</p>\n</div>"
     },
     "metadata": {},
     "execution_count": 10
    }
   ],
   "source": [
    "# Import sentiment scores\n",
    "path_scores = \"static/data/headlines_scores_keywords.csv\"\n",
    "df_scores = pd.read_csv(path_scores)\n",
    "df_scores"
   ]
  },
  {
   "cell_type": "code",
   "execution_count": 11,
   "metadata": {},
   "outputs": [
    {
     "output_type": "execute_result",
     "data": {
      "text/plain": [
       "         nid        country          state  year     month   weekday  \\\n",
       "0          2  United States      Louisiana  2015   January  Thursday   \n",
       "1          3  United States            NaN  2015   January  Thursday   \n",
       "2          5  United States  Massachusetts  2015   January  Thursday   \n",
       "3          6  United States          Texas  2015   January  Thursday   \n",
       "4         11  United States       New York  2015   January  Thursday   \n",
       "...      ...            ...            ...   ...       ...       ...   \n",
       "15625  50563  United States       Colorado  2017  December    Sunday   \n",
       "15626  50564  United States          Maine  2017  December    Sunday   \n",
       "15627  50570  United States     California  2017  December    Sunday   \n",
       "15628  50571  United States       New York  2017  December    Sunday   \n",
       "15629  50572  United States         Kansas  2017  December    Sunday   \n",
       "\n",
       "      headline_score article_score  \n",
       "0                                   \n",
       "1                                   \n",
       "2                                   \n",
       "3                                   \n",
       "4                                   \n",
       "...              ...           ...  \n",
       "15625                               \n",
       "15626                               \n",
       "15627                               \n",
       "15628                               \n",
       "15629                               \n",
       "\n",
       "[15630 rows x 8 columns]"
      ],
      "text/html": "<div>\n<style scoped>\n    .dataframe tbody tr th:only-of-type {\n        vertical-align: middle;\n    }\n\n    .dataframe tbody tr th {\n        vertical-align: top;\n    }\n\n    .dataframe thead th {\n        text-align: right;\n    }\n</style>\n<table border=\"1\" class=\"dataframe\">\n  <thead>\n    <tr style=\"text-align: right;\">\n      <th></th>\n      <th>nid</th>\n      <th>country</th>\n      <th>state</th>\n      <th>year</th>\n      <th>month</th>\n      <th>weekday</th>\n      <th>headline_score</th>\n      <th>article_score</th>\n    </tr>\n  </thead>\n  <tbody>\n    <tr>\n      <th>0</th>\n      <td>2</td>\n      <td>United States</td>\n      <td>Louisiana</td>\n      <td>2015</td>\n      <td>January</td>\n      <td>Thursday</td>\n      <td></td>\n      <td></td>\n    </tr>\n    <tr>\n      <th>1</th>\n      <td>3</td>\n      <td>United States</td>\n      <td>NaN</td>\n      <td>2015</td>\n      <td>January</td>\n      <td>Thursday</td>\n      <td></td>\n      <td></td>\n    </tr>\n    <tr>\n      <th>2</th>\n      <td>5</td>\n      <td>United States</td>\n      <td>Massachusetts</td>\n      <td>2015</td>\n      <td>January</td>\n      <td>Thursday</td>\n      <td></td>\n      <td></td>\n    </tr>\n    <tr>\n      <th>3</th>\n      <td>6</td>\n      <td>United States</td>\n      <td>Texas</td>\n      <td>2015</td>\n      <td>January</td>\n      <td>Thursday</td>\n      <td></td>\n      <td></td>\n    </tr>\n    <tr>\n      <th>4</th>\n      <td>11</td>\n      <td>United States</td>\n      <td>New York</td>\n      <td>2015</td>\n      <td>January</td>\n      <td>Thursday</td>\n      <td></td>\n      <td></td>\n    </tr>\n    <tr>\n      <th>...</th>\n      <td>...</td>\n      <td>...</td>\n      <td>...</td>\n      <td>...</td>\n      <td>...</td>\n      <td>...</td>\n      <td>...</td>\n      <td>...</td>\n    </tr>\n    <tr>\n      <th>15625</th>\n      <td>50563</td>\n      <td>United States</td>\n      <td>Colorado</td>\n      <td>2017</td>\n      <td>December</td>\n      <td>Sunday</td>\n      <td></td>\n      <td></td>\n    </tr>\n    <tr>\n      <th>15626</th>\n      <td>50564</td>\n      <td>United States</td>\n      <td>Maine</td>\n      <td>2017</td>\n      <td>December</td>\n      <td>Sunday</td>\n      <td></td>\n      <td></td>\n    </tr>\n    <tr>\n      <th>15627</th>\n      <td>50570</td>\n      <td>United States</td>\n      <td>California</td>\n      <td>2017</td>\n      <td>December</td>\n      <td>Sunday</td>\n      <td></td>\n      <td></td>\n    </tr>\n    <tr>\n      <th>15628</th>\n      <td>50571</td>\n      <td>United States</td>\n      <td>New York</td>\n      <td>2017</td>\n      <td>December</td>\n      <td>Sunday</td>\n      <td></td>\n      <td></td>\n    </tr>\n    <tr>\n      <th>15629</th>\n      <td>50572</td>\n      <td>United States</td>\n      <td>Kansas</td>\n      <td>2017</td>\n      <td>December</td>\n      <td>Sunday</td>\n      <td></td>\n      <td></td>\n    </tr>\n  </tbody>\n</table>\n<p>15630 rows × 8 columns</p>\n</div>"
     },
     "metadata": {},
     "execution_count": 11
    }
   ],
   "source": [
    "# Add scores to locations dataframe\n",
    "df['headline_score'] = \" \"\n",
    "df['article_score'] = \" \"\n",
    "df = df[['nid', 'country', 'state', 'year', 'month', 'weekday', 'headline_score', 'article_score']] \n",
    "df"
   ]
  },
  {
   "cell_type": "code",
   "execution_count": 12,
   "metadata": {},
   "outputs": [
    {
     "output_type": "execute_result",
     "data": {
      "text/plain": [
       "   nid        country          state  year    month   weekday  headline_score  \\\n",
       "0    2  United States      Louisiana  2015  January  Thursday           0.000   \n",
       "1    3  United States            NaN  2015  January  Thursday           0.296   \n",
       "2    5  United States  Massachusetts  2015  January  Thursday           0.000   \n",
       "3    6  United States          Texas  2015  January  Thursday           0.000   \n",
       "4   11  United States       New York  2015  January  Thursday           0.000   \n",
       "\n",
       "   article_score  \n",
       "0        0.12800  \n",
       "1       -0.05160  \n",
       "2       -0.29145  \n",
       "3       -0.67050  \n",
       "4        0.58590  "
      ],
      "text/html": "<div>\n<style scoped>\n    .dataframe tbody tr th:only-of-type {\n        vertical-align: middle;\n    }\n\n    .dataframe tbody tr th {\n        vertical-align: top;\n    }\n\n    .dataframe thead th {\n        text-align: right;\n    }\n</style>\n<table border=\"1\" class=\"dataframe\">\n  <thead>\n    <tr style=\"text-align: right;\">\n      <th></th>\n      <th>nid</th>\n      <th>country</th>\n      <th>state</th>\n      <th>year</th>\n      <th>month</th>\n      <th>weekday</th>\n      <th>headline_score</th>\n      <th>article_score</th>\n    </tr>\n  </thead>\n  <tbody>\n    <tr>\n      <th>0</th>\n      <td>2</td>\n      <td>United States</td>\n      <td>Louisiana</td>\n      <td>2015</td>\n      <td>January</td>\n      <td>Thursday</td>\n      <td>0.000</td>\n      <td>0.12800</td>\n    </tr>\n    <tr>\n      <th>1</th>\n      <td>3</td>\n      <td>United States</td>\n      <td>NaN</td>\n      <td>2015</td>\n      <td>January</td>\n      <td>Thursday</td>\n      <td>0.296</td>\n      <td>-0.05160</td>\n    </tr>\n    <tr>\n      <th>2</th>\n      <td>5</td>\n      <td>United States</td>\n      <td>Massachusetts</td>\n      <td>2015</td>\n      <td>January</td>\n      <td>Thursday</td>\n      <td>0.000</td>\n      <td>-0.29145</td>\n    </tr>\n    <tr>\n      <th>3</th>\n      <td>6</td>\n      <td>United States</td>\n      <td>Texas</td>\n      <td>2015</td>\n      <td>January</td>\n      <td>Thursday</td>\n      <td>0.000</td>\n      <td>-0.67050</td>\n    </tr>\n    <tr>\n      <th>4</th>\n      <td>11</td>\n      <td>United States</td>\n      <td>New York</td>\n      <td>2015</td>\n      <td>January</td>\n      <td>Thursday</td>\n      <td>0.000</td>\n      <td>0.58590</td>\n    </tr>\n  </tbody>\n</table>\n</div>"
     },
     "metadata": {},
     "execution_count": 12
    }
   ],
   "source": [
    "# Fetch headline and article sentiment scores for countries dataset\n",
    "df['headline_score'] = df.nid.map(df_scores.set_index('nid')['headline_score'].to_dict())\n",
    "df['article_score'] = df.nid.map(df_scores.set_index('nid')['article_score'].to_dict())\n",
    "df.head()"
   ]
  },
  {
   "cell_type": "code",
   "execution_count": 13,
   "metadata": {},
   "outputs": [
    {
     "output_type": "execute_result",
     "data": {
      "text/plain": [
       "         nid        country country_ISO_code          state US_state_code  \\\n",
       "0          2  United States                       Louisiana                 \n",
       "1          3  United States                             NaN                 \n",
       "2          5  United States                   Massachusetts                 \n",
       "3          6  United States                           Texas                 \n",
       "4         11  United States                        New York                 \n",
       "...      ...            ...              ...            ...           ...   \n",
       "15625  50563  United States                        Colorado                 \n",
       "15626  50564  United States                           Maine                 \n",
       "15627  50570  United States                      California                 \n",
       "15628  50571  United States                        New York                 \n",
       "15629  50572  United States                          Kansas                 \n",
       "\n",
       "       year     month   weekday  headline_score  article_score  \n",
       "0      2015   January  Thursday          0.0000       0.128000  \n",
       "1      2015   January  Thursday          0.2960      -0.051600  \n",
       "2      2015   January  Thursday          0.0000      -0.291450  \n",
       "3      2015   January  Thursday          0.0000      -0.670500  \n",
       "4      2015   January  Thursday          0.0000       0.585900  \n",
       "...     ...       ...       ...             ...            ...  \n",
       "15625  2017  December    Sunday         -0.6369      -0.630833  \n",
       "15626  2017  December    Sunday         -0.5023       0.700300  \n",
       "15627  2017  December    Sunday          0.0000       0.338400  \n",
       "15628  2017  December    Sunday          0.0000       0.000000  \n",
       "15629  2017  December    Sunday         -0.7096       0.000000  \n",
       "\n",
       "[15630 rows x 10 columns]"
      ],
      "text/html": "<div>\n<style scoped>\n    .dataframe tbody tr th:only-of-type {\n        vertical-align: middle;\n    }\n\n    .dataframe tbody tr th {\n        vertical-align: top;\n    }\n\n    .dataframe thead th {\n        text-align: right;\n    }\n</style>\n<table border=\"1\" class=\"dataframe\">\n  <thead>\n    <tr style=\"text-align: right;\">\n      <th></th>\n      <th>nid</th>\n      <th>country</th>\n      <th>country_ISO_code</th>\n      <th>state</th>\n      <th>US_state_code</th>\n      <th>year</th>\n      <th>month</th>\n      <th>weekday</th>\n      <th>headline_score</th>\n      <th>article_score</th>\n    </tr>\n  </thead>\n  <tbody>\n    <tr>\n      <th>0</th>\n      <td>2</td>\n      <td>United States</td>\n      <td></td>\n      <td>Louisiana</td>\n      <td></td>\n      <td>2015</td>\n      <td>January</td>\n      <td>Thursday</td>\n      <td>0.0000</td>\n      <td>0.128000</td>\n    </tr>\n    <tr>\n      <th>1</th>\n      <td>3</td>\n      <td>United States</td>\n      <td></td>\n      <td>NaN</td>\n      <td></td>\n      <td>2015</td>\n      <td>January</td>\n      <td>Thursday</td>\n      <td>0.2960</td>\n      <td>-0.051600</td>\n    </tr>\n    <tr>\n      <th>2</th>\n      <td>5</td>\n      <td>United States</td>\n      <td></td>\n      <td>Massachusetts</td>\n      <td></td>\n      <td>2015</td>\n      <td>January</td>\n      <td>Thursday</td>\n      <td>0.0000</td>\n      <td>-0.291450</td>\n    </tr>\n    <tr>\n      <th>3</th>\n      <td>6</td>\n      <td>United States</td>\n      <td></td>\n      <td>Texas</td>\n      <td></td>\n      <td>2015</td>\n      <td>January</td>\n      <td>Thursday</td>\n      <td>0.0000</td>\n      <td>-0.670500</td>\n    </tr>\n    <tr>\n      <th>4</th>\n      <td>11</td>\n      <td>United States</td>\n      <td></td>\n      <td>New York</td>\n      <td></td>\n      <td>2015</td>\n      <td>January</td>\n      <td>Thursday</td>\n      <td>0.0000</td>\n      <td>0.585900</td>\n    </tr>\n    <tr>\n      <th>...</th>\n      <td>...</td>\n      <td>...</td>\n      <td>...</td>\n      <td>...</td>\n      <td>...</td>\n      <td>...</td>\n      <td>...</td>\n      <td>...</td>\n      <td>...</td>\n      <td>...</td>\n    </tr>\n    <tr>\n      <th>15625</th>\n      <td>50563</td>\n      <td>United States</td>\n      <td></td>\n      <td>Colorado</td>\n      <td></td>\n      <td>2017</td>\n      <td>December</td>\n      <td>Sunday</td>\n      <td>-0.6369</td>\n      <td>-0.630833</td>\n    </tr>\n    <tr>\n      <th>15626</th>\n      <td>50564</td>\n      <td>United States</td>\n      <td></td>\n      <td>Maine</td>\n      <td></td>\n      <td>2017</td>\n      <td>December</td>\n      <td>Sunday</td>\n      <td>-0.5023</td>\n      <td>0.700300</td>\n    </tr>\n    <tr>\n      <th>15627</th>\n      <td>50570</td>\n      <td>United States</td>\n      <td></td>\n      <td>California</td>\n      <td></td>\n      <td>2017</td>\n      <td>December</td>\n      <td>Sunday</td>\n      <td>0.0000</td>\n      <td>0.338400</td>\n    </tr>\n    <tr>\n      <th>15628</th>\n      <td>50571</td>\n      <td>United States</td>\n      <td></td>\n      <td>New York</td>\n      <td></td>\n      <td>2017</td>\n      <td>December</td>\n      <td>Sunday</td>\n      <td>0.0000</td>\n      <td>0.000000</td>\n    </tr>\n    <tr>\n      <th>15629</th>\n      <td>50572</td>\n      <td>United States</td>\n      <td></td>\n      <td>Kansas</td>\n      <td></td>\n      <td>2017</td>\n      <td>December</td>\n      <td>Sunday</td>\n      <td>-0.7096</td>\n      <td>0.000000</td>\n    </tr>\n  </tbody>\n</table>\n<p>15630 rows × 10 columns</p>\n</div>"
     },
     "metadata": {},
     "execution_count": 13
    }
   ],
   "source": [
    "# Add country code and state code columns to dataframe\n",
    "df['country_ISO_code'] = \" \"\n",
    "df['US_state_code'] = \" \"\n",
    "df = df[['nid', 'country', 'country_ISO_code', 'state', 'US_state_code', 'year', 'month', 'weekday', 'headline_score', 'article_score']] \n",
    "df"
   ]
  },
  {
   "cell_type": "code",
   "execution_count": 16,
   "metadata": {},
   "outputs": [
    {
     "output_type": "execute_result",
     "data": {
      "text/plain": [
       "         nid        country country_ISO_code          state US_state_code  \\\n",
       "0          2  United States              USA      Louisiana            LA   \n",
       "1          3  United States              USA            NaN           NaN   \n",
       "2          5  United States              USA  Massachusetts            MA   \n",
       "3          6  United States              USA          Texas            TX   \n",
       "4         11  United States              USA       New York            NY   \n",
       "...      ...            ...              ...            ...           ...   \n",
       "15625  50563  United States              USA       Colorado            CO   \n",
       "15626  50564  United States              USA          Maine            ME   \n",
       "15627  50570  United States              USA     California            CA   \n",
       "15628  50571  United States              USA       New York            NY   \n",
       "15629  50572  United States              USA         Kansas            KS   \n",
       "\n",
       "       year     month   weekday  headline_score  article_score  \n",
       "0      2015   January  Thursday          0.0000       0.128000  \n",
       "1      2015   January  Thursday          0.2960      -0.051600  \n",
       "2      2015   January  Thursday          0.0000      -0.291450  \n",
       "3      2015   January  Thursday          0.0000      -0.670500  \n",
       "4      2015   January  Thursday          0.0000       0.585900  \n",
       "...     ...       ...       ...             ...            ...  \n",
       "15625  2017  December    Sunday         -0.6369      -0.630833  \n",
       "15626  2017  December    Sunday         -0.5023       0.700300  \n",
       "15627  2017  December    Sunday          0.0000       0.338400  \n",
       "15628  2017  December    Sunday          0.0000       0.000000  \n",
       "15629  2017  December    Sunday         -0.7096       0.000000  \n",
       "\n",
       "[15630 rows x 10 columns]"
      ],
      "text/html": "<div>\n<style scoped>\n    .dataframe tbody tr th:only-of-type {\n        vertical-align: middle;\n    }\n\n    .dataframe tbody tr th {\n        vertical-align: top;\n    }\n\n    .dataframe thead th {\n        text-align: right;\n    }\n</style>\n<table border=\"1\" class=\"dataframe\">\n  <thead>\n    <tr style=\"text-align: right;\">\n      <th></th>\n      <th>nid</th>\n      <th>country</th>\n      <th>country_ISO_code</th>\n      <th>state</th>\n      <th>US_state_code</th>\n      <th>year</th>\n      <th>month</th>\n      <th>weekday</th>\n      <th>headline_score</th>\n      <th>article_score</th>\n    </tr>\n  </thead>\n  <tbody>\n    <tr>\n      <th>0</th>\n      <td>2</td>\n      <td>United States</td>\n      <td>USA</td>\n      <td>Louisiana</td>\n      <td>LA</td>\n      <td>2015</td>\n      <td>January</td>\n      <td>Thursday</td>\n      <td>0.0000</td>\n      <td>0.128000</td>\n    </tr>\n    <tr>\n      <th>1</th>\n      <td>3</td>\n      <td>United States</td>\n      <td>USA</td>\n      <td>NaN</td>\n      <td>NaN</td>\n      <td>2015</td>\n      <td>January</td>\n      <td>Thursday</td>\n      <td>0.2960</td>\n      <td>-0.051600</td>\n    </tr>\n    <tr>\n      <th>2</th>\n      <td>5</td>\n      <td>United States</td>\n      <td>USA</td>\n      <td>Massachusetts</td>\n      <td>MA</td>\n      <td>2015</td>\n      <td>January</td>\n      <td>Thursday</td>\n      <td>0.0000</td>\n      <td>-0.291450</td>\n    </tr>\n    <tr>\n      <th>3</th>\n      <td>6</td>\n      <td>United States</td>\n      <td>USA</td>\n      <td>Texas</td>\n      <td>TX</td>\n      <td>2015</td>\n      <td>January</td>\n      <td>Thursday</td>\n      <td>0.0000</td>\n      <td>-0.670500</td>\n    </tr>\n    <tr>\n      <th>4</th>\n      <td>11</td>\n      <td>United States</td>\n      <td>USA</td>\n      <td>New York</td>\n      <td>NY</td>\n      <td>2015</td>\n      <td>January</td>\n      <td>Thursday</td>\n      <td>0.0000</td>\n      <td>0.585900</td>\n    </tr>\n    <tr>\n      <th>...</th>\n      <td>...</td>\n      <td>...</td>\n      <td>...</td>\n      <td>...</td>\n      <td>...</td>\n      <td>...</td>\n      <td>...</td>\n      <td>...</td>\n      <td>...</td>\n      <td>...</td>\n    </tr>\n    <tr>\n      <th>15625</th>\n      <td>50563</td>\n      <td>United States</td>\n      <td>USA</td>\n      <td>Colorado</td>\n      <td>CO</td>\n      <td>2017</td>\n      <td>December</td>\n      <td>Sunday</td>\n      <td>-0.6369</td>\n      <td>-0.630833</td>\n    </tr>\n    <tr>\n      <th>15626</th>\n      <td>50564</td>\n      <td>United States</td>\n      <td>USA</td>\n      <td>Maine</td>\n      <td>ME</td>\n      <td>2017</td>\n      <td>December</td>\n      <td>Sunday</td>\n      <td>-0.5023</td>\n      <td>0.700300</td>\n    </tr>\n    <tr>\n      <th>15627</th>\n      <td>50570</td>\n      <td>United States</td>\n      <td>USA</td>\n      <td>California</td>\n      <td>CA</td>\n      <td>2017</td>\n      <td>December</td>\n      <td>Sunday</td>\n      <td>0.0000</td>\n      <td>0.338400</td>\n    </tr>\n    <tr>\n      <th>15628</th>\n      <td>50571</td>\n      <td>United States</td>\n      <td>USA</td>\n      <td>New York</td>\n      <td>NY</td>\n      <td>2017</td>\n      <td>December</td>\n      <td>Sunday</td>\n      <td>0.0000</td>\n      <td>0.000000</td>\n    </tr>\n    <tr>\n      <th>15629</th>\n      <td>50572</td>\n      <td>United States</td>\n      <td>USA</td>\n      <td>Kansas</td>\n      <td>KS</td>\n      <td>2017</td>\n      <td>December</td>\n      <td>Sunday</td>\n      <td>-0.7096</td>\n      <td>0.000000</td>\n    </tr>\n  </tbody>\n</table>\n<p>15630 rows × 10 columns</p>\n</div>"
     },
     "metadata": {},
     "execution_count": 16
    }
   ],
   "source": [
    "# Get ISO country codes from \"pycountry\" library\n",
    "# Get US state codes from \"us\" library\n",
    "\n",
    "for i in range(len(df)):\n",
    "    country = df['country'][i]\n",
    "    try:\n",
    "        result_c = pycountry.countries.search_fuzzy(country)[0].alpha_3 \n",
    "    except:\n",
    "        result_c = np.NaN\n",
    "    df['country_ISO_code'][i] = result_c   \n",
    "\n",
    "\n",
    "    state = df['state'][i]\n",
    "    try:\n",
    "        result_s = us.states.lookup(state).abbr\n",
    "    except:  \n",
    "        result_s = np.NaN  \n",
    "    df['US_state_code'][i] = result_s\n",
    "    \n",
    "df"
   ]
  },
  {
   "cell_type": "code",
   "execution_count": 18,
   "metadata": {},
   "outputs": [],
   "source": [
    "# Convert to CSV to save news location data with sentiment data and dates\n",
    "\n",
    "df.to_csv(\"static/data/choropleth_locations3_all_sentiment.csv\", index=False)"
   ]
  }
 ]
}