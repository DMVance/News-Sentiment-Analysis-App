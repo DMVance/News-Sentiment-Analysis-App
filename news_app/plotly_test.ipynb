{
 "cells": [
  {
   "cell_type": "code",
   "execution_count": 17,
   "metadata": {},
   "outputs": [],
   "source": [
    "import plotly.graph_objects as go\n",
    "import csv\n",
    "import os\n",
    "import json\n",
    "import calmap\n",
    "import pandas as pd\n",
    "from datetime import datetime\n",
    "\n",
    "%reload_ext lab_black"
   ]
  },
  {
   "cell_type": "code",
   "execution_count": 13,
   "metadata": {},
   "outputs": [],
   "source": [
    "FILE_PATH = os.path.join(\"static\", \"data\", \"headlines_scores_keywords.csv\")"
   ]
  },
  {
   "cell_type": "code",
   "execution_count": 2,
   "metadata": {},
   "outputs": [],
   "source": [
    "def load_data():\n",
    "    with open(os.path.join(\"static\", \"data\", \"headlines_scores_keywords.csv\")) as file:\n",
    "        dict_reader = csv.DictReader(file)\n",
    "        return list(dict_reader)"
   ]
  },
  {
   "cell_type": "code",
   "execution_count": 9,
   "metadata": {},
   "outputs": [],
   "source": [
    "def article_vs_headline_plot():\n",
    "    data = load_data()\n",
    "\n",
    "    trace1 = {\n",
    "        \"x\": [d[\"headline_score\"] for d in data],\n",
    "        \"y\": [d[\"article_score\"] for d in data],\n",
    "        \"mode\": \"markers\",\n",
    "    }\n",
    "\n",
    "    plot_data = [trace1]\n",
    "\n",
    "    plot_layout = {\"title\": \"Headline vs Article Scores\"}\n",
    "\n",
    "    return plot_data, plot_layout"
   ]
  },
  {
   "cell_type": "code",
   "execution_count": 4,
   "metadata": {},
   "outputs": [],
   "source": [
    "data, layout = article_vs_headline_plot()\n",
    "\n",
    "fig = go.Figure(data=data, layout=layout)"
   ]
  },
  {
   "cell_type": "code",
   "execution_count": null,
   "metadata": {},
   "outputs": [],
   "source": [
    "fig.show()"
   ]
  },
  {
   "cell_type": "code",
   "execution_count": 19,
   "metadata": {},
   "outputs": [
    {
     "data": {
      "text/html": [
       "<div>\n",
       "<style scoped>\n",
       "    .dataframe tbody tr th:only-of-type {\n",
       "        vertical-align: middle;\n",
       "    }\n",
       "\n",
       "    .dataframe tbody tr th {\n",
       "        vertical-align: top;\n",
       "    }\n",
       "\n",
       "    .dataframe thead th {\n",
       "        text-align: right;\n",
       "    }\n",
       "</style>\n",
       "<table border=\"1\" class=\"dataframe\">\n",
       "  <thead>\n",
       "    <tr style=\"text-align: right;\">\n",
       "      <th></th>\n",
       "      <th>headline</th>\n",
       "      <th>article</th>\n",
       "      <th>headline_score</th>\n",
       "      <th>article_score</th>\n",
       "      <th>pub_date</th>\n",
       "      <th>section_name</th>\n",
       "      <th>news_desk</th>\n",
       "      <th>organizations</th>\n",
       "      <th>persons</th>\n",
       "      <th>subject</th>\n",
       "      <th>glocations</th>\n",
       "      <th>creative_works</th>\n",
       "    </tr>\n",
       "  </thead>\n",
       "  <tbody>\n",
       "    <tr>\n",
       "      <th>0</th>\n",
       "      <td>Standouts in Tech: Drones, Virtual Reality, In...</td>\n",
       "      <td>LOTS of cool new technology products come out ...</td>\n",
       "      <td>0.0000</td>\n",
       "      <td>0.055167</td>\n",
       "      <td>2015-01-01</td>\n",
       "      <td>Technology</td>\n",
       "      <td>Business</td>\n",
       "      <td>['Oculus VR Inc', 'Skype Technologies', 'DJI I...</td>\n",
       "      <td>['Manjoo, Farhad']</td>\n",
       "      <td>['Virtual Reality (Computers)', 'Computers and...</td>\n",
       "      <td>[]</td>\n",
       "      <td>[]</td>\n",
       "    </tr>\n",
       "    <tr>\n",
       "      <th>1</th>\n",
       "      <td>Much of David Duke's '91 Campaign Is Now in Lo...</td>\n",
       "      <td>BATON ROUGE, La. — David Duke seems a figure f...</td>\n",
       "      <td>0.0000</td>\n",
       "      <td>0.064000</td>\n",
       "      <td>2015-01-01</td>\n",
       "      <td>U.S.</td>\n",
       "      <td>National</td>\n",
       "      <td>[]</td>\n",
       "      <td>['Alford, Jeremy', 'Duke, David E', 'Scalise, ...</td>\n",
       "      <td>['Blacks', 'Black People', 'Race and Ethnicity...</td>\n",
       "      <td>['Louisiana']</td>\n",
       "      <td>[]</td>\n",
       "    </tr>\n",
       "    <tr>\n",
       "      <th>2</th>\n",
       "      <td>States' Minimum Wages Rise, Helping Millions o...</td>\n",
       "      <td>For some low-wage workers, everyday tasks like...</td>\n",
       "      <td>0.2960</td>\n",
       "      <td>-0.051600</td>\n",
       "      <td>2015-01-01</td>\n",
       "      <td>Business Day</td>\n",
       "      <td>Business</td>\n",
       "      <td>[]</td>\n",
       "      <td>[]</td>\n",
       "      <td>['Minimum Wage', 'States (US)']</td>\n",
       "      <td>['United States']</td>\n",
       "      <td>[]</td>\n",
       "    </tr>\n",
       "    <tr>\n",
       "      <th>3</th>\n",
       "      <td>New C.D.C. Job Overseeing Laboratory Safety</td>\n",
       "      <td>A new job title — chief of laboratory safety —...</td>\n",
       "      <td>0.4215</td>\n",
       "      <td>0.026012</td>\n",
       "      <td>2015-01-01</td>\n",
       "      <td>Health</td>\n",
       "      <td>National</td>\n",
       "      <td>['Centers for Disease Control and Prevention']</td>\n",
       "      <td>['McNeil, Donald G Jr', 'Frieden, Thomas R']</td>\n",
       "      <td>['Ebola Virus', 'Laboratories and Scientific E...</td>\n",
       "      <td>[]</td>\n",
       "      <td>[]</td>\n",
       "    </tr>\n",
       "    <tr>\n",
       "      <th>4</th>\n",
       "      <td>Massachusetts: New Effort to Move Bombings Trial</td>\n",
       "      <td>Lawyers for Dzhokhar Tsarnaev, the defendant i...</td>\n",
       "      <td>0.0000</td>\n",
       "      <td>-0.194300</td>\n",
       "      <td>2015-01-01</td>\n",
       "      <td>U.S.</td>\n",
       "      <td>National</td>\n",
       "      <td>[]</td>\n",
       "      <td>['Tsarnaev, Dzhokhar A']</td>\n",
       "      <td>['Boston Marathon Bombings (2013)']</td>\n",
       "      <td>['Boston (Mass)']</td>\n",
       "      <td>[]</td>\n",
       "    </tr>\n",
       "  </tbody>\n",
       "</table>\n",
       "</div>"
      ],
      "text/plain": [
       "                                            headline  \\\n",
       "0  Standouts in Tech: Drones, Virtual Reality, In...   \n",
       "1  Much of David Duke's '91 Campaign Is Now in Lo...   \n",
       "2  States' Minimum Wages Rise, Helping Millions o...   \n",
       "3       New C.D.C. Job Overseeing Laboratory Safety    \n",
       "4   Massachusetts: New Effort to Move Bombings Trial   \n",
       "\n",
       "                                             article  headline_score  \\\n",
       "0  LOTS of cool new technology products come out ...          0.0000   \n",
       "1  BATON ROUGE, La. — David Duke seems a figure f...          0.0000   \n",
       "2  For some low-wage workers, everyday tasks like...          0.2960   \n",
       "3  A new job title — chief of laboratory safety —...          0.4215   \n",
       "4  Lawyers for Dzhokhar Tsarnaev, the defendant i...          0.0000   \n",
       "\n",
       "   article_score    pub_date  section_name news_desk  \\\n",
       "0       0.055167  2015-01-01    Technology  Business   \n",
       "1       0.064000  2015-01-01          U.S.  National   \n",
       "2      -0.051600  2015-01-01  Business Day  Business   \n",
       "3       0.026012  2015-01-01        Health  National   \n",
       "4      -0.194300  2015-01-01          U.S.  National   \n",
       "\n",
       "                                       organizations  \\\n",
       "0  ['Oculus VR Inc', 'Skype Technologies', 'DJI I...   \n",
       "1                                                 []   \n",
       "2                                                 []   \n",
       "3     ['Centers for Disease Control and Prevention']   \n",
       "4                                                 []   \n",
       "\n",
       "                                             persons  \\\n",
       "0                                 ['Manjoo, Farhad']   \n",
       "1  ['Alford, Jeremy', 'Duke, David E', 'Scalise, ...   \n",
       "2                                                 []   \n",
       "3       ['McNeil, Donald G Jr', 'Frieden, Thomas R']   \n",
       "4                           ['Tsarnaev, Dzhokhar A']   \n",
       "\n",
       "                                             subject         glocations  \\\n",
       "0  ['Virtual Reality (Computers)', 'Computers and...                 []   \n",
       "1  ['Blacks', 'Black People', 'Race and Ethnicity...      ['Louisiana']   \n",
       "2                    ['Minimum Wage', 'States (US)']  ['United States']   \n",
       "3  ['Ebola Virus', 'Laboratories and Scientific E...                 []   \n",
       "4                ['Boston Marathon Bombings (2013)']  ['Boston (Mass)']   \n",
       "\n",
       "  creative_works  \n",
       "0             []  \n",
       "1             []  \n",
       "2             []  \n",
       "3             []  \n",
       "4             []  "
      ]
     },
     "execution_count": 19,
     "metadata": {},
     "output_type": "execute_result"
    }
   ],
   "source": [
    "df = pd.read_csv(FILE_PATH)\n",
    "df.head()"
   ]
  },
  {
   "cell_type": "code",
   "execution_count": 22,
   "metadata": {},
   "outputs": [
    {
     "data": {
      "text/plain": [
       "datetime.datetime(2015, 1, 1, 0, 0)"
      ]
     },
     "execution_count": 22,
     "metadata": {},
     "output_type": "execute_result"
    }
   ],
   "source": [
    "datetime.strptime(df.iloc[0, 4], \"%Y-%m-%d\")"
   ]
  },
  {
   "cell_type": "code",
   "execution_count": 25,
   "metadata": {},
   "outputs": [
    {
     "data": {
      "text/html": [
       "<div>\n",
       "<style scoped>\n",
       "    .dataframe tbody tr th:only-of-type {\n",
       "        vertical-align: middle;\n",
       "    }\n",
       "\n",
       "    .dataframe tbody tr th {\n",
       "        vertical-align: top;\n",
       "    }\n",
       "\n",
       "    .dataframe thead th {\n",
       "        text-align: right;\n",
       "    }\n",
       "</style>\n",
       "<table border=\"1\" class=\"dataframe\">\n",
       "  <thead>\n",
       "    <tr style=\"text-align: right;\">\n",
       "      <th></th>\n",
       "      <th>headline</th>\n",
       "      <th>article</th>\n",
       "      <th>headline_score</th>\n",
       "      <th>article_score</th>\n",
       "      <th>pub_date</th>\n",
       "      <th>section_name</th>\n",
       "      <th>news_desk</th>\n",
       "      <th>organizations</th>\n",
       "      <th>persons</th>\n",
       "      <th>subject</th>\n",
       "      <th>glocations</th>\n",
       "      <th>creative_works</th>\n",
       "      <th>datetime</th>\n",
       "    </tr>\n",
       "  </thead>\n",
       "  <tbody>\n",
       "    <tr>\n",
       "      <th>0</th>\n",
       "      <td>Standouts in Tech: Drones, Virtual Reality, In...</td>\n",
       "      <td>LOTS of cool new technology products come out ...</td>\n",
       "      <td>0.0000</td>\n",
       "      <td>0.055167</td>\n",
       "      <td>2015-01-01</td>\n",
       "      <td>Technology</td>\n",
       "      <td>Business</td>\n",
       "      <td>['Oculus VR Inc', 'Skype Technologies', 'DJI I...</td>\n",
       "      <td>['Manjoo, Farhad']</td>\n",
       "      <td>['Virtual Reality (Computers)', 'Computers and...</td>\n",
       "      <td>[]</td>\n",
       "      <td>[]</td>\n",
       "      <td>2015-01-01</td>\n",
       "    </tr>\n",
       "    <tr>\n",
       "      <th>1</th>\n",
       "      <td>Much of David Duke's '91 Campaign Is Now in Lo...</td>\n",
       "      <td>BATON ROUGE, La. — David Duke seems a figure f...</td>\n",
       "      <td>0.0000</td>\n",
       "      <td>0.064000</td>\n",
       "      <td>2015-01-01</td>\n",
       "      <td>U.S.</td>\n",
       "      <td>National</td>\n",
       "      <td>[]</td>\n",
       "      <td>['Alford, Jeremy', 'Duke, David E', 'Scalise, ...</td>\n",
       "      <td>['Blacks', 'Black People', 'Race and Ethnicity...</td>\n",
       "      <td>['Louisiana']</td>\n",
       "      <td>[]</td>\n",
       "      <td>2015-01-01</td>\n",
       "    </tr>\n",
       "    <tr>\n",
       "      <th>2</th>\n",
       "      <td>States' Minimum Wages Rise, Helping Millions o...</td>\n",
       "      <td>For some low-wage workers, everyday tasks like...</td>\n",
       "      <td>0.2960</td>\n",
       "      <td>-0.051600</td>\n",
       "      <td>2015-01-01</td>\n",
       "      <td>Business Day</td>\n",
       "      <td>Business</td>\n",
       "      <td>[]</td>\n",
       "      <td>[]</td>\n",
       "      <td>['Minimum Wage', 'States (US)']</td>\n",
       "      <td>['United States']</td>\n",
       "      <td>[]</td>\n",
       "      <td>2015-01-01</td>\n",
       "    </tr>\n",
       "    <tr>\n",
       "      <th>3</th>\n",
       "      <td>New C.D.C. Job Overseeing Laboratory Safety</td>\n",
       "      <td>A new job title — chief of laboratory safety —...</td>\n",
       "      <td>0.4215</td>\n",
       "      <td>0.026012</td>\n",
       "      <td>2015-01-01</td>\n",
       "      <td>Health</td>\n",
       "      <td>National</td>\n",
       "      <td>['Centers for Disease Control and Prevention']</td>\n",
       "      <td>['McNeil, Donald G Jr', 'Frieden, Thomas R']</td>\n",
       "      <td>['Ebola Virus', 'Laboratories and Scientific E...</td>\n",
       "      <td>[]</td>\n",
       "      <td>[]</td>\n",
       "      <td>2015-01-01</td>\n",
       "    </tr>\n",
       "    <tr>\n",
       "      <th>4</th>\n",
       "      <td>Massachusetts: New Effort to Move Bombings Trial</td>\n",
       "      <td>Lawyers for Dzhokhar Tsarnaev, the defendant i...</td>\n",
       "      <td>0.0000</td>\n",
       "      <td>-0.194300</td>\n",
       "      <td>2015-01-01</td>\n",
       "      <td>U.S.</td>\n",
       "      <td>National</td>\n",
       "      <td>[]</td>\n",
       "      <td>['Tsarnaev, Dzhokhar A']</td>\n",
       "      <td>['Boston Marathon Bombings (2013)']</td>\n",
       "      <td>['Boston (Mass)']</td>\n",
       "      <td>[]</td>\n",
       "      <td>2015-01-01</td>\n",
       "    </tr>\n",
       "  </tbody>\n",
       "</table>\n",
       "</div>"
      ],
      "text/plain": [
       "                                            headline  \\\n",
       "0  Standouts in Tech: Drones, Virtual Reality, In...   \n",
       "1  Much of David Duke's '91 Campaign Is Now in Lo...   \n",
       "2  States' Minimum Wages Rise, Helping Millions o...   \n",
       "3       New C.D.C. Job Overseeing Laboratory Safety    \n",
       "4   Massachusetts: New Effort to Move Bombings Trial   \n",
       "\n",
       "                                             article  headline_score  \\\n",
       "0  LOTS of cool new technology products come out ...          0.0000   \n",
       "1  BATON ROUGE, La. — David Duke seems a figure f...          0.0000   \n",
       "2  For some low-wage workers, everyday tasks like...          0.2960   \n",
       "3  A new job title — chief of laboratory safety —...          0.4215   \n",
       "4  Lawyers for Dzhokhar Tsarnaev, the defendant i...          0.0000   \n",
       "\n",
       "   article_score    pub_date  section_name news_desk  \\\n",
       "0       0.055167  2015-01-01    Technology  Business   \n",
       "1       0.064000  2015-01-01          U.S.  National   \n",
       "2      -0.051600  2015-01-01  Business Day  Business   \n",
       "3       0.026012  2015-01-01        Health  National   \n",
       "4      -0.194300  2015-01-01          U.S.  National   \n",
       "\n",
       "                                       organizations  \\\n",
       "0  ['Oculus VR Inc', 'Skype Technologies', 'DJI I...   \n",
       "1                                                 []   \n",
       "2                                                 []   \n",
       "3     ['Centers for Disease Control and Prevention']   \n",
       "4                                                 []   \n",
       "\n",
       "                                             persons  \\\n",
       "0                                 ['Manjoo, Farhad']   \n",
       "1  ['Alford, Jeremy', 'Duke, David E', 'Scalise, ...   \n",
       "2                                                 []   \n",
       "3       ['McNeil, Donald G Jr', 'Frieden, Thomas R']   \n",
       "4                           ['Tsarnaev, Dzhokhar A']   \n",
       "\n",
       "                                             subject         glocations  \\\n",
       "0  ['Virtual Reality (Computers)', 'Computers and...                 []   \n",
       "1  ['Blacks', 'Black People', 'Race and Ethnicity...      ['Louisiana']   \n",
       "2                    ['Minimum Wage', 'States (US)']  ['United States']   \n",
       "3  ['Ebola Virus', 'Laboratories and Scientific E...                 []   \n",
       "4                ['Boston Marathon Bombings (2013)']  ['Boston (Mass)']   \n",
       "\n",
       "  creative_works   datetime  \n",
       "0             [] 2015-01-01  \n",
       "1             [] 2015-01-01  \n",
       "2             [] 2015-01-01  \n",
       "3             [] 2015-01-01  \n",
       "4             [] 2015-01-01  "
      ]
     },
     "execution_count": 25,
     "metadata": {},
     "output_type": "execute_result"
    }
   ],
   "source": [
    "df[\"datetime\"] = df[\"pub_date\"].apply(lambda x: datetime.strptime(x, \"%Y-%m-%d\"))\n",
    "df.head()"
   ]
  },
  {
   "cell_type": "code",
   "execution_count": 38,
   "metadata": {},
   "outputs": [
    {
     "data": {
      "text/plain": [
       "numpy.float64"
      ]
     },
     "execution_count": 38,
     "metadata": {},
     "output_type": "execute_result"
    }
   ],
   "source": [
    "type(df.iloc[0, 2])"
   ]
  },
  {
   "cell_type": "code",
   "execution_count": 44,
   "metadata": {},
   "outputs": [
    {
     "data": {
      "text/plain": [
       "0.06916"
      ]
     },
     "execution_count": 44,
     "metadata": {},
     "output_type": "execute_result"
    }
   ],
   "source": [
    "d = df.iloc[0, 12]\n",
    "df[\"headline_score\"].loc[df[\"datetime\"] == d].mean()"
   ]
  },
  {
   "cell_type": "code",
   "execution_count": 45,
   "metadata": {},
   "outputs": [
    {
     "data": {
      "text/plain": [
       "array(['2015-01-01T00:00:00.000000000', '2015-01-02T00:00:00.000000000',\n",
       "       '2015-01-03T00:00:00.000000000', ...,\n",
       "       '2017-12-29T00:00:00.000000000', '2017-12-30T00:00:00.000000000',\n",
       "       '2017-12-31T00:00:00.000000000'], dtype='datetime64[ns]')"
      ]
     },
     "execution_count": 45,
     "metadata": {},
     "output_type": "execute_result"
    }
   ],
   "source": [
    "df[\"datetime\"].unique()"
   ]
  },
  {
   "cell_type": "code",
   "execution_count": 48,
   "metadata": {},
   "outputs": [
    {
     "data": {
      "text/plain": [
       "2015-01-01    0.069160\n",
       "2015-01-02    0.116831\n",
       "2015-01-03   -0.188720\n",
       "2015-01-04    0.019010\n",
       "2015-01-05    0.031238\n",
       "                ...   \n",
       "2017-12-27    0.016526\n",
       "2017-12-28    0.002845\n",
       "2017-12-29   -0.124172\n",
       "2017-12-30    0.118650\n",
       "2017-12-31   -0.106020\n",
       "Length: 1096, dtype: float64"
      ]
     },
     "execution_count": 48,
     "metadata": {},
     "output_type": "execute_result"
    }
   ],
   "source": [
    "avg_day_scores = []\n",
    "for day in df[\"datetime\"].unique():\n",
    "    avg_day_scores.append(df[\"headline_score\"].loc[df[\"datetime\"] == day].mean())\n",
    "\n",
    "date_series = pd.Series(data=avg_day_scores, index=df[\"datetime\"].unique())\n",
    "date_series"
   ]
  },
  {
   "cell_type": "code",
   "execution_count": 55,
   "metadata": {},
   "outputs": [
    {
     "data": {
      "image/png": "[encoded data removed]",
      "text/plain": [
       "<Figure size 576x288 with 3 Axes>"
      ]
     },
     "metadata": {
      "needs_background": "light"
     },
     "output_type": "display_data"
    }
   ],
   "source": [
    "fig2, axes = calmap.calendarplot(\n",
    "    date_series,\n",
    "    monthticks=3,\n",
    "    daylabels=\"MTWTFSS\",\n",
    "    dayticks=[0, 2, 4, 6],\n",
    "    cmap=\"YlGn\",\n",
    "    fillcolor=\"grey\",\n",
    "    linewidth=0,\n",
    "    fig_kws=dict(figsize=(8, 4)),\n",
    ")"
   ]
  },
  {
   "cell_type": "code",
   "execution_count": null,
   "metadata": {},
   "outputs": [],
   "source": []
  }
 ],
 "metadata": {
  "environment": {
   "name": "common-cpu.m54",
   "type": "gcloud",
   "uri": "gcr.io/deeplearning-platform-release/base-cpu:m54"
  },
  "kernelspec": {
   "display_name": "Python 3",
   "language": "python",
   "name": "python3"
  },
  "language_info": {
   "codemirror_mode": {
    "name": "ipython",
    "version": 3
   },
   "file_extension": ".py",
   "mimetype": "text/x-python",
   "name": "python",
   "nbconvert_exporter": "python",
   "pygments_lexer": "ipython3",
   "version": "3.7.8"
  }
 },
 "nbformat": 4,
 "nbformat_minor": 4
}
