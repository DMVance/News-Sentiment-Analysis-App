{
 "metadata": {
  "language_info": {
   "codemirror_mode": {
    "name": "ipython",
    "version": 3
   },
   "file_extension": ".py",
   "mimetype": "text/x-python",
   "name": "python",
   "nbconvert_exporter": "python",
   "pygments_lexer": "ipython3",
   "version": "3.7.9-final"
  },
  "orig_nbformat": 2,
  "kernelspec": {
   "name": "python3",
   "display_name": "Python 3.7.9 64-bit",
   "metadata": {
    "interpreter": {
     "hash": "2df1e4003806ce9bab66def2bed9543e8e058488774a2656ebbb27fd49bd41ea"
    }
   }
  }
 },
 "nbformat": 4,
 "nbformat_minor": 2,
 "cells": [
  {
   "source": [
    "# **Combining Location Data and Sentiment Scores for Geographic Heatmaps**"
   ],
   "cell_type": "markdown",
   "metadata": {}
  },
  {
   "cell_type": "code",
   "execution_count": 1,
   "metadata": {},
   "outputs": [
    {
     "output_type": "execute_result",
     "data": {
      "text/plain": [
       "         nid                     glocation        country          state  \\\n",
       "0          2                     Louisiana  United States      Louisiana   \n",
       "1          3                 United States  United States                  \n",
       "2          5                 Boston (Mass)  United States  Massachusetts   \n",
       "3          6                 Killeen (Tex)  United States          Texas   \n",
       "4         11  East Village (Manhattan, NY)  United States       New York   \n",
       "...      ...                           ...            ...            ...   \n",
       "16283  50563                 Denver (Colo)  United States       Colorado   \n",
       "16284  50564     Acadia National Park (Me)  United States          Maine   \n",
       "16285  50570         San Francisco (Calif)  United States     California   \n",
       "16286  50571                New York State  United States       New York   \n",
       "16287  50572                 Wichita (Kan)  United States         Kansas   \n",
       "\n",
       "                latitude           longitude    pub_date  year     month  \\\n",
       "0             30.9842977  -91.96233269999999  2015-01-01  2015   January   \n",
       "1               37.09024          -95.712891  2015-01-01  2015   January   \n",
       "2             42.3600825         -71.0588801  2015-01-01  2015   January   \n",
       "3             31.1171194  -97.72779589999999  2015-01-01  2015   January   \n",
       "4             40.7264773  -73.98153370000001  2015-01-01  2015   January   \n",
       "...                  ...                 ...         ...   ...       ...   \n",
       "16283         39.7392358         -104.990251  2015-11-13  2015  November   \n",
       "16284         44.3385559         -68.2733346  2015-11-13  2015  November   \n",
       "16285         37.7749295        -122.4194155  2015-11-13  2015  November   \n",
       "16286         43.2994285  -74.21793260000001  2015-11-13  2015  November   \n",
       "16287  37.68717609999999  -97.33005299999999  2015-11-13  2015  November   \n",
       "\n",
       "        weekday  \n",
       "0      Thursday  \n",
       "1      Thursday  \n",
       "2      Thursday  \n",
       "3      Thursday  \n",
       "4      Thursday  \n",
       "...         ...  \n",
       "16283    Friday  \n",
       "16284    Friday  \n",
       "16285    Friday  \n",
       "16286    Friday  \n",
       "16287    Friday  \n",
       "\n",
       "[16288 rows x 10 columns]"
      ],
      "text/html": "<div>\n<style scoped>\n    .dataframe tbody tr th:only-of-type {\n        vertical-align: middle;\n    }\n\n    .dataframe tbody tr th {\n        vertical-align: top;\n    }\n\n    .dataframe thead th {\n        text-align: right;\n    }\n</style>\n<table border=\"1\" class=\"dataframe\">\n  <thead>\n    <tr style=\"text-align: right;\">\n      <th></th>\n      <th>nid</th>\n      <th>glocation</th>\n      <th>country</th>\n      <th>state</th>\n      <th>latitude</th>\n      <th>longitude</th>\n      <th>pub_date</th>\n      <th>year</th>\n      <th>month</th>\n      <th>weekday</th>\n    </tr>\n  </thead>\n  <tbody>\n    <tr>\n      <th>0</th>\n      <td>2</td>\n      <td>Louisiana</td>\n      <td>United States</td>\n      <td>Louisiana</td>\n      <td>30.9842977</td>\n      <td>-91.96233269999999</td>\n      <td>2015-01-01</td>\n      <td>2015</td>\n      <td>January</td>\n      <td>Thursday</td>\n    </tr>\n    <tr>\n      <th>1</th>\n      <td>3</td>\n      <td>United States</td>\n      <td>United States</td>\n      <td></td>\n      <td>37.09024</td>\n      <td>-95.712891</td>\n      <td>2015-01-01</td>\n      <td>2015</td>\n      <td>January</td>\n      <td>Thursday</td>\n    </tr>\n    <tr>\n      <th>2</th>\n      <td>5</td>\n      <td>Boston (Mass)</td>\n      <td>United States</td>\n      <td>Massachusetts</td>\n      <td>42.3600825</td>\n      <td>-71.0588801</td>\n      <td>2015-01-01</td>\n      <td>2015</td>\n      <td>January</td>\n      <td>Thursday</td>\n    </tr>\n    <tr>\n      <th>3</th>\n      <td>6</td>\n      <td>Killeen (Tex)</td>\n      <td>United States</td>\n      <td>Texas</td>\n      <td>31.1171194</td>\n      <td>-97.72779589999999</td>\n      <td>2015-01-01</td>\n      <td>2015</td>\n      <td>January</td>\n      <td>Thursday</td>\n    </tr>\n    <tr>\n      <th>4</th>\n      <td>11</td>\n      <td>East Village (Manhattan, NY)</td>\n      <td>United States</td>\n      <td>New York</td>\n      <td>40.7264773</td>\n      <td>-73.98153370000001</td>\n      <td>2015-01-01</td>\n      <td>2015</td>\n      <td>January</td>\n      <td>Thursday</td>\n    </tr>\n    <tr>\n      <th>...</th>\n      <td>...</td>\n      <td>...</td>\n      <td>...</td>\n      <td>...</td>\n      <td>...</td>\n      <td>...</td>\n      <td>...</td>\n      <td>...</td>\n      <td>...</td>\n      <td>...</td>\n    </tr>\n    <tr>\n      <th>16283</th>\n      <td>50563</td>\n      <td>Denver (Colo)</td>\n      <td>United States</td>\n      <td>Colorado</td>\n      <td>39.7392358</td>\n      <td>-104.990251</td>\n      <td>2015-11-13</td>\n      <td>2015</td>\n      <td>November</td>\n      <td>Friday</td>\n    </tr>\n    <tr>\n      <th>16284</th>\n      <td>50564</td>\n      <td>Acadia National Park (Me)</td>\n      <td>United States</td>\n      <td>Maine</td>\n      <td>44.3385559</td>\n      <td>-68.2733346</td>\n      <td>2015-11-13</td>\n      <td>2015</td>\n      <td>November</td>\n      <td>Friday</td>\n    </tr>\n    <tr>\n      <th>16285</th>\n      <td>50570</td>\n      <td>San Francisco (Calif)</td>\n      <td>United States</td>\n      <td>California</td>\n      <td>37.7749295</td>\n      <td>-122.4194155</td>\n      <td>2015-11-13</td>\n      <td>2015</td>\n      <td>November</td>\n      <td>Friday</td>\n    </tr>\n    <tr>\n      <th>16286</th>\n      <td>50571</td>\n      <td>New York State</td>\n      <td>United States</td>\n      <td>New York</td>\n      <td>43.2994285</td>\n      <td>-74.21793260000001</td>\n      <td>2015-11-13</td>\n      <td>2015</td>\n      <td>November</td>\n      <td>Friday</td>\n    </tr>\n    <tr>\n      <th>16287</th>\n      <td>50572</td>\n      <td>Wichita (Kan)</td>\n      <td>United States</td>\n      <td>Kansas</td>\n      <td>37.68717609999999</td>\n      <td>-97.33005299999999</td>\n      <td>2015-11-13</td>\n      <td>2015</td>\n      <td>November</td>\n      <td>Friday</td>\n    </tr>\n  </tbody>\n</table>\n<p>16288 rows × 10 columns</p>\n</div>"
     },
     "metadata": {},
     "execution_count": 1
    }
   ],
   "source": [
    "# Setup dependencies\n",
    "import pandas as pd\n",
    "import numpy as np\n",
    "import pycountry\n",
    "import us\n",
    "\n",
    "# Import cleaned final dataset with locations\n",
    "path = \"static/data/geolocations_clean_final.csv\"\n",
    "df = pd.read_csv(path)\n",
    "df"
   ]
  },
  {
   "cell_type": "code",
   "execution_count": 2,
   "metadata": {},
   "outputs": [
    {
     "output_type": "execute_result",
     "data": {
      "text/plain": [
       "         nid                     glocation        country          state  \\\n",
       "0          2                     Louisiana  United States      Louisiana   \n",
       "1          3                 United States  United States            NaN   \n",
       "2          5                 Boston (Mass)  United States  Massachusetts   \n",
       "3          6                 Killeen (Tex)  United States          Texas   \n",
       "4         11  East Village (Manhattan, NY)  United States       New York   \n",
       "...      ...                           ...            ...            ...   \n",
       "15625  50563                 Denver (Colo)  United States       Colorado   \n",
       "15626  50564     Acadia National Park (Me)  United States          Maine   \n",
       "15627  50570         San Francisco (Calif)  United States     California   \n",
       "15628  50571                New York State  United States       New York   \n",
       "15629  50572                 Wichita (Kan)  United States         Kansas   \n",
       "\n",
       "                latitude           longitude    pub_date  year     month  \\\n",
       "0             30.9842977  -91.96233269999999  2015-01-01  2015   January   \n",
       "1               37.09024          -95.712891  2015-01-01  2015   January   \n",
       "2             42.3600825         -71.0588801  2015-01-01  2015   January   \n",
       "3             31.1171194  -97.72779589999999  2015-01-01  2015   January   \n",
       "4             40.7264773  -73.98153370000001  2015-01-01  2015   January   \n",
       "...                  ...                 ...         ...   ...       ...   \n",
       "15625         39.7392358         -104.990251  2015-11-13  2015  November   \n",
       "15626         44.3385559         -68.2733346  2015-11-13  2015  November   \n",
       "15627         37.7749295        -122.4194155  2015-11-13  2015  November   \n",
       "15628         43.2994285  -74.21793260000001  2015-11-13  2015  November   \n",
       "15629  37.68717609999999  -97.33005299999999  2015-11-13  2015  November   \n",
       "\n",
       "        weekday  \n",
       "0      Thursday  \n",
       "1      Thursday  \n",
       "2      Thursday  \n",
       "3      Thursday  \n",
       "4      Thursday  \n",
       "...         ...  \n",
       "15625    Friday  \n",
       "15626    Friday  \n",
       "15627    Friday  \n",
       "15628    Friday  \n",
       "15629    Friday  \n",
       "\n",
       "[15630 rows x 10 columns]"
      ],
      "text/html": "<div>\n<style scoped>\n    .dataframe tbody tr th:only-of-type {\n        vertical-align: middle;\n    }\n\n    .dataframe tbody tr th {\n        vertical-align: top;\n    }\n\n    .dataframe thead th {\n        text-align: right;\n    }\n</style>\n<table border=\"1\" class=\"dataframe\">\n  <thead>\n    <tr style=\"text-align: right;\">\n      <th></th>\n      <th>nid</th>\n      <th>glocation</th>\n      <th>country</th>\n      <th>state</th>\n      <th>latitude</th>\n      <th>longitude</th>\n      <th>pub_date</th>\n      <th>year</th>\n      <th>month</th>\n      <th>weekday</th>\n    </tr>\n  </thead>\n  <tbody>\n    <tr>\n      <th>0</th>\n      <td>2</td>\n      <td>Louisiana</td>\n      <td>United States</td>\n      <td>Louisiana</td>\n      <td>30.9842977</td>\n      <td>-91.96233269999999</td>\n      <td>2015-01-01</td>\n      <td>2015</td>\n      <td>January</td>\n      <td>Thursday</td>\n    </tr>\n    <tr>\n      <th>1</th>\n      <td>3</td>\n      <td>United States</td>\n      <td>United States</td>\n      <td>NaN</td>\n      <td>37.09024</td>\n      <td>-95.712891</td>\n      <td>2015-01-01</td>\n      <td>2015</td>\n      <td>January</td>\n      <td>Thursday</td>\n    </tr>\n    <tr>\n      <th>2</th>\n      <td>5</td>\n      <td>Boston (Mass)</td>\n      <td>United States</td>\n      <td>Massachusetts</td>\n      <td>42.3600825</td>\n      <td>-71.0588801</td>\n      <td>2015-01-01</td>\n      <td>2015</td>\n      <td>January</td>\n      <td>Thursday</td>\n    </tr>\n    <tr>\n      <th>3</th>\n      <td>6</td>\n      <td>Killeen (Tex)</td>\n      <td>United States</td>\n      <td>Texas</td>\n      <td>31.1171194</td>\n      <td>-97.72779589999999</td>\n      <td>2015-01-01</td>\n      <td>2015</td>\n      <td>January</td>\n      <td>Thursday</td>\n    </tr>\n    <tr>\n      <th>4</th>\n      <td>11</td>\n      <td>East Village (Manhattan, NY)</td>\n      <td>United States</td>\n      <td>New York</td>\n      <td>40.7264773</td>\n      <td>-73.98153370000001</td>\n      <td>2015-01-01</td>\n      <td>2015</td>\n      <td>January</td>\n      <td>Thursday</td>\n    </tr>\n    <tr>\n      <th>...</th>\n      <td>...</td>\n      <td>...</td>\n      <td>...</td>\n      <td>...</td>\n      <td>...</td>\n      <td>...</td>\n      <td>...</td>\n      <td>...</td>\n      <td>...</td>\n      <td>...</td>\n    </tr>\n    <tr>\n      <th>15625</th>\n      <td>50563</td>\n      <td>Denver (Colo)</td>\n      <td>United States</td>\n      <td>Colorado</td>\n      <td>39.7392358</td>\n      <td>-104.990251</td>\n      <td>2015-11-13</td>\n      <td>2015</td>\n      <td>November</td>\n      <td>Friday</td>\n    </tr>\n    <tr>\n      <th>15626</th>\n      <td>50564</td>\n      <td>Acadia National Park (Me)</td>\n      <td>United States</td>\n      <td>Maine</td>\n      <td>44.3385559</td>\n      <td>-68.2733346</td>\n      <td>2015-11-13</td>\n      <td>2015</td>\n      <td>November</td>\n      <td>Friday</td>\n    </tr>\n    <tr>\n      <th>15627</th>\n      <td>50570</td>\n      <td>San Francisco (Calif)</td>\n      <td>United States</td>\n      <td>California</td>\n      <td>37.7749295</td>\n      <td>-122.4194155</td>\n      <td>2015-11-13</td>\n      <td>2015</td>\n      <td>November</td>\n      <td>Friday</td>\n    </tr>\n    <tr>\n      <th>15628</th>\n      <td>50571</td>\n      <td>New York State</td>\n      <td>United States</td>\n      <td>New York</td>\n      <td>43.2994285</td>\n      <td>-74.21793260000001</td>\n      <td>2015-11-13</td>\n      <td>2015</td>\n      <td>November</td>\n      <td>Friday</td>\n    </tr>\n    <tr>\n      <th>15629</th>\n      <td>50572</td>\n      <td>Wichita (Kan)</td>\n      <td>United States</td>\n      <td>Kansas</td>\n      <td>37.68717609999999</td>\n      <td>-97.33005299999999</td>\n      <td>2015-11-13</td>\n      <td>2015</td>\n      <td>November</td>\n      <td>Friday</td>\n    </tr>\n  </tbody>\n</table>\n<p>15630 rows × 10 columns</p>\n</div>"
     },
     "metadata": {},
     "execution_count": 2
    }
   ],
   "source": [
    "# Drop rows where country name is missing\n",
    "df = df.replace(r'^\\s*$', np.NaN, regex=True)\n",
    "for i in range(len(df)):\n",
    "    if df['country'][i]:\n",
    "        continue\n",
    "    else:\n",
    "        df['country'][i] == np.nan\n",
    "df_countries = df.dropna(subset=['country'])\n",
    "df_countries = df_countries.reset_index(drop=True)\n",
    "df_countries"
   ]
  },
  {
   "cell_type": "code",
   "execution_count": 3,
   "metadata": {},
   "outputs": [
    {
     "output_type": "execute_result",
     "data": {
      "text/plain": [
       "         nid                                           headline  \\\n",
       "0          1  Standouts in Tech: Drones, Virtual Reality, In...   \n",
       "1          2  Much of David Duke's '91 Campaign Is Now in Lo...   \n",
       "2          3  States' Minimum Wages Rise, Helping Millions o...   \n",
       "3          4       New C.D.C. Job Overseeing Laboratory Safety    \n",
       "4          5   Massachusetts: New Effort to Move Bombings Trial   \n",
       "...      ...                                                ...   \n",
       "50568  50569  How Do You Turn an Ad Into a Meme? Two Words: ...   \n",
       "50569  50570  Partisans, Wielding Money, Begin Seeking to Ex...   \n",
       "50570  50571  How Do You Vote? 50 Million Google Images Give...   \n",
       "50571  50572  Democrats in High-Tax States Plot to Blunt Imp...   \n",
       "50572  50573  Fatal 'Swatting' Episode in Kansas Raises Quan...   \n",
       "\n",
       "                                                 article headline_score  \\\n",
       "0      LOTS of cool new technology products come out ...              0   \n",
       "1      BATON ROUGE, La. — David Duke seems a figure f...              0   \n",
       "2      For some low-wage workers, everyday tasks like...          0.296   \n",
       "3      A new job title — chief of laboratory safety —...         0.4215   \n",
       "4      Lawyers for Dzhokhar Tsarnaev, the defendant i...              0   \n",
       "...                                                  ...            ...   \n",
       "50568  In 1995, a nation was rapt as three frogs croa...              0   \n",
       "50569  WASHINGTON — As the #MeToo movement to expose ...        -0.5994   \n",
       "50570  What vehicle is most strongly associated with ...              0   \n",
       "50571  Democrats in high-cost, high-tax states are pl...              0   \n",
       "50572  When the police surrounded a house in Wichita,...        -0.7096   \n",
       "\n",
       "      article_score    pub_date  section_name news_desk  \\\n",
       "0            0.1655    1/1/2015    Technology  Business   \n",
       "1             0.128    1/1/2015          U.S.  National   \n",
       "2           -0.0516    1/1/2015  Business Day  Business   \n",
       "3           0.04162    1/1/2015        Health  National   \n",
       "4          -0.29145    1/1/2015          U.S.  National   \n",
       "...             ...         ...           ...       ...   \n",
       "50568        0.4404  12/31/2017  Business Day  Business   \n",
       "50569       -0.6124  12/31/2017          U.S.  National   \n",
       "50570        0.3384  12/31/2017    Technology  Business   \n",
       "50571             0  12/31/2017  Business Day  Business   \n",
       "50572             0  12/31/2017          U.S.  National   \n",
       "\n",
       "                                           organizations  \\\n",
       "0      ['Oculus VR Inc', 'Skype Technologies', 'DJI I...   \n",
       "1                                                     []   \n",
       "2                                                     []   \n",
       "3         ['Centers for Disease Control and Prevention']   \n",
       "4                                                     []   \n",
       "...                                                  ...   \n",
       "50568                        ['Anheuser-Busch InBev NV']   \n",
       "50569                                                 []   \n",
       "50570      ['Google Street View', 'Stanford University']   \n",
       "50571           ['Democratic Party', 'Republican Party']   \n",
       "50572                                                 []   \n",
       "\n",
       "                                                 persons  \\\n",
       "0                                     ['Manjoo, Farhad']   \n",
       "1      ['Alford, Jeremy', 'Duke, David E', 'Scalise, ...   \n",
       "2                                                     []   \n",
       "3           ['McNeil, Donald G Jr', 'Frieden, Thomas R']   \n",
       "4                               ['Tsarnaev, Dzhokhar A']   \n",
       "...                                                  ...   \n",
       "50568                                                 []   \n",
       "50569  ['Allred, Gloria', 'Bloom, Lisa (1961- )', 'Ce...   \n",
       "50570                                                 []   \n",
       "50571                                                 []   \n",
       "50572  ['Finch, Andrew (1989-2017)', 'Barriss, Tyler R']   \n",
       "\n",
       "                                                 subject  \\\n",
       "0      ['Virtual Reality (Computers)', 'Computers and...   \n",
       "1      ['Blacks', 'Black People', 'Race and Ethnicity...   \n",
       "2                        ['Minimum Wage', 'States (US)']   \n",
       "3      ['Ebola Virus', 'Laboratories and Scientific E...   \n",
       "4                    ['Boston Marathon Bombings (2013)']   \n",
       "...                                                  ...   \n",
       "50568              ['ADVERTISING AND MARKETING', 'Beer']   \n",
       "50569  ['United States Politics and Government', '#Me...   \n",
       "50570  ['Artificial Intelligence', 'Data-Mining and D...   \n",
       "50571  ['Tax Credits, Deductions and Exemptions', 'Ta...   \n",
       "50572  ['Police Brutality, Misconduct and Shootings',...   \n",
       "\n",
       "                                              glocations creative_works  \\\n",
       "0                                                     []             []   \n",
       "1                                          ['Louisiana']             []   \n",
       "2                                      ['United States']             []   \n",
       "3                                                     []             []   \n",
       "4                                      ['Boston (Mass)']             []   \n",
       "...                                                  ...            ...   \n",
       "50568                                                 []             []   \n",
       "50569                                                 []             []   \n",
       "50570  ['Casper (Wyo)', 'Burlington (Vt)', 'Chicago (...             []   \n",
       "50571  ['California', 'Connecticut', 'New Jersey', 'N...             []   \n",
       "50572                                  ['Wichita (Kan)']             []   \n",
       "\n",
       "      abs_headline_score abs_article_score  Unnamed: 15  Unnamed: 16  \n",
       "0                      0            0.1655          NaN          NaN  \n",
       "1                      0             0.128          NaN          NaN  \n",
       "2                  0.296            0.0516          NaN          NaN  \n",
       "3                 0.4215           0.04162          NaN          NaN  \n",
       "4                      0           0.29145          NaN          NaN  \n",
       "...                  ...               ...          ...          ...  \n",
       "50568                  0            0.4404          NaN          NaN  \n",
       "50569             0.5994            0.6124          NaN          NaN  \n",
       "50570                  0            0.3384          NaN          NaN  \n",
       "50571                  0                 0          NaN          NaN  \n",
       "50572             0.7096                 0          NaN          NaN  \n",
       "\n",
       "[50573 rows x 17 columns]"
      ],
      "text/html": "<div>\n<style scoped>\n    .dataframe tbody tr th:only-of-type {\n        vertical-align: middle;\n    }\n\n    .dataframe tbody tr th {\n        vertical-align: top;\n    }\n\n    .dataframe thead th {\n        text-align: right;\n    }\n</style>\n<table border=\"1\" class=\"dataframe\">\n  <thead>\n    <tr style=\"text-align: right;\">\n      <th></th>\n      <th>nid</th>\n      <th>headline</th>\n      <th>article</th>\n      <th>headline_score</th>\n      <th>article_score</th>\n      <th>pub_date</th>\n      <th>section_name</th>\n      <th>news_desk</th>\n      <th>organizations</th>\n      <th>persons</th>\n      <th>subject</th>\n      <th>glocations</th>\n      <th>creative_works</th>\n      <th>abs_headline_score</th>\n      <th>abs_article_score</th>\n      <th>Unnamed: 15</th>\n      <th>Unnamed: 16</th>\n    </tr>\n  </thead>\n  <tbody>\n    <tr>\n      <th>0</th>\n      <td>1</td>\n      <td>Standouts in Tech: Drones, Virtual Reality, In...</td>\n      <td>LOTS of cool new technology products come out ...</td>\n      <td>0</td>\n      <td>0.1655</td>\n      <td>1/1/2015</td>\n      <td>Technology</td>\n      <td>Business</td>\n      <td>['Oculus VR Inc', 'Skype Technologies', 'DJI I...</td>\n      <td>['Manjoo, Farhad']</td>\n      <td>['Virtual Reality (Computers)', 'Computers and...</td>\n      <td>[]</td>\n      <td>[]</td>\n      <td>0</td>\n      <td>0.1655</td>\n      <td>NaN</td>\n      <td>NaN</td>\n    </tr>\n    <tr>\n      <th>1</th>\n      <td>2</td>\n      <td>Much of David Duke's '91 Campaign Is Now in Lo...</td>\n      <td>BATON ROUGE, La. — David Duke seems a figure f...</td>\n      <td>0</td>\n      <td>0.128</td>\n      <td>1/1/2015</td>\n      <td>U.S.</td>\n      <td>National</td>\n      <td>[]</td>\n      <td>['Alford, Jeremy', 'Duke, David E', 'Scalise, ...</td>\n      <td>['Blacks', 'Black People', 'Race and Ethnicity...</td>\n      <td>['Louisiana']</td>\n      <td>[]</td>\n      <td>0</td>\n      <td>0.128</td>\n      <td>NaN</td>\n      <td>NaN</td>\n    </tr>\n    <tr>\n      <th>2</th>\n      <td>3</td>\n      <td>States' Minimum Wages Rise, Helping Millions o...</td>\n      <td>For some low-wage workers, everyday tasks like...</td>\n      <td>0.296</td>\n      <td>-0.0516</td>\n      <td>1/1/2015</td>\n      <td>Business Day</td>\n      <td>Business</td>\n      <td>[]</td>\n      <td>[]</td>\n      <td>['Minimum Wage', 'States (US)']</td>\n      <td>['United States']</td>\n      <td>[]</td>\n      <td>0.296</td>\n      <td>0.0516</td>\n      <td>NaN</td>\n      <td>NaN</td>\n    </tr>\n    <tr>\n      <th>3</th>\n      <td>4</td>\n      <td>New C.D.C. Job Overseeing Laboratory Safety</td>\n      <td>A new job title — chief of laboratory safety —...</td>\n      <td>0.4215</td>\n      <td>0.04162</td>\n      <td>1/1/2015</td>\n      <td>Health</td>\n      <td>National</td>\n      <td>['Centers for Disease Control and Prevention']</td>\n      <td>['McNeil, Donald G Jr', 'Frieden, Thomas R']</td>\n      <td>['Ebola Virus', 'Laboratories and Scientific E...</td>\n      <td>[]</td>\n      <td>[]</td>\n      <td>0.4215</td>\n      <td>0.04162</td>\n      <td>NaN</td>\n      <td>NaN</td>\n    </tr>\n    <tr>\n      <th>4</th>\n      <td>5</td>\n      <td>Massachusetts: New Effort to Move Bombings Trial</td>\n      <td>Lawyers for Dzhokhar Tsarnaev, the defendant i...</td>\n      <td>0</td>\n      <td>-0.29145</td>\n      <td>1/1/2015</td>\n      <td>U.S.</td>\n      <td>National</td>\n      <td>[]</td>\n      <td>['Tsarnaev, Dzhokhar A']</td>\n      <td>['Boston Marathon Bombings (2013)']</td>\n      <td>['Boston (Mass)']</td>\n      <td>[]</td>\n      <td>0</td>\n      <td>0.29145</td>\n      <td>NaN</td>\n      <td>NaN</td>\n    </tr>\n    <tr>\n      <th>...</th>\n      <td>...</td>\n      <td>...</td>\n      <td>...</td>\n      <td>...</td>\n      <td>...</td>\n      <td>...</td>\n      <td>...</td>\n      <td>...</td>\n      <td>...</td>\n      <td>...</td>\n      <td>...</td>\n      <td>...</td>\n      <td>...</td>\n      <td>...</td>\n      <td>...</td>\n      <td>...</td>\n      <td>...</td>\n    </tr>\n    <tr>\n      <th>50568</th>\n      <td>50569</td>\n      <td>How Do You Turn an Ad Into a Meme? Two Words: ...</td>\n      <td>In 1995, a nation was rapt as three frogs croa...</td>\n      <td>0</td>\n      <td>0.4404</td>\n      <td>12/31/2017</td>\n      <td>Business Day</td>\n      <td>Business</td>\n      <td>['Anheuser-Busch InBev NV']</td>\n      <td>[]</td>\n      <td>['ADVERTISING AND MARKETING', 'Beer']</td>\n      <td>[]</td>\n      <td>[]</td>\n      <td>0</td>\n      <td>0.4404</td>\n      <td>NaN</td>\n      <td>NaN</td>\n    </tr>\n    <tr>\n      <th>50569</th>\n      <td>50570</td>\n      <td>Partisans, Wielding Money, Begin Seeking to Ex...</td>\n      <td>WASHINGTON — As the #MeToo movement to expose ...</td>\n      <td>-0.5994</td>\n      <td>-0.6124</td>\n      <td>12/31/2017</td>\n      <td>U.S.</td>\n      <td>National</td>\n      <td>[]</td>\n      <td>['Allred, Gloria', 'Bloom, Lisa (1961- )', 'Ce...</td>\n      <td>['United States Politics and Government', '#Me...</td>\n      <td>[]</td>\n      <td>[]</td>\n      <td>0.5994</td>\n      <td>0.6124</td>\n      <td>NaN</td>\n      <td>NaN</td>\n    </tr>\n    <tr>\n      <th>50570</th>\n      <td>50571</td>\n      <td>How Do You Vote? 50 Million Google Images Give...</td>\n      <td>What vehicle is most strongly associated with ...</td>\n      <td>0</td>\n      <td>0.3384</td>\n      <td>12/31/2017</td>\n      <td>Technology</td>\n      <td>Business</td>\n      <td>['Google Street View', 'Stanford University']</td>\n      <td>[]</td>\n      <td>['Artificial Intelligence', 'Data-Mining and D...</td>\n      <td>['Casper (Wyo)', 'Burlington (Vt)', 'Chicago (...</td>\n      <td>[]</td>\n      <td>0</td>\n      <td>0.3384</td>\n      <td>NaN</td>\n      <td>NaN</td>\n    </tr>\n    <tr>\n      <th>50571</th>\n      <td>50572</td>\n      <td>Democrats in High-Tax States Plot to Blunt Imp...</td>\n      <td>Democrats in high-cost, high-tax states are pl...</td>\n      <td>0</td>\n      <td>0</td>\n      <td>12/31/2017</td>\n      <td>Business Day</td>\n      <td>Business</td>\n      <td>['Democratic Party', 'Republican Party']</td>\n      <td>[]</td>\n      <td>['Tax Credits, Deductions and Exemptions', 'Ta...</td>\n      <td>['California', 'Connecticut', 'New Jersey', 'N...</td>\n      <td>[]</td>\n      <td>0</td>\n      <td>0</td>\n      <td>NaN</td>\n      <td>NaN</td>\n    </tr>\n    <tr>\n      <th>50572</th>\n      <td>50573</td>\n      <td>Fatal 'Swatting' Episode in Kansas Raises Quan...</td>\n      <td>When the police surrounded a house in Wichita,...</td>\n      <td>-0.7096</td>\n      <td>0</td>\n      <td>12/31/2017</td>\n      <td>U.S.</td>\n      <td>National</td>\n      <td>[]</td>\n      <td>['Finch, Andrew (1989-2017)', 'Barriss, Tyler R']</td>\n      <td>['Police Brutality, Misconduct and Shootings',...</td>\n      <td>['Wichita (Kan)']</td>\n      <td>[]</td>\n      <td>0.7096</td>\n      <td>0</td>\n      <td>NaN</td>\n      <td>NaN</td>\n    </tr>\n  </tbody>\n</table>\n<p>50573 rows × 17 columns</p>\n</div>"
     },
     "metadata": {},
     "execution_count": 3
    }
   ],
   "source": [
    "# Import sentiment scores\n",
    "path_scores = \"static/data/headlines_scores_keywords.csv\"\n",
    "df_scores = pd.read_csv(path_scores)\n",
    "df_scores"
   ]
  },
  {
   "cell_type": "code",
   "execution_count": 4,
   "metadata": {},
   "outputs": [
    {
     "output_type": "execute_result",
     "data": {
      "text/plain": [
       "         nid        country          state  year     month   weekday  \\\n",
       "0          2  United States      Louisiana  2015   January  Thursday   \n",
       "1          3  United States            NaN  2015   January  Thursday   \n",
       "2          5  United States  Massachusetts  2015   January  Thursday   \n",
       "3          6  United States          Texas  2015   January  Thursday   \n",
       "4         11  United States       New York  2015   January  Thursday   \n",
       "...      ...            ...            ...   ...       ...       ...   \n",
       "15625  50563  United States       Colorado  2015  November    Friday   \n",
       "15626  50564  United States          Maine  2015  November    Friday   \n",
       "15627  50570  United States     California  2015  November    Friday   \n",
       "15628  50571  United States       New York  2015  November    Friday   \n",
       "15629  50572  United States         Kansas  2015  November    Friday   \n",
       "\n",
       "      headline_score article_score  \n",
       "0                                   \n",
       "1                                   \n",
       "2                                   \n",
       "3                                   \n",
       "4                                   \n",
       "...              ...           ...  \n",
       "15625                               \n",
       "15626                               \n",
       "15627                               \n",
       "15628                               \n",
       "15629                               \n",
       "\n",
       "[15630 rows x 8 columns]"
      ],
      "text/html": "<div>\n<style scoped>\n    .dataframe tbody tr th:only-of-type {\n        vertical-align: middle;\n    }\n\n    .dataframe tbody tr th {\n        vertical-align: top;\n    }\n\n    .dataframe thead th {\n        text-align: right;\n    }\n</style>\n<table border=\"1\" class=\"dataframe\">\n  <thead>\n    <tr style=\"text-align: right;\">\n      <th></th>\n      <th>nid</th>\n      <th>country</th>\n      <th>state</th>\n      <th>year</th>\n      <th>month</th>\n      <th>weekday</th>\n      <th>headline_score</th>\n      <th>article_score</th>\n    </tr>\n  </thead>\n  <tbody>\n    <tr>\n      <th>0</th>\n      <td>2</td>\n      <td>United States</td>\n      <td>Louisiana</td>\n      <td>2015</td>\n      <td>January</td>\n      <td>Thursday</td>\n      <td></td>\n      <td></td>\n    </tr>\n    <tr>\n      <th>1</th>\n      <td>3</td>\n      <td>United States</td>\n      <td>NaN</td>\n      <td>2015</td>\n      <td>January</td>\n      <td>Thursday</td>\n      <td></td>\n      <td></td>\n    </tr>\n    <tr>\n      <th>2</th>\n      <td>5</td>\n      <td>United States</td>\n      <td>Massachusetts</td>\n      <td>2015</td>\n      <td>January</td>\n      <td>Thursday</td>\n      <td></td>\n      <td></td>\n    </tr>\n    <tr>\n      <th>3</th>\n      <td>6</td>\n      <td>United States</td>\n      <td>Texas</td>\n      <td>2015</td>\n      <td>January</td>\n      <td>Thursday</td>\n      <td></td>\n      <td></td>\n    </tr>\n    <tr>\n      <th>4</th>\n      <td>11</td>\n      <td>United States</td>\n      <td>New York</td>\n      <td>2015</td>\n      <td>January</td>\n      <td>Thursday</td>\n      <td></td>\n      <td></td>\n    </tr>\n    <tr>\n      <th>...</th>\n      <td>...</td>\n      <td>...</td>\n      <td>...</td>\n      <td>...</td>\n      <td>...</td>\n      <td>...</td>\n      <td>...</td>\n      <td>...</td>\n    </tr>\n    <tr>\n      <th>15625</th>\n      <td>50563</td>\n      <td>United States</td>\n      <td>Colorado</td>\n      <td>2015</td>\n      <td>November</td>\n      <td>Friday</td>\n      <td></td>\n      <td></td>\n    </tr>\n    <tr>\n      <th>15626</th>\n      <td>50564</td>\n      <td>United States</td>\n      <td>Maine</td>\n      <td>2015</td>\n      <td>November</td>\n      <td>Friday</td>\n      <td></td>\n      <td></td>\n    </tr>\n    <tr>\n      <th>15627</th>\n      <td>50570</td>\n      <td>United States</td>\n      <td>California</td>\n      <td>2015</td>\n      <td>November</td>\n      <td>Friday</td>\n      <td></td>\n      <td></td>\n    </tr>\n    <tr>\n      <th>15628</th>\n      <td>50571</td>\n      <td>United States</td>\n      <td>New York</td>\n      <td>2015</td>\n      <td>November</td>\n      <td>Friday</td>\n      <td></td>\n      <td></td>\n    </tr>\n    <tr>\n      <th>15629</th>\n      <td>50572</td>\n      <td>United States</td>\n      <td>Kansas</td>\n      <td>2015</td>\n      <td>November</td>\n      <td>Friday</td>\n      <td></td>\n      <td></td>\n    </tr>\n  </tbody>\n</table>\n<p>15630 rows × 8 columns</p>\n</div>"
     },
     "metadata": {},
     "execution_count": 4
    }
   ],
   "source": [
    "# Add scores to locations dataframe\n",
    "df_countries['headline_score'] = \" \"\n",
    "df_countries['article_score'] = \" \"\n",
    "df_countries = df_countries[['nid', 'country', 'state', 'year', 'month', 'weekday', 'headline_score', 'article_score']] \n",
    "df_countries"
   ]
  },
  {
   "cell_type": "code",
   "execution_count": 5,
   "metadata": {},
   "outputs": [
    {
     "output_type": "execute_result",
     "data": {
      "text/plain": [
       "   nid        country          state  year    month   weekday headline_score  \\\n",
       "0    2  United States      Louisiana  2015  January  Thursday              0   \n",
       "1    3  United States            NaN  2015  January  Thursday          0.296   \n",
       "2    5  United States  Massachusetts  2015  January  Thursday              0   \n",
       "3    6  United States          Texas  2015  January  Thursday              0   \n",
       "4   11  United States       New York  2015  January  Thursday              0   \n",
       "\n",
       "  article_score  \n",
       "0         0.128  \n",
       "1       -0.0516  \n",
       "2      -0.29145  \n",
       "3       -0.6705  \n",
       "4        0.5859  "
      ],
      "text/html": "<div>\n<style scoped>\n    .dataframe tbody tr th:only-of-type {\n        vertical-align: middle;\n    }\n\n    .dataframe tbody tr th {\n        vertical-align: top;\n    }\n\n    .dataframe thead th {\n        text-align: right;\n    }\n</style>\n<table border=\"1\" class=\"dataframe\">\n  <thead>\n    <tr style=\"text-align: right;\">\n      <th></th>\n      <th>nid</th>\n      <th>country</th>\n      <th>state</th>\n      <th>year</th>\n      <th>month</th>\n      <th>weekday</th>\n      <th>headline_score</th>\n      <th>article_score</th>\n    </tr>\n  </thead>\n  <tbody>\n    <tr>\n      <th>0</th>\n      <td>2</td>\n      <td>United States</td>\n      <td>Louisiana</td>\n      <td>2015</td>\n      <td>January</td>\n      <td>Thursday</td>\n      <td>0</td>\n      <td>0.128</td>\n    </tr>\n    <tr>\n      <th>1</th>\n      <td>3</td>\n      <td>United States</td>\n      <td>NaN</td>\n      <td>2015</td>\n      <td>January</td>\n      <td>Thursday</td>\n      <td>0.296</td>\n      <td>-0.0516</td>\n    </tr>\n    <tr>\n      <th>2</th>\n      <td>5</td>\n      <td>United States</td>\n      <td>Massachusetts</td>\n      <td>2015</td>\n      <td>January</td>\n      <td>Thursday</td>\n      <td>0</td>\n      <td>-0.29145</td>\n    </tr>\n    <tr>\n      <th>3</th>\n      <td>6</td>\n      <td>United States</td>\n      <td>Texas</td>\n      <td>2015</td>\n      <td>January</td>\n      <td>Thursday</td>\n      <td>0</td>\n      <td>-0.6705</td>\n    </tr>\n    <tr>\n      <th>4</th>\n      <td>11</td>\n      <td>United States</td>\n      <td>New York</td>\n      <td>2015</td>\n      <td>January</td>\n      <td>Thursday</td>\n      <td>0</td>\n      <td>0.5859</td>\n    </tr>\n  </tbody>\n</table>\n</div>"
     },
     "metadata": {},
     "execution_count": 5
    }
   ],
   "source": [
    "# Fetch headline and article sentiment scores for countries dataset\n",
    "df_countries['headline_score'] = df_countries.nid.map(df_scores.set_index('nid')['headline_score'].to_dict())\n",
    "df_countries['article_score'] = df_countries.nid.map(df_scores.set_index('nid')['article_score'].to_dict())\n",
    "df_countries.head()"
   ]
  },
  {
   "cell_type": "code",
   "execution_count": 6,
   "metadata": {},
   "outputs": [
    {
     "output_type": "execute_result",
     "data": {
      "text/plain": [
       "         nid        country country_ISO_code          state US_state_code  \\\n",
       "0          2  United States                       Louisiana                 \n",
       "1          3  United States                                                 \n",
       "2          5  United States                   Massachusetts                 \n",
       "3          6  United States                           Texas                 \n",
       "4         11  United States                        New York                 \n",
       "...      ...            ...              ...            ...           ...   \n",
       "15625  50563  United States                        Colorado                 \n",
       "15626  50564  United States                           Maine                 \n",
       "15627  50570  United States                      California                 \n",
       "15628  50571  United States                        New York                 \n",
       "15629  50572  United States                          Kansas                 \n",
       "\n",
       "       year     month   weekday headline_score article_score  \n",
       "0      2015   January  Thursday              0         0.128  \n",
       "1      2015   January  Thursday          0.296       -0.0516  \n",
       "2      2015   January  Thursday              0      -0.29145  \n",
       "3      2015   January  Thursday              0       -0.6705  \n",
       "4      2015   January  Thursday              0        0.5859  \n",
       "...     ...       ...       ...            ...           ...  \n",
       "15625  2015  November    Friday              0        0.4939  \n",
       "15626  2015  November    Friday        -0.6369  -0.630833333  \n",
       "15627  2015  November    Friday        -0.5994       -0.6124  \n",
       "15628  2015  November    Friday              0        0.3384  \n",
       "15629  2015  November    Friday              0             0  \n",
       "\n",
       "[15630 rows x 10 columns]"
      ],
      "text/html": "<div>\n<style scoped>\n    .dataframe tbody tr th:only-of-type {\n        vertical-align: middle;\n    }\n\n    .dataframe tbody tr th {\n        vertical-align: top;\n    }\n\n    .dataframe thead th {\n        text-align: right;\n    }\n</style>\n<table border=\"1\" class=\"dataframe\">\n  <thead>\n    <tr style=\"text-align: right;\">\n      <th></th>\n      <th>nid</th>\n      <th>country</th>\n      <th>country_ISO_code</th>\n      <th>state</th>\n      <th>US_state_code</th>\n      <th>year</th>\n      <th>month</th>\n      <th>weekday</th>\n      <th>headline_score</th>\n      <th>article_score</th>\n    </tr>\n  </thead>\n  <tbody>\n    <tr>\n      <th>0</th>\n      <td>2</td>\n      <td>United States</td>\n      <td></td>\n      <td>Louisiana</td>\n      <td></td>\n      <td>2015</td>\n      <td>January</td>\n      <td>Thursday</td>\n      <td>0</td>\n      <td>0.128</td>\n    </tr>\n    <tr>\n      <th>1</th>\n      <td>3</td>\n      <td>United States</td>\n      <td></td>\n      <td></td>\n      <td></td>\n      <td>2015</td>\n      <td>January</td>\n      <td>Thursday</td>\n      <td>0.296</td>\n      <td>-0.0516</td>\n    </tr>\n    <tr>\n      <th>2</th>\n      <td>5</td>\n      <td>United States</td>\n      <td></td>\n      <td>Massachusetts</td>\n      <td></td>\n      <td>2015</td>\n      <td>January</td>\n      <td>Thursday</td>\n      <td>0</td>\n      <td>-0.29145</td>\n    </tr>\n    <tr>\n      <th>3</th>\n      <td>6</td>\n      <td>United States</td>\n      <td></td>\n      <td>Texas</td>\n      <td></td>\n      <td>2015</td>\n      <td>January</td>\n      <td>Thursday</td>\n      <td>0</td>\n      <td>-0.6705</td>\n    </tr>\n    <tr>\n      <th>4</th>\n      <td>11</td>\n      <td>United States</td>\n      <td></td>\n      <td>New York</td>\n      <td></td>\n      <td>2015</td>\n      <td>January</td>\n      <td>Thursday</td>\n      <td>0</td>\n      <td>0.5859</td>\n    </tr>\n    <tr>\n      <th>...</th>\n      <td>...</td>\n      <td>...</td>\n      <td>...</td>\n      <td>...</td>\n      <td>...</td>\n      <td>...</td>\n      <td>...</td>\n      <td>...</td>\n      <td>...</td>\n      <td>...</td>\n    </tr>\n    <tr>\n      <th>15625</th>\n      <td>50563</td>\n      <td>United States</td>\n      <td></td>\n      <td>Colorado</td>\n      <td></td>\n      <td>2015</td>\n      <td>November</td>\n      <td>Friday</td>\n      <td>0</td>\n      <td>0.4939</td>\n    </tr>\n    <tr>\n      <th>15626</th>\n      <td>50564</td>\n      <td>United States</td>\n      <td></td>\n      <td>Maine</td>\n      <td></td>\n      <td>2015</td>\n      <td>November</td>\n      <td>Friday</td>\n      <td>-0.6369</td>\n      <td>-0.630833333</td>\n    </tr>\n    <tr>\n      <th>15627</th>\n      <td>50570</td>\n      <td>United States</td>\n      <td></td>\n      <td>California</td>\n      <td></td>\n      <td>2015</td>\n      <td>November</td>\n      <td>Friday</td>\n      <td>-0.5994</td>\n      <td>-0.6124</td>\n    </tr>\n    <tr>\n      <th>15628</th>\n      <td>50571</td>\n      <td>United States</td>\n      <td></td>\n      <td>New York</td>\n      <td></td>\n      <td>2015</td>\n      <td>November</td>\n      <td>Friday</td>\n      <td>0</td>\n      <td>0.3384</td>\n    </tr>\n    <tr>\n      <th>15629</th>\n      <td>50572</td>\n      <td>United States</td>\n      <td></td>\n      <td>Kansas</td>\n      <td></td>\n      <td>2015</td>\n      <td>November</td>\n      <td>Friday</td>\n      <td>0</td>\n      <td>0</td>\n    </tr>\n  </tbody>\n</table>\n<p>15630 rows × 10 columns</p>\n</div>"
     },
     "metadata": {},
     "execution_count": 6
    }
   ],
   "source": [
    "# Add country code and state code columns to dataframe\n",
    "df_countries['country_ISO_code'] = \" \"\n",
    "df_countries['US_state_code'] = \" \"\n",
    "df = df_countries[['nid', 'country', 'country_ISO_code', 'state', 'US_state_code', 'year', 'month', 'weekday', 'headline_score', 'article_score']] \n",
    "df = df.replace(np.nan, ' ', regex=True)\n",
    "df"
   ]
  },
  {
   "cell_type": "code",
   "execution_count": 7,
   "metadata": {},
   "outputs": [
    {
     "output_type": "execute_result",
     "data": {
      "text/plain": [
       "         nid        country country_ISO_code          state US_state_code  \\\n",
       "0          2  United States              USA      Louisiana            LA   \n",
       "1          3  United States              USA                                \n",
       "2          5  United States              USA  Massachusetts            MA   \n",
       "3          6  United States              USA          Texas            TX   \n",
       "4         11  United States              USA       New York            NY   \n",
       "...      ...            ...              ...            ...           ...   \n",
       "15625  50563  United States              USA       Colorado            CO   \n",
       "15626  50564  United States              USA          Maine            ME   \n",
       "15627  50570  United States              USA     California            CA   \n",
       "15628  50571  United States              USA       New York            NY   \n",
       "15629  50572  United States              USA         Kansas            KS   \n",
       "\n",
       "       year     month   weekday headline_score article_score  \n",
       "0      2015   January  Thursday              0         0.128  \n",
       "1      2015   January  Thursday          0.296       -0.0516  \n",
       "2      2015   January  Thursday              0      -0.29145  \n",
       "3      2015   January  Thursday              0       -0.6705  \n",
       "4      2015   January  Thursday              0        0.5859  \n",
       "...     ...       ...       ...            ...           ...  \n",
       "15625  2015  November    Friday              0        0.4939  \n",
       "15626  2015  November    Friday        -0.6369  -0.630833333  \n",
       "15627  2015  November    Friday        -0.5994       -0.6124  \n",
       "15628  2015  November    Friday              0        0.3384  \n",
       "15629  2015  November    Friday              0             0  \n",
       "\n",
       "[15630 rows x 10 columns]"
      ],
      "text/html": "<div>\n<style scoped>\n    .dataframe tbody tr th:only-of-type {\n        vertical-align: middle;\n    }\n\n    .dataframe tbody tr th {\n        vertical-align: top;\n    }\n\n    .dataframe thead th {\n        text-align: right;\n    }\n</style>\n<table border=\"1\" class=\"dataframe\">\n  <thead>\n    <tr style=\"text-align: right;\">\n      <th></th>\n      <th>nid</th>\n      <th>country</th>\n      <th>country_ISO_code</th>\n      <th>state</th>\n      <th>US_state_code</th>\n      <th>year</th>\n      <th>month</th>\n      <th>weekday</th>\n      <th>headline_score</th>\n      <th>article_score</th>\n    </tr>\n  </thead>\n  <tbody>\n    <tr>\n      <th>0</th>\n      <td>2</td>\n      <td>United States</td>\n      <td>USA</td>\n      <td>Louisiana</td>\n      <td>LA</td>\n      <td>2015</td>\n      <td>January</td>\n      <td>Thursday</td>\n      <td>0</td>\n      <td>0.128</td>\n    </tr>\n    <tr>\n      <th>1</th>\n      <td>3</td>\n      <td>United States</td>\n      <td>USA</td>\n      <td></td>\n      <td></td>\n      <td>2015</td>\n      <td>January</td>\n      <td>Thursday</td>\n      <td>0.296</td>\n      <td>-0.0516</td>\n    </tr>\n    <tr>\n      <th>2</th>\n      <td>5</td>\n      <td>United States</td>\n      <td>USA</td>\n      <td>Massachusetts</td>\n      <td>MA</td>\n      <td>2015</td>\n      <td>January</td>\n      <td>Thursday</td>\n      <td>0</td>\n      <td>-0.29145</td>\n    </tr>\n    <tr>\n      <th>3</th>\n      <td>6</td>\n      <td>United States</td>\n      <td>USA</td>\n      <td>Texas</td>\n      <td>TX</td>\n      <td>2015</td>\n      <td>January</td>\n      <td>Thursday</td>\n      <td>0</td>\n      <td>-0.6705</td>\n    </tr>\n    <tr>\n      <th>4</th>\n      <td>11</td>\n      <td>United States</td>\n      <td>USA</td>\n      <td>New York</td>\n      <td>NY</td>\n      <td>2015</td>\n      <td>January</td>\n      <td>Thursday</td>\n      <td>0</td>\n      <td>0.5859</td>\n    </tr>\n    <tr>\n      <th>...</th>\n      <td>...</td>\n      <td>...</td>\n      <td>...</td>\n      <td>...</td>\n      <td>...</td>\n      <td>...</td>\n      <td>...</td>\n      <td>...</td>\n      <td>...</td>\n      <td>...</td>\n    </tr>\n    <tr>\n      <th>15625</th>\n      <td>50563</td>\n      <td>United States</td>\n      <td>USA</td>\n      <td>Colorado</td>\n      <td>CO</td>\n      <td>2015</td>\n      <td>November</td>\n      <td>Friday</td>\n      <td>0</td>\n      <td>0.4939</td>\n    </tr>\n    <tr>\n      <th>15626</th>\n      <td>50564</td>\n      <td>United States</td>\n      <td>USA</td>\n      <td>Maine</td>\n      <td>ME</td>\n      <td>2015</td>\n      <td>November</td>\n      <td>Friday</td>\n      <td>-0.6369</td>\n      <td>-0.630833333</td>\n    </tr>\n    <tr>\n      <th>15627</th>\n      <td>50570</td>\n      <td>United States</td>\n      <td>USA</td>\n      <td>California</td>\n      <td>CA</td>\n      <td>2015</td>\n      <td>November</td>\n      <td>Friday</td>\n      <td>-0.5994</td>\n      <td>-0.6124</td>\n    </tr>\n    <tr>\n      <th>15628</th>\n      <td>50571</td>\n      <td>United States</td>\n      <td>USA</td>\n      <td>New York</td>\n      <td>NY</td>\n      <td>2015</td>\n      <td>November</td>\n      <td>Friday</td>\n      <td>0</td>\n      <td>0.3384</td>\n    </tr>\n    <tr>\n      <th>15629</th>\n      <td>50572</td>\n      <td>United States</td>\n      <td>USA</td>\n      <td>Kansas</td>\n      <td>KS</td>\n      <td>2015</td>\n      <td>November</td>\n      <td>Friday</td>\n      <td>0</td>\n      <td>0</td>\n    </tr>\n  </tbody>\n</table>\n<p>15630 rows × 10 columns</p>\n</div>"
     },
     "metadata": {},
     "execution_count": 7
    }
   ],
   "source": [
    "# Get ISO country codes from \"pycountry\" library\n",
    "# Get US state codes from \"us\" library\n",
    "\n",
    "for i in range(len(df)):\n",
    "    country = df['country'][i]\n",
    "    try:\n",
    "        result_c = pycountry.countries.search_fuzzy(country)[0].alpha_3 \n",
    "    except:\n",
    "        result_c = \" \"\n",
    "    df['country_ISO_code'][i] = result_c   \n",
    "\n",
    "\n",
    "    state = df['state'][i]\n",
    "    try:\n",
    "        result_s = us.states.lookup(state).abbr\n",
    "    except:  \n",
    "        result_s = \" \"  \n",
    "    df['US_state_code'][i] = result_s\n",
    "    \n",
    "df"
   ]
  },
  {
   "cell_type": "code",
   "execution_count": 8,
   "metadata": {},
   "outputs": [],
   "source": [
    "# Convert to CSV to save news location data with sentiment data and dates\n",
    "\n",
    "df.to_csv(\"static/data/geolocations_with_sentiment_scores.csv\", index=False)"
   ]
  },
  {
   "cell_type": "code",
   "execution_count": null,
   "metadata": {},
   "outputs": [],
   "source": []
  }
 ]
}