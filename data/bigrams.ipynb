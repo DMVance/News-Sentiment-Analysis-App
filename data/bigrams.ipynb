{
 "cells": [
  {
   "cell_type": "code",
   "execution_count": 18,
   "metadata": {},
   "outputs": [],
   "source": [
    "# set up and dependencies\n",
    "import pandas as pd\n",
    "import re\n",
    "from sklearn.feature_extraction.text import CountVectorizer\n",
    "# from sklearn.feature_extraction import stop_words\n",
    "from sklearn.feature_extraction.text import TfidfVectorizer\n",
    "from sklearn.pipeline import make_pipeline\n",
    "from sklearn.naive_bayes import MultinomialNB\n",
    "\n",
    "\n"
   ]
  },
  {
   "cell_type": "code",
   "execution_count": null,
   "metadata": {},
   "outputs": [],
   "source": [
    "pd.set_option('display.max_rows', None)\n",
    "\n",
    "path = \"files/headlines.csv\""
   ]
  },
  {
   "cell_type": "code",
   "execution_count": 5,
   "metadata": {},
   "outputs": [],
   "source": [
    "df = pd.read_csv(path)"
   ]
  },
  {
   "cell_type": "markdown",
   "metadata": {},
   "source": [
    "## some light EDA"
   ]
  },
  {
   "cell_type": "code",
   "execution_count": 6,
   "metadata": {},
   "outputs": [
    {
     "data": {
      "text/html": [
       "<div>\n",
       "<style scoped>\n",
       "    .dataframe tbody tr th:only-of-type {\n",
       "        vertical-align: middle;\n",
       "    }\n",
       "\n",
       "    .dataframe tbody tr th {\n",
       "        vertical-align: top;\n",
       "    }\n",
       "\n",
       "    .dataframe thead th {\n",
       "        text-align: right;\n",
       "    }\n",
       "</style>\n",
       "<table border=\"1\" class=\"dataframe\">\n",
       "  <thead>\n",
       "    <tr style=\"text-align: right;\">\n",
       "      <th></th>\n",
       "      <th>abstract</th>\n",
       "      <th>document_type</th>\n",
       "      <th>headline</th>\n",
       "      <th>keywords</th>\n",
       "      <th>lead_paragraph</th>\n",
       "      <th>news_desk</th>\n",
       "      <th>pub_date</th>\n",
       "      <th>section_name</th>\n",
       "      <th>snippet</th>\n",
       "      <th>type_of_material</th>\n",
       "      <th>word_count</th>\n",
       "    </tr>\n",
       "  </thead>\n",
       "  <tbody>\n",
       "    <tr>\n",
       "      <th>0</th>\n",
       "      <td>Farhad Manjoo picks four products from 2014 th...</td>\n",
       "      <td>article</td>\n",
       "      <td>Standouts in Tech: Drones, Virtual Reality, In...</td>\n",
       "      <td>[{'name': 'organizations', 'value': 'Oculus VR...</td>\n",
       "      <td>LOTS of cool new technology products come out ...</td>\n",
       "      <td>Business</td>\n",
       "      <td>2015-01-01</td>\n",
       "      <td>Technology</td>\n",
       "      <td>Farhad Manjoo picks four products from 2014 th...</td>\n",
       "      <td>News</td>\n",
       "      <td>824</td>\n",
       "    </tr>\n",
       "    <tr>\n",
       "      <th>1</th>\n",
       "      <td>Representative Steve Scalise’s effort to expla...</td>\n",
       "      <td>article</td>\n",
       "      <td>Much of David Duke’s ’91 Campaign Is Now in Lo...</td>\n",
       "      <td>[{'name': 'persons', 'value': 'Alford, Jeremy'...</td>\n",
       "      <td>BATON ROUGE, La. — David Duke seems a figure f...</td>\n",
       "      <td>National</td>\n",
       "      <td>2015-01-01</td>\n",
       "      <td>U.S.</td>\n",
       "      <td>Representative Steve Scalise’s effort to expla...</td>\n",
       "      <td>News</td>\n",
       "      <td>1293</td>\n",
       "    </tr>\n",
       "    <tr>\n",
       "      <th>2</th>\n",
       "      <td>Minimum wage increases go into effect in 20 st...</td>\n",
       "      <td>article</td>\n",
       "      <td>States’ Minimum Wages Rise, Helping Millions o...</td>\n",
       "      <td>[{'name': 'subject', 'value': 'Minimum Wage', ...</td>\n",
       "      <td>For some low-wage workers, everyday tasks like...</td>\n",
       "      <td>Business</td>\n",
       "      <td>2015-01-01</td>\n",
       "      <td>Business Day</td>\n",
       "      <td>Minimum wage increases go into effect in 20 st...</td>\n",
       "      <td>News</td>\n",
       "      <td>1017</td>\n",
       "    </tr>\n",
       "    <tr>\n",
       "      <th>3</th>\n",
       "      <td>A new job title — chief of laboratory safety —...</td>\n",
       "      <td>article</td>\n",
       "      <td>New C.D.C. Job Overseeing Laboratory Safety</td>\n",
       "      <td>[{'name': 'persons', 'value': 'McNeil, Donald ...</td>\n",
       "      <td>A new job title — chief of laboratory safety —...</td>\n",
       "      <td>National</td>\n",
       "      <td>2015-01-01</td>\n",
       "      <td>Health</td>\n",
       "      <td>A new job title — chief of laboratory safety —...</td>\n",
       "      <td>Brief</td>\n",
       "      <td>129</td>\n",
       "    </tr>\n",
       "    <tr>\n",
       "      <th>4</th>\n",
       "      <td>Lawyers for Dzhokhar Tsarnaev, the defendant i...</td>\n",
       "      <td>article</td>\n",
       "      <td>Massachusetts: New Effort to Move Bombings Trial</td>\n",
       "      <td>[{'name': 'subject', 'value': 'Boston Marathon...</td>\n",
       "      <td>Lawyers for Dzhokhar Tsarnaev, the defendant i...</td>\n",
       "      <td>National</td>\n",
       "      <td>2015-01-01</td>\n",
       "      <td>U.S.</td>\n",
       "      <td>Lawyers for Dzhokhar Tsarnaev, the defendant i...</td>\n",
       "      <td>Brief</td>\n",
       "      <td>145</td>\n",
       "    </tr>\n",
       "    <tr>\n",
       "      <th>5</th>\n",
       "      <td>As United States combat operations formally en...</td>\n",
       "      <td>article</td>\n",
       "      <td>Mission Ends in Afghanistan, but Sacrifices Ar...</td>\n",
       "      <td>[{'name': 'subject', 'value': 'Afghanistan War...</td>\n",
       "      <td>KILLEEN, Tex. — Sgt. First Class Ramon Morris,...</td>\n",
       "      <td>National</td>\n",
       "      <td>2015-01-01</td>\n",
       "      <td>U.S.</td>\n",
       "      <td>As United States combat operations formally en...</td>\n",
       "      <td>News</td>\n",
       "      <td>1425</td>\n",
       "    </tr>\n",
       "    <tr>\n",
       "      <th>6</th>\n",
       "      <td>One of the foremost challenges is finding a wa...</td>\n",
       "      <td>article</td>\n",
       "      <td>Five Surprising Economic Trends in 2014, and W...</td>\n",
       "      <td>[{'name': 'subject', 'value': 'Economic Condit...</td>\n",
       "      <td>It was a confounding year in global financial ...</td>\n",
       "      <td>Business</td>\n",
       "      <td>2015-01-01</td>\n",
       "      <td>The Upshot</td>\n",
       "      <td>One of the foremost challenges is finding a wa...</td>\n",
       "      <td>News</td>\n",
       "      <td>1269</td>\n",
       "    </tr>\n",
       "    <tr>\n",
       "      <th>7</th>\n",
       "      <td>By adopting tabletlike, touch-screen systems, ...</td>\n",
       "      <td>article</td>\n",
       "      <td>Carmakers Take a Hint From Tablets</td>\n",
       "      <td>[{'name': 'subject', 'value': 'Automobile Safe...</td>\n",
       "      <td>Reaching an apogee of confusion, car dashboard...</td>\n",
       "      <td>Business</td>\n",
       "      <td>2015-01-01</td>\n",
       "      <td>Automobiles</td>\n",
       "      <td>By adopting tabletlike, touch-screen systems, ...</td>\n",
       "      <td>News</td>\n",
       "      <td>1022</td>\n",
       "    </tr>\n",
       "    <tr>\n",
       "      <th>8</th>\n",
       "      <td>Six months after its introduction, Kindle Unli...</td>\n",
       "      <td>article</td>\n",
       "      <td>Writers Are Mixed Over Amazon Unlimited</td>\n",
       "      <td>[{'name': 'subject', 'value': 'Amazon Kindle',...</td>\n",
       "      <td>Amazon is disruptive, which means it is divisi...</td>\n",
       "      <td>Business</td>\n",
       "      <td>2015-01-01</td>\n",
       "      <td>Technology</td>\n",
       "      <td>Six months after its introduction, Kindle Unli...</td>\n",
       "      <td>News</td>\n",
       "      <td>1005</td>\n",
       "    </tr>\n",
       "    <tr>\n",
       "      <th>9</th>\n",
       "      <td>Patricia Arquette says being a single mother a...</td>\n",
       "      <td>article</td>\n",
       "      <td>Unashamedly Maturing Into Her Role</td>\n",
       "      <td>[{'name': 'subject', 'value': 'Movies', 'rank'...</td>\n",
       "      <td>LOS ANGELES — When Patricia Arquette was 19, s...</td>\n",
       "      <td>Arts&amp;Leisure</td>\n",
       "      <td>2015-01-01</td>\n",
       "      <td>Movies</td>\n",
       "      <td>Patricia Arquette says being a single mother a...</td>\n",
       "      <td>News</td>\n",
       "      <td>1478</td>\n",
       "    </tr>\n",
       "  </tbody>\n",
       "</table>\n",
       "</div>"
      ],
      "text/plain": [
       "                                            abstract document_type  \\\n",
       "0  Farhad Manjoo picks four products from 2014 th...       article   \n",
       "1  Representative Steve Scalise’s effort to expla...       article   \n",
       "2  Minimum wage increases go into effect in 20 st...       article   \n",
       "3  A new job title — chief of laboratory safety —...       article   \n",
       "4  Lawyers for Dzhokhar Tsarnaev, the defendant i...       article   \n",
       "5  As United States combat operations formally en...       article   \n",
       "6  One of the foremost challenges is finding a wa...       article   \n",
       "7  By adopting tabletlike, touch-screen systems, ...       article   \n",
       "8  Six months after its introduction, Kindle Unli...       article   \n",
       "9  Patricia Arquette says being a single mother a...       article   \n",
       "\n",
       "                                            headline  \\\n",
       "0  Standouts in Tech: Drones, Virtual Reality, In...   \n",
       "1  Much of David Duke’s ’91 Campaign Is Now in Lo...   \n",
       "2  States’ Minimum Wages Rise, Helping Millions o...   \n",
       "3       New C.D.C. Job Overseeing Laboratory Safety    \n",
       "4   Massachusetts: New Effort to Move Bombings Trial   \n",
       "5  Mission Ends in Afghanistan, but Sacrifices Ar...   \n",
       "6  Five Surprising Economic Trends in 2014, and W...   \n",
       "7                Carmakers Take a Hint From Tablets    \n",
       "8            Writers Are Mixed Over Amazon Unlimited   \n",
       "9                 Unashamedly Maturing Into Her Role   \n",
       "\n",
       "                                            keywords  \\\n",
       "0  [{'name': 'organizations', 'value': 'Oculus VR...   \n",
       "1  [{'name': 'persons', 'value': 'Alford, Jeremy'...   \n",
       "2  [{'name': 'subject', 'value': 'Minimum Wage', ...   \n",
       "3  [{'name': 'persons', 'value': 'McNeil, Donald ...   \n",
       "4  [{'name': 'subject', 'value': 'Boston Marathon...   \n",
       "5  [{'name': 'subject', 'value': 'Afghanistan War...   \n",
       "6  [{'name': 'subject', 'value': 'Economic Condit...   \n",
       "7  [{'name': 'subject', 'value': 'Automobile Safe...   \n",
       "8  [{'name': 'subject', 'value': 'Amazon Kindle',...   \n",
       "9  [{'name': 'subject', 'value': 'Movies', 'rank'...   \n",
       "\n",
       "                                      lead_paragraph     news_desk  \\\n",
       "0  LOTS of cool new technology products come out ...      Business   \n",
       "1  BATON ROUGE, La. — David Duke seems a figure f...      National   \n",
       "2  For some low-wage workers, everyday tasks like...      Business   \n",
       "3  A new job title — chief of laboratory safety —...      National   \n",
       "4  Lawyers for Dzhokhar Tsarnaev, the defendant i...      National   \n",
       "5  KILLEEN, Tex. — Sgt. First Class Ramon Morris,...      National   \n",
       "6  It was a confounding year in global financial ...      Business   \n",
       "7  Reaching an apogee of confusion, car dashboard...      Business   \n",
       "8  Amazon is disruptive, which means it is divisi...      Business   \n",
       "9  LOS ANGELES — When Patricia Arquette was 19, s...  Arts&Leisure   \n",
       "\n",
       "     pub_date  section_name  \\\n",
       "0  2015-01-01    Technology   \n",
       "1  2015-01-01          U.S.   \n",
       "2  2015-01-01  Business Day   \n",
       "3  2015-01-01        Health   \n",
       "4  2015-01-01          U.S.   \n",
       "5  2015-01-01          U.S.   \n",
       "6  2015-01-01    The Upshot   \n",
       "7  2015-01-01   Automobiles   \n",
       "8  2015-01-01    Technology   \n",
       "9  2015-01-01        Movies   \n",
       "\n",
       "                                             snippet type_of_material  \\\n",
       "0  Farhad Manjoo picks four products from 2014 th...             News   \n",
       "1  Representative Steve Scalise’s effort to expla...             News   \n",
       "2  Minimum wage increases go into effect in 20 st...             News   \n",
       "3  A new job title — chief of laboratory safety —...            Brief   \n",
       "4  Lawyers for Dzhokhar Tsarnaev, the defendant i...            Brief   \n",
       "5  As United States combat operations formally en...             News   \n",
       "6  One of the foremost challenges is finding a wa...             News   \n",
       "7  By adopting tabletlike, touch-screen systems, ...             News   \n",
       "8  Six months after its introduction, Kindle Unli...             News   \n",
       "9  Patricia Arquette says being a single mother a...             News   \n",
       "\n",
       "   word_count  \n",
       "0         824  \n",
       "1        1293  \n",
       "2        1017  \n",
       "3         129  \n",
       "4         145  \n",
       "5        1425  \n",
       "6        1269  \n",
       "7        1022  \n",
       "8        1005  \n",
       "9        1478  "
      ]
     },
     "execution_count": 6,
     "metadata": {},
     "output_type": "execute_result"
    }
   ],
   "source": [
    "df.head(10)"
   ]
  },
  {
   "cell_type": "code",
   "execution_count": 20,
   "metadata": {},
   "outputs": [
    {
     "data": {
      "text/plain": [
       "array(['article'], dtype=object)"
      ]
     },
     "execution_count": 20,
     "metadata": {},
     "output_type": "execute_result"
    }
   ],
   "source": [
    "df['document_type'].unique()"
   ]
  },
  {
   "cell_type": "code",
   "execution_count": 12,
   "metadata": {},
   "outputs": [
    {
     "data": {
      "text/plain": [
       "array(['News', 'Brief', 'Obituary (Obit)', 'Question', 'Schedule',\n",
       "       'Review', 'List', 'Letter', 'Interview', 'News Analysis', 'Text',\n",
       "       'Web Log', 'Economic Analysis', 'Op-Ed', 'Editorial',\n",
       "       'Special Report', 'recipe', 'briefing', 'Newsletter', 'Series',\n",
       "       'An Analysis'], dtype=object)"
      ]
     },
     "execution_count": 12,
     "metadata": {},
     "output_type": "execute_result"
    }
   ],
   "source": [
    "df['type_of_material'].unique()"
   ]
  },
  {
   "cell_type": "code",
   "execution_count": 7,
   "metadata": {},
   "outputs": [
    {
     "data": {
      "text/plain": [
       "array(['Business', 'National', 'Arts&Leisure', 'Science', 'Society',\n",
       "       'Politics', 'Media', 'Climate'], dtype=object)"
      ]
     },
     "execution_count": 7,
     "metadata": {},
     "output_type": "execute_result"
    }
   ],
   "source": [
    "df['news_desk'].unique()"
   ]
  },
  {
   "cell_type": "code",
   "execution_count": 8,
   "metadata": {},
   "outputs": [
    {
     "data": {
      "text/plain": [
       "array(['Technology', 'U.S.', 'Business Day', 'Health', 'The Upshot',\n",
       "       'Automobiles', 'Movies', 'Theater', 'Your Money', 'Arts',\n",
       "       'Science', 'Fashion & Style', 'Education', 'Real Estate', 'Food',\n",
       "       'World', 'Style', 'New York', 'Books', 'Universal', 'Job Market',\n",
       "       'Obituaries', 'Magazine', 'Sports', 'NYT Now', 'Opinion',\n",
       "       'Times Insider', 'Giving', 'Sunday Review', 'Well', 'Watching',\n",
       "       'Climate', 'Travel', 'Smarter Living', 'Reader Center'],\n",
       "      dtype=object)"
      ]
     },
     "execution_count": 8,
     "metadata": {},
     "output_type": "execute_result"
    }
   ],
   "source": [
    "df['section_name'].unique()"
   ]
  },
  {
   "cell_type": "code",
   "execution_count": 9,
   "metadata": {},
   "outputs": [
    {
     "data": {
      "text/plain": [
       "Business        20271\n",
       "National        16054\n",
       "Science          4021\n",
       "Society          3984\n",
       "Arts&Leisure     3350\n",
       "Politics         2779\n",
       "Climate           107\n",
       "Media               6\n",
       "Name: news_desk, dtype: int64"
      ]
     },
     "execution_count": 9,
     "metadata": {},
     "output_type": "execute_result"
    }
   ],
   "source": [
    "df['news_desk'].value_counts()"
   ]
  },
  {
   "cell_type": "code",
   "execution_count": 10,
   "metadata": {},
   "outputs": [
    {
     "data": {
      "text/plain": [
       "U.S.               17653\n",
       "Business Day       13883\n",
       "Technology          4181\n",
       "Fashion & Style     3959\n",
       "Health              2298\n",
       "Science             2172\n",
       "Arts                2035\n",
       "Your Money           843\n",
       "Movies               807\n",
       "Theater              557\n",
       "The Upshot           529\n",
       "Well                 363\n",
       "Real Estate          353\n",
       "Automobiles          273\n",
       "Climate              179\n",
       "World                121\n",
       "Education             69\n",
       "Style                 59\n",
       "New York              42\n",
       "Watching              37\n",
       "Smarter Living        34\n",
       "Books                 25\n",
       "Reader Center         16\n",
       "Food                  16\n",
       "Obituaries            15\n",
       "Giving                13\n",
       "Times Insider         12\n",
       "Magazine               8\n",
       "NYT Now                8\n",
       "Job Market             4\n",
       "Sports                 2\n",
       "Travel                 2\n",
       "Universal              2\n",
       "Sunday Review          1\n",
       "Opinion                1\n",
       "Name: section_name, dtype: int64"
      ]
     },
     "execution_count": 10,
     "metadata": {},
     "output_type": "execute_result"
    }
   ],
   "source": [
    "df['section_name'].value_counts()"
   ]
  },
  {
   "cell_type": "markdown",
   "metadata": {},
   "source": [
    "# Bigrams"
   ]
  },
  {
   "cell_type": "markdown",
   "metadata": {},
   "source": [
    "### Prepare the data from scikit-learn¶"
   ]
  },
  {
   "cell_type": "code",
   "execution_count": null,
   "metadata": {},
   "outputs": [],
   "source": [
    "X = df['text'].values\n",
    "y = df['class'].values\n",
    "\n",
    "X_train, X_test, y_train, y_test = train_test_split(X, y, random_state=7)"
   ]
  },
  {
   "cell_type": "markdown",
   "metadata": {},
   "source": [
    "### Categorical Bigram Naive Bayes (currently don't have a categorical option - try other methods first)"
   ]
  },
  {
   "cell_type": "code",
   "execution_count": 19,
   "metadata": {},
   "outputs": [],
   "source": [
    "%%time\n",
    "\n",
    "bigram_naive_bayes = make_pipeline(\n",
    "    CountVectorizer(\n",
    "        stop_words='english',\n",
    "        binary=True,\n",
    "        ngram_range=(1, 2)\n",
    "    ),\n",
    "    MultinomialNB()\n",
    ")\n",
    "\n",
    "bigram_naive_bayes.fit(X_train, y_train)\n",
    "\n",
    "print(f'Accuracy: {bigram_naive_bayes.score(X_test, y_test)} \\n')\n",
    "print(classification_report(y_test, bigram_naive_bayes.predict(X_test)))"
   ]
  },
  {
   "cell_type": "code",
   "execution_count": null,
   "metadata": {},
   "outputs": [],
   "source": []
  },
  {
   "cell_type": "markdown",
   "metadata": {},
   "source": [
    "## Extra: word_count prediction based on news_desk and section_name, distinguish by type_of_material"
   ]
  },
  {
   "cell_type": "code",
   "execution_count": null,
   "metadata": {},
   "outputs": [],
   "source": []
  }
 ],
 "metadata": {
  "kernelspec": {
   "display_name": "Python 3",
   "language": "python",
   "name": "python3"
  },
  "language_info": {
   "codemirror_mode": {
    "name": "ipython",
    "version": 3
   },
   "file_extension": ".py",
   "mimetype": "text/x-python",
   "name": "python",
   "nbconvert_exporter": "python",
   "pygments_lexer": "ipython3",
   "version": "3.7.9"
  }
 },
 "nbformat": 4,
 "nbformat_minor": 4
}
